{
  "cells": [
    {
      "cell_type": "markdown",
      "metadata": {
        "id": "xzarAqTeUkA3"
      },
      "source": [
        "# SQUAD RU"
      ]
    },
    {
      "cell_type": "markdown",
      "metadata": {
        "id": "wxFLXpIPfH8R"
      },
      "source": [
        "**QA on SQuAD** - это задача найти ответ на вопрос в заданном контексте (например, абзац из Википедии), где ответ на каждый вопрос является находится в контексте"
      ]
    },
    {
      "cell_type": "markdown",
      "metadata": {
        "id": "SqtnBt5VU5wT"
      },
      "source": [
        "## Imports"
      ]
    },
    {
      "cell_type": "code",
      "execution_count": null,
      "metadata": {
        "id": "bY1asJqaUSDl"
      },
      "outputs": [],
      "source": [
        "# !pip install git+https://github.com/huggingface/transformers.git\n",
        "!pip install git+https://github.com/RuslanKorchenov/transformers_my\n",
        "!pip install git+https://github.com/huggingface/datasets.git\n",
        "!pip install git-lfs\n",
        "!git config --global user.email \"ruselkomp1@gmail.com\"\n",
        "!git config --global user.name \"ruselkomp\"\n",
        "!curl -s https://packagecloud.io/install/repositories/github/git-lfs/script.deb.sh | sudo bash\n",
        "!sudo apt-get install git-lfs\n",
        "!pip install git+https://github.com/deepmipt/DeepPavlov.git\n",
        "\n",
        "from huggingface_hub import notebook_login\n",
        "\n",
        "import pandas as pd\n",
        "import numpy as np\n",
        "\n",
        "np.set_printoptions(precision=3, suppress=True)\n",
        "\n",
        "import tensorflow as tf\n",
        "from tensorflow.keras import layers\n",
        "import json"
      ]
    },
    {
      "cell_type": "markdown",
      "metadata": {
        "id": "EHYdBU4xU_ax"
      },
      "source": [
        "Для сохранения обученных моделей мы будем выгружать их на HuggingFace"
      ]
    },
    {
      "cell_type": "code",
      "execution_count": null,
      "metadata": {
        "colab": {
          "base_uri": "https://localhost:8080/",
          "height": 414
        },
        "id": "hQZBsyx2U8fG",
        "outputId": "df159207-6cb1-41f0-deb3-159592855e71"
      },
      "outputs": [
        {
          "name": "stdout",
          "output_type": "stream",
          "text": [
            "Login successful\n",
            "Your token has been saved to /root/.huggingface/token\n",
            "\u001b[1m\u001b[31mAuthenticated through git-credential store but this isn't the helper defined on your machine.\n",
            "You might have to re-authenticate when pushing to the Hugging Face Hub. Run the following command in your terminal in case you want to set this credential helper as the default\n",
            "\n",
            "git config --global credential.helper store\u001b[0m\n"
          ]
        }
      ],
      "source": [
        "notebook_login()"
      ]
    },
    {
      "cell_type": "markdown",
      "metadata": {
        "id": "ZxTG1MPVV9do"
      },
      "source": [
        "## Загрузка и обработка данных"
      ]
    },
    {
      "cell_type": "markdown",
      "source": [
        "Все используемые дальше данные доступны по ссылке: [Google Drive](https://drive.google.com/drive/folders/10fQmZAPIpGB4nEzESMu6oBsAPvi_zQjC?usp=sharing)"
      ],
      "metadata": {
        "id": "lOfu_h4KpFP9"
      }
    },
    {
      "cell_type": "code",
      "execution_count": null,
      "metadata": {
        "colab": {
          "background_save": true
        },
        "id": "9Hw-nY4lVdNm",
        "outputId": "dad0eff2-32d4-401c-c016-88ca3f43763f"
      },
      "outputs": [
        {
          "name": "stdout",
          "output_type": "stream",
          "text": [
            "Mounted at /content/drive\n"
          ]
        }
      ],
      "source": [
        "from google.colab import drive\n",
        "drive.mount('/content/drive')"
      ]
    },
    {
      "cell_type": "markdown",
      "metadata": {
        "id": "2H2rt0dpKu7V"
      },
      "source": [
        "## Заменяем роли на их index-ы\n"
      ]
    },
    {
      "cell_type": "code",
      "execution_count": null,
      "metadata": {
        "id": "1dl2jexmKxPr"
      },
      "outputs": [],
      "source": [
        "!cp /content/drive/MyDrive/XLnet-tests/SberQuAD/train_roles.tsv train_roles.tsv\n",
        "!cp /content/drive/MyDrive/XLnet-tests/SberQuAD/dev_roles.tsv dev_roles.tsv"
      ]
    },
    {
      "cell_type": "code",
      "execution_count": null,
      "metadata": {
        "id": "tjyBb18CN3Cv"
      },
      "outputs": [],
      "source": [
        "import pandas as pd\n",
        "\n",
        "train_roles = pd.read_csv('train_roles.tsv', sep='\\t')\n",
        "dev_roles = pd.read_csv('dev_roles.tsv', sep='\\t')"
      ]
    },
    {
      "cell_type": "code",
      "execution_count": null,
      "metadata": {
        "colab": {
          "base_uri": "https://localhost:8080/",
          "height": 866
        },
        "id": "VFxmM3VZOwr8",
        "outputId": "f0e9c66e-348b-4078-c082-4a884a9b0a3b"
      },
      "outputs": [
        {
          "output_type": "execute_result",
          "data": {
            "text/plain": [
              "                                                 context  \\\n",
              "0      В допетровское время искусство в России имело ...   \n",
              "1      По данным рейтинга Top 100 самых филиальных ба...   \n",
              "2      Смарт-стекло — современный собирательный терми...   \n",
              "3      Во время интервенции в Россию Речи Посполитой ...   \n",
              "4      В начале 1823 года Грибоедов на время покинул ...   \n",
              "...                                                  ...   \n",
              "45312  Строительство военных линий стало опорной базо...   \n",
              "45313  Остаток жизни Диоклетиан провёл на родине в Ил...   \n",
              "45314  Любимыми композиторами Толстого были Бах, Генд...   \n",
              "45315  Царство животных было разделено Линнеем на шес...   \n",
              "45316  В 1996 году на свет появилась овца Долли — пер...   \n",
              "\n",
              "                                           context_roles  \\\n",
              "0      <unk>,<unk>,срок,тема,<unk>,<unk>,<pred>,<unk>...   \n",
              "1      <unk>,<unk>,тема,<unk>,<unk>,<unk>,<unk>,<unk>...   \n",
              "2      агенс,<unk>,эталон,<unk>,<unk>,<unk>,результат...   \n",
              "3      <unk>,<unk>,агенс,<unk>,<unk>,<unk>,<unk>,мест...   \n",
              "4      <unk>,сфера,<unk>,<unk>,агенс,<unk>,<unk>,<pre...   \n",
              "...                                                  ...   \n",
              "45312  агенс,<unk>,тема,<pred>,<unk>,статус,<unk>,<un...   \n",
              "45313  срок,<unk>,агенс,<pred>,<unk>,место,<unk>,коне...   \n",
              "45314  <unk>,цель,агенс,<unk>,<unk>,<unk>,<unk>,<unk>...   \n",
              "45315  пациенс,<unk>,<unk>,<pred>,агенс,<unk>,<unk>,р...   \n",
              "45316  <unk>,<unk>,цель,<unk>,место,<pred>,<unk>,тема...   \n",
              "\n",
              "                                                question  \\\n",
              "0        Чем на Руси ограничивались проявления пластики?   \n",
              "1      Какое место занимает УБРиР по даным рейтинга T...   \n",
              "2      Какие свойства в общем способно изменять смарт...   \n",
              "3      Как звали воеводу Дорогобужа, который сдал гор...   \n",
              "4      В каком году Грибоедов написал водевиль Кто бр...   \n",
              "...                                                  ...   \n",
              "45312  Какая протяженность линии с юго-западной сторо...   \n",
              "45313                      В каком году умер Диоклетиан?   \n",
              "45314  В каком году Лев Николаевич поселил у себя в Я...   \n",
              "45315                       Что значит мусорным таксоном   \n",
              "45316                Первое клонированное млекопитающее?   \n",
              "\n",
              "                                          question_roles  \\\n",
              "0              <unk>,<unk>,место,<pred>,тема,<unk>,<unk>   \n",
              "1      <unk>,результат,<pred>,тема,<unk>,<unk>,<unk>,...   \n",
              "2      <unk>,<unk>,<unk>,<unk>,<unk>,<pred>,пациенс,<...   \n",
              "3      <unk>,<pred>,адресат,<unk>,<unk>,агенс,<pred>,...   \n",
              "4      <unk>,<unk>,<unk>,<unk>,<unk>,<unk>,<unk>,<unk...   \n",
              "...                                                  ...   \n",
              "45312  <unk>,<unk>,<unk>,<unk>,<unk>,<unk>,<unk>,<unk...   \n",
              "45313            <unk>,<unk>,эталон,<pred>,пациенс,<unk>   \n",
              "45314  <unk>,<unk>,пациенс,<unk>,агенс,<pred>,<unk>,и...   \n",
              "45315                        пациенс,<pred>,<unk>,способ   \n",
              "45316                         пациенс,<pred>,<unk>,<unk>   \n",
              "\n",
              "                                                  answer  answer_start  \n",
              "0      литьем небольших крестов, образов-складней, вы...           583  \n",
              "1                                                9 место           115  \n",
              "2                                             оптические           205  \n",
              "3                                          Иван Ададуров           287  \n",
              "4                                                   1823             9  \n",
              "...                                                  ...           ...  \n",
              "45312                                         553 версты           187  \n",
              "45313                                           в 313 г.           680  \n",
              "45314                                             В 1849           319  \n",
              "45315  то есть систематической группой, составленной ...           632  \n",
              "45316                                         Овца Долли            30  \n",
              "\n",
              "[45317 rows x 6 columns]"
            ],
            "text/html": [
              "\n",
              "  <div id=\"df-e69ea837-d9fd-4ad4-bef7-a204baebbceb\">\n",
              "    <div class=\"colab-df-container\">\n",
              "      <div>\n",
              "<style scoped>\n",
              "    .dataframe tbody tr th:only-of-type {\n",
              "        vertical-align: middle;\n",
              "    }\n",
              "\n",
              "    .dataframe tbody tr th {\n",
              "        vertical-align: top;\n",
              "    }\n",
              "\n",
              "    .dataframe thead th {\n",
              "        text-align: right;\n",
              "    }\n",
              "</style>\n",
              "<table border=\"1\" class=\"dataframe\">\n",
              "  <thead>\n",
              "    <tr style=\"text-align: right;\">\n",
              "      <th></th>\n",
              "      <th>context</th>\n",
              "      <th>context_roles</th>\n",
              "      <th>question</th>\n",
              "      <th>question_roles</th>\n",
              "      <th>answer</th>\n",
              "      <th>answer_start</th>\n",
              "    </tr>\n",
              "  </thead>\n",
              "  <tbody>\n",
              "    <tr>\n",
              "      <th>0</th>\n",
              "      <td>В допетровское время искусство в России имело ...</td>\n",
              "      <td>&lt;unk&gt;,&lt;unk&gt;,срок,тема,&lt;unk&gt;,&lt;unk&gt;,&lt;pred&gt;,&lt;unk&gt;...</td>\n",
              "      <td>Чем на Руси ограничивались проявления пластики?</td>\n",
              "      <td>&lt;unk&gt;,&lt;unk&gt;,место,&lt;pred&gt;,тема,&lt;unk&gt;,&lt;unk&gt;</td>\n",
              "      <td>литьем небольших крестов, образов-складней, вы...</td>\n",
              "      <td>583</td>\n",
              "    </tr>\n",
              "    <tr>\n",
              "      <th>1</th>\n",
              "      <td>По данным рейтинга Top 100 самых филиальных ба...</td>\n",
              "      <td>&lt;unk&gt;,&lt;unk&gt;,тема,&lt;unk&gt;,&lt;unk&gt;,&lt;unk&gt;,&lt;unk&gt;,&lt;unk&gt;...</td>\n",
              "      <td>Какое место занимает УБРиР по даным рейтинга T...</td>\n",
              "      <td>&lt;unk&gt;,результат,&lt;pred&gt;,тема,&lt;unk&gt;,&lt;unk&gt;,&lt;unk&gt;,...</td>\n",
              "      <td>9 место</td>\n",
              "      <td>115</td>\n",
              "    </tr>\n",
              "    <tr>\n",
              "      <th>2</th>\n",
              "      <td>Смарт-стекло — современный собирательный терми...</td>\n",
              "      <td>агенс,&lt;unk&gt;,эталон,&lt;unk&gt;,&lt;unk&gt;,&lt;unk&gt;,результат...</td>\n",
              "      <td>Какие свойства в общем способно изменять смарт...</td>\n",
              "      <td>&lt;unk&gt;,&lt;unk&gt;,&lt;unk&gt;,&lt;unk&gt;,&lt;unk&gt;,&lt;pred&gt;,пациенс,&lt;...</td>\n",
              "      <td>оптические</td>\n",
              "      <td>205</td>\n",
              "    </tr>\n",
              "    <tr>\n",
              "      <th>3</th>\n",
              "      <td>Во время интервенции в Россию Речи Посполитой ...</td>\n",
              "      <td>&lt;unk&gt;,&lt;unk&gt;,агенс,&lt;unk&gt;,&lt;unk&gt;,&lt;unk&gt;,&lt;unk&gt;,мест...</td>\n",
              "      <td>Как звали воеводу Дорогобужа, который сдал гор...</td>\n",
              "      <td>&lt;unk&gt;,&lt;pred&gt;,адресат,&lt;unk&gt;,&lt;unk&gt;,агенс,&lt;pred&gt;,...</td>\n",
              "      <td>Иван Ададуров</td>\n",
              "      <td>287</td>\n",
              "    </tr>\n",
              "    <tr>\n",
              "      <th>4</th>\n",
              "      <td>В начале 1823 года Грибоедов на время покинул ...</td>\n",
              "      <td>&lt;unk&gt;,сфера,&lt;unk&gt;,&lt;unk&gt;,агенс,&lt;unk&gt;,&lt;unk&gt;,&lt;pre...</td>\n",
              "      <td>В каком году Грибоедов написал водевиль Кто бр...</td>\n",
              "      <td>&lt;unk&gt;,&lt;unk&gt;,&lt;unk&gt;,&lt;unk&gt;,&lt;unk&gt;,&lt;unk&gt;,&lt;unk&gt;,&lt;unk...</td>\n",
              "      <td>1823</td>\n",
              "      <td>9</td>\n",
              "    </tr>\n",
              "    <tr>\n",
              "      <th>...</th>\n",
              "      <td>...</td>\n",
              "      <td>...</td>\n",
              "      <td>...</td>\n",
              "      <td>...</td>\n",
              "      <td>...</td>\n",
              "      <td>...</td>\n",
              "    </tr>\n",
              "    <tr>\n",
              "      <th>45312</th>\n",
              "      <td>Строительство военных линий стало опорной базо...</td>\n",
              "      <td>агенс,&lt;unk&gt;,тема,&lt;pred&gt;,&lt;unk&gt;,статус,&lt;unk&gt;,&lt;un...</td>\n",
              "      <td>Какая протяженность линии с юго-западной сторо...</td>\n",
              "      <td>&lt;unk&gt;,&lt;unk&gt;,&lt;unk&gt;,&lt;unk&gt;,&lt;unk&gt;,&lt;unk&gt;,&lt;unk&gt;,&lt;unk...</td>\n",
              "      <td>553 версты</td>\n",
              "      <td>187</td>\n",
              "    </tr>\n",
              "    <tr>\n",
              "      <th>45313</th>\n",
              "      <td>Остаток жизни Диоклетиан провёл на родине в Ил...</td>\n",
              "      <td>срок,&lt;unk&gt;,агенс,&lt;pred&gt;,&lt;unk&gt;,место,&lt;unk&gt;,коне...</td>\n",
              "      <td>В каком году умер Диоклетиан?</td>\n",
              "      <td>&lt;unk&gt;,&lt;unk&gt;,эталон,&lt;pred&gt;,пациенс,&lt;unk&gt;</td>\n",
              "      <td>в 313 г.</td>\n",
              "      <td>680</td>\n",
              "    </tr>\n",
              "    <tr>\n",
              "      <th>45314</th>\n",
              "      <td>Любимыми композиторами Толстого были Бах, Генд...</td>\n",
              "      <td>&lt;unk&gt;,цель,агенс,&lt;unk&gt;,&lt;unk&gt;,&lt;unk&gt;,&lt;unk&gt;,&lt;unk&gt;...</td>\n",
              "      <td>В каком году Лев Николаевич поселил у себя в Я...</td>\n",
              "      <td>&lt;unk&gt;,&lt;unk&gt;,пациенс,&lt;unk&gt;,агенс,&lt;pred&gt;,&lt;unk&gt;,и...</td>\n",
              "      <td>В 1849</td>\n",
              "      <td>319</td>\n",
              "    </tr>\n",
              "    <tr>\n",
              "      <th>45315</th>\n",
              "      <td>Царство животных было разделено Линнеем на шес...</td>\n",
              "      <td>пациенс,&lt;unk&gt;,&lt;unk&gt;,&lt;pred&gt;,агенс,&lt;unk&gt;,&lt;unk&gt;,р...</td>\n",
              "      <td>Что значит мусорным таксоном</td>\n",
              "      <td>пациенс,&lt;pred&gt;,&lt;unk&gt;,способ</td>\n",
              "      <td>то есть систематической группой, составленной ...</td>\n",
              "      <td>632</td>\n",
              "    </tr>\n",
              "    <tr>\n",
              "      <th>45316</th>\n",
              "      <td>В 1996 году на свет появилась овца Долли — пер...</td>\n",
              "      <td>&lt;unk&gt;,&lt;unk&gt;,цель,&lt;unk&gt;,место,&lt;pred&gt;,&lt;unk&gt;,тема...</td>\n",
              "      <td>Первое клонированное млекопитающее?</td>\n",
              "      <td>пациенс,&lt;pred&gt;,&lt;unk&gt;,&lt;unk&gt;</td>\n",
              "      <td>Овца Долли</td>\n",
              "      <td>30</td>\n",
              "    </tr>\n",
              "  </tbody>\n",
              "</table>\n",
              "<p>45317 rows × 6 columns</p>\n",
              "</div>\n",
              "      <button class=\"colab-df-convert\" onclick=\"convertToInteractive('df-e69ea837-d9fd-4ad4-bef7-a204baebbceb')\"\n",
              "              title=\"Convert this dataframe to an interactive table.\"\n",
              "              style=\"display:none;\">\n",
              "        \n",
              "  <svg xmlns=\"http://www.w3.org/2000/svg\" height=\"24px\"viewBox=\"0 0 24 24\"\n",
              "       width=\"24px\">\n",
              "    <path d=\"M0 0h24v24H0V0z\" fill=\"none\"/>\n",
              "    <path d=\"M18.56 5.44l.94 2.06.94-2.06 2.06-.94-2.06-.94-.94-2.06-.94 2.06-2.06.94zm-11 1L8.5 8.5l.94-2.06 2.06-.94-2.06-.94L8.5 2.5l-.94 2.06-2.06.94zm10 10l.94 2.06.94-2.06 2.06-.94-2.06-.94-.94-2.06-.94 2.06-2.06.94z\"/><path d=\"M17.41 7.96l-1.37-1.37c-.4-.4-.92-.59-1.43-.59-.52 0-1.04.2-1.43.59L10.3 9.45l-7.72 7.72c-.78.78-.78 2.05 0 2.83L4 21.41c.39.39.9.59 1.41.59.51 0 1.02-.2 1.41-.59l7.78-7.78 2.81-2.81c.8-.78.8-2.07 0-2.86zM5.41 20L4 18.59l7.72-7.72 1.47 1.35L5.41 20z\"/>\n",
              "  </svg>\n",
              "      </button>\n",
              "      \n",
              "  <style>\n",
              "    .colab-df-container {\n",
              "      display:flex;\n",
              "      flex-wrap:wrap;\n",
              "      gap: 12px;\n",
              "    }\n",
              "\n",
              "    .colab-df-convert {\n",
              "      background-color: #E8F0FE;\n",
              "      border: none;\n",
              "      border-radius: 50%;\n",
              "      cursor: pointer;\n",
              "      display: none;\n",
              "      fill: #1967D2;\n",
              "      height: 32px;\n",
              "      padding: 0 0 0 0;\n",
              "      width: 32px;\n",
              "    }\n",
              "\n",
              "    .colab-df-convert:hover {\n",
              "      background-color: #E2EBFA;\n",
              "      box-shadow: 0px 1px 2px rgba(60, 64, 67, 0.3), 0px 1px 3px 1px rgba(60, 64, 67, 0.15);\n",
              "      fill: #174EA6;\n",
              "    }\n",
              "\n",
              "    [theme=dark] .colab-df-convert {\n",
              "      background-color: #3B4455;\n",
              "      fill: #D2E3FC;\n",
              "    }\n",
              "\n",
              "    [theme=dark] .colab-df-convert:hover {\n",
              "      background-color: #434B5C;\n",
              "      box-shadow: 0px 1px 3px 1px rgba(0, 0, 0, 0.15);\n",
              "      filter: drop-shadow(0px 1px 2px rgba(0, 0, 0, 0.3));\n",
              "      fill: #FFFFFF;\n",
              "    }\n",
              "  </style>\n",
              "\n",
              "      <script>\n",
              "        const buttonEl =\n",
              "          document.querySelector('#df-e69ea837-d9fd-4ad4-bef7-a204baebbceb button.colab-df-convert');\n",
              "        buttonEl.style.display =\n",
              "          google.colab.kernel.accessAllowed ? 'block' : 'none';\n",
              "\n",
              "        async function convertToInteractive(key) {\n",
              "          const element = document.querySelector('#df-e69ea837-d9fd-4ad4-bef7-a204baebbceb');\n",
              "          const dataTable =\n",
              "            await google.colab.kernel.invokeFunction('convertToInteractive',\n",
              "                                                     [key], {});\n",
              "          if (!dataTable) return;\n",
              "\n",
              "          const docLinkHtml = 'Like what you see? Visit the ' +\n",
              "            '<a target=\"_blank\" href=https://colab.research.google.com/notebooks/data_table.ipynb>data table notebook</a>'\n",
              "            + ' to learn more about interactive tables.';\n",
              "          element.innerHTML = '';\n",
              "          dataTable['output_type'] = 'display_data';\n",
              "          await google.colab.output.renderOutput(dataTable, element);\n",
              "          const docLink = document.createElement('div');\n",
              "          docLink.innerHTML = docLinkHtml;\n",
              "          element.appendChild(docLink);\n",
              "        }\n",
              "      </script>\n",
              "    </div>\n",
              "  </div>\n",
              "  "
            ]
          },
          "metadata": {},
          "execution_count": 5
        }
      ],
      "source": [
        "train_roles"
      ]
    },
    {
      "cell_type": "code",
      "execution_count": null,
      "metadata": {
        "id": "i_nddTpPOypR"
      },
      "outputs": [],
      "source": [
        "roles = train_roles['context_roles']"
      ]
    },
    {
      "cell_type": "code",
      "execution_count": null,
      "metadata": {
        "id": "qW05bx7xPLzT"
      },
      "outputs": [],
      "source": [
        "def get_uniq(roles):\n",
        "  uniq_roles = []\n",
        "\n",
        "  for role in roles:\n",
        "    r = role.split(',')\n",
        "    for rol in r:\n",
        "      if rol in uniq_roles:\n",
        "        continue\n",
        "      else:\n",
        "        uniq_roles.append(rol)\n",
        "  return uniq_roles"
      ]
    },
    {
      "cell_type": "code",
      "execution_count": null,
      "metadata": {
        "id": "efDa0-JSS7JO"
      },
      "outputs": [],
      "source": [
        "uniq_context = get_uniq(train_roles['context_roles'])\n",
        "uniq_context.sort()"
      ]
    },
    {
      "cell_type": "code",
      "execution_count": null,
      "metadata": {
        "colab": {
          "base_uri": "https://localhost:8080/"
        },
        "id": "PI8lq-SvS731",
        "outputId": "b37b5c08-da48-490d-9702-b79227813ed4"
      },
      "outputs": [
        {
          "output_type": "execute_result",
          "data": {
            "text/plain": [
              "46"
            ]
          },
          "metadata": {},
          "execution_count": 9
        }
      ],
      "source": [
        "len(uniq_context)"
      ]
    },
    {
      "cell_type": "code",
      "execution_count": null,
      "metadata": {
        "id": "bGm9xcZISf_r"
      },
      "outputs": [],
      "source": [
        "def get_ids(roles, uniq_roles):\n",
        "  roles_ids = []\n",
        "\n",
        "  for role in roles:\n",
        "    r = role.split(',')\n",
        "    temp = []\n",
        "    for rol in r:\n",
        "      for num, uniq in enumerate(uniq_roles):\n",
        "        if uniq == rol:\n",
        "          temp.append(num)\n",
        "          break\n",
        "    \n",
        "    roles_ids.append(temp)\n",
        "\n",
        "  return roles_ids"
      ]
    },
    {
      "cell_type": "code",
      "execution_count": null,
      "metadata": {
        "id": "k5jP53MkTnim"
      },
      "outputs": [],
      "source": [
        "test = get_ids(train_roles['context_roles'], uniq_context)"
      ]
    },
    {
      "cell_type": "code",
      "execution_count": null,
      "metadata": {
        "id": "__VsDAVfg_XW"
      },
      "outputs": [],
      "source": [
        "test_q = get_ids(train_roles['question_roles'], uniq_context)"
      ]
    },
    {
      "cell_type": "code",
      "execution_count": null,
      "metadata": {
        "id": "A-BQ2gdYUtZj"
      },
      "outputs": [],
      "source": [
        "train_roles['context_label'] = test"
      ]
    },
    {
      "cell_type": "code",
      "execution_count": null,
      "metadata": {
        "id": "dLQ0E_0WhDfw"
      },
      "outputs": [],
      "source": [
        "train_roles['question_label'] = test_q"
      ]
    },
    {
      "cell_type": "code",
      "execution_count": null,
      "metadata": {
        "colab": {
          "base_uri": "https://localhost:8080/",
          "height": 1000
        },
        "id": "vL3wYCclUt5t",
        "outputId": "5ef17bbf-2d35-4551-bdd1-173bf462d9ce"
      },
      "outputs": [
        {
          "output_type": "execute_result",
          "data": {
            "text/plain": [
              "                                                 context  \\\n",
              "0      В допетровское время искусство в России имело ...   \n",
              "1      По данным рейтинга Top 100 самых филиальных ба...   \n",
              "2      Смарт-стекло — современный собирательный терми...   \n",
              "3      Во время интервенции в Россию Речи Посполитой ...   \n",
              "4      В начале 1823 года Грибоедов на время покинул ...   \n",
              "...                                                  ...   \n",
              "45312  Строительство военных линий стало опорной базо...   \n",
              "45313  Остаток жизни Диоклетиан провёл на родине в Ил...   \n",
              "45314  Любимыми композиторами Толстого были Бах, Генд...   \n",
              "45315  Царство животных было разделено Линнеем на шес...   \n",
              "45316  В 1996 году на свет появилась овца Долли — пер...   \n",
              "\n",
              "                                           context_roles  \\\n",
              "0      <unk>,<unk>,срок,тема,<unk>,<unk>,<pred>,<unk>...   \n",
              "1      <unk>,<unk>,тема,<unk>,<unk>,<unk>,<unk>,<unk>...   \n",
              "2      агенс,<unk>,эталон,<unk>,<unk>,<unk>,результат...   \n",
              "3      <unk>,<unk>,агенс,<unk>,<unk>,<unk>,<unk>,мест...   \n",
              "4      <unk>,сфера,<unk>,<unk>,агенс,<unk>,<unk>,<pre...   \n",
              "...                                                  ...   \n",
              "45312  агенс,<unk>,тема,<pred>,<unk>,статус,<unk>,<un...   \n",
              "45313  срок,<unk>,агенс,<pred>,<unk>,место,<unk>,коне...   \n",
              "45314  <unk>,цель,агенс,<unk>,<unk>,<unk>,<unk>,<unk>...   \n",
              "45315  пациенс,<unk>,<unk>,<pred>,агенс,<unk>,<unk>,р...   \n",
              "45316  <unk>,<unk>,цель,<unk>,место,<pred>,<unk>,тема...   \n",
              "\n",
              "                                                question  \\\n",
              "0        Чем на Руси ограничивались проявления пластики?   \n",
              "1      Какое место занимает УБРиР по даным рейтинга T...   \n",
              "2      Какие свойства в общем способно изменять смарт...   \n",
              "3      Как звали воеводу Дорогобужа, который сдал гор...   \n",
              "4      В каком году Грибоедов написал водевиль Кто бр...   \n",
              "...                                                  ...   \n",
              "45312  Какая протяженность линии с юго-западной сторо...   \n",
              "45313                      В каком году умер Диоклетиан?   \n",
              "45314  В каком году Лев Николаевич поселил у себя в Я...   \n",
              "45315                       Что значит мусорным таксоном   \n",
              "45316                Первое клонированное млекопитающее?   \n",
              "\n",
              "                                          question_roles  \\\n",
              "0              <unk>,<unk>,место,<pred>,тема,<unk>,<unk>   \n",
              "1      <unk>,результат,<pred>,тема,<unk>,<unk>,<unk>,...   \n",
              "2      <unk>,<unk>,<unk>,<unk>,<unk>,<pred>,пациенс,<...   \n",
              "3      <unk>,<pred>,адресат,<unk>,<unk>,агенс,<pred>,...   \n",
              "4      <unk>,<unk>,<unk>,<unk>,<unk>,<unk>,<unk>,<unk...   \n",
              "...                                                  ...   \n",
              "45312  <unk>,<unk>,<unk>,<unk>,<unk>,<unk>,<unk>,<unk...   \n",
              "45313            <unk>,<unk>,эталон,<pred>,пациенс,<unk>   \n",
              "45314  <unk>,<unk>,пациенс,<unk>,агенс,<pred>,<unk>,и...   \n",
              "45315                        пациенс,<pred>,<unk>,способ   \n",
              "45316                         пациенс,<pred>,<unk>,<unk>   \n",
              "\n",
              "                                                  answer  answer_start  \\\n",
              "0      литьем небольших крестов, образов-складней, вы...           583   \n",
              "1                                                9 место           115   \n",
              "2                                             оптические           205   \n",
              "3                                          Иван Ададуров           287   \n",
              "4                                                   1823             9   \n",
              "...                                                  ...           ...   \n",
              "45312                                         553 версты           187   \n",
              "45313                                           в 313 г.           680   \n",
              "45314                                             В 1849           319   \n",
              "45315  то есть систематической группой, составленной ...           632   \n",
              "45316                                         Овца Долли            30   \n",
              "\n",
              "                                           context_label  \\\n",
              "0      [1, 1, 30, 41, 1, 1, 0, 1, 31, 0, 1, 1, 40, 1,...   \n",
              "1      [1, 1, 41, 1, 1, 1, 1, 1, 1, 1, 1, 1, 41, 2, 1...   \n",
              "2      [2, 1, 44, 1, 1, 1, 24, 1, 1, 1, 1, 1, 1, 1, 1...   \n",
              "3      [1, 1, 2, 1, 1, 1, 1, 12, 1, 1, 1, 24, 24, 1, ...   \n",
              "4      [1, 40, 1, 1, 2, 1, 1, 0, 14, 1, 0, 1, 8, 1, 1...   \n",
              "...                                                  ...   \n",
              "45312  [2, 1, 41, 0, 1, 31, 1, 1, 1, 1, 1, 1, 0, 1, 1...   \n",
              "45313  [30, 1, 2, 0, 1, 12, 1, 8, 1, 1, 1, 1, 1, 1, 1...   \n",
              "45314  [1, 43, 2, 1, 1, 1, 1, 1, 1, 1, 41, 1, 1, 1, 2...   \n",
              "45315  [14, 1, 1, 0, 2, 1, 1, 24, 1, 12, 1, 0, 1, 1, ...   \n",
              "45316  [1, 1, 43, 1, 12, 0, 1, 41, 1, 1, 0, 41, 1, 2,...   \n",
              "\n",
              "                                          question_label  \n",
              "0                                [1, 1, 12, 0, 41, 1, 1]  \n",
              "1           [1, 24, 0, 41, 1, 1, 1, 1, 1, 1, 1, 1, 1, 1]  \n",
              "2                        [1, 1, 1, 1, 1, 0, 14, 1, 1, 1]  \n",
              "3      [1, 0, 3, 1, 1, 2, 0, 14, 1, 0, 24, 1, 1, 1, 1...  \n",
              "4      [1, 1, 1, 1, 1, 1, 1, 1, 1, 1, 1, 1, 1, 1, 1, ...  \n",
              "...                                                  ...  \n",
              "45312      [1, 1, 1, 1, 1, 1, 1, 1, 1, 1, 1, 1, 1, 1, 1]  \n",
              "45313                               [1, 1, 44, 0, 14, 1]  \n",
              "45314       [1, 1, 14, 1, 2, 0, 1, 6, 1, 1, 12, 1, 1, 1]  \n",
              "45315                                     [14, 0, 1, 29]  \n",
              "45316                                      [14, 0, 1, 1]  \n",
              "\n",
              "[45317 rows x 8 columns]"
            ],
            "text/html": [
              "\n",
              "  <div id=\"df-a4f255be-dd46-4292-8e0e-6be3ed3f5a43\">\n",
              "    <div class=\"colab-df-container\">\n",
              "      <div>\n",
              "<style scoped>\n",
              "    .dataframe tbody tr th:only-of-type {\n",
              "        vertical-align: middle;\n",
              "    }\n",
              "\n",
              "    .dataframe tbody tr th {\n",
              "        vertical-align: top;\n",
              "    }\n",
              "\n",
              "    .dataframe thead th {\n",
              "        text-align: right;\n",
              "    }\n",
              "</style>\n",
              "<table border=\"1\" class=\"dataframe\">\n",
              "  <thead>\n",
              "    <tr style=\"text-align: right;\">\n",
              "      <th></th>\n",
              "      <th>context</th>\n",
              "      <th>context_roles</th>\n",
              "      <th>question</th>\n",
              "      <th>question_roles</th>\n",
              "      <th>answer</th>\n",
              "      <th>answer_start</th>\n",
              "      <th>context_label</th>\n",
              "      <th>question_label</th>\n",
              "    </tr>\n",
              "  </thead>\n",
              "  <tbody>\n",
              "    <tr>\n",
              "      <th>0</th>\n",
              "      <td>В допетровское время искусство в России имело ...</td>\n",
              "      <td>&lt;unk&gt;,&lt;unk&gt;,срок,тема,&lt;unk&gt;,&lt;unk&gt;,&lt;pred&gt;,&lt;unk&gt;...</td>\n",
              "      <td>Чем на Руси ограничивались проявления пластики?</td>\n",
              "      <td>&lt;unk&gt;,&lt;unk&gt;,место,&lt;pred&gt;,тема,&lt;unk&gt;,&lt;unk&gt;</td>\n",
              "      <td>литьем небольших крестов, образов-складней, вы...</td>\n",
              "      <td>583</td>\n",
              "      <td>[1, 1, 30, 41, 1, 1, 0, 1, 31, 0, 1, 1, 40, 1,...</td>\n",
              "      <td>[1, 1, 12, 0, 41, 1, 1]</td>\n",
              "    </tr>\n",
              "    <tr>\n",
              "      <th>1</th>\n",
              "      <td>По данным рейтинга Top 100 самых филиальных ба...</td>\n",
              "      <td>&lt;unk&gt;,&lt;unk&gt;,тема,&lt;unk&gt;,&lt;unk&gt;,&lt;unk&gt;,&lt;unk&gt;,&lt;unk&gt;...</td>\n",
              "      <td>Какое место занимает УБРиР по даным рейтинга T...</td>\n",
              "      <td>&lt;unk&gt;,результат,&lt;pred&gt;,тема,&lt;unk&gt;,&lt;unk&gt;,&lt;unk&gt;,...</td>\n",
              "      <td>9 место</td>\n",
              "      <td>115</td>\n",
              "      <td>[1, 1, 41, 1, 1, 1, 1, 1, 1, 1, 1, 1, 41, 2, 1...</td>\n",
              "      <td>[1, 24, 0, 41, 1, 1, 1, 1, 1, 1, 1, 1, 1, 1]</td>\n",
              "    </tr>\n",
              "    <tr>\n",
              "      <th>2</th>\n",
              "      <td>Смарт-стекло — современный собирательный терми...</td>\n",
              "      <td>агенс,&lt;unk&gt;,эталон,&lt;unk&gt;,&lt;unk&gt;,&lt;unk&gt;,результат...</td>\n",
              "      <td>Какие свойства в общем способно изменять смарт...</td>\n",
              "      <td>&lt;unk&gt;,&lt;unk&gt;,&lt;unk&gt;,&lt;unk&gt;,&lt;unk&gt;,&lt;pred&gt;,пациенс,&lt;...</td>\n",
              "      <td>оптические</td>\n",
              "      <td>205</td>\n",
              "      <td>[2, 1, 44, 1, 1, 1, 24, 1, 1, 1, 1, 1, 1, 1, 1...</td>\n",
              "      <td>[1, 1, 1, 1, 1, 0, 14, 1, 1, 1]</td>\n",
              "    </tr>\n",
              "    <tr>\n",
              "      <th>3</th>\n",
              "      <td>Во время интервенции в Россию Речи Посполитой ...</td>\n",
              "      <td>&lt;unk&gt;,&lt;unk&gt;,агенс,&lt;unk&gt;,&lt;unk&gt;,&lt;unk&gt;,&lt;unk&gt;,мест...</td>\n",
              "      <td>Как звали воеводу Дорогобужа, который сдал гор...</td>\n",
              "      <td>&lt;unk&gt;,&lt;pred&gt;,адресат,&lt;unk&gt;,&lt;unk&gt;,агенс,&lt;pred&gt;,...</td>\n",
              "      <td>Иван Ададуров</td>\n",
              "      <td>287</td>\n",
              "      <td>[1, 1, 2, 1, 1, 1, 1, 12, 1, 1, 1, 24, 24, 1, ...</td>\n",
              "      <td>[1, 0, 3, 1, 1, 2, 0, 14, 1, 0, 24, 1, 1, 1, 1...</td>\n",
              "    </tr>\n",
              "    <tr>\n",
              "      <th>4</th>\n",
              "      <td>В начале 1823 года Грибоедов на время покинул ...</td>\n",
              "      <td>&lt;unk&gt;,сфера,&lt;unk&gt;,&lt;unk&gt;,агенс,&lt;unk&gt;,&lt;unk&gt;,&lt;pre...</td>\n",
              "      <td>В каком году Грибоедов написал водевиль Кто бр...</td>\n",
              "      <td>&lt;unk&gt;,&lt;unk&gt;,&lt;unk&gt;,&lt;unk&gt;,&lt;unk&gt;,&lt;unk&gt;,&lt;unk&gt;,&lt;unk...</td>\n",
              "      <td>1823</td>\n",
              "      <td>9</td>\n",
              "      <td>[1, 40, 1, 1, 2, 1, 1, 0, 14, 1, 0, 1, 8, 1, 1...</td>\n",
              "      <td>[1, 1, 1, 1, 1, 1, 1, 1, 1, 1, 1, 1, 1, 1, 1, ...</td>\n",
              "    </tr>\n",
              "    <tr>\n",
              "      <th>...</th>\n",
              "      <td>...</td>\n",
              "      <td>...</td>\n",
              "      <td>...</td>\n",
              "      <td>...</td>\n",
              "      <td>...</td>\n",
              "      <td>...</td>\n",
              "      <td>...</td>\n",
              "      <td>...</td>\n",
              "    </tr>\n",
              "    <tr>\n",
              "      <th>45312</th>\n",
              "      <td>Строительство военных линий стало опорной базо...</td>\n",
              "      <td>агенс,&lt;unk&gt;,тема,&lt;pred&gt;,&lt;unk&gt;,статус,&lt;unk&gt;,&lt;un...</td>\n",
              "      <td>Какая протяженность линии с юго-западной сторо...</td>\n",
              "      <td>&lt;unk&gt;,&lt;unk&gt;,&lt;unk&gt;,&lt;unk&gt;,&lt;unk&gt;,&lt;unk&gt;,&lt;unk&gt;,&lt;unk...</td>\n",
              "      <td>553 версты</td>\n",
              "      <td>187</td>\n",
              "      <td>[2, 1, 41, 0, 1, 31, 1, 1, 1, 1, 1, 1, 0, 1, 1...</td>\n",
              "      <td>[1, 1, 1, 1, 1, 1, 1, 1, 1, 1, 1, 1, 1, 1, 1]</td>\n",
              "    </tr>\n",
              "    <tr>\n",
              "      <th>45313</th>\n",
              "      <td>Остаток жизни Диоклетиан провёл на родине в Ил...</td>\n",
              "      <td>срок,&lt;unk&gt;,агенс,&lt;pred&gt;,&lt;unk&gt;,место,&lt;unk&gt;,коне...</td>\n",
              "      <td>В каком году умер Диоклетиан?</td>\n",
              "      <td>&lt;unk&gt;,&lt;unk&gt;,эталон,&lt;pred&gt;,пациенс,&lt;unk&gt;</td>\n",
              "      <td>в 313 г.</td>\n",
              "      <td>680</td>\n",
              "      <td>[30, 1, 2, 0, 1, 12, 1, 8, 1, 1, 1, 1, 1, 1, 1...</td>\n",
              "      <td>[1, 1, 44, 0, 14, 1]</td>\n",
              "    </tr>\n",
              "    <tr>\n",
              "      <th>45314</th>\n",
              "      <td>Любимыми композиторами Толстого были Бах, Генд...</td>\n",
              "      <td>&lt;unk&gt;,цель,агенс,&lt;unk&gt;,&lt;unk&gt;,&lt;unk&gt;,&lt;unk&gt;,&lt;unk&gt;...</td>\n",
              "      <td>В каком году Лев Николаевич поселил у себя в Я...</td>\n",
              "      <td>&lt;unk&gt;,&lt;unk&gt;,пациенс,&lt;unk&gt;,агенс,&lt;pred&gt;,&lt;unk&gt;,и...</td>\n",
              "      <td>В 1849</td>\n",
              "      <td>319</td>\n",
              "      <td>[1, 43, 2, 1, 1, 1, 1, 1, 1, 1, 41, 1, 1, 1, 2...</td>\n",
              "      <td>[1, 1, 14, 1, 2, 0, 1, 6, 1, 1, 12, 1, 1, 1]</td>\n",
              "    </tr>\n",
              "    <tr>\n",
              "      <th>45315</th>\n",
              "      <td>Царство животных было разделено Линнеем на шес...</td>\n",
              "      <td>пациенс,&lt;unk&gt;,&lt;unk&gt;,&lt;pred&gt;,агенс,&lt;unk&gt;,&lt;unk&gt;,р...</td>\n",
              "      <td>Что значит мусорным таксоном</td>\n",
              "      <td>пациенс,&lt;pred&gt;,&lt;unk&gt;,способ</td>\n",
              "      <td>то есть систематической группой, составленной ...</td>\n",
              "      <td>632</td>\n",
              "      <td>[14, 1, 1, 0, 2, 1, 1, 24, 1, 12, 1, 0, 1, 1, ...</td>\n",
              "      <td>[14, 0, 1, 29]</td>\n",
              "    </tr>\n",
              "    <tr>\n",
              "      <th>45316</th>\n",
              "      <td>В 1996 году на свет появилась овца Долли — пер...</td>\n",
              "      <td>&lt;unk&gt;,&lt;unk&gt;,цель,&lt;unk&gt;,место,&lt;pred&gt;,&lt;unk&gt;,тема...</td>\n",
              "      <td>Первое клонированное млекопитающее?</td>\n",
              "      <td>пациенс,&lt;pred&gt;,&lt;unk&gt;,&lt;unk&gt;</td>\n",
              "      <td>Овца Долли</td>\n",
              "      <td>30</td>\n",
              "      <td>[1, 1, 43, 1, 12, 0, 1, 41, 1, 1, 0, 41, 1, 2,...</td>\n",
              "      <td>[14, 0, 1, 1]</td>\n",
              "    </tr>\n",
              "  </tbody>\n",
              "</table>\n",
              "<p>45317 rows × 8 columns</p>\n",
              "</div>\n",
              "      <button class=\"colab-df-convert\" onclick=\"convertToInteractive('df-a4f255be-dd46-4292-8e0e-6be3ed3f5a43')\"\n",
              "              title=\"Convert this dataframe to an interactive table.\"\n",
              "              style=\"display:none;\">\n",
              "        \n",
              "  <svg xmlns=\"http://www.w3.org/2000/svg\" height=\"24px\"viewBox=\"0 0 24 24\"\n",
              "       width=\"24px\">\n",
              "    <path d=\"M0 0h24v24H0V0z\" fill=\"none\"/>\n",
              "    <path d=\"M18.56 5.44l.94 2.06.94-2.06 2.06-.94-2.06-.94-.94-2.06-.94 2.06-2.06.94zm-11 1L8.5 8.5l.94-2.06 2.06-.94-2.06-.94L8.5 2.5l-.94 2.06-2.06.94zm10 10l.94 2.06.94-2.06 2.06-.94-2.06-.94-.94-2.06-.94 2.06-2.06.94z\"/><path d=\"M17.41 7.96l-1.37-1.37c-.4-.4-.92-.59-1.43-.59-.52 0-1.04.2-1.43.59L10.3 9.45l-7.72 7.72c-.78.78-.78 2.05 0 2.83L4 21.41c.39.39.9.59 1.41.59.51 0 1.02-.2 1.41-.59l7.78-7.78 2.81-2.81c.8-.78.8-2.07 0-2.86zM5.41 20L4 18.59l7.72-7.72 1.47 1.35L5.41 20z\"/>\n",
              "  </svg>\n",
              "      </button>\n",
              "      \n",
              "  <style>\n",
              "    .colab-df-container {\n",
              "      display:flex;\n",
              "      flex-wrap:wrap;\n",
              "      gap: 12px;\n",
              "    }\n",
              "\n",
              "    .colab-df-convert {\n",
              "      background-color: #E8F0FE;\n",
              "      border: none;\n",
              "      border-radius: 50%;\n",
              "      cursor: pointer;\n",
              "      display: none;\n",
              "      fill: #1967D2;\n",
              "      height: 32px;\n",
              "      padding: 0 0 0 0;\n",
              "      width: 32px;\n",
              "    }\n",
              "\n",
              "    .colab-df-convert:hover {\n",
              "      background-color: #E2EBFA;\n",
              "      box-shadow: 0px 1px 2px rgba(60, 64, 67, 0.3), 0px 1px 3px 1px rgba(60, 64, 67, 0.15);\n",
              "      fill: #174EA6;\n",
              "    }\n",
              "\n",
              "    [theme=dark] .colab-df-convert {\n",
              "      background-color: #3B4455;\n",
              "      fill: #D2E3FC;\n",
              "    }\n",
              "\n",
              "    [theme=dark] .colab-df-convert:hover {\n",
              "      background-color: #434B5C;\n",
              "      box-shadow: 0px 1px 3px 1px rgba(0, 0, 0, 0.15);\n",
              "      filter: drop-shadow(0px 1px 2px rgba(0, 0, 0, 0.3));\n",
              "      fill: #FFFFFF;\n",
              "    }\n",
              "  </style>\n",
              "\n",
              "      <script>\n",
              "        const buttonEl =\n",
              "          document.querySelector('#df-a4f255be-dd46-4292-8e0e-6be3ed3f5a43 button.colab-df-convert');\n",
              "        buttonEl.style.display =\n",
              "          google.colab.kernel.accessAllowed ? 'block' : 'none';\n",
              "\n",
              "        async function convertToInteractive(key) {\n",
              "          const element = document.querySelector('#df-a4f255be-dd46-4292-8e0e-6be3ed3f5a43');\n",
              "          const dataTable =\n",
              "            await google.colab.kernel.invokeFunction('convertToInteractive',\n",
              "                                                     [key], {});\n",
              "          if (!dataTable) return;\n",
              "\n",
              "          const docLinkHtml = 'Like what you see? Visit the ' +\n",
              "            '<a target=\"_blank\" href=https://colab.research.google.com/notebooks/data_table.ipynb>data table notebook</a>'\n",
              "            + ' to learn more about interactive tables.';\n",
              "          element.innerHTML = '';\n",
              "          dataTable['output_type'] = 'display_data';\n",
              "          await google.colab.output.renderOutput(dataTable, element);\n",
              "          const docLink = document.createElement('div');\n",
              "          docLink.innerHTML = docLinkHtml;\n",
              "          element.appendChild(docLink);\n",
              "        }\n",
              "      </script>\n",
              "    </div>\n",
              "  </div>\n",
              "  "
            ]
          },
          "metadata": {},
          "execution_count": 15
        }
      ],
      "source": [
        "train_roles"
      ]
    },
    {
      "cell_type": "code",
      "execution_count": null,
      "metadata": {
        "colab": {
          "base_uri": "https://localhost:8080/"
        },
        "id": "kkj0CtN0OIY3",
        "outputId": "f681e73d-7f78-4b20-9e83-f81052906ca9"
      },
      "outputs": [
        {
          "output_type": "stream",
          "name": "stdout",
          "text": [
            "[1, 1, 43, 1, 12, 0, 1, 41, 1, 1, 0, 41, 1, 2, 1, 0, 29, 1, 43, 1, 1, 1, 8, 1, 1, 1, 41, 1, 8, 0, 1, 1, 13, 1, 1, 1, 1, 1, 14, 0, 29, 1, 1, 14, 41, 0, 1, 1, 1, 2, 1, 1, 0, 1, 8, 1, 1, 1, 41, 1, 0, 24, 1, 1, 2, 0, 1, 1, 1, 1, 1, 1, 1, 1, 2, 1, 1, 1, 1, 1, 1, 1, 1, 1, 1, 1, 1, 1, 1, 1, 1, 1, 1, 1, 1, 1, 1, 1, 1, 1, 1, 1, 1, 1, 1, 1, 1, 1, 1, 1, 1, 1, 1, 1, 1, 1, 1, 1, 1, 1, 1, 1, 1, 1, 1, 1, 1, 1, 1, 1, 1, 1, 1, 1, 1, 1, 1, 1, 1, 1, 1, 1, 1, 1, 1, 1, 1, 1]\n"
          ]
        }
      ],
      "source": [
        "print(train_roles['context_label'][45316])"
      ]
    },
    {
      "cell_type": "code",
      "execution_count": null,
      "metadata": {
        "id": "sfeoS-d6Lssv"
      },
      "outputs": [],
      "source": [
        "uniq_context = get_uniq(dev_roles['context_roles'])\n",
        "uniq_context.sort()"
      ]
    },
    {
      "cell_type": "code",
      "execution_count": null,
      "metadata": {
        "id": "Zh6cn6q-LxKP"
      },
      "outputs": [],
      "source": [
        "test = get_ids(dev_roles['context_roles'], uniq_context)"
      ]
    },
    {
      "cell_type": "code",
      "execution_count": null,
      "metadata": {
        "id": "Je2392tBLyEg"
      },
      "outputs": [],
      "source": [
        "test_q = get_ids(dev_roles['question_roles'], uniq_context)"
      ]
    },
    {
      "cell_type": "code",
      "execution_count": null,
      "metadata": {
        "id": "14fSjp30LzAB"
      },
      "outputs": [],
      "source": [
        "dev_roles['context_label'] = test"
      ]
    },
    {
      "cell_type": "code",
      "execution_count": null,
      "metadata": {
        "id": "fzQd_aDhLz_J"
      },
      "outputs": [],
      "source": [
        "dev_roles['question_label'] = test_q"
      ]
    },
    {
      "cell_type": "markdown",
      "source": [
        "## Переводим все данные в формат Datasets"
      ],
      "metadata": {
        "id": "q-f9yzbHpQRB"
      }
    },
    {
      "cell_type": "code",
      "execution_count": null,
      "metadata": {
        "id": "HFdEEmpAe1Oj"
      },
      "outputs": [],
      "source": [
        "def convert_answers(row):\n",
        "    return {'answer_start': [row['answer_start']], 'text': [row['answer']]}\n",
        "\n",
        "train_t = train_roles\n",
        "test_t = dev_roles\n",
        "\n",
        "train_t['answers'] = train_t[['answer_start', 'answer']].apply(convert_answers, axis=1)\n",
        "test_t['answers'] = test_t[['answer_start', 'answer']].apply(convert_answers, axis=1)"
      ]
    },
    {
      "cell_type": "code",
      "execution_count": null,
      "metadata": {
        "colab": {
          "base_uri": "https://localhost:8080/"
        },
        "id": "o-Xdb5aeiKD7",
        "outputId": "b78896ec-101b-4f44-81ba-7569036dc8d1"
      },
      "outputs": [
        {
          "output_type": "execute_result",
          "data": {
            "text/plain": [
              "45317"
            ]
          },
          "metadata": {},
          "execution_count": 23
        }
      ],
      "source": [
        "len(train_t)"
      ]
    },
    {
      "cell_type": "code",
      "execution_count": null,
      "metadata": {
        "id": "5tu2lP5pfqB9"
      },
      "outputs": [],
      "source": [
        "train_t = train_t.drop(columns = ['answer', 'answer_start'])\n",
        "test_t = test_t.drop(columns = ['answer', 'answer_start'])"
      ]
    },
    {
      "cell_type": "code",
      "execution_count": null,
      "metadata": {
        "id": "OO7z0PGR50Eg"
      },
      "outputs": [],
      "source": [
        "train_t.drop(labels = [783,1386,2190,2826,2909,3844,3919,4192,6486,6786,7874,7918,8022,8110,8382,9287,9317,10887,11628,12136,12335,12684,14091,14352,14797,15006,15094,15556,15699,15709,16148,16282,16299,16363,16432,16656,16685,17321,17611,17861,17967,18940,19579,19959,19963,21638,22214,22989,25334,25474,25836,26836,27241,27642,27957,28008,28075,28175,28357,28506,28548,29026,29559,29638,30039,30447,30515,32070,32575,33497,33601,35118,35409,36133,37709,38740,39446,39758,41707,42031,42142,42466,43710,44061,44692,44964,2202,4522,18395,22497,45316],axis = 0, inplace = True)"
      ]
    },
    {
      "cell_type": "code",
      "execution_count": null,
      "metadata": {
        "id": "L9_5u5hz-HsU"
      },
      "outputs": [],
      "source": [
        "test_t.drop(labels = [1727,5031,853,1107,1432,2863,3214,4197,4837,4868],axis = 0, inplace = True)"
      ]
    },
    {
      "cell_type": "code",
      "execution_count": null,
      "metadata": {
        "id": "VJESg0q5Xc_w"
      },
      "outputs": [],
      "source": [
        "from datasets import Dataset\n",
        "\n",
        "data_train = Dataset.from_pandas(train_t)\n",
        "data_test = Dataset.from_pandas(test_t)"
      ]
    },
    {
      "cell_type": "code",
      "execution_count": null,
      "metadata": {
        "id": "ANs6bothYLV6"
      },
      "outputs": [],
      "source": [
        "from datasets import ClassLabel, Sequence\n",
        "import random\n",
        "import pandas as pd\n",
        "from IPython.display import display, HTML\n",
        "\n",
        "\n",
        "def show_random_elements(dataset, num_examples=10):\n",
        "    assert num_examples <= len(\n",
        "        dataset\n",
        "    ), \"Can't pick more elements than there are in the dataset.\"\n",
        "    picks = []\n",
        "    for _ in range(num_examples):\n",
        "        pick = random.randint(0, len(dataset) - 1)\n",
        "        while pick in picks:\n",
        "            pick = random.randint(0, len(dataset) - 1)\n",
        "        picks.append(pick)\n",
        "\n",
        "    df = pd.DataFrame(dataset[picks])\n",
        "    for column, typ in dataset.features.items():\n",
        "        if isinstance(typ, ClassLabel):\n",
        "            df[column] = df[column].transform(lambda i: typ.names[i])\n",
        "        elif isinstance(typ, Sequence) and isinstance(typ.feature, ClassLabel):\n",
        "            df[column] = df[column].transform(\n",
        "                lambda x: [typ.feature.names[i] for i in x]\n",
        "            )\n",
        "    display(HTML(df.to_html()))"
      ]
    },
    {
      "cell_type": "code",
      "execution_count": null,
      "metadata": {
        "colab": {
          "base_uri": "https://localhost:8080/",
          "height": 1000
        },
        "id": "BKsGpO4mZC0J",
        "outputId": "2a849092-d97d-4048-bc90-b0e60be3c541"
      },
      "outputs": [
        {
          "output_type": "display_data",
          "data": {
            "text/plain": [
              "<IPython.core.display.HTML object>"
            ],
            "text/html": [
              "<table border=\"1\" class=\"dataframe\">\n",
              "  <thead>\n",
              "    <tr style=\"text-align: right;\">\n",
              "      <th></th>\n",
              "      <th>context</th>\n",
              "      <th>context_roles</th>\n",
              "      <th>question</th>\n",
              "      <th>question_roles</th>\n",
              "      <th>context_label</th>\n",
              "      <th>question_label</th>\n",
              "      <th>answers</th>\n",
              "      <th>__index_level_0__</th>\n",
              "    </tr>\n",
              "  </thead>\n",
              "  <tbody>\n",
              "    <tr>\n",
              "      <th>0</th>\n",
              "      <td>По классификации, опубликованной в издании Болгарская диалектология (под редакцией С. Стойкова), восточноболгарские говоры подразделяются на мизийские, балканские и рупские, а западноболгарские говоры — на северо-западные, юго-западные и крайнезападные. Согласно диалектологической карте болгарского языка, опубликованной отделением диалектологии и лингвистической географии Института болгарского языка, восточноболгарские говоры подразделяют на северо-восточные и юго-восточные, а западноболгарские говоры — на северо-западные и юго-западные.</td>\n",
              "      <td>&lt;unk&gt;,&lt;unk&gt;,&lt;unk&gt;,&lt;pred&gt;,&lt;unk&gt;,способ,&lt;unk&gt;,&lt;unk&gt;,&lt;unk&gt;,&lt;unk&gt;,&lt;unk&gt;,&lt;unk&gt;,&lt;unk&gt;,пациенс,&lt;unk&gt;,&lt;unk&gt;,&lt;unk&gt;,тема,&lt;pred&gt;,&lt;unk&gt;,&lt;unk&gt;,&lt;unk&gt;,&lt;unk&gt;,&lt;unk&gt;,&lt;unk&gt;,&lt;unk&gt;,&lt;unk&gt;,&lt;unk&gt;,результат,&lt;unk&gt;,&lt;unk&gt;,&lt;unk&gt;,&lt;unk&gt;,&lt;unk&gt;,&lt;unk&gt;,&lt;unk&gt;,&lt;unk&gt;,&lt;unk&gt;,&lt;unk&gt;,&lt;unk&gt;,&lt;unk&gt;,&lt;unk&gt;,&lt;unk&gt;,агенс,&lt;unk&gt;,&lt;unk&gt;,&lt;unk&gt;,&lt;pred&gt;,способ,&lt;unk&gt;,&lt;unk&gt;,&lt;unk&gt;,&lt;unk&gt;,&lt;unk&gt;,&lt;unk&gt;,&lt;unk&gt;,&lt;unk&gt;,&lt;unk&gt;,&lt;unk&gt;,&lt;pred&gt;,&lt;unk&gt;,&lt;unk&gt;,&lt;unk&gt;,&lt;unk&gt;,&lt;unk&gt;,&lt;unk&gt;,&lt;unk&gt;,&lt;unk&gt;,&lt;unk&gt;,&lt;unk&gt;,&lt;unk&gt;,&lt;unk&gt;,&lt;unk&gt;,&lt;unk&gt;,&lt;unk&gt;,&lt;unk&gt;,&lt;unk&gt;,&lt;unk&gt;,&lt;unk&gt;,&lt;unk&gt;,&lt;unk&gt;,&lt;unk&gt;</td>\n",
              "      <td>По какой классификации восточноболгарские говоры подразделяются на мизийские, балканские и рупские?</td>\n",
              "      <td>&lt;unk&gt;,&lt;unk&gt;,тема,&lt;unk&gt;,пациенс,&lt;pred&gt;,&lt;unk&gt;,результат,&lt;unk&gt;,&lt;unk&gt;,&lt;unk&gt;,&lt;unk&gt;,&lt;unk&gt;</td>\n",
              "      <td>[1, 1, 1, 0, 1, 29, 1, 1, 1, 1, 1, 1, 1, 14, 1, 1, 1, 41, 0, 1, 1, 1, 1, 1, 1, 1, 1, 1, 24, 1, 1, 1, 1, 1, 1, 1, 1, 1, 1, 1, 1, 1, 1, 2, 1, 1, 1, 0, 29, 1, 1, 1, 1, 1, 1, 1, 1, 1, 1, 0, 1, 1, 1, 1, 1, 1, 1, 1, 1, 1, 1, 1, 1, 1, 1, 1, 1, 1, 1, 1, 1, 1]</td>\n",
              "      <td>[1, 1, 41, 1, 14, 0, 1, 24, 1, 1, 1, 1, 1]</td>\n",
              "      <td>{'answer_start': [0], 'text': ['По классификации, опубликованной в издании Болгарская диалектология ']}</td>\n",
              "      <td>9150</td>\n",
              "    </tr>\n",
              "    <tr>\n",
              "      <th>1</th>\n",
              "      <td>Позвонки, из которых построен позвоночный столб, у разных групп животных имеют различное строение. У высших позвоночных между телами позвонков располагаются хрящевые прослойки — межпозвоночные диски. Они выполняют функцию амортизаторов и обеспечивают подвижность позвоночника. Каждый позвонок состоит из тела и дуги, которые ограничивают позвоночное отверстие, находящееся между ними, а также отростков — остистого, поперечных и суставных. Верхние дуги позвонков окружают спинной мозг, отростки сочленяют позвонки между собой, к ним прикрепляются мышцы. Вместе отверстия позвонков формируют позвоночный канал, являющийся вместилищем спинного мозга.</td>\n",
              "      <td>тема,&lt;unk&gt;,&lt;unk&gt;,начальная точка,&lt;pred&gt;,&lt;unk&gt;,результат,&lt;unk&gt;,&lt;unk&gt;,&lt;unk&gt;,место,&lt;unk&gt;,&lt;pred&gt;,&lt;unk&gt;,результат,&lt;unk&gt;,&lt;unk&gt;,&lt;unk&gt;,&lt;unk&gt;,&lt;unk&gt;,начальная точка,место,&lt;pred&gt;,&lt;unk&gt;,&lt;unk&gt;,&lt;unk&gt;,&lt;unk&gt;,пациенс,&lt;unk&gt;,агенс,&lt;pred&gt;,пациенс,&lt;unk&gt;,&lt;unk&gt;,&lt;pred&gt;,пациенс,&lt;unk&gt;,&lt;unk&gt;,&lt;unk&gt;,тема,&lt;pred&gt;,&lt;unk&gt;,&lt;unk&gt;,&lt;unk&gt;,тема,&lt;unk&gt;,эффектор,&lt;pred&gt;,&lt;unk&gt;,пациенс,&lt;unk&gt;,&lt;pred&gt;,&lt;unk&gt;,агенс,&lt;unk&gt;,&lt;unk&gt;,&lt;unk&gt;,тема,&lt;unk&gt;,&lt;unk&gt;,&lt;unk&gt;,&lt;unk&gt;,&lt;unk&gt;,&lt;unk&gt;,&lt;unk&gt;,&lt;unk&gt;,&lt;unk&gt;,пациенс,&lt;pred&gt;,&lt;unk&gt;,пациенс,&lt;unk&gt;,&lt;unk&gt;,&lt;pred&gt;,&lt;unk&gt;,&lt;unk&gt;,&lt;unk&gt;,&lt;unk&gt;,&lt;unk&gt;,место,&lt;pred&gt;,тема,&lt;unk&gt;,&lt;unk&gt;,агенс,&lt;unk&gt;,&lt;pred&gt;,&lt;unk&gt;,пациенс,&lt;unk&gt;,&lt;pred&gt;,статус,&lt;unk&gt;,&lt;unk&gt;,&lt;unk&gt;</td>\n",
              "      <td>Что окружают верхние дуги позвонков?</td>\n",
              "      <td>тема,&lt;pred&gt;,&lt;unk&gt;,пациенс,&lt;unk&gt;,&lt;unk&gt;</td>\n",
              "      <td>[41, 1, 1, 13, 0, 1, 24, 1, 1, 1, 12, 1, 0, 1, 24, 1, 1, 1, 1, 1, 13, 12, 0, 1, 1, 1, 1, 14, 1, 2, 0, 14, 1, 1, 0, 14, 1, 1, 1, 41, 0, 1, 1, 1, 41, 1, 45, 0, 1, 14, 1, 0, 1, 2, 1, 1, 1, 41, 1, 1, 1, 1, 1, 1, 1, 1, 1, 14, 0, 1, 14, 1, 1, 0, 1, 1, 1, 1, 1, 12, 0, 41, 1, 1, 2, 1, 0, 1, 14, 1, 0, 31, 1, 1, 1]</td>\n",
              "      <td>[41, 0, 1, 14, 1, 1]</td>\n",
              "      <td>{'answer_start': [472], 'text': ['спинной мозг']}</td>\n",
              "      <td>19715</td>\n",
              "    </tr>\n",
              "    <tr>\n",
              "      <th>2</th>\n",
              "      <td>Однако в то время были и натуралисты, которые размышляли об эволюционном изменении организмов, происходящем в течение длительного времени. Мопертюи писал в 1751 году о естественных модификациях, происходящих во время воспроизводства, накапливающихся в течение многих поколений и приводящих к формированию новых видов. Бюффон предположил, что виды могут дегенерировать и превращаться в другие организмы. Эразм Дарвин считал, что все теплокровные организмы возможно происходят от одного микроорганизма (или филамента ). Первая полноценная эволюционная концепция была предложена Жаном Батистом Ламарком в 1809 году в труде Философия зоологии . Ламарк считал, что простые организмы (инфузории и черви) постоянно самозарождаются. Затем эти формы изменяются и усложняют своё строение, приспосабливаясь к окружающей среде. Эти приспособления происходят за счёт прямого влияния окружающей среды путём упражнения или неупражнения органов и последующей передачи этих приобретённых признаков потомкам (позже эта теория получила название ламаркизм). Эти идеи были отвергнуты натуралистами, поскольку не имели экспериментальных доказательств. Кроме того, всё ещё были сильны позиции учёных, считавших, что виды неизменны, а их сходство свидетельствует о божественном замысле. Одним из самых известных среди них был Жорж Кювье.</td>\n",
              "      <td>&lt;unk&gt;,&lt;unk&gt;,&lt;unk&gt;,место,&lt;unk&gt;,&lt;unk&gt;,статус,&lt;unk&gt;,субъект ментального состояния,&lt;pred&gt;,&lt;unk&gt;,&lt;unk&gt;,предмет высказывания,результат,&lt;unk&gt;,&lt;pred&gt;,&lt;unk&gt;,&lt;unk&gt;,&lt;unk&gt;,&lt;unk&gt;,&lt;unk&gt;,говорящий,&lt;pred&gt;,&lt;unk&gt;,&lt;unk&gt;,место,&lt;unk&gt;,&lt;unk&gt;,&lt;unk&gt;,&lt;unk&gt;,&lt;pred&gt;,&lt;unk&gt;,&lt;unk&gt;,тема,&lt;unk&gt;,&lt;pred&gt;,&lt;unk&gt;,&lt;unk&gt;,&lt;unk&gt;,срок,&lt;unk&gt;,&lt;pred&gt;,&lt;unk&gt;,результат,&lt;unk&gt;,тема,&lt;unk&gt;,тема,&lt;pred&gt;,&lt;unk&gt;,&lt;unk&gt;,пациенс,&lt;pred&gt;,&lt;pred&gt;,&lt;unk&gt;,&lt;pred&gt;,&lt;unk&gt;,&lt;unk&gt;,тема,&lt;unk&gt;,&lt;unk&gt;,агенс,&lt;pred&gt;,&lt;unk&gt;,&lt;unk&gt;,&lt;unk&gt;,&lt;unk&gt;,агенс,&lt;unk&gt;,&lt;pred&gt;,&lt;unk&gt;,&lt;unk&gt;,причина,&lt;unk&gt;,&lt;unk&gt;,&lt;unk&gt;,&lt;unk&gt;,&lt;unk&gt;,&lt;unk&gt;,&lt;unk&gt;,&lt;unk&gt;,тема,&lt;unk&gt;,&lt;pred&gt;,статус,&lt;unk&gt;,агенс,&lt;unk&gt;,&lt;unk&gt;,&lt;unk&gt;,&lt;unk&gt;,агенс,&lt;unk&gt;,&lt;unk&gt;,&lt;unk&gt;,&lt;unk&gt;,&lt;pred&gt;,&lt;unk&gt;,&lt;unk&gt;,&lt;unk&gt;,&lt;unk&gt;,&lt;unk&gt;,&lt;unk&gt;,&lt;unk&gt;,&lt;unk&gt;,&lt;unk&gt;,&lt;unk&gt;,&lt;pred&gt;,&lt;unk&gt;,&lt;unk&gt;,&lt;unk&gt;,тема,&lt;pred&gt;,&lt;unk&gt;,&lt;pred&gt;,&lt;unk&gt;,тема,&lt;unk&gt;,&lt;pred&gt;,&lt;unk&gt;,&lt;unk&gt;,конечная точка,&lt;unk&gt;,&lt;unk&gt;,тема,&lt;pred&gt;,&lt;unk&gt;,&lt;unk&gt;,&lt;unk&gt;,эталон,&lt;unk&gt;,&lt;unk&gt;,&lt;unk&gt;,&lt;unk&gt;,&lt;unk&gt;,&lt;unk&gt;,&lt;unk&gt;,&lt;unk&gt;,&lt;unk&gt;,&lt;unk&gt;,&lt;unk&gt;,&lt;unk&gt;,&lt;unk&gt;,&lt;unk&gt;,&lt;unk&gt;,&lt;unk&gt;,&lt;unk&gt;,агенс,&lt;pred&gt;,тема,&lt;unk&gt;,&lt;unk&gt;,&lt;unk&gt;,&lt;unk&gt;,тема,&lt;unk&gt;,&lt;pred&gt;,&lt;unk&gt;,&lt;unk&gt;,&lt;unk&gt;,&lt;unk&gt;,&lt;pred&gt;,&lt;unk&gt;,тема,&lt;unk&gt;,&lt;unk&gt;,&lt;unk&gt;,&lt;unk&gt;,&lt;unk&gt;,&lt;unk&gt;,&lt;unk&gt;,&lt;unk&gt;,&lt;unk&gt;,&lt;unk&gt;,&lt;unk&gt;,&lt;pred&gt;,&lt;unk&gt;,&lt;unk&gt;,&lt;unk&gt;,признак действия,&lt;unk&gt;,&lt;unk&gt;,&lt;unk&gt;,тема,&lt;pred&gt;,&lt;unk&gt;,&lt;unk&gt;,пациенс,&lt;unk&gt;,&lt;unk&gt;,&lt;unk&gt;,&lt;unk&gt;,&lt;unk&gt;,&lt;unk&gt;,&lt;unk&gt;,&lt;unk&gt;,&lt;unk&gt;,&lt;unk&gt;,&lt;unk&gt;</td>\n",
              "      <td>О чем Мопертюи писал в 1751 году?</td>\n",
              "      <td>&lt;unk&gt;,&lt;unk&gt;,говорящий,&lt;pred&gt;,&lt;unk&gt;,&lt;unk&gt;,&lt;unk&gt;,&lt;unk&gt;</td>\n",
              "      <td>[1, 1, 1, 12, 1, 1, 31, 1, 34, 0, 1, 1, 19, 24, 1, 0, 1, 1, 1, 1, 1, 4, 0, 1, 1, 12, 1, 1, 1, 1, 0, 1, 1, 41, 1, 0, 1, 1, 1, 30, 1, 0, 1, 24, 1, 41, 1, 41, 0, 1, 1, 14, 0, 0, 1, 0, 1, 1, 41, 1, 1, 2, 0, 1, 1, 1, 1, 2, 1, 0, 1, 1, 23, 1, 1, 1, 1, 1, 1, 1, 1, 41, 1, 0, 31, 1, 2, 1, 1, 1, 1, 2, 1, 1, 1, 1, 0, 1, 1, 1, ...]</td>\n",
              "      <td>[1, 1, 4, 0, 1, 1, 1, 1]</td>\n",
              "      <td>{'answer_start': [139], 'text': ['Мопертюи писал в 1751 году о естественных модификациях, происходящих во время воспроизводства, накапливающихся в течение многих поколений и приводящих к формированию новых видов.']}</td>\n",
              "      <td>5319</td>\n",
              "    </tr>\n",
              "    <tr>\n",
              "      <th>3</th>\n",
              "      <td>Ню-метал-группа Orgy становится популярной в конце 1990-х, с выходом альбома Candyass (1998), который получает платиновый статус от RIAA.[173] Их кавер на песню Blue Monday группы New Order достигает 56 строчки в Billboard Hot 100.[174] Одноимённый дебютный альбом Godsmack (1998) группы Godsmack становится четырежды платиновым.[175] Альбом Devil Without a Cause (1998) музыканта Kid Rock получает золото.[176] В следующем месяце Devil Without a Cause, как и предсказывал Kid Rock, получает платину.[176] Альбом был распродан тиражом 9,300,000 копий в Соединенных Штатах[177] и получил 11х платиновый статус.[176] В 1999 году появились Slipknot со своим экстремальным ню-метал-звучанием, их одноимённый дебютный альбом Slipknot (1999) становится 2x платиновым.[178] В обзоре этого альбома Рик Андерсон из AllMusic писал: Вы думали, что Limp Bizkit тяжёлая группа? Они — The Osmonds. Эти парни что-то совсем другое. [179] Второй альбом Significant Other (1999) группы Limp Bizkit достиг вершины Billboard 200, распроданный тиражом 643,874 копий за первую неделю.[180] За вторую неделю было продано 335,000 копий.[180] В общем он разошёлся тиражом 7,237,123 копий в Соединенных Штатах[181] и получил 7x платиновый статус.[182]</td>\n",
              "      <td>пациенс перемещения,&lt;unk&gt;,&lt;pred&gt;,&lt;unk&gt;,агенс,&lt;unk&gt;,&lt;pred&gt;,признак,&lt;unk&gt;,&lt;unk&gt;,&lt;unk&gt;,&lt;unk&gt;,&lt;unk&gt;,&lt;unk&gt;,&lt;unk&gt;,&lt;unk&gt;,тема,&lt;unk&gt;,&lt;unk&gt;,&lt;unk&gt;,&lt;unk&gt;,&lt;unk&gt;,тема,&lt;pred&gt;,признак,пациенс,&lt;unk&gt;,&lt;unk&gt;,&lt;unk&gt;,&lt;unk&gt;,&lt;unk&gt;,&lt;unk&gt;,&lt;unk&gt;,тема,&lt;unk&gt;,&lt;unk&gt;,&lt;unk&gt;,&lt;unk&gt;,пациенс,&lt;unk&gt;,&lt;unk&gt;,&lt;pred&gt;,&lt;unk&gt;,результат,&lt;unk&gt;,&lt;unk&gt;,&lt;unk&gt;,&lt;unk&gt;,&lt;unk&gt;,&lt;unk&gt;,&lt;unk&gt;,&lt;unk&gt;,&lt;unk&gt;,&lt;unk&gt;,пациенс перемещения,&lt;unk&gt;,&lt;unk&gt;,&lt;unk&gt;,&lt;unk&gt;,субъект перемещения,&lt;unk&gt;,&lt;pred&gt;,&lt;unk&gt;,признак,&lt;unk&gt;,&lt;unk&gt;,&lt;unk&gt;,&lt;unk&gt;,агенс,&lt;unk&gt;,&lt;unk&gt;,&lt;unk&gt;,&lt;unk&gt;,&lt;unk&gt;,&lt;unk&gt;,&lt;unk&gt;,&lt;unk&gt;,&lt;unk&gt;,&lt;unk&gt;,&lt;pred&gt;,пациенс,&lt;unk&gt;,&lt;unk&gt;,&lt;unk&gt;,&lt;unk&gt;,&lt;unk&gt;,&lt;unk&gt;,агенс,&lt;unk&gt;,&lt;unk&gt;,&lt;unk&gt;,&lt;unk&gt;,&lt;unk&gt;,&lt;unk&gt;,&lt;unk&gt;,&lt;unk&gt;,&lt;unk&gt;,&lt;unk&gt;,&lt;unk&gt;,&lt;pred&gt;,тема,&lt;unk&gt;,&lt;unk&gt;,&lt;unk&gt;,&lt;unk&gt;,&lt;unk&gt;,&lt;unk&gt;,&lt;pred&gt;,способ,&lt;unk&gt;,&lt;unk&gt;,&lt;unk&gt;,&lt;unk&gt;,&lt;unk&gt;,агенс,&lt;unk&gt;,&lt;unk&gt;,агенс,&lt;unk&gt;,&lt;unk&gt;,&lt;unk&gt;,&lt;unk&gt;,&lt;pred&gt;,&lt;unk&gt;,&lt;unk&gt;,тема,&lt;unk&gt;,&lt;unk&gt;,&lt;unk&gt;,&lt;unk&gt;,&lt;unk&gt;,&lt;unk&gt;,&lt;unk&gt;,&lt;unk&gt;,&lt;unk&gt;,&lt;unk&gt;,&lt;unk&gt;,&lt;unk&gt;,&lt;unk&gt;,&lt;unk&gt;,&lt;pred&gt;,&lt;unk&gt;,эффектор,&lt;unk&gt;,&lt;unk&gt;,&lt;unk&gt;,&lt;unk&gt;,&lt;unk&gt;,&lt;unk&gt;,&lt;unk&gt;,&lt;unk&gt;,&lt;unk&gt;,&lt;pred&gt;,&lt;unk&gt;,&lt;unk&gt;,&lt;unk&gt;,&lt;unk&gt;,&lt;unk&gt;,&lt;unk&gt;,&lt;unk&gt;,&lt;unk&gt;,&lt;unk&gt;,&lt;unk&gt;,&lt;unk&gt;,&lt;unk&gt;,&lt;unk&gt;,&lt;unk&gt;,&lt;unk&gt;,&lt;unk&gt;,тема,&lt;pred&gt;,&lt;unk&gt;,&lt;unk&gt;,&lt;unk&gt;,тема,&lt;unk&gt;,&lt;unk&gt;,&lt;unk&gt;,&lt;unk&gt;,&lt;unk&gt;,&lt;unk&gt;,&lt;unk&gt;,&lt;unk&gt;,&lt;unk&gt;,&lt;unk&gt;,&lt;unk&gt;,&lt;unk&gt;,&lt;unk&gt;,&lt;unk&gt;,&lt;unk&gt;,&lt;unk&gt;,&lt;unk&gt;,&lt;unk&gt;,&lt;unk&gt;,&lt;unk&gt;,&lt;unk&gt;,&lt;unk&gt;,&lt;unk&gt;,&lt;unk&gt;,&lt;unk&gt;,&lt;unk&gt;,&lt;unk&gt;,&lt;unk&gt;,&lt;unk&gt;,&lt;pred&gt;,результат,&lt;unk&gt;,&lt;unk&gt;,&lt;unk&gt;,&lt;pred&gt;,агенс,&lt;unk&gt;,&lt;unk&gt;,&lt;unk&gt;,&lt;unk&gt;,&lt;unk&gt;,&lt;unk&gt;,тема,&lt;unk&gt;,&lt;unk&gt;,&lt;unk&gt;,&lt;unk&gt;,&lt;unk&gt;,&lt;unk&gt;,&lt;unk&gt;,&lt;unk&gt;,&lt;pred&gt;,&lt;unk&gt;,&lt;unk&gt;,&lt;unk&gt;,&lt;unk&gt;,&lt;unk&gt;,&lt;unk&gt;,&lt;unk&gt;,&lt;unk&gt;,&lt;unk&gt;,&lt;unk&gt;,агенс,&lt;unk&gt;,&lt;unk&gt;,&lt;unk&gt;,&lt;unk&gt;,&lt;unk&gt;,&lt;unk&gt;,&lt;unk&gt;,&lt;unk&gt;,&lt;unk&gt;,&lt;unk&gt;,&lt;unk&gt;,&lt;unk&gt;,&lt;unk&gt;,&lt;unk&gt;,&lt;unk&gt;,&lt;pred&gt;,&lt;unk&gt;,&lt;unk&gt;,тема,&lt;unk&gt;,&lt;unk&gt;,&lt;unk&gt;,&lt;unk&gt;</td>\n",
              "      <td>Что получил альбом Candyass (1998) от RIAA?</td>\n",
              "      <td>тема,&lt;pred&gt;,пациенс,&lt;unk&gt;,&lt;unk&gt;,&lt;unk&gt;,&lt;unk&gt;,&lt;unk&gt;,&lt;unk&gt;,&lt;unk&gt;</td>\n",
              "      <td>[15, 1, 0, 1, 2, 1, 0, 21, 1, 1, 1, 1, 1, 1, 1, 1, 41, 1, 1, 1, 1, 1, 41, 0, 21, 14, 1, 1, 1, 1, 1, 1, 1, 41, 1, 1, 1, 1, 14, 1, 1, 0, 1, 24, 1, 1, 1, 1, 1, 1, 1, 1, 1, 1, 15, 1, 1, 1, 1, 35, 1, 0, 1, 21, 1, 1, 1, 1, 2, 1, 1, 1, 1, 1, 1, 1, 1, 1, 1, 0, 14, 1, 1, 1, 1, 1, 1, 2, 1, 1, 1, 1, 1, 1, 1, 1, 1, 1, 1, 0, ...]</td>\n",
              "      <td>[41, 0, 14, 1, 1, 1, 1, 1, 1, 1]</td>\n",
              "      <td>{'answer_start': [111], 'text': ['платиновый статус']}</td>\n",
              "      <td>11412</td>\n",
              "    </tr>\n",
              "    <tr>\n",
              "      <th>4</th>\n",
              "      <td>Любой из этих факторов вызывает состояние болезни, если он неадекватен (то есть чрезвычаен, непривычен) для организма. Неадекватность может быть количественной (количество раздражителя является чрезмерным для организма), качественной (на организм воздействует фактор, по отношению к качеству которого в организме не выработано защитно-приспособительных механизмов), временной (количественно и качественно адекватный раздражитель воздействует длительно или в такие промежутки времени и в таком ритме, которые непривычны для организма) и зависящей от индивидуальных свойств данного организма (то есть определяемой индивидуальной реактивностью данного организма в виде повышенной чувствительности).</td>\n",
              "      <td>агенс,&lt;unk&gt;,&lt;unk&gt;,агенс,&lt;pred&gt;,пациенс,&lt;unk&gt;,&lt;unk&gt;,&lt;unk&gt;,&lt;unk&gt;,содержание мысли,&lt;unk&gt;,&lt;unk&gt;,&lt;unk&gt;,&lt;unk&gt;,&lt;unk&gt;,&lt;unk&gt;,&lt;unk&gt;,&lt;unk&gt;,пациенс социального отношения,&lt;unk&gt;,тема,&lt;pred&gt;,&lt;unk&gt;,содержание действия,&lt;unk&gt;,тема,субъект социального отношения,&lt;pred&gt;,статус,&lt;unk&gt;,&lt;unk&gt;,&lt;unk&gt;,&lt;unk&gt;,субъект социального отношения,&lt;unk&gt;,&lt;unk&gt;,&lt;unk&gt;,&lt;pred&gt;,&lt;unk&gt;,&lt;unk&gt;,&lt;unk&gt;,&lt;unk&gt;,&lt;unk&gt;,сфера,пациенс,&lt;unk&gt;,&lt;unk&gt;,&lt;unk&gt;,&lt;pred&gt;,&lt;unk&gt;,&lt;unk&gt;,&lt;unk&gt;,результат,&lt;unk&gt;,&lt;unk&gt;,&lt;unk&gt;,&lt;unk&gt;,&lt;unk&gt;,&lt;unk&gt;,&lt;unk&gt;,&lt;unk&gt;,&lt;unk&gt;,&lt;pred&gt;,&lt;unk&gt;,&lt;unk&gt;,&lt;unk&gt;,&lt;unk&gt;,результат,&lt;unk&gt;,&lt;unk&gt;,&lt;unk&gt;,&lt;unk&gt;,способ,&lt;unk&gt;,&lt;unk&gt;,&lt;unk&gt;,&lt;unk&gt;,&lt;unk&gt;,&lt;unk&gt;,&lt;unk&gt;,&lt;pred&gt;,&lt;unk&gt;,&lt;unk&gt;,причина,&lt;unk&gt;,&lt;unk&gt;,&lt;unk&gt;,&lt;unk&gt;,&lt;unk&gt;,&lt;unk&gt;,&lt;unk&gt;,&lt;unk&gt;,&lt;unk&gt;,&lt;unk&gt;,&lt;unk&gt;,&lt;unk&gt;,&lt;unk&gt;,&lt;unk&gt;,&lt;unk&gt;,&lt;unk&gt;</td>\n",
              "      <td>В чем у человека вырабатывается иммунитет?</td>\n",
              "      <td>&lt;unk&gt;,&lt;unk&gt;,&lt;unk&gt;,место,&lt;pred&gt;,тема,&lt;unk&gt;</td>\n",
              "      <td>[2, 1, 1, 2, 0, 14, 1, 1, 1, 1, 28, 1, 1, 1, 1, 1, 1, 1, 1, 16, 1, 41, 0, 1, 27, 1, 41, 38, 0, 31, 1, 1, 1, 1, 38, 1, 1, 1, 0, 1, 1, 1, 1, 1, 40, 14, 1, 1, 1, 0, 1, 1, 1, 24, 1, 1, 1, 1, 1, 1, 1, 1, 1, 0, 1, 1, 1, 1, 24, 1, 1, 1, 1, 29, 1, 1, 1, 1, 1, 1, 1, 0, 1, 1, 23, 1, 1, 1, 1, 1, 1, 1, 1, 1, 1, 1, 1, 1, 1, 1, ...]</td>\n",
              "      <td>[1, 1, 1, 12, 0, 41, 1]</td>\n",
              "      <td>{'answer_start': [301], 'text': ['В организме']}</td>\n",
              "      <td>12241</td>\n",
              "    </tr>\n",
              "    <tr>\n",
              "      <th>5</th>\n",
              "      <td>При строительстве малых и средних мостов в качестве опор часто используют множество свай — несущих оболочек. Их погружают в грунт при помощи дизельных молотов и электрических вибропогружателей. При возведении больших мостов используют в основном сборные оболочки свай диаметром до 3 м. В настоящее время наиболее популярным фундаментом на свайном основании является фундамент на буронабивных сваях (БНС), сооружаемых бурением в обсадной инвентарной трубе. Данная конструкция применяется как на суше, так и на акватории.</td>\n",
              "      <td>&lt;unk&gt;,сфера,&lt;unk&gt;,&lt;unk&gt;,&lt;unk&gt;,&lt;unk&gt;,&lt;unk&gt;,&lt;unk&gt;,результат,&lt;unk&gt;,&lt;pred&gt;,пациенс,агенс,&lt;unk&gt;,&lt;unk&gt;,пациенс,&lt;unk&gt;,пациенс перемещения,&lt;pred&gt;,&lt;unk&gt;,конечная точка,&lt;unk&gt;,пациенс,&lt;unk&gt;,&lt;unk&gt;,&lt;unk&gt;,&lt;unk&gt;,&lt;unk&gt;,&lt;unk&gt;,&lt;unk&gt;,результат,&lt;unk&gt;,&lt;unk&gt;,&lt;pred&gt;,&lt;unk&gt;,&lt;unk&gt;,&lt;unk&gt;,&lt;unk&gt;,&lt;unk&gt;,&lt;unk&gt;,&lt;unk&gt;,&lt;unk&gt;,&lt;unk&gt;,&lt;unk&gt;,&lt;unk&gt;,конечная точка,&lt;unk&gt;,&lt;unk&gt;,статус,&lt;unk&gt;,&lt;unk&gt;,агенс,&lt;pred&gt;,&lt;unk&gt;,&lt;unk&gt;,&lt;unk&gt;,&lt;unk&gt;,&lt;unk&gt;,&lt;unk&gt;,&lt;unk&gt;,&lt;unk&gt;,&lt;pred&gt;,содержание действия,&lt;unk&gt;,&lt;unk&gt;,&lt;unk&gt;,конечная точка,&lt;unk&gt;,&lt;unk&gt;,тема,&lt;pred&gt;,&lt;unk&gt;,&lt;unk&gt;,место,&lt;unk&gt;,&lt;unk&gt;,&lt;unk&gt;,&lt;unk&gt;,&lt;unk&gt;,&lt;unk&gt;</td>\n",
              "      <td>В качестве чего выступают сваи</td>\n",
              "      <td>&lt;unk&gt;,&lt;unk&gt;,результат,&lt;pred&gt;,тема</td>\n",
              "      <td>[1, 40, 1, 1, 1, 1, 1, 1, 24, 1, 0, 14, 2, 1, 1, 14, 1, 15, 0, 1, 8, 1, 14, 1, 1, 1, 1, 1, 1, 1, 24, 1, 1, 0, 1, 1, 1, 1, 1, 1, 1, 1, 1, 1, 1, 8, 1, 1, 31, 1, 1, 2, 0, 1, 1, 1, 1, 1, 1, 1, 1, 0, 27, 1, 1, 1, 8, 1, 1, 41, 0, 1, 1, 12, 1, 1, 1, 1, 1, 1]</td>\n",
              "      <td>[1, 1, 24, 0, 41]</td>\n",
              "      <td>{'answer_start': [91], 'text': ['Несущих оболочек']}</td>\n",
              "      <td>1698</td>\n",
              "    </tr>\n",
              "    <tr>\n",
              "      <th>6</th>\n",
              "      <td>В СССР под нацией чаще понимался любой этнос в составе государства, а для полиэтнической общности использовался термин многонациональный народ , к каковым относились, например, советский, индийский, американский, югославский и другие. В англоязычной терминологии (и в большей части нынешней русской терминологии) нация связывается с государством, например, про индийцев пишут полиэтническая нация . Некоторые исследователи полагают, что определение этносов как наций в СССР было связано с политтехнологической необходимостью использовать право наций на самоопределение для борьбы с полиэтническими странами капиталистического мира[9].</td>\n",
              "      <td>&lt;unk&gt;,сфера,&lt;unk&gt;,место,&lt;unk&gt;,&lt;pred&gt;,&lt;unk&gt;,тема,&lt;unk&gt;,&lt;unk&gt;,агенс,&lt;unk&gt;,&lt;unk&gt;,&lt;unk&gt;,&lt;unk&gt;,цель,&lt;pred&gt;,тема,&lt;unk&gt;,&lt;unk&gt;,&lt;unk&gt;,&lt;unk&gt;,содержание действия,&lt;pred&gt;,&lt;unk&gt;,&lt;unk&gt;,&lt;unk&gt;,тема,&lt;unk&gt;,&lt;unk&gt;,&lt;unk&gt;,&lt;unk&gt;,&lt;unk&gt;,&lt;unk&gt;,&lt;unk&gt;,&lt;unk&gt;,&lt;unk&gt;,&lt;unk&gt;,&lt;unk&gt;,сфера,&lt;unk&gt;,&lt;unk&gt;,&lt;unk&gt;,&lt;unk&gt;,&lt;unk&gt;,&lt;unk&gt;,&lt;unk&gt;,&lt;unk&gt;,&lt;unk&gt;,пациенс,&lt;pred&gt;,&lt;unk&gt;,&lt;unk&gt;,&lt;unk&gt;,&lt;unk&gt;,&lt;unk&gt;,&lt;unk&gt;,&lt;unk&gt;,&lt;pred&gt;,&lt;unk&gt;,говорящий,&lt;unk&gt;,&lt;unk&gt;,агенс,&lt;pred&gt;,&lt;unk&gt;,&lt;unk&gt;,&lt;unk&gt;,&lt;unk&gt;,&lt;unk&gt;,&lt;unk&gt;,&lt;unk&gt;,&lt;unk&gt;,&lt;unk&gt;,содержание высказывания,&lt;unk&gt;,&lt;unk&gt;,&lt;unk&gt;,&lt;pred&gt;,тема,&lt;unk&gt;,&lt;unk&gt;,&lt;unk&gt;,&lt;unk&gt;,&lt;unk&gt;,&lt;unk&gt;,&lt;unk&gt;,&lt;unk&gt;,&lt;unk&gt;,&lt;unk&gt;,&lt;unk&gt;,&lt;unk&gt;,&lt;unk&gt;,&lt;unk&gt;</td>\n",
              "      <td>Какое определение этносов в СССР было связано с политтехнологической необходимостью использовать право наций на самоопределение для борьбы с полиэтническими странами капиталистического мира?</td>\n",
              "      <td>&lt;unk&gt;,&lt;unk&gt;,&lt;unk&gt;,&lt;unk&gt;,&lt;unk&gt;,&lt;unk&gt;,&lt;unk&gt;,&lt;unk&gt;,&lt;unk&gt;,&lt;unk&gt;,&lt;pred&gt;,пациенс,&lt;unk&gt;,&lt;unk&gt;,&lt;unk&gt;,&lt;unk&gt;,&lt;unk&gt;,&lt;unk&gt;,&lt;unk&gt;,&lt;unk&gt;,&lt;unk&gt;,&lt;unk&gt;,&lt;unk&gt;</td>\n",
              "      <td>[1, 40, 1, 12, 1, 0, 1, 41, 1, 1, 2, 1, 1, 1, 1, 43, 0, 41, 1, 1, 1, 1, 27, 0, 1, 1, 1, 41, 1, 1, 1, 1, 1, 1, 1, 1, 1, 1, 1, 40, 1, 1, 1, 1, 1, 1, 1, 1, 1, 14, 0, 1, 1, 1, 1, 1, 1, 1, 0, 1, 4, 1, 1, 2, 0, 1, 1, 1, 1, 1, 1, 1, 1, 1, 26, 1, 1, 1, 0, 41, 1, 1, 1, 1, 1, 1, 1, 1, 1, 1, 1, 1, 1, 1]</td>\n",
              "      <td>[1, 1, 1, 1, 1, 1, 1, 1, 1, 1, 0, 14, 1, 1, 1, 1, 1, 1, 1, 1, 1, 1, 1]</td>\n",
              "      <td>{'answer_start': [457], 'text': ['как наций']}</td>\n",
              "      <td>5948</td>\n",
              "    </tr>\n",
              "    <tr>\n",
              "      <th>7</th>\n",
              "      <td>Став частью Римского государства, город сразу ощутил на себе влияние метрополии. Значительно выросли налоги, в результате чего участились случаи грабежей, кроме того, в первое время спокойствие горожан нарушали частые войны[12]. В 88 г. до н. э. город присоединился к антиримскому восстанию городов Малой Азии, которое возглавил царь Понта Митридат. В результате восстания были убиты около 80 тысяч римских граждан, многие из которых жили в Эфесе. Однако, увидев, как Зенобий, полководец Митридата, обошёлся с жителями Хиоса, эфесцы отказались вступать в его армию. Зенобий был убит, за что Эфес был жестоко наказан Митридатом. Тем не менее, город получил самоуправление, но ненадолго. Уже в 86 г. до н. э. Митридат был разбит Луцием Корнелием Суллой. На этом закончилась первая Митридатова война, и Эфес вернулся под власть Рима. Вместе с другими малоазийскими городами Эфес должен был выплатить огромную контрибуцию, наложенную Суллой, что надолго осложнило финансовое положение города[15].</td>\n",
              "      <td>&lt;pred&gt;,статус,&lt;unk&gt;,&lt;unk&gt;,&lt;unk&gt;,агенс,&lt;unk&gt;,&lt;pred&gt;,&lt;unk&gt;,место,содержание мысли,&lt;unk&gt;,&lt;unk&gt;,&lt;unk&gt;,&lt;pred&gt;,пациенс,&lt;unk&gt;,&lt;unk&gt;,&lt;unk&gt;,агенс,&lt;pred&gt;,тема,&lt;unk&gt;,&lt;unk&gt;,&lt;unk&gt;,результат,&lt;unk&gt;,&lt;unk&gt;,&lt;unk&gt;,эталон,цель,&lt;unk&gt;,&lt;pred&gt;,&lt;unk&gt;,траектория,&lt;unk&gt;,&lt;unk&gt;,&lt;unk&gt;,&lt;unk&gt;,&lt;unk&gt;,&lt;unk&gt;,&lt;unk&gt;,&lt;unk&gt;,&lt;unk&gt;,&lt;unk&gt;,&lt;unk&gt;,&lt;unk&gt;,субъект ментального состояния,&lt;pred&gt;,&lt;unk&gt;,&lt;unk&gt;,конечная точка,тема,&lt;unk&gt;,&lt;unk&gt;,&lt;unk&gt;,пациенс,&lt;pred&gt;,&lt;unk&gt;,&lt;unk&gt;,агенс,&lt;unk&gt;,&lt;unk&gt;,&lt;unk&gt;,агенс,&lt;unk&gt;,&lt;pred&gt;,&lt;unk&gt;,&lt;unk&gt;,&lt;unk&gt;,&lt;unk&gt;,пациенс,&lt;unk&gt;,тема,&lt;unk&gt;,&lt;unk&gt;,&lt;pred&gt;,&lt;unk&gt;,место,&lt;unk&gt;,&lt;unk&gt;,&lt;unk&gt;,&lt;unk&gt;,&lt;unk&gt;,&lt;unk&gt;,агенс,&lt;unk&gt;,&lt;unk&gt;,тема,&lt;unk&gt;,&lt;pred&gt;,&lt;unk&gt;,контрагент,&lt;unk&gt;,&lt;unk&gt;,агенс,&lt;pred&gt;,&lt;pred&gt;,&lt;unk&gt;,&lt;unk&gt;,пациенс,&lt;unk&gt;,&lt;unk&gt;,&lt;unk&gt;,&lt;pred&gt;,&lt;unk&gt;,&lt;unk&gt;,&lt;unk&gt;,пациенс,&lt;unk&gt;,&lt;unk&gt;,&lt;pred&gt;,способ,&lt;unk&gt;,&lt;unk&gt;,&lt;unk&gt;,&lt;unk&gt;,&lt;unk&gt;,агенс,&lt;pred&gt;,тема,&lt;unk&gt;,&lt;unk&gt;,&lt;unk&gt;,&lt;unk&gt;,&lt;unk&gt;,&lt;unk&gt;,&lt;unk&gt;,&lt;unk&gt;,&lt;unk&gt;,&lt;unk&gt;,&lt;unk&gt;,&lt;unk&gt;,&lt;unk&gt;,пациенс,&lt;unk&gt;,&lt;pred&gt;,способ,&lt;unk&gt;,статус,&lt;unk&gt;,&lt;unk&gt;,агенс,&lt;pred&gt;,&lt;unk&gt;,&lt;unk&gt;,тема,&lt;unk&gt;,&lt;unk&gt;,тема,&lt;pred&gt;,&lt;unk&gt;,конечная точка,&lt;unk&gt;,&lt;unk&gt;,&lt;unk&gt;,&lt;unk&gt;,&lt;unk&gt;,&lt;unk&gt;,&lt;unk&gt;,агенс,&lt;unk&gt;,&lt;unk&gt;,&lt;pred&gt;,&lt;unk&gt;,тема,&lt;unk&gt;,&lt;pred&gt;,&lt;unk&gt;,&lt;unk&gt;,&lt;unk&gt;,&lt;unk&gt;,&lt;pred&gt;,&lt;unk&gt;,тема,&lt;unk&gt;,&lt;unk&gt;,&lt;unk&gt;,&lt;unk&gt;,&lt;unk&gt;</td>\n",
              "      <td>В каком году Эфес присоединился к антиримскому восстанию?</td>\n",
              "      <td>&lt;unk&gt;,&lt;unk&gt;,сфера,пациенс,&lt;pred&gt;,&lt;unk&gt;,&lt;unk&gt;,конечная точка,&lt;unk&gt;</td>\n",
              "      <td>[0, 31, 1, 1, 1, 2, 1, 0, 1, 12, 28, 1, 1, 1, 0, 14, 1, 1, 1, 2, 0, 41, 1, 1, 1, 24, 1, 1, 1, 44, 43, 1, 0, 1, 42, 1, 1, 1, 1, 1, 1, 1, 1, 1, 1, 1, 1, 34, 0, 1, 1, 8, 41, 1, 1, 1, 14, 0, 1, 1, 2, 1, 1, 1, 2, 1, 0, 1, 1, 1, 1, 14, 1, 41, 1, 1, 0, 1, 12, 1, 1, 1, 1, 1, 1, 2, 1, 1, 41, 1, 0, 1, 10, 1, 1, 2, 0, 0, 1, 1, ...]</td>\n",
              "      <td>[1, 1, 40, 14, 0, 1, 1, 8, 1]</td>\n",
              "      <td>{'answer_start': [229], 'text': ['В 88 г. до н. э.']}</td>\n",
              "      <td>3441</td>\n",
              "    </tr>\n",
              "    <tr>\n",
              "      <th>8</th>\n",
              "      <td>В сентябре 1992 года четвёртый раздел доклада, озаглавленный как Концептуальные основы внутреннего контроля был опубликован COSO и позднее переиздан с небольшими поправками в 1994 году. В настоящем докладе представлено общее определение внутреннего контроля, а также предусмотрена его модель, с которой системы внутреннего контроля могут сравниваться и совершенствоваться. Этот отчет стал одним из стандартов, который американские компании используют для оценки их соответствия FCPA. Согласно опросу журнала Финансовый директор проведенному в 2006 году, 82 % респондентов утверждали, что они использовали модель внутреннего контроля предложенную COSO. Были названы и другие концепции, используемые респондентами, в частности COBIT, AS2 (Стандарт аудита № 2, PCAOB) и SAS 55/78 (AICPA).</td>\n",
              "      <td>&lt;unk&gt;,сфера,&lt;unk&gt;,сфера,&lt;unk&gt;,результат,место,&lt;unk&gt;,&lt;pred&gt;,&lt;unk&gt;,&lt;unk&gt;,предмет высказывания,&lt;unk&gt;,&lt;unk&gt;,&lt;unk&gt;,&lt;pred&gt;,&lt;unk&gt;,&lt;unk&gt;,&lt;unk&gt;,&lt;pred&gt;,&lt;unk&gt;,&lt;unk&gt;,пациенс,&lt;unk&gt;,&lt;unk&gt;,агенс,&lt;unk&gt;,&lt;unk&gt;,&lt;unk&gt;,&lt;unk&gt;,&lt;pred&gt;,&lt;unk&gt;,результат,&lt;unk&gt;,&lt;unk&gt;,&lt;unk&gt;,&lt;unk&gt;,&lt;unk&gt;,&lt;pred&gt;,&lt;unk&gt;,тема,&lt;unk&gt;,&lt;unk&gt;,ситуация в фокусе,тема,&lt;unk&gt;,&lt;unk&gt;,&lt;pred&gt;,&lt;pred&gt;,&lt;unk&gt;,&lt;unk&gt;,&lt;unk&gt;,&lt;unk&gt;,агенс,&lt;pred&gt;,признак,&lt;unk&gt;,&lt;unk&gt;,&lt;unk&gt;,агенс,&lt;unk&gt;,тема,&lt;pred&gt;,&lt;unk&gt;,цель,&lt;unk&gt;,&lt;unk&gt;,&lt;unk&gt;,&lt;unk&gt;,&lt;unk&gt;,эталон,&lt;unk&gt;,&lt;unk&gt;,агенс,&lt;pred&gt;,&lt;unk&gt;,&lt;unk&gt;,&lt;unk&gt;,&lt;unk&gt;,&lt;unk&gt;,&lt;unk&gt;,статус,&lt;pred&gt;,&lt;unk&gt;,&lt;unk&gt;,тема,&lt;pred&gt;,пациенс,&lt;unk&gt;,&lt;unk&gt;,&lt;unk&gt;,&lt;unk&gt;,&lt;unk&gt;,&lt;unk&gt;,&lt;pred&gt;,&lt;unk&gt;,&lt;unk&gt;,содержание высказывания,&lt;unk&gt;,&lt;pred&gt;,&lt;unk&gt;,&lt;unk&gt;,&lt;unk&gt;,&lt;unk&gt;,&lt;unk&gt;,&lt;unk&gt;,&lt;unk&gt;,&lt;unk&gt;,&lt;unk&gt;,&lt;unk&gt;,&lt;unk&gt;,&lt;unk&gt;,&lt;unk&gt;,&lt;unk&gt;,&lt;unk&gt;,&lt;unk&gt;,&lt;unk&gt;,&lt;unk&gt;,&lt;unk&gt;,&lt;unk&gt;,&lt;unk&gt;,&lt;unk&gt;,&lt;unk&gt;,&lt;unk&gt;</td>\n",
              "      <td>кем был опубликован четвёртый раздел доклада, озаглавленный как Концептуальные основы внутреннего контроля ?</td>\n",
              "      <td>агенс,&lt;unk&gt;,&lt;pred&gt;,&lt;unk&gt;,тема,&lt;unk&gt;,&lt;unk&gt;,&lt;pred&gt;,&lt;unk&gt;,&lt;unk&gt;,содержание высказывания,&lt;unk&gt;,&lt;unk&gt;,&lt;unk&gt;</td>\n",
              "      <td>[1, 40, 1, 40, 1, 24, 12, 1, 0, 1, 1, 19, 1, 1, 1, 0, 1, 1, 1, 0, 1, 1, 14, 1, 1, 2, 1, 1, 1, 1, 0, 1, 24, 1, 1, 1, 1, 1, 0, 1, 41, 1, 1, 25, 41, 1, 1, 0, 0, 1, 1, 1, 1, 2, 0, 21, 1, 1, 1, 2, 1, 41, 0, 1, 43, 1, 1, 1, 1, 1, 44, 1, 1, 2, 0, 1, 1, 1, 1, 1, 1, 31, 0, 1, 1, 41, 0, 14, 1, 1, 1, 1, 1, 1, 0, 1, 1, 26, 1, 0, ...]</td>\n",
              "      <td>[2, 1, 0, 1, 41, 1, 1, 0, 1, 1, 26, 1, 1, 1]</td>\n",
              "      <td>{'answer_start': [124], 'text': ['COSO']}</td>\n",
              "      <td>7818</td>\n",
              "    </tr>\n",
              "    <tr>\n",
              "      <th>9</th>\n",
              "      <td>Под содержанием сделки понимается совокупность всех составляющих сделки условий, порождающая определенный правовой результат. Законность содержания означает соответствие условий сделки требованиям законодательства. По своему содержанию сделки могут отличаться от установленных законом диспозитивных норм (признаются сделками по аналогии закона) либо вообще не быть ими предусмотрены (признаются сделками по аналогии права), но в любом случае они не должны противоречить основам правопорядка и нравственности и в целом — общим началам и смыслу гражданского законодательства, требованиям добросовестности, разумности и справедливости.</td>\n",
              "      <td>&lt;unk&gt;,способ,пациенс,&lt;pred&gt;,тема,&lt;unk&gt;,&lt;pred&gt;,тема,&lt;unk&gt;,&lt;unk&gt;,&lt;pred&gt;,&lt;unk&gt;,&lt;unk&gt;,пациенс,&lt;unk&gt;,тема,ситуация в фокусе,&lt;pred&gt;,пациенс,&lt;unk&gt;,тема,&lt;unk&gt;,&lt;unk&gt;,&lt;unk&gt;,&lt;unk&gt;,&lt;unk&gt;,&lt;unk&gt;,способ,&lt;pred&gt;,&lt;pred&gt;,&lt;unk&gt;,&lt;pred&gt;,статус,&lt;unk&gt;,эталон,&lt;unk&gt;,&lt;pred&gt;,способ,&lt;unk&gt;,&lt;unk&gt;,&lt;unk&gt;,&lt;unk&gt;,&lt;unk&gt;,&lt;unk&gt;,&lt;unk&gt;,&lt;unk&gt;,пациенс,&lt;pred&gt;,&lt;unk&gt;,&lt;pred&gt;,&lt;unk&gt;,&lt;unk&gt;,&lt;unk&gt;,&lt;unk&gt;,&lt;unk&gt;,&lt;unk&gt;,&lt;unk&gt;,&lt;unk&gt;,&lt;unk&gt;,&lt;unk&gt;,&lt;unk&gt;,&lt;unk&gt;,субъект ментального состояния,&lt;pred&gt;,признак,&lt;unk&gt;,&lt;unk&gt;,&lt;unk&gt;,&lt;unk&gt;,&lt;unk&gt;,&lt;unk&gt;,&lt;unk&gt;,&lt;unk&gt;,&lt;unk&gt;,&lt;unk&gt;,&lt;unk&gt;,&lt;unk&gt;,&lt;unk&gt;,&lt;unk&gt;,&lt;unk&gt;,&lt;unk&gt;,&lt;unk&gt;,&lt;unk&gt;,&lt;unk&gt;,&lt;unk&gt;,&lt;unk&gt;</td>\n",
              "      <td>По какому критерию сделки могут отличаться от установленных законом диспозитивных норм?</td>\n",
              "      <td>&lt;unk&gt;,&lt;unk&gt;,тема,&lt;unk&gt;,&lt;pred&gt;,&lt;pred&gt;,&lt;unk&gt;,&lt;pred&gt;,способ,&lt;unk&gt;,эталон,&lt;unk&gt;</td>\n",
              "      <td>[1, 29, 14, 0, 41, 1, 0, 41, 1, 1, 0, 1, 1, 14, 1, 41, 25, 0, 14, 1, 41, 1, 1, 1, 1, 1, 1, 29, 0, 0, 1, 0, 31, 1, 44, 1, 0, 29, 1, 1, 1, 1, 1, 1, 1, 1, 14, 0, 1, 0, 1, 1, 1, 1, 1, 1, 1, 1, 1, 1, 1, 1, 34, 0, 21, 1, 1, 1, 1, 1, 1, 1, 1, 1, 1, 1, 1, 1, 1, 1, 1, 1, 1, 1, 1, 1]</td>\n",
              "      <td>[1, 1, 41, 1, 0, 0, 1, 0, 29, 1, 44, 1]</td>\n",
              "      <td>{'answer_start': [215], 'text': ['По своему содержанию']}</td>\n",
              "      <td>30148</td>\n",
              "    </tr>\n",
              "  </tbody>\n",
              "</table>"
            ]
          },
          "metadata": {}
        }
      ],
      "source": [
        "show_random_elements(data_train)"
      ]
    },
    {
      "cell_type": "markdown",
      "metadata": {
        "id": "KexMdLakZMGh"
      },
      "source": [
        "## Предобработка тренировочных данных"
      ]
    },
    {
      "cell_type": "markdown",
      "metadata": {
        "id": "kt8bkQQPZc3h"
      },
      "source": [
        "Для токеницизации данных мы будем использовать модели sbert_large_nlu_ru и deep_pavlov"
      ]
    },
    {
      "cell_type": "code",
      "execution_count": null,
      "metadata": {
        "colab": {
          "base_uri": "https://localhost:8080/",
          "height": 145,
          "referenced_widgets": [
            "e61752f868294b8f831b888fe4f5c7a4",
            "e964a87cda2f47a8af2e1b238684efa7",
            "15cf6dbf81b74dc49875e504900a5663",
            "3f793807f98e4f5cbeff5b1e439b1430",
            "8ec7668b2e60415986d79d750e6d77fc",
            "5ef5a44220f541358d5058364edd3c09",
            "7757da409a1c4159a0d4ab195ef95c83",
            "f4087de5de6d4f89b4ca01ae5288f208",
            "5a687239352642cfb0824e15ca9e3084",
            "8a768006f367430a961edf48c58e2784",
            "c353fa8d517d47e296ccd9a39ed6f9ca",
            "944e8e91653843aeb4bc3d371b8fde53",
            "6fb7d5afeb5547f1bc94486343860bfe",
            "fa88b9909a0a41c4b2cdc39294d3b06c",
            "32c8600e5e0d408a86810c27953e6315",
            "9f826e155aee45b08499949bef8524a4",
            "14084c2c9c9f4f27afbda4deaa8de54d",
            "7e0f4f9f07da40708b6c667efb05636c",
            "14bf74b07cef4d3fa72732294d8efc17",
            "6674c8ca57504f63aed01c85a0c7be74",
            "5dbe3361b6474e50965aff60d4d35124",
            "93a7aab373564975b98433d983645c50",
            "02bae33dc03741d99ae4c09dde02e609",
            "395f00554f4b4ab09db326d48a157f83",
            "d357e54d60c148f4bf2f64b0de2353ea",
            "97ba997e76484d08a4d34921d4650f4b",
            "f61110c7f1f64da0aa35065575aa4b20",
            "90aeb4678ef54bd998edae264bec3f6c",
            "82d1a6909d8b4f849a7fcc569adb5333",
            "82339f30506f470cb8b666fd299b318f",
            "7c1c5e674af34464a20e329d2e8dc11d",
            "7e9466449ae44529b099086f7cabe274",
            "3ec497a76e4b4498a2be7f4db11a822d",
            "4b17383ee0fe46b6aafe58f178794129",
            "3a2091ab73a44e029f4b868bfae336a7",
            "ec0e03434eeb469eab92f96ae2e50e62",
            "68a36abf3f7d48949443216e692e0108",
            "ec08a4d422a143d3b208a92a72b85787",
            "b1a31717c97648f7a3e3b0647f7f57eb",
            "276515c6fbf24e38a788ef2b69804ca9",
            "dd826d4957ae42068c37488025907bdc",
            "e84420dc821e482a84523f741888fa11",
            "42c82205d1534cde9489391e66c5db3f",
            "db0241ee8cde4b828bec06d06ea1b824"
          ]
        },
        "id": "D30AnS4jZDnh",
        "outputId": "5876acb7-041b-4fff-9120-ade84905900e"
      },
      "outputs": [
        {
          "output_type": "display_data",
          "data": {
            "text/plain": [
              "Downloading:   0%|          | 0.00/24.0 [00:00<?, ?B/s]"
            ],
            "application/vnd.jupyter.widget-view+json": {
              "version_major": 2,
              "version_minor": 0,
              "model_id": "e61752f868294b8f831b888fe4f5c7a4"
            }
          },
          "metadata": {}
        },
        {
          "output_type": "display_data",
          "data": {
            "text/plain": [
              "Downloading:   0%|          | 0.00/642 [00:00<?, ?B/s]"
            ],
            "application/vnd.jupyter.widget-view+json": {
              "version_major": 2,
              "version_minor": 0,
              "model_id": "944e8e91653843aeb4bc3d371b8fde53"
            }
          },
          "metadata": {}
        },
        {
          "output_type": "display_data",
          "data": {
            "text/plain": [
              "Downloading:   0%|          | 0.00/1.57M [00:00<?, ?B/s]"
            ],
            "application/vnd.jupyter.widget-view+json": {
              "version_major": 2,
              "version_minor": 0,
              "model_id": "02bae33dc03741d99ae4c09dde02e609"
            }
          },
          "metadata": {}
        },
        {
          "output_type": "display_data",
          "data": {
            "text/plain": [
              "Downloading:   0%|          | 0.00/112 [00:00<?, ?B/s]"
            ],
            "application/vnd.jupyter.widget-view+json": {
              "version_major": 2,
              "version_minor": 0,
              "model_id": "4b17383ee0fe46b6aafe58f178794129"
            }
          },
          "metadata": {}
        }
      ],
      "source": [
        "from transformers import AutoTokenizer\n",
        "\n",
        "sber = \"sberbank-ai/sbert_large_nlu_ru\"\n",
        "deep_pavlov=\"DeepPavlov/rubert-base-cased\"\n",
        "tokenizer = AutoTokenizer.from_pretrained(deep_pavlov)\n",
        "# tokenizer = AutoTokenizer.from_pretrained(sber)"
      ]
    },
    {
      "cell_type": "markdown",
      "metadata": {
        "id": "Cmkc-dgeZ860"
      },
      "source": [
        "Првоерим токеницизацию"
      ]
    },
    {
      "cell_type": "code",
      "execution_count": null,
      "metadata": {
        "id": "FPNr3xfEZ2rH"
      },
      "outputs": [],
      "source": [
        "test = tokenizer(\"Как меня зовут?\", \"Меня зовут - Вашингтон.\")"
      ]
    },
    {
      "cell_type": "code",
      "execution_count": null,
      "metadata": {
        "colab": {
          "base_uri": "https://localhost:8080/"
        },
        "id": "C3IjvWJy1w7i",
        "outputId": "1b5c246d-c871-418c-f239-49fa6b94ac2e"
      },
      "outputs": [
        {
          "output_type": "stream",
          "name": "stdout",
          "text": [
            "['[CLS]', 'Как', 'меня', 'зовут', '?', '[SEP]', 'Меня', 'зовут', '-', 'Вашингтон', '.', '[SEP]']\n"
          ]
        }
      ],
      "source": [
        "test_tokens = tokenizer.convert_ids_to_tokens(test[\"input_ids\"])\n",
        "print(test_tokens)"
      ]
    },
    {
      "cell_type": "code",
      "execution_count": null,
      "metadata": {
        "colab": {
          "base_uri": "https://localhost:8080/"
        },
        "id": "DUBqcbYzC5Xx",
        "outputId": "24f45ba6-a1a5-40a7-8202-8e9292651f53"
      },
      "outputs": [
        {
          "output_type": "execute_result",
          "data": {
            "text/plain": [
              "[101, 10944, 40861, 86762, 845, 18469, 59720, 6625, 166, 102]"
            ]
          },
          "metadata": {},
          "execution_count": 35
        }
      ],
      "source": [
        "test_1 = tokenizer(\"Чем заболел Байрон в Миссолонге?\")\n",
        "test_1['input_ids']"
      ]
    },
    {
      "cell_type": "code",
      "execution_count": null,
      "metadata": {
        "id": "LM1Iwaa1FRWT",
        "colab": {
          "base_uri": "https://localhost:8080/"
        },
        "outputId": "40408fc9-c709-4dba-f434-6e306f87f7e4"
      },
      "outputs": [
        {
          "output_type": "execute_result",
          "data": {
            "text/plain": [
              "[0, 1, 2, 13, 1, 25, 0]"
            ]
          },
          "metadata": {},
          "execution_count": 36
        }
      ],
      "source": [
        "[0, 1, 2, 13, 1, 25, 0]"
      ]
    },
    {
      "cell_type": "code",
      "execution_count": null,
      "metadata": {
        "colab": {
          "base_uri": "https://localhost:8080/"
        },
        "id": "i0M1RlfsDLQG",
        "outputId": "8f007219-d183-435c-9340-650baf65a0fa"
      },
      "outputs": [
        {
          "output_type": "stream",
          "name": "stdout",
          "text": [
            "['[CLS]', 'Чем', 'заболел', 'Байрон', 'в', 'Мисс', '##олон', '##ге', '?', '[SEP]']\n"
          ]
        }
      ],
      "source": [
        "test_tokens = tokenizer.convert_ids_to_tokens(test_1[\"input_ids\"])\n",
        "print(test_tokens)"
      ]
    },
    {
      "cell_type": "code",
      "execution_count": null,
      "metadata": {
        "colab": {
          "base_uri": "https://localhost:8080/"
        },
        "id": "SF-0Kd9k1t-H",
        "outputId": "beb8c468-92ee-4b75-cb90-2025e376bdc7"
      },
      "outputs": [
        {
          "output_type": "execute_result",
          "data": {
            "text/plain": [
              "[None, 0, 1, 2, 3, 4, 4, 4, 5, None]"
            ]
          },
          "metadata": {},
          "execution_count": 38
        }
      ],
      "source": [
        "test_1.word_ids()"
      ]
    },
    {
      "cell_type": "code",
      "execution_count": null,
      "metadata": {
        "colab": {
          "base_uri": "https://localhost:8080/"
        },
        "id": "v_eDnAiSHR-n",
        "outputId": "ea6055dd-327c-47d0-e38e-bba3faa0dff5"
      },
      "outputs": [
        {
          "output_type": "execute_result",
          "data": {
            "text/plain": [
              "{'input_ids': [101, 10944, 40861, 86762, 845, 18469, 59720, 6625, 166, 102], 'token_type_ids': [0, 0, 0, 0, 0, 0, 0, 0, 0, 0], 'attention_mask': [1, 1, 1, 1, 1, 1, 1, 1, 1, 1]}"
            ]
          },
          "metadata": {},
          "execution_count": 39
        }
      ],
      "source": [
        "test_1"
      ]
    },
    {
      "cell_type": "code",
      "execution_count": null,
      "metadata": {
        "id": "-l-l2UYXZ-iL"
      },
      "outputs": [],
      "source": [
        "max_length = 512\n",
        "doc_stride = 128"
      ]
    },
    {
      "cell_type": "code",
      "execution_count": null,
      "metadata": {
        "id": "lG8dzNerwqo6"
      },
      "outputs": [],
      "source": [
        "example = data_train[16]"
      ]
    },
    {
      "cell_type": "code",
      "execution_count": null,
      "metadata": {
        "id": "JlNb7sgkbZUK"
      },
      "outputs": [],
      "source": [
        "tokenized_example = tokenizer(\n",
        "    example[\"question\"],\n",
        "    example[\"context\"],\n",
        "    max_length=max_length,\n",
        "    truncation=\"only_second\",\n",
        "    return_overflowing_tokens=True,\n",
        ")"
      ]
    },
    {
      "cell_type": "code",
      "execution_count": null,
      "metadata": {
        "colab": {
          "base_uri": "https://localhost:8080/"
        },
        "id": "yCyl5eClpp_O",
        "outputId": "5c2e98cf-2a06-40d8-ec4a-fcce81dab5f8"
      },
      "outputs": [
        {
          "output_type": "execute_result",
          "data": {
            "text/plain": [
              "{'input_ids': [[101, 5405, 34106, 86762, 70401, 13141, 166, 102, 31392, 2882, 128, 845, 5785, 9551, 86762, 851, 1641, 5785, 1699, 23480, 1506, 2752, 11384, 39081, 128, 25605, 20562, 2752, 29605, 18948, 132, 10795, 2886, 9551, 120, 1469, 44123, 130, 65683, 845, 15262, 128, 6350, 5746, 22565, 1768, 122, 128, 2752, 12802, 4745, 20335, 89075, 16144, 128, 625, 14673, 106735, 1703, 9439, 869, 53445, 19200, 132, 43085, 86762, 58461, 845, 99042, 842, 128, 851, 4546, 22742, 1519, 15511, 71289, 1436, 128, 2739, 4912, 70401, 13141, 128, 2067, 32198, 1469, 1574, 845, 44359, 12245, 128, 6575, 22059, 845, 54532, 30383, 132, 805, 24986, 7460, 5117, 94713, 49607, 6379, 45946, 132, 102007, 24564, 128, 118314, 858, 9063, 7526, 45761, 94713, 128, 54441, 128, 1997, 67877, 1519, 7021, 18716, 869, 9680, 128, 1997, 45487, 128, 3435, 2752, 14673, 12929, 36926, 1703, 6678, 1641, 2752, 60221, 21500, 2900, 851, 15537, 2599, 845, 26763, 1997, 43950, 132, 2988, 50760, 7473, 2886, 21310, 35920, 52915, 6887, 128, 3435, 26893, 128, 2739, 2886, 3248, 19248, 128, 875, 7268, 115229, 18575, 128, 10763, 2886, 17200, 3420, 6874, 896, 6678, 132, 781, 20878, 2886, 15375, 23108, 128, 851, 24035, 24564, 128, 13200, 16959, 6164, 60300, 5640, 851, 90780, 128, 29113, 6164, 8980, 68126, 128, 3622, 16113, 5967, 24835, 132, 10795, 72436, 33270, 3955, 3422, 128, 8959, 2752, 52535, 24638, 128, 851, 69805, 1516, 62610, 22242, 11384, 39081, 851, 76087, 38737, 86762, 1388, 901, 110227, 19652, 4064, 60126, 132, 53164, 51155, 86762, 2306, 13526, 78522, 845, 6297, 17445, 5135, 24035, 80912, 128, 1997, 128, 99105, 2558, 1521, 612, 4546, 106132, 128, 73255, 845, 71503, 5424, 80778, 1770, 132, 781, 20814, 2077, 2886, 12834, 845, 12245, 18326, 36022, 852, 128, 4206, 43394, 5296, 1768, 851, 10235, 3299, 12985, 1506, 6297, 9725, 3065, 33376, 128, 3468, 8133, 12923, 17836, 3369, 128, 5247, 104773, 78677, 132, 781, 8824, 5296, 1768, 2886, 15375, 7805, 15662, 128, 40411, 111416, 13590, 68152, 37513, 18326, 132, 14278, 73967, 845, 12245, 845, 81450, 27270, 86762, 12465, 78522, 901, 845, 22720, 17445, 5135, 128, 21056, 7357, 44310, 132, 102]], 'token_type_ids': [[0, 0, 0, 0, 0, 0, 0, 0, 1, 1, 1, 1, 1, 1, 1, 1, 1, 1, 1, 1, 1, 1, 1, 1, 1, 1, 1, 1, 1, 1, 1, 1, 1, 1, 1, 1, 1, 1, 1, 1, 1, 1, 1, 1, 1, 1, 1, 1, 1, 1, 1, 1, 1, 1, 1, 1, 1, 1, 1, 1, 1, 1, 1, 1, 1, 1, 1, 1, 1, 1, 1, 1, 1, 1, 1, 1, 1, 1, 1, 1, 1, 1, 1, 1, 1, 1, 1, 1, 1, 1, 1, 1, 1, 1, 1, 1, 1, 1, 1, 1, 1, 1, 1, 1, 1, 1, 1, 1, 1, 1, 1, 1, 1, 1, 1, 1, 1, 1, 1, 1, 1, 1, 1, 1, 1, 1, 1, 1, 1, 1, 1, 1, 1, 1, 1, 1, 1, 1, 1, 1, 1, 1, 1, 1, 1, 1, 1, 1, 1, 1, 1, 1, 1, 1, 1, 1, 1, 1, 1, 1, 1, 1, 1, 1, 1, 1, 1, 1, 1, 1, 1, 1, 1, 1, 1, 1, 1, 1, 1, 1, 1, 1, 1, 1, 1, 1, 1, 1, 1, 1, 1, 1, 1, 1, 1, 1, 1, 1, 1, 1, 1, 1, 1, 1, 1, 1, 1, 1, 1, 1, 1, 1, 1, 1, 1, 1, 1, 1, 1, 1, 1, 1, 1, 1, 1, 1, 1, 1, 1, 1, 1, 1, 1, 1, 1, 1, 1, 1, 1, 1, 1, 1, 1, 1, 1, 1, 1, 1, 1, 1, 1, 1, 1, 1, 1, 1, 1, 1, 1, 1, 1, 1, 1, 1, 1, 1, 1, 1, 1, 1, 1, 1, 1, 1, 1, 1, 1, 1, 1, 1, 1, 1, 1, 1, 1, 1, 1, 1, 1, 1, 1, 1, 1, 1, 1, 1, 1, 1, 1, 1, 1, 1, 1, 1, 1, 1, 1, 1, 1, 1, 1, 1, 1, 1, 1, 1, 1, 1, 1, 1, 1, 1, 1, 1, 1, 1, 1, 1, 1, 1, 1, 1, 1, 1, 1, 1, 1, 1]], 'attention_mask': [[1, 1, 1, 1, 1, 1, 1, 1, 1, 1, 1, 1, 1, 1, 1, 1, 1, 1, 1, 1, 1, 1, 1, 1, 1, 1, 1, 1, 1, 1, 1, 1, 1, 1, 1, 1, 1, 1, 1, 1, 1, 1, 1, 1, 1, 1, 1, 1, 1, 1, 1, 1, 1, 1, 1, 1, 1, 1, 1, 1, 1, 1, 1, 1, 1, 1, 1, 1, 1, 1, 1, 1, 1, 1, 1, 1, 1, 1, 1, 1, 1, 1, 1, 1, 1, 1, 1, 1, 1, 1, 1, 1, 1, 1, 1, 1, 1, 1, 1, 1, 1, 1, 1, 1, 1, 1, 1, 1, 1, 1, 1, 1, 1, 1, 1, 1, 1, 1, 1, 1, 1, 1, 1, 1, 1, 1, 1, 1, 1, 1, 1, 1, 1, 1, 1, 1, 1, 1, 1, 1, 1, 1, 1, 1, 1, 1, 1, 1, 1, 1, 1, 1, 1, 1, 1, 1, 1, 1, 1, 1, 1, 1, 1, 1, 1, 1, 1, 1, 1, 1, 1, 1, 1, 1, 1, 1, 1, 1, 1, 1, 1, 1, 1, 1, 1, 1, 1, 1, 1, 1, 1, 1, 1, 1, 1, 1, 1, 1, 1, 1, 1, 1, 1, 1, 1, 1, 1, 1, 1, 1, 1, 1, 1, 1, 1, 1, 1, 1, 1, 1, 1, 1, 1, 1, 1, 1, 1, 1, 1, 1, 1, 1, 1, 1, 1, 1, 1, 1, 1, 1, 1, 1, 1, 1, 1, 1, 1, 1, 1, 1, 1, 1, 1, 1, 1, 1, 1, 1, 1, 1, 1, 1, 1, 1, 1, 1, 1, 1, 1, 1, 1, 1, 1, 1, 1, 1, 1, 1, 1, 1, 1, 1, 1, 1, 1, 1, 1, 1, 1, 1, 1, 1, 1, 1, 1, 1, 1, 1, 1, 1, 1, 1, 1, 1, 1, 1, 1, 1, 1, 1, 1, 1, 1, 1, 1, 1, 1, 1, 1, 1, 1, 1, 1, 1, 1, 1, 1, 1, 1, 1, 1, 1, 1, 1, 1, 1, 1, 1]], 'overflow_to_sample_mapping': [0]}"
            ]
          },
          "metadata": {},
          "execution_count": 45
        }
      ],
      "source": [
        "tokenized_example"
      ]
    },
    {
      "cell_type": "code",
      "execution_count": null,
      "metadata": {
        "colab": {
          "base_uri": "https://localhost:8080/"
        },
        "id": "aWquS-WJbc7s",
        "outputId": "8f4003d8-3d9e-4e8c-d508-30fb16f422f5"
      },
      "outputs": [
        {
          "output_type": "execute_result",
          "data": {
            "text/plain": [
              "[338]"
            ]
          },
          "metadata": {},
          "execution_count": 46
        }
      ],
      "source": [
        "[len(x) for x in tokenized_example[\"input_ids\"]]"
      ]
    },
    {
      "cell_type": "code",
      "execution_count": null,
      "metadata": {
        "colab": {
          "base_uri": "https://localhost:8080/"
        },
        "id": "GvRXowLibeDD",
        "outputId": "986859ed-b88c-471f-8291-e154bd9bd10a"
      },
      "outputs": [
        {
          "output_type": "stream",
          "name": "stdout",
          "text": [
            "[CLS] Как леди Байрон называла сына? [SEP] Бедность, в которой родился Байрон и от которой не избавил его титул лорда, дала направление его будущей карьере. Когда он родился ( на Холл - Стрит в Лондоне, 22 января 1788 года ), его отец уже потерял семейное состояние, а мать возвратилась из Европы с остатками состояния. Леди Байрон поселилась в Абердине, и её хромой мальчуган, как она называла сына, был отдан на год в частную школу, затем переведён в классическую гимназию. О детских выходках Байрона рассказывают много историй. Сестры Грей, нянчившие маленького Байрона, находили, что лаской можно делать с ним, что угодно, но его мать всегда выходила из себя от его непослушания и бросала в мальчика что попало. На вспышки матери он нередко отвечал насмешками, но однажды, как он сам рассказывает, у него отняли нож, которым он хотел заколоть себя. В гимназии он учился плохо, и Мэри Грей, читавшая ему псалмы и Библию, принесла ему больше пользы, чем гимназические учителя. Когда Джорджу исполнилось 10 лет, умер его двоюродный дед, и мальчику по наследству перешли титул лорда и родовое поместье Байронов — Ньюстедское аббатство. Десятилетний Байрон так сильно влюбился в свою кузину Мэри Дафф, что, услыхав о её помолвке, впал в истерический припадок. В 1799 году он поступил в школу доктора Глени, где пробыл два года и всё время лечил свою больную ногу, после чего достаточно поправился, чтобы надевать сапоги. В эти два года он учился очень мало, зато прочёл всю богатую библиотеку доктора. Перед отъездом в школу в Хэрроу Байрон снова влюбился — в другую кузину, Маргариту Паркер. [SEP]\n"
          ]
        }
      ],
      "source": [
        "for x in tokenized_example[\"input_ids\"][:2]:\n",
        "    print(tokenizer.decode(x))"
      ]
    },
    {
      "cell_type": "code",
      "execution_count": null,
      "metadata": {
        "colab": {
          "base_uri": "https://localhost:8080/"
        },
        "id": "K_7bJvXBcDBx",
        "outputId": "de427b08-22af-45e8-db0f-8203a6483c37"
      },
      "outputs": [
        {
          "output_type": "stream",
          "name": "stdout",
          "text": [
            "[(0, 0), (0, 3), (4, 8), (9, 15), (16, 24), (25, 29), (29, 30), (0, 0), (0, 3), (3, 8), (8, 9), (10, 11), (12, 19), (20, 27), (28, 34), (35, 36), (37, 39), (40, 47), (48, 50), (51, 56), (56, 58), (59, 62), (63, 68), (69, 74), (74, 75), (76, 80), (81, 92), (93, 96), (97, 104), (105, 112), (112, 113), (114, 119), (120, 122), (123, 130), (131, 132), (132, 134), (135, 139), (139, 140), (140, 145), (146, 147), (148, 155), (155, 156), (157, 159), (160, 166), (167, 171), (172, 176), (176, 177), (177, 178), (179, 182), (183, 187), (188, 191), (192, 199), (200, 208), (209, 218), (218, 219), (220, 221), (222, 226), (227, 239), (240, 242), (243, 249), (250, 251), (252, 261), (262, 271), (271, 272), (273, 277), (278, 284), (285, 295), (296, 297), (298, 305), (305, 306), (306, 307), (308, 309), (310, 312), (313, 317), (317, 319), (320, 324), (324, 327), (327, 329), (330, 331), (332, 335), (336, 339), (340, 348), (349, 353), (353, 354), (355, 358), (359, 364), (365, 367), (368, 371), (372, 373), (374, 381), (382, 387), (387, 388), (389, 394), (395, 404), (405, 406), (407, 419), (420, 428), (428, 429), (430, 431), (432, 439)]\n"
          ]
        }
      ],
      "source": [
        "tokenized_example = tokenizer(\n",
        "    example[\"question\"],\n",
        "    example[\"context\"],\n",
        "    max_length=max_length,\n",
        "    truncation=\"only_second\",\n",
        "    return_overflowing_tokens=True,\n",
        "    return_offsets_mapping=True,\n",
        "    stride=doc_stride,\n",
        ")\n",
        "print(tokenized_example[\"offset_mapping\"][0][:100])"
      ]
    },
    {
      "cell_type": "code",
      "execution_count": null,
      "metadata": {
        "colab": {
          "base_uri": "https://localhost:8080/"
        },
        "id": "LrOB97fwc4PZ",
        "outputId": "02f9c28f-48e3-4a4e-ecab-5ead6efd5df7"
      },
      "outputs": [
        {
          "output_type": "stream",
          "name": "stdout",
          "text": [
            "Как Как\n"
          ]
        }
      ],
      "source": [
        "first_token_id = tokenized_example[\"input_ids\"][0][1]\n",
        "offsets = tokenized_example[\"offset_mapping\"][0][1]\n",
        "print(tokenizer.convert_ids_to_tokens([first_token_id])[0], example[\"question\"][offsets[0] : offsets[1]])"
      ]
    },
    {
      "cell_type": "code",
      "execution_count": null,
      "metadata": {
        "id": "nESZ1ctJozlh"
      },
      "outputs": [],
      "source": [
        "label_all_tokens = True\n",
        "\n",
        "def tokenize_and_align_labels(examples):\n",
        "    tokenized_inputs = tokenizer(examples[\"context\"], truncation=True)\n",
        "\n",
        "    labels = []\n",
        "    for i, label in enumerate(examples[\"context_label\"]):\n",
        "\n",
        "        word_ids = tokenized_inputs.word_ids(batch_index=i)\n",
        "        previous_word_idx = None\n",
        "        label_ids = []\n",
        "        for word_idx in word_ids:\n",
        "            if word_idx == len(label):\n",
        "              label_ids.append(1)\n",
        "              label_ids.append(1)\n",
        "              break\n",
        "            # Special tokens have a word id that is None. We set the label to -100 so they are automatically\n",
        "            # ignored in the loss function.\n",
        "            if word_idx is None:\n",
        "                label_ids.append(-100)\n",
        "            # We set the label for the first token of each word.\n",
        "            elif word_idx != previous_word_idx:\n",
        "                # print(word_idx)\n",
        "                label_ids.append(label[word_idx])\n",
        "            # For the other tokens in a word, we set the label to either the current label or -100, depending on\n",
        "            # the label_all_tokens flag.\n",
        "            else:\n",
        "                label_ids.append(label[word_idx] if label_all_tokens else -100)\n",
        "            previous_word_idx = word_idx\n",
        "\n",
        "        labels.append(label_ids)\n",
        "\n",
        "    tokenized_inputs[\"labels\"] = labels\n",
        "    return tokenized_inputs"
      ]
    },
    {
      "cell_type": "code",
      "execution_count": null,
      "metadata": {
        "id": "eeRW8yhLHqRe"
      },
      "outputs": [],
      "source": [
        "label_all_tokens = True\n",
        "\n",
        "def tokenize_and_align_labels_c(examples):\n",
        "    tokenized_inputs = tokenizer(examples[\"context\"], truncation=True)\n",
        "\n",
        "    labels = []\n",
        "    for i, label in enumerate(examples[\"context_label\"]):\n",
        "\n",
        "        word_ids = tokenized_inputs.word_ids(batch_index=i)\n",
        "        previous_word_idx = None\n",
        "        label_ids = []\n",
        "        for word_idx in word_ids:\n",
        "            if word_idx == len(label):\n",
        "              label_ids.append(1)\n",
        "              label_ids.append(-100)\n",
        "              break\n",
        "            # Special tokens have a word id that is None. We set the label to -100 so they are automatically\n",
        "            # ignored in the loss function.\n",
        "            if word_idx is None:\n",
        "                label_ids.append(-100)\n",
        "            # We set the label for the first token of each word.\n",
        "            elif word_idx != previous_word_idx:\n",
        "                # print(word_idx)\n",
        "                label_ids.append(label[word_idx])\n",
        "            # For the other tokens in a word, we set the label to either the current label or -100, depending on\n",
        "            # the label_all_tokens flag.\n",
        "            else:\n",
        "                label_ids.append(label[word_idx] if label_all_tokens else -100)\n",
        "            previous_word_idx = word_idx\n",
        "\n",
        "        labels.append(label_ids)\n",
        "\n",
        "    return labels"
      ]
    },
    {
      "cell_type": "code",
      "execution_count": null,
      "metadata": {
        "id": "lfwyjtZKHs-d"
      },
      "outputs": [],
      "source": [
        "def tokenize_and_align_labels_q(examples):\n",
        "    tokenized_inputs = tokenizer(examples[\"question\"], truncation=True)\n",
        "\n",
        "    labels = []\n",
        "    for i, label in enumerate(examples[\"question_label\"]):\n",
        "\n",
        "        word_ids = tokenized_inputs.word_ids(batch_index=i)\n",
        "        previous_word_idx = None\n",
        "        label_ids = []\n",
        "        for word_idx in word_ids:\n",
        "            if word_idx == len(label):\n",
        "              label_ids.append(1)\n",
        "              label_ids.append(-100)\n",
        "              break\n",
        "            # Special tokens have a word id that is None. We set the label to -100 so they are automatically\n",
        "            # ignored in the loss function.\n",
        "            if word_idx is None:\n",
        "                label_ids.append(-100)\n",
        "            # We set the label for the first token of each word.\n",
        "            elif word_idx != previous_word_idx:\n",
        "                # print(word_idx)\n",
        "                label_ids.append(label[word_idx])\n",
        "            # For the other tokens in a word, we set the label to either the current label or -100, depending on\n",
        "            # the label_all_tokens flag.\n",
        "            else:\n",
        "                label_ids.append(label[word_idx] if label_all_tokens else -100)\n",
        "            previous_word_idx = word_idx\n",
        "\n",
        "        labels.append(label_ids)\n",
        "\n",
        "    return labels"
      ]
    },
    {
      "cell_type": "code",
      "execution_count": null,
      "metadata": {
        "id": "2-ZSe_ybtNBr"
      },
      "outputs": [],
      "source": [
        "tests = tokenizer(data_train[2]['context'])\n",
        "tests_l = data_train[2]['context_label']"
      ]
    },
    {
      "cell_type": "code",
      "execution_count": null,
      "metadata": {
        "id": "oddkJnm62hY0",
        "colab": {
          "base_uri": "https://localhost:8080/"
        },
        "outputId": "e55636b5-a523-4014-82cd-cfd5ba605cad"
      },
      "outputs": [
        {
          "output_type": "stream",
          "name": "stdout",
          "text": [
            "[CLS] Как леди Байрон называла сына? [SEP] Бедность, в которой родился Байрон и от которой не избавил его титул лорда, дала направление его будущей карьере. Когда он родился ( на Холл - Стрит в Лондоне, 22 января 1788 года ), его отец уже потерял семейное состояние, а мать возвратилась из Европы с остатками состояния. Леди Байрон поселилась в Абердине, и её хромой мальчуган, как она называла сына, был отдан на год в частную школу, затем переведён в классическую гимназию. О детских выходках Байрона рассказывают много историй. Сестры Грей, нянчившие маленького Байрона, находили, что лаской можно делать с ним, что угодно, но его мать всегда выходила из себя от его непослушания и бросала в мальчика что попало. На вспышки матери он нередко отвечал насмешками, но однажды, как он сам рассказывает, у него отняли нож, которым он хотел заколоть себя. В гимназии он учился плохо, и Мэри Грей, читавшая ему псалмы и Библию, принесла ему больше пользы, чем гимназические учителя. Когда Джорджу исполнилось 10 лет, умер его двоюродный дед, и мальчику по наследству перешли титул лорда и родовое поместье Байронов — Ньюстедское аббатство. Десятилетний Байрон так сильно влюбился в свою кузину Мэри Дафф, что, услыхав о её помолвке, впал в истерический припадок. В 1799 году он поступил в школу доктора Глени, где пробыл два года и всё время лечил свою больную ногу, после чего достаточно поправился, чтобы надевать сапоги. В эти два года он учился очень мало, зато прочёл всю богатую библиотеку доктора. Перед отъездом в школу в Хэрроу Байрон снова влюбился — в другую кузину, Маргариту Паркер. [SEP]\n"
          ]
        }
      ],
      "source": [
        "for x in tokenized_example[\"input_ids\"][:2]:\n",
        "    print(tokenizer.decode(x))"
      ]
    },
    {
      "cell_type": "markdown",
      "metadata": {
        "id": "jcbe3Pcpgba1"
      },
      "source": [
        "None - специальные символы, 0 - вопрос, 1 - контекст"
      ]
    },
    {
      "cell_type": "code",
      "execution_count": null,
      "metadata": {
        "colab": {
          "base_uri": "https://localhost:8080/"
        },
        "id": "4egvBwMdc-0A",
        "outputId": "500b4502-9e14-4bba-8916-5685a73a85f8"
      },
      "outputs": [
        {
          "output_type": "stream",
          "name": "stdout",
          "text": [
            "[None, 0, 0, 0, 0, 0, 0, None, 1, 1, 1, 1, 1, 1, 1, 1, 1, 1, 1, 1, 1, 1, 1, 1, 1, 1, 1, 1, 1, 1, 1, 1, 1, 1, 1, 1, 1, 1, 1, 1, 1, 1, 1, 1, 1, 1, 1, 1, 1, 1, 1, 1, 1, 1, 1, 1, 1, 1, 1, 1, 1, 1, 1, 1, 1, 1, 1, 1, 1, 1, 1, 1, 1, 1, 1, 1, 1, 1, 1, 1, 1, 1, 1, 1, 1, 1, 1, 1, 1, 1, 1, 1, 1, 1, 1, 1, 1, 1, 1, 1, 1, 1, 1, 1, 1, 1, 1, 1, 1, 1, 1, 1, 1, 1, 1, 1, 1, 1, 1, 1, 1, 1, 1, 1, 1, 1, 1, 1, 1, 1, 1, 1, 1, 1, 1, 1, 1, 1, 1, 1, 1, 1, 1, 1, 1, 1, 1, 1, 1, 1, 1, 1, 1, 1, 1, 1, 1, 1, 1, 1, 1, 1, 1, 1, 1, 1, 1, 1, 1, 1, 1, 1, 1, 1, 1, 1, 1, 1, 1, 1, 1, 1, 1, 1, 1, 1, 1, 1, 1, 1, 1, 1, 1, 1, 1, 1, 1, 1, 1, 1, 1, 1, 1, 1, 1, 1, 1, 1, 1, 1, 1, 1, 1, 1, 1, 1, 1, 1, 1, 1, 1, 1, 1, 1, 1, 1, 1, 1, 1, 1, 1, 1, 1, 1, 1, 1, 1, 1, 1, 1, 1, 1, 1, 1, 1, 1, 1, 1, 1, 1, 1, 1, 1, 1, 1, 1, 1, 1, 1, 1, 1, 1, 1, 1, 1, 1, 1, 1, 1, 1, 1, 1, 1, 1, 1, 1, 1, 1, 1, 1, 1, 1, 1, 1, 1, 1, 1, 1, 1, 1, 1, 1, 1, 1, 1, 1, 1, 1, 1, 1, 1, 1, 1, 1, 1, 1, 1, 1, 1, 1, 1, 1, 1, 1, 1, 1, 1, 1, 1, 1, 1, 1, 1, 1, 1, 1, 1, 1, 1, 1, 1, 1, 1, 1, 1, 1, 1, None]\n"
          ]
        }
      ],
      "source": [
        "sequence_ids = tokenized_example.sequence_ids()\n",
        "print(sequence_ids)"
      ]
    },
    {
      "cell_type": "markdown",
      "metadata": {
        "id": "c-EemaRcg_d-"
      },
      "source": [
        "Находим начальный и конечный индекс ответа"
      ]
    },
    {
      "cell_type": "code",
      "execution_count": null,
      "metadata": {
        "colab": {
          "base_uri": "https://localhost:8080/"
        },
        "id": "5KFELzH0gWwS",
        "outputId": "44001b34-6af0-42e8-acf9-0f46b2ef220f"
      },
      "outputs": [
        {
          "output_type": "stream",
          "name": "stdout",
          "text": [
            "73 77\n"
          ]
        }
      ],
      "source": [
        "answers = example[\"answers\"]\n",
        "start_char = answers[\"answer_start\"][0]\n",
        "end_char = start_char + len(answers[\"text\"][0])\n",
        "\n",
        "token_start_index = 0\n",
        "while sequence_ids[token_start_index] != 1:\n",
        "    token_start_index += 1\n",
        "\n",
        "token_end_index = len(tokenized_example[\"input_ids\"][0]) - 1\n",
        "while sequence_ids[token_end_index] != 1:\n",
        "    token_end_index -= 1\n",
        "\n",
        "offsets = tokenized_example[\"offset_mapping\"][0]\n",
        "if (offsets[token_start_index][0] <= start_char and offsets[token_end_index][1] >= end_char):\n",
        "    while token_start_index < len(offsets) and offsets[token_start_index][0] <= start_char:\n",
        "        token_start_index += 1\n",
        "    start_position = token_start_index - 1\n",
        "    while offsets[token_end_index][1] >= end_char:\n",
        "        token_end_index -= 1\n",
        "    end_position = token_end_index + 1\n",
        "    print(start_position, end_position)\n",
        "else:\n",
        "    print(\"The answer is not in this feature.\")"
      ]
    },
    {
      "cell_type": "markdown",
      "metadata": {
        "id": "_GFhPafURTM7"
      },
      "source": [
        "Проверяем что индексы найдены верно"
      ]
    },
    {
      "cell_type": "code",
      "execution_count": null,
      "metadata": {
        "colab": {
          "base_uri": "https://localhost:8080/"
        },
        "id": "WJo-0Lwbgl8_",
        "outputId": "71787863-a875-4a5f-bcd3-0681a87bd68e"
      },
      "outputs": [
        {
          "output_type": "stream",
          "name": "stdout",
          "text": [
            "хромой мальчуган\n",
            "хромой мальчуган\n"
          ]
        }
      ],
      "source": [
        "print(tokenizer.decode(tokenized_example[\"input_ids\"][0][start_position : end_position + 1]))\n",
        "print(answers[\"text\"][0])"
      ]
    },
    {
      "cell_type": "markdown",
      "metadata": {
        "id": "JmyLWPKScHfM"
      },
      "source": [
        "## Токенизация"
      ]
    },
    {
      "cell_type": "markdown",
      "source": [
        "Метод для растягивания Labels"
      ],
      "metadata": {
        "id": "EP_mH3sjqmDs"
      }
    },
    {
      "cell_type": "code",
      "execution_count": null,
      "metadata": {
        "id": "F-pAzDGKkOW4"
      },
      "outputs": [],
      "source": [
        "label_all_tokens = True\n",
        "max_length = 512\n",
        "doc_stride = 128\n",
        "\n",
        "# [None, 0, 1, 2, 2, 2, 3, 4, 5, None, 0, 1, 2, 3,\n",
        " \n",
        "\n",
        "def tokenize_and_align_labels_c(tokenized_inputs, examples):\n",
        "\n",
        "    # labels_q = []\n",
        "    labels = []\n",
        "    for i, label in enumerate(examples[\"question_label\"]):\n",
        "        word_ids = tokenized_inputs.word_ids(batch_index=i)\n",
        "        \n",
        "        previous_word_idx = None\n",
        "        label_ids = []\n",
        "        q_len = 0\n",
        "\n",
        "        for j, wr in enumerate(word_ids):\n",
        "          if wr is None and j != 0:\n",
        "            q_len = j\n",
        "            break\n",
        "\n",
        "        word_ids_q = word_ids[:q_len+1]\n",
        "        for word_idx in word_ids_q:\n",
        "            if word_idx == len(label):\n",
        "              label_ids.append(1)\n",
        "              break\n",
        "            # Special tokens have a word id that is None. We set the label to -100 so they are automatically\n",
        "            # ignored in the loss function.\n",
        "            if word_idx is None:\n",
        "                label_ids.append(46)\n",
        "            # We set the label for the first token of each word.\n",
        "            elif word_idx != previous_word_idx:\n",
        "                # print(word_idx)\n",
        "                label_ids.append(label[word_idx])\n",
        "            # For the other tokens in a word, we set the label to either the current label or -100, depending on\n",
        "            # the label_all_tokens flag.\n",
        "            else:\n",
        "                label_ids.append(label[word_idx] if label_all_tokens else 46)\n",
        "            previous_word_idx = word_idx\n",
        "        \n",
        "        # print(label_ids)\n",
        "        \n",
        "        context_label = examples[\"context_label\"][i]\n",
        "\n",
        "        # word_ids = tokenized_inputs.word_ids(batch_index=i)\n",
        "\n",
        "        # # for j, wr in enumerate(word_ids):\n",
        "        # #   if wr is None and j != 0:\n",
        "        # #     word_ids = word_ids[j+1:]\n",
        "        # #     break\n",
        "\n",
        "        word_ids_c = word_ids[q_len+1:]\n",
        "\n",
        "        for word_idx in word_ids_c:\n",
        "            \n",
        "            if word_idx == len(context_label):\n",
        "              label_ids.append(1)\n",
        "              label_ids.append(46)\n",
        "              break\n",
        "            # Special tokens have a word id that is None. We set the label to -100 so they are automatically\n",
        "            # ignored in the loss function.\n",
        "            if word_idx is None:\n",
        "                label_ids.append(46)\n",
        "            # We set the label for the first token of each word.\n",
        "            elif word_idx != previous_word_idx:\n",
        "                try:\n",
        "                  label_ids.append(context_label[word_idx])\n",
        "                except IndexError as e:\n",
        "                  print(example['context'])\n",
        "                  # print(i)\n",
        "            # For the other tokens in a word, we set the label to either the current label or -100, depending on\n",
        "            # the label_all_tokens flag.\n",
        "            else:\n",
        "              try:\n",
        "                label_ids.append(context_label[word_idx] if label_all_tokens else 46)\n",
        "              except IndexError as e:\n",
        "                print(example['context'])\n",
        "            previous_word_idx = word_idx\n",
        "\n",
        "        lenn = len(label_ids)\n",
        "        while lenn != 512:\n",
        "          label_ids.append(46)\n",
        "          lenn += 1\n",
        "        # print(len(label_ids))\n",
        "        labels.append(label_ids) \n",
        "\n",
        "\n",
        "    return labels"
      ]
    },
    {
      "cell_type": "markdown",
      "source": [
        "Метод для токенизация всех данных"
      ],
      "metadata": {
        "id": "QCpgpwF5quFF"
      }
    },
    {
      "cell_type": "code",
      "execution_count": null,
      "metadata": {
        "id": "3zrsHvmLhZGj"
      },
      "outputs": [],
      "source": [
        "pad_on_right = tokenizer.padding_side == \"right\"\n",
        "\n",
        "def prepare_train_features(examples):\n",
        "    examples[\"question\"] = [q.lstrip() for q in examples[\"question\"]]\n",
        "\n",
        "    tokenized_examples = tokenizer(\n",
        "        examples[\"question\" if pad_on_right else \"context\"],\n",
        "        examples[\"context\" if pad_on_right else \"question\"],\n",
        "        truncation=\"only_second\" if pad_on_right else \"only_first\",\n",
        "        max_length=max_length,\n",
        "        stride=doc_stride,\n",
        "        return_overflowing_tokens=True,\n",
        "        return_offsets_mapping=True,\n",
        "        padding=\"max_length\",\n",
        "    )\n",
        "\n",
        "    # print((tokenized_examples.sequence_ids()))\n",
        "    sample_mapping = tokenized_examples.pop(\"overflow_to_sample_mapping\")\n",
        "    offset_mapping = tokenized_examples.pop(\"offset_mapping\")\n",
        "\n",
        "    # print(len(sample_mapping))\n",
        "    tokenized_examples[\"start_positions\"] = []\n",
        "    tokenized_examples[\"end_positions\"] = []\n",
        "\n",
        "    tokenized_examples[\"labels\"] = tokenize_and_align_labels_c(tokenized_examples, examples)\n",
        "    for i, offsets in enumerate(offset_mapping):\n",
        "        input_ids = tokenized_examples[\"input_ids\"][i]\n",
        "        cls_index = input_ids.index(tokenizer.cls_token_id)\n",
        "\n",
        "        # print(tokenized_examples.word_ids())\n",
        "        # print(i)\n",
        "        sequence_ids = tokenized_examples.sequence_ids(i)\n",
        "\n",
        "        sample_index = sample_mapping[i]\n",
        "        answers = examples[\"answers\"][sample_index]\n",
        "        # if i + 1 < len(offset_mapping):\n",
        "        #   if sample_mapping[i + 1] == sample_index:\n",
        "\n",
        "        #     print(sample_index)\n",
        "\n",
        "        if len(answers[\"answer_start\"]) == 0:\n",
        "            tokenized_examples[\"start_positions\"].append(cls_index)\n",
        "            tokenized_examples[\"end_positions\"].append(cls_index)\n",
        "        else:\n",
        "            start_char = answers[\"answer_start\"][0]\n",
        "            end_char = start_char + len(answers[\"text\"][0])\n",
        "\n",
        "            token_start_index = 0\n",
        "            while sequence_ids[token_start_index] != (1 if pad_on_right else 0):\n",
        "                token_start_index += 1\n",
        "\n",
        "            token_end_index = len(input_ids) - 1\n",
        "            while sequence_ids[token_end_index] != (1 if pad_on_right else 0):\n",
        "                token_end_index -= 1\n",
        "\n",
        "            if not (offsets[token_start_index][0] <= start_char and offsets[token_end_index][1] >= end_char):\n",
        "                tokenized_examples[\"start_positions\"].append(cls_index)\n",
        "                tokenized_examples[\"end_positions\"].append(cls_index)\n",
        "            else:\n",
        "                while token_start_index < len(offsets) and offsets[token_start_index][0] <= start_char:\n",
        "                    token_start_index += 1\n",
        "                tokenized_examples[\"start_positions\"].append(token_start_index - 1)\n",
        "                while offsets[token_end_index][1] >= end_char:\n",
        "                    token_end_index -= 1\n",
        "                tokenized_examples[\"end_positions\"].append(token_end_index + 1)\n",
        "                \n",
        "    # tokenized_examples['context_label'] = tokenize_and_align_labels_c(examples)\n",
        "    # tokenized_examples['question_label'] = tokenize_and_align_labels_q(examples)\n",
        "    return tokenized_examples"
      ]
    },
    {
      "cell_type": "markdown",
      "metadata": {
        "id": "PKQKs0G6iKYC"
      },
      "source": [
        "И применяем нашу функцию ко всем данным"
      ]
    },
    {
      "cell_type": "code",
      "execution_count": null,
      "metadata": {
        "colab": {
          "base_uri": "https://localhost:8080/",
          "height": 119,
          "referenced_widgets": [
            "ffb10b57393744cd9d15932d5991146b",
            "89a38da9bdb74414828e267fc49fc68d",
            "296f5b1b92ec4160ae902041645ee141",
            "9ef31f444fa94a8db81d1d1d94c485d8",
            "9d8ecf9575734d67ad2770937ff502e9",
            "dc3d3a69691b44f3b3e0d621ad221d41",
            "aad194f76ab645deb88bd464e6c38d22",
            "cfe6920eb2934ae7a93b0e092da36677",
            "349c5500baa242a2bf47754809fe70c9",
            "ba88457e414347778211d3fce874c4ca",
            "6eccffeb080a4df898bb21d9406fc41d",
            "f1aae06143184748abc4a8c254cdb893",
            "13aac219d3664e5281b1cf8f36585436",
            "be99f18b7f254c488689456bd8b62fc3",
            "bc04408d9ec84db7ba3dddf1008076d0",
            "943544bfaf284d03a26146ac253989b1",
            "a67b30fce3c24851a4b90aed802b3d00",
            "63c591c0a1bd4fcdab3e3fec5a349122",
            "2d83b81169e54a5d8b604622e0dae73e",
            "dd59bf9875f24510857881c0856208d8",
            "2fcbb5d8059a4303a3a2640a621659cd",
            "9d729892bfbd41518ffac6aa89553918"
          ]
        },
        "id": "5QvX6aHeiBqG",
        "outputId": "3276f5ee-20da-4cfd-f898-fc7cde1e1fc0"
      },
      "outputs": [
        {
          "output_type": "stream",
          "name": "stderr",
          "text": [
            "Parameter 'function'=<function prepare_train_features at 0x7fde835be3b0> of the transform datasets.arrow_dataset.Dataset._map_single couldn't be hashed properly, a random hash was used instead. Make sure your transforms and parameters are serializable with pickle or dill for the dataset fingerprinting and caching to work. If you reuse this transform, the caching mechanism will consider it to be different from the previous calls and recompute everything. This warning is only showed once. Subsequent hashing failures won't be showed.\n"
          ]
        },
        {
          "output_type": "display_data",
          "data": {
            "text/plain": [
              "  0%|          | 0/6 [00:00<?, ?ba/s]"
            ],
            "application/vnd.jupyter.widget-view+json": {
              "version_major": 2,
              "version_minor": 0,
              "model_id": "ffb10b57393744cd9d15932d5991146b"
            }
          },
          "metadata": {}
        },
        {
          "output_type": "display_data",
          "data": {
            "text/plain": [
              "  0%|          | 0/46 [00:00<?, ?ba/s]"
            ],
            "application/vnd.jupyter.widget-view+json": {
              "version_major": 2,
              "version_minor": 0,
              "model_id": "f1aae06143184748abc4a8c254cdb893"
            }
          },
          "metadata": {}
        }
      ],
      "source": [
        "tokenized_test = data_test.map(prepare_train_features, batched=True, remove_columns=data_test.column_names)\n",
        "\n",
        "tokenized_train = data_train.map(prepare_train_features, batched=True, remove_columns=data_train.column_names)\n",
        "\n"
      ]
    },
    {
      "cell_type": "code",
      "execution_count": null,
      "metadata": {
        "colab": {
          "base_uri": "https://localhost:8080/"
        },
        "id": "jXeK-ucao0pN",
        "outputId": "8728eb04-70ac-4960-d0c7-a23a6ca1f66b"
      },
      "outputs": [
        {
          "output_type": "execute_result",
          "data": {
            "text/plain": [
              "Dataset({\n",
              "    features: ['input_ids', 'token_type_ids', 'attention_mask', 'start_positions', 'end_positions', 'labels'],\n",
              "    num_rows: 45226\n",
              "})"
            ]
          },
          "metadata": {},
          "execution_count": 63
        }
      ],
      "source": [
        "tokenized_train"
      ]
    },
    {
      "cell_type": "markdown",
      "metadata": {
        "id": "9sm-UOkdiePL"
      },
      "source": [
        "## Обучение"
      ]
    },
    {
      "cell_type": "code",
      "execution_count": null,
      "metadata": {
        "colab": {
          "base_uri": "https://localhost:8080/",
          "height": 134,
          "referenced_widgets": [
            "5fa22362344f49fd9a023f4611e2829a",
            "c135946b3bf04d87a18ba64697d0bea9",
            "412a5c1068a24d5cac068344f3ea0f31",
            "fd8e608dd05f47a3a54574fef3a9d231",
            "d70dab7247084f219c1e8c5a70d55f16",
            "8b9268eaab1c474d940613b691532fd1",
            "df8e8a3dba4e43baa0d639b542b0959a",
            "d09efde7054641c18b4b11bcdf265003",
            "a3430026371440c8a263b80b2bd0bf48",
            "1764f606fbcb4581b4930c4feedc6fa5",
            "dd3c64775a854adcbf0d45e8264b0e18"
          ]
        },
        "id": "r_r9qvRviW2l",
        "outputId": "7db2a105-bf57-4252-fbd7-17b49e624e19"
      },
      "outputs": [
        {
          "data": {
            "application/vnd.jupyter.widget-view+json": {
              "model_id": "5fa22362344f49fd9a023f4611e2829a",
              "version_major": 2,
              "version_minor": 0
            },
            "text/plain": [
              "Downloading:   0%|          | 0.00/1.59G [00:00<?, ?B/s]"
            ]
          },
          "metadata": {},
          "output_type": "display_data"
        },
        {
          "name": "stderr",
          "output_type": "stream",
          "text": [
            "Some weights of BertForQuestionAnswering were not initialized from the model checkpoint at sberbank-ai/sbert_large_nlu_ru and are newly initialized: ['qa_outputs.weight', 'qa_outputs.bias', 'emb.weight']\n",
            "You should probably TRAIN this model on a down-stream task to be able to use it for predictions and inference.\n"
          ]
        }
      ],
      "source": [
        "from transformers import AutoModelForQuestionAnswering, TrainingArguments, Trainer\n",
        "\n",
        "model = AutoModelForQuestionAnswering.from_pretrained(sber)"
      ]
    },
    {
      "cell_type": "code",
      "execution_count": null,
      "metadata": {
        "colab": {
          "base_uri": "https://localhost:8080/",
          "height": 161,
          "referenced_widgets": [
            "3a3a04eff3fa40ce8ad8d35d721b76c7",
            "134f6d7208f84e67b39eec8f339ccd47",
            "f532e57bf641485380b5f60d1fac9728",
            "98bd647378ca47d8a655faae451c4622",
            "d3da8f6aa25044a490a09eac0457d3a9",
            "f437eab6250c4677a8ebab6cb62b0f46",
            "f17f90424c76471b9358b2b01c0f8bae",
            "d4926be96b854295ba02fe013ac05ed4",
            "a1c4aa6d0be64058ac77f2e052bb0ec2",
            "6433b984c5ff46dc8e860db17d9b0c91",
            "77410096e8de40108bfd1f8ed39dc6e1"
          ]
        },
        "id": "u1Va-c2frEtA",
        "outputId": "47afa184-b050-4b27-c98e-557ecd794a1b"
      },
      "outputs": [
        {
          "data": {
            "application/vnd.jupyter.widget-view+json": {
              "model_id": "3a3a04eff3fa40ce8ad8d35d721b76c7",
              "version_major": 2,
              "version_minor": 0
            },
            "text/plain": [
              "Downloading:   0%|          | 0.00/681M [00:00<?, ?B/s]"
            ]
          },
          "metadata": {},
          "output_type": "display_data"
        },
        {
          "name": "stderr",
          "output_type": "stream",
          "text": [
            "Some weights of the model checkpoint at DeepPavlov/rubert-base-cased were not used when initializing BertForQuestionAnswering: ['cls.seq_relationship.bias', 'cls.predictions.transform.LayerNorm.bias', 'cls.predictions.transform.dense.weight', 'cls.predictions.decoder.bias', 'cls.predictions.bias', 'cls.seq_relationship.weight', 'cls.predictions.transform.LayerNorm.weight', 'cls.predictions.decoder.weight', 'cls.predictions.transform.dense.bias']\n",
            "- This IS expected if you are initializing BertForQuestionAnswering from the checkpoint of a model trained on another task or with another architecture (e.g. initializing a BertForSequenceClassification model from a BertForPreTraining model).\n",
            "- This IS NOT expected if you are initializing BertForQuestionAnswering from the checkpoint of a model that you expect to be exactly identical (initializing a BertForSequenceClassification model from a BertForSequenceClassification model).\n",
            "Some weights of BertForQuestionAnswering were not initialized from the model checkpoint at DeepPavlov/rubert-base-cased and are newly initialized: ['emb.weight', 'qa_outputs.weight', 'qa_outputs.bias']\n",
            "You should probably TRAIN this model on a down-stream task to be able to use it for predictions and inference.\n"
          ]
        }
      ],
      "source": [
        "from transformers import AutoModelForQuestionAnswering, TrainingArguments, Trainer\n",
        "\n",
        "model = AutoModelForQuestionAnswering.from_pretrained(deep_pavlov)"
      ]
    },
    {
      "cell_type": "code",
      "execution_count": null,
      "metadata": {
        "colab": {
          "base_uri": "https://localhost:8080/",
          "height": 81,
          "referenced_widgets": [
            "3d9b4601139744379c809b63abb8e9d9",
            "454fa60d950643c98c17354f8cacc994",
            "21d2714e123f4522b60746adf93aaeb0",
            "ff70f6ec1dac4fdb9a914c5e2c1cc02a",
            "47e31f90b56e47f78d9c72ae023393b3",
            "a6645eefdb4e4a969bb742b83cd781f1",
            "cea9f980be0b4044ad60cdb4a940d2a6",
            "79e9ee5c5b77425eb56cb67967d105c2",
            "53005603d153437c8f19605ecc0b304b",
            "d5ec4ed6db3546948ac2b4af20048038",
            "4e3d953ce43843c8a7937f85ad91b852",
            "29602d0490c1412d8aab2c72537c189e",
            "ac4e9357022647d3afe6395bb77a221c",
            "12aef21a2b3941aa880350db021983c2",
            "adff26fc2cf84851a83fef77ba919ec4",
            "9080917e933c47ae8c520b2bdce2d8e3",
            "7f831338b18a4052bd462d2e2cf84de9",
            "d37e4fde1b384615a34d665aeb8ae88d",
            "f2967915a4d9475cb449cd73dde9a0e7",
            "97ea2fa15ca9434c8d1100f220d49bd7",
            "c5b2b60d9ac444e38ece2f472c674aa1",
            "71427d675c3b4c3eab635ab0da7d39f0"
          ]
        },
        "id": "4D0LU9OZ35rR",
        "outputId": "8c20a6e2-f493-4044-851e-dc9f0714981c"
      },
      "outputs": [
        {
          "data": {
            "application/vnd.jupyter.widget-view+json": {
              "model_id": "3d9b4601139744379c809b63abb8e9d9",
              "version_major": 2,
              "version_minor": 0
            },
            "text/plain": [
              "Downloading:   0%|          | 0.00/869 [00:00<?, ?B/s]"
            ]
          },
          "metadata": {},
          "output_type": "display_data"
        },
        {
          "data": {
            "application/vnd.jupyter.widget-view+json": {
              "model_id": "29602d0490c1412d8aab2c72537c189e",
              "version_major": 2,
              "version_minor": 0
            },
            "text/plain": [
              "Downloading:   0%|          | 0.00/676M [00:00<?, ?B/s]"
            ]
          },
          "metadata": {},
          "output_type": "display_data"
        }
      ],
      "source": [
        "from transformers import AutoModelForQuestionAnswering, TrainingArguments, Trainer\n",
        "\n",
        "\n",
        "# model = AutoModelForQuestionAnswering.from_pretrained('ruselkomp/sber-full-test')\n",
        "# model = AutoModelForQuestionAnswering.from_pretrained(\"ruselkomp/sber-full-framebank\")\n",
        "# model = AutoModelForQuestionAnswering.from_pretrained(\"ruselkomp/deepavlov-test-bert-2\")\n",
        "model = AutoModelForQuestionAnswering.from_pretrained(\"ruselkomp/deep-pavlov-full-2\")\n"
      ]
    },
    {
      "cell_type": "code",
      "execution_count": null,
      "metadata": {
        "id": "5C_5T3qtijvF"
      },
      "outputs": [],
      "source": [
        "batch_size = 16"
      ]
    },
    {
      "cell_type": "code",
      "execution_count": null,
      "metadata": {
        "id": "YjGeQHOsikju"
      },
      "outputs": [],
      "source": [
        "model_name = sber.split(\"/\")[-1]\n",
        "args = TrainingArguments(\n",
        "    f\"ruselkomp/sber-framebank-50size\",\n",
        "    evaluation_strategy = \"epoch\",\n",
        "    learning_rate=2e-5,\n",
        "    per_device_train_batch_size=batch_size,\n",
        "    per_device_eval_batch_size=batch_size,\n",
        "    num_train_epochs=3,\n",
        "    weight_decay=0.01,\n",
        "    push_to_hub=True,\n",
        "    save_steps = 4000,\n",
        ")"
      ]
    },
    {
      "cell_type": "code",
      "execution_count": null,
      "metadata": {
        "id": "ylxVa6waiomJ"
      },
      "outputs": [],
      "source": [
        "from transformers import default_data_collator\n",
        "\n",
        "data_collator = default_data_collator"
      ]
    },
    {
      "cell_type": "code",
      "execution_count": null,
      "metadata": {
        "colab": {
          "base_uri": "https://localhost:8080/"
        },
        "id": "Dw52tsKlitb9",
        "outputId": "ef7d5980-fc15-4b3a-da2d-69b1306ae80f"
      },
      "outputs": [
        {
          "name": "stderr",
          "output_type": "stream",
          "text": [
            "Cloning https://huggingface.co/ruselkomp/sber-framebank-50size-tetsss into local empty directory.\n"
          ]
        }
      ],
      "source": [
        "trainer = Trainer(\n",
        "    model,\n",
        "    args,\n",
        "    train_dataset=tokenized_train,\n",
        "    eval_dataset=tokenized_test,\n",
        "    data_collator=data_collator,\n",
        "    tokenizer=tokenizer,\n",
        "    # compute_metrics=compute_metrics\n",
        ")"
      ]
    },
    {
      "cell_type": "code",
      "execution_count": null,
      "metadata": {
        "colab": {
          "base_uri": "https://localhost:8080/",
          "height": 1000,
          "referenced_widgets": [
            "cd5a6cfe2bab4ce9a0372d80e6bd724c",
            "c484b9dc3f784ee283340a2eaf7c58ec",
            "33c06c9b41db4da7b94b6af9f8766da5",
            "412aee3db47a49458706b8c2fded0c7a",
            "90ca82a2b3f94bc4804fb9d35bf13df6",
            "5b80d00818104fdf9190bc20a225690c",
            "b2e0bca573d944eb814a795de5105658",
            "f452492106924b3aae1c4765d612b38d",
            "12fc4250e1fe4535bd4dd504cedc49bf",
            "46c5a8754c4c4d1aa64800afc8c3ad49",
            "68eeb8634d4b4d83802692149c2e6275"
          ]
        },
        "id": "b24uCPx4iIO1",
        "outputId": "f00f5591-8959-4ada-8791-e49283e87032"
      },
      "outputs": [
        {
          "name": "stderr",
          "output_type": "stream",
          "text": [
            "Loading model from checkpoint-20000).\n",
            "/usr/local/lib/python3.7/dist-packages/transformers/optimization.py:309: FutureWarning: This implementation of AdamW is deprecated and will be removed in a future version. Use the PyTorch implementation torch.optim.AdamW instead, or set `no_deprecation_warning=True` to disable this warning\n",
            "  FutureWarning,\n",
            "***** Running training *****\n",
            "  Num examples = 45226\n",
            "  Num Epochs = 3\n",
            "  Instantaneous batch size per device = 4\n",
            "  Total train batch size (w. parallel, distributed & accumulation) = 4\n",
            "  Gradient Accumulation steps = 1\n",
            "  Total optimization steps = 33921\n",
            "  Continuing training from checkpoint, will skip to saved global_step\n",
            "  Continuing training from epoch 1\n",
            "  Continuing training from global step 20000\n",
            "  Will skip the first 1 epochs then the first 8693 batches in the first epoch. If this takes a lot of time, you can add the `--ignore_data_skip` flag to your launch command, but you will resume the training on data already seen by your model.\n"
          ]
        },
        {
          "data": {
            "application/vnd.jupyter.widget-view+json": {
              "model_id": "cd5a6cfe2bab4ce9a0372d80e6bd724c",
              "version_major": 2,
              "version_minor": 0
            },
            "text/plain": [
              "  0%|          | 0/8693 [00:00<?, ?it/s]"
            ]
          },
          "metadata": {},
          "output_type": "display_data"
        },
        {
          "data": {
            "text/html": [
              "\n",
              "    <div>\n",
              "      \n",
              "      <progress value='33921' max='33921' style='width:300px; height:20px; vertical-align: middle;'></progress>\n",
              "      [33921/33921 5:50:09, Epoch 3/3]\n",
              "    </div>\n",
              "    <table border=\"1\" class=\"dataframe\">\n",
              "  <thead>\n",
              " <tr style=\"text-align: left;\">\n",
              "      <th>Epoch</th>\n",
              "      <th>Training Loss</th>\n",
              "      <th>Validation Loss</th>\n",
              "    </tr>\n",
              "  </thead>\n",
              "  <tbody>\n",
              "    <tr>\n",
              "      <td>2</td>\n",
              "      <td>0.814500</td>\n",
              "      <td>1.177848</td>\n",
              "    </tr>\n",
              "    <tr>\n",
              "      <td>3</td>\n",
              "      <td>0.616800</td>\n",
              "      <td>1.373564</td>\n",
              "    </tr>\n",
              "  </tbody>\n",
              "</table><p>"
            ],
            "text/plain": [
              "<IPython.core.display.HTML object>"
            ]
          },
          "metadata": {},
          "output_type": "display_data"
        },
        {
          "name": "stderr",
          "output_type": "stream",
          "text": [
            "***** Running Evaluation *****\n",
            "  Num examples = 5022\n",
            "  Batch size = 4\n",
            "Saving model checkpoint to ruselkomp/sber-framebank-50size-2/checkpoint-24000\n",
            "Configuration saved in ruselkomp/sber-framebank-50size-2/checkpoint-24000/config.json\n",
            "Model weights saved in ruselkomp/sber-framebank-50size-2/checkpoint-24000/pytorch_model.bin\n",
            "tokenizer config file saved in ruselkomp/sber-framebank-50size-2/checkpoint-24000/tokenizer_config.json\n",
            "Special tokens file saved in ruselkomp/sber-framebank-50size-2/checkpoint-24000/special_tokens_map.json\n",
            "tokenizer config file saved in ruselkomp/sber-framebank-50size-2/tokenizer_config.json\n",
            "Special tokens file saved in ruselkomp/sber-framebank-50size-2/special_tokens_map.json\n",
            "Saving model checkpoint to ruselkomp/sber-framebank-50size-2/checkpoint-28000\n",
            "Configuration saved in ruselkomp/sber-framebank-50size-2/checkpoint-28000/config.json\n",
            "Model weights saved in ruselkomp/sber-framebank-50size-2/checkpoint-28000/pytorch_model.bin\n",
            "tokenizer config file saved in ruselkomp/sber-framebank-50size-2/checkpoint-28000/tokenizer_config.json\n",
            "Special tokens file saved in ruselkomp/sber-framebank-50size-2/checkpoint-28000/special_tokens_map.json\n",
            "tokenizer config file saved in ruselkomp/sber-framebank-50size-2/tokenizer_config.json\n",
            "Special tokens file saved in ruselkomp/sber-framebank-50size-2/special_tokens_map.json\n",
            "Saving model checkpoint to ruselkomp/sber-framebank-50size-2/checkpoint-32000\n",
            "Configuration saved in ruselkomp/sber-framebank-50size-2/checkpoint-32000/config.json\n",
            "Model weights saved in ruselkomp/sber-framebank-50size-2/checkpoint-32000/pytorch_model.bin\n",
            "tokenizer config file saved in ruselkomp/sber-framebank-50size-2/checkpoint-32000/tokenizer_config.json\n",
            "Special tokens file saved in ruselkomp/sber-framebank-50size-2/checkpoint-32000/special_tokens_map.json\n",
            "tokenizer config file saved in ruselkomp/sber-framebank-50size-2/tokenizer_config.json\n",
            "Special tokens file saved in ruselkomp/sber-framebank-50size-2/special_tokens_map.json\n",
            "***** Running Evaluation *****\n",
            "  Num examples = 5022\n",
            "  Batch size = 4\n",
            "\n",
            "\n",
            "Training completed. Do not forget to share your model on huggingface.co/models =)\n",
            "\n",
            "\n"
          ]
        },
        {
          "data": {
            "text/plain": [
              "TrainOutput(global_step=33921, training_loss=0.2661936727251486, metrics={'train_runtime': 21044.2641, 'train_samples_per_second': 6.447, 'train_steps_per_second': 1.612, 'total_flos': 1.2600514895822438e+17, 'train_loss': 0.2661936727251486, 'epoch': 3.0})"
            ]
          },
          "execution_count": 46,
          "metadata": {},
          "output_type": "execute_result"
        }
      ],
      "source": [
        "trainer.train('checkpoint-20000')"
      ]
    },
    {
      "cell_type": "code",
      "execution_count": null,
      "metadata": {
        "colab": {
          "base_uri": "https://localhost:8080/",
          "height": 591,
          "referenced_widgets": [
            "312ca901c6eb4a46b9f59374189c9ab7",
            "0ffd8c67d27545c1b9e45274ff89ae77",
            "36c9c2a0636e49329e25108cb670467b",
            "072d3c87215a4bcd895579cb9bf79db5",
            "10ca9edacef7412da160a1d8e200b5f9",
            "61582f8afbbe4646b4b354aa5f1499c6",
            "7276d4e2ac734bd7b6217ced694226a9",
            "e3b7aaeb563b40bdad24a2a9d1bdc3cd",
            "8bb1b99cc35841c6bbd09a5ca25ef7e6",
            "b5cbb50a437c4aea8acb143451a77892",
            "18c9b3e643fe40e18086f411ab6ee352",
            "cd076602d0c64649882269a89f5b5cac",
            "55274836981242498c5e0240a069af71",
            "08f63f4fbaa646458773b189bbc61cb1",
            "58e284e47c4d43c2b49637aa8521510f",
            "3d894ebfb9b1480ba16cdec9056b6ec6",
            "a720a16a8b5349c9a36440d7148e7bc7",
            "a4f1d6b4e52d48a2b00d4eaa1479e707",
            "a1071d613c9943b589499dd6dde97ed0",
            "3ef64c89c0ce4eb79ed8a36ea54379d6",
            "12cfc05bbf1a4aeca2162cb4d785e27f",
            "dcb84b4464de4168a1adb6ea367ae292"
          ]
        },
        "id": "8OGPR_hHZKiS",
        "outputId": "6d442005-3f8e-4a2f-dfa7-7283e0994599"
      },
      "outputs": [
        {
          "name": "stderr",
          "output_type": "stream",
          "text": [
            "Saving model checkpoint to sber-framebank-50size\n",
            "Configuration saved in sber-framebank-50size/config.json\n",
            "Model weights saved in sber-framebank-50size/pytorch_model.bin\n",
            "tokenizer config file saved in sber-framebank-50size/tokenizer_config.json\n",
            "Special tokens file saved in sber-framebank-50size/special_tokens_map.json\n",
            "Saving model checkpoint to ruselkomp/sber-framebank-50size-2\n",
            "Configuration saved in ruselkomp/sber-framebank-50size-2/config.json\n",
            "Model weights saved in ruselkomp/sber-framebank-50size-2/pytorch_model.bin\n",
            "tokenizer config file saved in ruselkomp/sber-framebank-50size-2/tokenizer_config.json\n",
            "Special tokens file saved in ruselkomp/sber-framebank-50size-2/special_tokens_map.json\n"
          ]
        },
        {
          "data": {
            "application/vnd.jupyter.widget-view+json": {
              "model_id": "312ca901c6eb4a46b9f59374189c9ab7",
              "version_major": 2,
              "version_minor": 0
            },
            "text/plain": [
              "Upload file pytorch_model.bin:   0%|          | 32.0k/1.59G [00:00<?, ?B/s]"
            ]
          },
          "metadata": {},
          "output_type": "display_data"
        },
        {
          "data": {
            "application/vnd.jupyter.widget-view+json": {
              "model_id": "cd076602d0c64649882269a89f5b5cac",
              "version_major": 2,
              "version_minor": 0
            },
            "text/plain": [
              "Upload file runs/May31_10-02-56_2a406c9c041f/events.out.tfevents.1653991430.2a406c9c041f.2401.0: 100%|########…"
            ]
          },
          "metadata": {},
          "output_type": "display_data"
        },
        {
          "name": "stderr",
          "output_type": "stream",
          "text": [
            "remote: Enforcing permissions...        \n",
            "remote: Allowed refs: all        \n",
            "To https://huggingface.co/ruselkomp/sber-framebank-50size-2\n",
            "   f89c9d2..1814591  main -> main\n",
            "\n",
            "Dropping the following result as it does not have all the necessary fields:\n",
            "{'task': {'name': 'Question Answering', 'type': 'question-answering'}}\n",
            "remote: Enforcing permissions...        \n",
            "remote: Allowed refs: all        \n",
            "To https://huggingface.co/ruselkomp/sber-framebank-50size-2\n",
            "   1814591..6dfa29f  main -> main\n",
            "\n"
          ]
        }
      ],
      "source": [
        "trainer.save_model(\"sber-framebank-50size\")"
      ]
    },
    {
      "cell_type": "code",
      "execution_count": null,
      "metadata": {
        "colab": {
          "base_uri": "https://localhost:8080/",
          "height": 1000
        },
        "id": "p2ErI_TYiwPz",
        "outputId": "a1021464-36c2-4c74-94c6-9517059b8b15"
      },
      "outputs": [
        {
          "name": "stderr",
          "output_type": "stream",
          "text": [
            "/usr/local/lib/python3.7/dist-packages/transformers/optimization.py:309: FutureWarning: This implementation of AdamW is deprecated and will be removed in a future version. Use the PyTorch implementation torch.optim.AdamW instead, or set `no_deprecation_warning=True` to disable this warning\n",
            "  FutureWarning,\n",
            "***** Running training *****\n",
            "  Num examples = 45226\n",
            "  Num Epochs = 3\n",
            "  Instantaneous batch size per device = 4\n",
            "  Total train batch size (w. parallel, distributed & accumulation) = 4\n",
            "  Gradient Accumulation steps = 1\n",
            "  Total optimization steps = 33921\n"
          ]
        },
        {
          "data": {
            "text/html": [
              "\n",
              "    <div>\n",
              "      \n",
              "      <progress value='33921' max='33921' style='width:300px; height:20px; vertical-align: middle;'></progress>\n",
              "      [33921/33921 9:00:40, Epoch 3/3]\n",
              "    </div>\n",
              "    <table border=\"1\" class=\"dataframe\">\n",
              "  <thead>\n",
              " <tr style=\"text-align: left;\">\n",
              "      <th>Epoch</th>\n",
              "      <th>Training Loss</th>\n",
              "      <th>Validation Loss</th>\n",
              "    </tr>\n",
              "  </thead>\n",
              "  <tbody>\n",
              "    <tr>\n",
              "      <td>1</td>\n",
              "      <td>1.060100</td>\n",
              "      <td>1.084853</td>\n",
              "    </tr>\n",
              "    <tr>\n",
              "      <td>2</td>\n",
              "      <td>0.691800</td>\n",
              "      <td>1.158811</td>\n",
              "    </tr>\n",
              "    <tr>\n",
              "      <td>3</td>\n",
              "      <td>0.407100</td>\n",
              "      <td>1.567183</td>\n",
              "    </tr>\n",
              "  </tbody>\n",
              "</table><p>"
            ],
            "text/plain": [
              "<IPython.core.display.HTML object>"
            ]
          },
          "metadata": {},
          "output_type": "display_data"
        },
        {
          "name": "stderr",
          "output_type": "stream",
          "text": [
            "Saving model checkpoint to tests-finetuned-squad-full/checkpoint-2000\n",
            "Configuration saved in tests-finetuned-squad-full/checkpoint-2000/config.json\n",
            "Model weights saved in tests-finetuned-squad-full/checkpoint-2000/pytorch_model.bin\n",
            "tokenizer config file saved in tests-finetuned-squad-full/checkpoint-2000/tokenizer_config.json\n",
            "Special tokens file saved in tests-finetuned-squad-full/checkpoint-2000/special_tokens_map.json\n",
            "tokenizer config file saved in tests-finetuned-squad-full/tokenizer_config.json\n",
            "Special tokens file saved in tests-finetuned-squad-full/special_tokens_map.json\n",
            "Saving model checkpoint to tests-finetuned-squad-full/checkpoint-4000\n",
            "Configuration saved in tests-finetuned-squad-full/checkpoint-4000/config.json\n",
            "Model weights saved in tests-finetuned-squad-full/checkpoint-4000/pytorch_model.bin\n",
            "tokenizer config file saved in tests-finetuned-squad-full/checkpoint-4000/tokenizer_config.json\n",
            "Special tokens file saved in tests-finetuned-squad-full/checkpoint-4000/special_tokens_map.json\n",
            "tokenizer config file saved in tests-finetuned-squad-full/tokenizer_config.json\n",
            "Special tokens file saved in tests-finetuned-squad-full/special_tokens_map.json\n",
            "Saving model checkpoint to tests-finetuned-squad-full/checkpoint-6000\n",
            "Configuration saved in tests-finetuned-squad-full/checkpoint-6000/config.json\n",
            "Model weights saved in tests-finetuned-squad-full/checkpoint-6000/pytorch_model.bin\n",
            "tokenizer config file saved in tests-finetuned-squad-full/checkpoint-6000/tokenizer_config.json\n",
            "Special tokens file saved in tests-finetuned-squad-full/checkpoint-6000/special_tokens_map.json\n",
            "tokenizer config file saved in tests-finetuned-squad-full/tokenizer_config.json\n",
            "Special tokens file saved in tests-finetuned-squad-full/special_tokens_map.json\n",
            "Saving model checkpoint to tests-finetuned-squad-full/checkpoint-8000\n",
            "Configuration saved in tests-finetuned-squad-full/checkpoint-8000/config.json\n",
            "Model weights saved in tests-finetuned-squad-full/checkpoint-8000/pytorch_model.bin\n",
            "tokenizer config file saved in tests-finetuned-squad-full/checkpoint-8000/tokenizer_config.json\n",
            "Special tokens file saved in tests-finetuned-squad-full/checkpoint-8000/special_tokens_map.json\n",
            "tokenizer config file saved in tests-finetuned-squad-full/tokenizer_config.json\n",
            "Special tokens file saved in tests-finetuned-squad-full/special_tokens_map.json\n",
            "Saving model checkpoint to tests-finetuned-squad-full/checkpoint-10000\n",
            "Configuration saved in tests-finetuned-squad-full/checkpoint-10000/config.json\n",
            "Model weights saved in tests-finetuned-squad-full/checkpoint-10000/pytorch_model.bin\n",
            "tokenizer config file saved in tests-finetuned-squad-full/checkpoint-10000/tokenizer_config.json\n",
            "Special tokens file saved in tests-finetuned-squad-full/checkpoint-10000/special_tokens_map.json\n",
            "tokenizer config file saved in tests-finetuned-squad-full/tokenizer_config.json\n",
            "Special tokens file saved in tests-finetuned-squad-full/special_tokens_map.json\n",
            "***** Running Evaluation *****\n",
            "  Num examples = 5022\n",
            "  Batch size = 4\n",
            "Saving model checkpoint to tests-finetuned-squad-full/checkpoint-12000\n",
            "Configuration saved in tests-finetuned-squad-full/checkpoint-12000/config.json\n",
            "Model weights saved in tests-finetuned-squad-full/checkpoint-12000/pytorch_model.bin\n",
            "tokenizer config file saved in tests-finetuned-squad-full/checkpoint-12000/tokenizer_config.json\n",
            "Special tokens file saved in tests-finetuned-squad-full/checkpoint-12000/special_tokens_map.json\n",
            "tokenizer config file saved in tests-finetuned-squad-full/tokenizer_config.json\n",
            "Special tokens file saved in tests-finetuned-squad-full/special_tokens_map.json\n",
            "Saving model checkpoint to tests-finetuned-squad-full/checkpoint-14000\n",
            "Configuration saved in tests-finetuned-squad-full/checkpoint-14000/config.json\n",
            "Model weights saved in tests-finetuned-squad-full/checkpoint-14000/pytorch_model.bin\n",
            "tokenizer config file saved in tests-finetuned-squad-full/checkpoint-14000/tokenizer_config.json\n",
            "Special tokens file saved in tests-finetuned-squad-full/checkpoint-14000/special_tokens_map.json\n",
            "tokenizer config file saved in tests-finetuned-squad-full/tokenizer_config.json\n",
            "Special tokens file saved in tests-finetuned-squad-full/special_tokens_map.json\n",
            "Saving model checkpoint to tests-finetuned-squad-full/checkpoint-16000\n",
            "Configuration saved in tests-finetuned-squad-full/checkpoint-16000/config.json\n",
            "Model weights saved in tests-finetuned-squad-full/checkpoint-16000/pytorch_model.bin\n",
            "tokenizer config file saved in tests-finetuned-squad-full/checkpoint-16000/tokenizer_config.json\n",
            "Special tokens file saved in tests-finetuned-squad-full/checkpoint-16000/special_tokens_map.json\n",
            "tokenizer config file saved in tests-finetuned-squad-full/tokenizer_config.json\n",
            "Special tokens file saved in tests-finetuned-squad-full/special_tokens_map.json\n",
            "Saving model checkpoint to tests-finetuned-squad-full/checkpoint-18000\n",
            "Configuration saved in tests-finetuned-squad-full/checkpoint-18000/config.json\n",
            "Model weights saved in tests-finetuned-squad-full/checkpoint-18000/pytorch_model.bin\n",
            "tokenizer config file saved in tests-finetuned-squad-full/checkpoint-18000/tokenizer_config.json\n",
            "Special tokens file saved in tests-finetuned-squad-full/checkpoint-18000/special_tokens_map.json\n",
            "tokenizer config file saved in tests-finetuned-squad-full/tokenizer_config.json\n",
            "Special tokens file saved in tests-finetuned-squad-full/special_tokens_map.json\n",
            "Saving model checkpoint to tests-finetuned-squad-full/checkpoint-20000\n",
            "Configuration saved in tests-finetuned-squad-full/checkpoint-20000/config.json\n",
            "Model weights saved in tests-finetuned-squad-full/checkpoint-20000/pytorch_model.bin\n",
            "tokenizer config file saved in tests-finetuned-squad-full/checkpoint-20000/tokenizer_config.json\n",
            "Special tokens file saved in tests-finetuned-squad-full/checkpoint-20000/special_tokens_map.json\n",
            "tokenizer config file saved in tests-finetuned-squad-full/tokenizer_config.json\n",
            "Special tokens file saved in tests-finetuned-squad-full/special_tokens_map.json\n",
            "Saving model checkpoint to tests-finetuned-squad-full/checkpoint-22000\n",
            "Configuration saved in tests-finetuned-squad-full/checkpoint-22000/config.json\n",
            "Model weights saved in tests-finetuned-squad-full/checkpoint-22000/pytorch_model.bin\n",
            "tokenizer config file saved in tests-finetuned-squad-full/checkpoint-22000/tokenizer_config.json\n",
            "Special tokens file saved in tests-finetuned-squad-full/checkpoint-22000/special_tokens_map.json\n",
            "tokenizer config file saved in tests-finetuned-squad-full/tokenizer_config.json\n",
            "Special tokens file saved in tests-finetuned-squad-full/special_tokens_map.json\n",
            "***** Running Evaluation *****\n",
            "  Num examples = 5022\n",
            "  Batch size = 4\n",
            "Saving model checkpoint to tests-finetuned-squad-full/checkpoint-24000\n",
            "Configuration saved in tests-finetuned-squad-full/checkpoint-24000/config.json\n",
            "Model weights saved in tests-finetuned-squad-full/checkpoint-24000/pytorch_model.bin\n",
            "tokenizer config file saved in tests-finetuned-squad-full/checkpoint-24000/tokenizer_config.json\n",
            "Special tokens file saved in tests-finetuned-squad-full/checkpoint-24000/special_tokens_map.json\n",
            "tokenizer config file saved in tests-finetuned-squad-full/tokenizer_config.json\n",
            "Special tokens file saved in tests-finetuned-squad-full/special_tokens_map.json\n",
            "Saving model checkpoint to tests-finetuned-squad-full/checkpoint-26000\n",
            "Configuration saved in tests-finetuned-squad-full/checkpoint-26000/config.json\n",
            "Model weights saved in tests-finetuned-squad-full/checkpoint-26000/pytorch_model.bin\n",
            "tokenizer config file saved in tests-finetuned-squad-full/checkpoint-26000/tokenizer_config.json\n",
            "Special tokens file saved in tests-finetuned-squad-full/checkpoint-26000/special_tokens_map.json\n",
            "tokenizer config file saved in tests-finetuned-squad-full/tokenizer_config.json\n",
            "Special tokens file saved in tests-finetuned-squad-full/special_tokens_map.json\n",
            "Saving model checkpoint to tests-finetuned-squad-full/checkpoint-28000\n",
            "Configuration saved in tests-finetuned-squad-full/checkpoint-28000/config.json\n",
            "Model weights saved in tests-finetuned-squad-full/checkpoint-28000/pytorch_model.bin\n",
            "tokenizer config file saved in tests-finetuned-squad-full/checkpoint-28000/tokenizer_config.json\n",
            "Special tokens file saved in tests-finetuned-squad-full/checkpoint-28000/special_tokens_map.json\n",
            "tokenizer config file saved in tests-finetuned-squad-full/tokenizer_config.json\n",
            "Special tokens file saved in tests-finetuned-squad-full/special_tokens_map.json\n",
            "Saving model checkpoint to tests-finetuned-squad-full/checkpoint-30000\n",
            "Configuration saved in tests-finetuned-squad-full/checkpoint-30000/config.json\n",
            "Model weights saved in tests-finetuned-squad-full/checkpoint-30000/pytorch_model.bin\n",
            "tokenizer config file saved in tests-finetuned-squad-full/checkpoint-30000/tokenizer_config.json\n",
            "Special tokens file saved in tests-finetuned-squad-full/checkpoint-30000/special_tokens_map.json\n",
            "tokenizer config file saved in tests-finetuned-squad-full/tokenizer_config.json\n",
            "Special tokens file saved in tests-finetuned-squad-full/special_tokens_map.json\n",
            "Saving model checkpoint to tests-finetuned-squad-full/checkpoint-32000\n",
            "Configuration saved in tests-finetuned-squad-full/checkpoint-32000/config.json\n",
            "Model weights saved in tests-finetuned-squad-full/checkpoint-32000/pytorch_model.bin\n",
            "tokenizer config file saved in tests-finetuned-squad-full/checkpoint-32000/tokenizer_config.json\n",
            "Special tokens file saved in tests-finetuned-squad-full/checkpoint-32000/special_tokens_map.json\n",
            "tokenizer config file saved in tests-finetuned-squad-full/tokenizer_config.json\n",
            "Special tokens file saved in tests-finetuned-squad-full/special_tokens_map.json\n",
            "***** Running Evaluation *****\n",
            "  Num examples = 5022\n",
            "  Batch size = 4\n",
            "\n",
            "\n",
            "Training completed. Do not forget to share your model on huggingface.co/models =)\n",
            "\n",
            "\n"
          ]
        },
        {
          "data": {
            "text/plain": [
              "TrainOutput(global_step=33921, training_loss=0.8008415258379534, metrics={'train_runtime': 32441.5314, 'train_samples_per_second': 4.182, 'train_steps_per_second': 1.046, 'total_flos': 1.260051156139991e+17, 'train_loss': 0.8008415258379534, 'epoch': 3.0})"
            ]
          },
          "execution_count": 43,
          "metadata": {},
          "output_type": "execute_result"
        }
      ],
      "source": [
        "trainer.train()"
      ]
    },
    {
      "cell_type": "markdown",
      "metadata": {
        "id": "IhSVO61R4agc"
      },
      "source": [
        "## Проверка модели"
      ]
    },
    {
      "cell_type": "code",
      "execution_count": null,
      "metadata": {
        "colab": {
          "base_uri": "https://localhost:8080/"
        },
        "id": "iETcEofn4b-W",
        "outputId": "f61d8fcc-30cd-4288-cd26-ee89f766d727"
      },
      "outputs": [
        {
          "data": {
            "text/plain": [
              "odict_keys(['loss', 'start_logits', 'end_logits'])"
            ]
          },
          "execution_count": 43,
          "metadata": {},
          "output_type": "execute_result"
        }
      ],
      "source": [
        "import torch\n",
        "\n",
        "for batch in trainer.get_eval_dataloader():\n",
        "    break\n",
        "batch = {k: v.to(trainer.args.device) for k, v in batch.items()}\n",
        "with torch.no_grad():\n",
        "    output = trainer.model(**batch)\n",
        "output.keys()"
      ]
    },
    {
      "cell_type": "code",
      "execution_count": null,
      "metadata": {
        "colab": {
          "base_uri": "https://localhost:8080/"
        },
        "id": "1h45NNB84xgj",
        "outputId": "bdaeff9b-ccec-4370-fbb6-5f663814968d"
      },
      "outputs": [
        {
          "data": {
            "text/plain": [
              "(torch.Size([16, 512]), torch.Size([16, 512]))"
            ]
          },
          "execution_count": 44,
          "metadata": {},
          "output_type": "execute_result"
        }
      ],
      "source": [
        "output.start_logits.shape, output.end_logits.shape"
      ]
    },
    {
      "cell_type": "code",
      "execution_count": null,
      "metadata": {
        "colab": {
          "base_uri": "https://localhost:8080/"
        },
        "id": "y-WhJsdc40YX",
        "outputId": "1802574d-f56d-4166-a5ce-f50441e915f7"
      },
      "outputs": [
        {
          "data": {
            "text/plain": [
              "(tensor([ 16,  39,  27,  34, 106,  81,  57,  16, 113,  61, 135,  92, 132,  45,\n",
              "          41, 102], device='cuda:0'),\n",
              " tensor([ 16,  41,  28,  35, 107,  82,  63,  17, 116,  64, 143, 100, 134,  47,\n",
              "          47, 107], device='cuda:0'))"
            ]
          },
          "execution_count": 45,
          "metadata": {},
          "output_type": "execute_result"
        }
      ],
      "source": [
        "output.start_logits.argmax(dim=-1), output.end_logits.argmax(dim=-1)"
      ]
    },
    {
      "cell_type": "markdown",
      "metadata": {
        "id": "ikXTNalYS7dE"
      },
      "source": [
        "Выбираем 20 лучших вариантов ответа"
      ]
    },
    {
      "cell_type": "code",
      "execution_count": null,
      "metadata": {
        "id": "SaJjDx5541LB"
      },
      "outputs": [],
      "source": [
        "n_best_size = 20"
      ]
    },
    {
      "cell_type": "code",
      "execution_count": null,
      "metadata": {
        "id": "C5baTzER42r1"
      },
      "outputs": [],
      "source": [
        "import numpy as np\n",
        "\n",
        "start_logits = output.start_logits[0].cpu().numpy()\n",
        "end_logits = output.end_logits[0].cpu().numpy()\n",
        "\n",
        "start_indexes = np.argsort(start_logits)[-1 : -n_best_size - 1 : -1].tolist()\n",
        "end_indexes = np.argsort(end_logits)[-1 : -n_best_size - 1 : -1].tolist()\n",
        "valid_answers = []\n",
        "for start_index in start_indexes:\n",
        "    for end_index in end_indexes:\n",
        "        if start_index <= end_index:\n",
        "            valid_answers.append(\n",
        "                {\n",
        "                    \"score\": start_logits[start_index] + end_logits[end_index],\n",
        "                    \"text\": \"\"\n",
        "                }\n",
        "            )"
      ]
    },
    {
      "cell_type": "markdown",
      "metadata": {
        "id": "dvYcgFcmZHP3"
      },
      "source": [
        "Сортируем ответы по их оценке (SCORE) и проверяем что наш ответ точно находится в контексте, а не в вопросе"
      ]
    },
    {
      "cell_type": "code",
      "execution_count": null,
      "metadata": {
        "id": "MvPKr_Y443lA"
      },
      "outputs": [],
      "source": [
        "def prepare_validation_features(examples):\n",
        "\n",
        "    examples[\"question\"] = [q.lstrip() for q in examples[\"question\"]]\n",
        "\n",
        "    tokenized_examples = tokenizer(\n",
        "        examples[\"question\" if pad_on_right else \"context\"],\n",
        "        examples[\"context\" if pad_on_right else \"question\"],\n",
        "        truncation=\"only_second\" if pad_on_right else \"only_first\",\n",
        "        max_length=max_length,\n",
        "        stride=doc_stride,\n",
        "        return_overflowing_tokens=True,\n",
        "        return_offsets_mapping=True,\n",
        "        padding=\"max_length\",\n",
        "    )\n",
        "\n",
        "    sample_mapping = tokenized_examples.pop(\"overflow_to_sample_mapping\")\n",
        "\n",
        "    tokenized_examples[\"example_id\"] = []\n",
        "    tokenized_examples[\"labels\"] = tokenize_and_align_labels_c(tokenized_examples, examples)\n",
        "    for i in range(len(tokenized_examples[\"input_ids\"])):\n",
        "        sequence_ids = tokenized_examples.sequence_ids(i)\n",
        "        context_index = 1 if pad_on_right else 0\n",
        "\n",
        "        sample_index = sample_mapping[i]\n",
        "        tokenized_examples[\"example_id\"].append(examples[\"__index_level_0__\"][sample_index])\n",
        "\n",
        "        tokenized_examples[\"offset_mapping\"][i] = [\n",
        "            (o if sequence_ids[k] == context_index else None)\n",
        "            for k, o in enumerate(tokenized_examples[\"offset_mapping\"][i])\n",
        "        ]\n",
        "\n",
        "    return tokenized_examples"
      ]
    },
    {
      "cell_type": "code",
      "execution_count": null,
      "metadata": {
        "colab": {
          "base_uri": "https://localhost:8080/",
          "height": 49,
          "referenced_widgets": [
            "d7140666cae24f8c8bc52b66cdd02595",
            "325dd1e2a8404fe487dbb1d07b703fdf",
            "4d3315de898e47e2ad1b9cdfb5cce474",
            "55766c180b1a4bf384d36a7d947e28e1",
            "f6bb78658ada4b5f8971f1b992bc0a19",
            "1a03bda644054ac9b8ea6b44755b665b",
            "c7727a2234344601b3cae7ac921a72f3",
            "f3270d496e6f4b43b5e745136ebe2e69",
            "360efa3b030e4892a62ddb5847ca39c6",
            "db86c0b968b54ffda5353e6ad5be7278",
            "0a411dc8259d428aba9645def04401c4"
          ]
        },
        "id": "d7Qm26qV44rh",
        "outputId": "64f97c5a-80c7-4006-e94b-34786e69c05c"
      },
      "outputs": [
        {
          "data": {
            "application/vnd.jupyter.widget-view+json": {
              "model_id": "d7140666cae24f8c8bc52b66cdd02595",
              "version_major": 2,
              "version_minor": 0
            },
            "text/plain": [
              "  0%|          | 0/6 [00:00<?, ?ba/s]"
            ]
          },
          "metadata": {},
          "output_type": "display_data"
        }
      ],
      "source": [
        "validation_features = data_test.map(\n",
        "    prepare_validation_features,\n",
        "    batched=True,\n",
        "    remove_columns=data_test.column_names\n",
        ")"
      ]
    },
    {
      "cell_type": "code",
      "execution_count": null,
      "metadata": {
        "colab": {
          "base_uri": "https://localhost:8080/"
        },
        "id": "A8GulBiYUpMd",
        "outputId": "bb5ec35a-08c7-40cf-a92b-0f4524e0f7b2"
      },
      "outputs": [
        {
          "data": {
            "text/plain": [
              "Dataset({\n",
              "    features: ['input_ids', 'token_type_ids', 'attention_mask', 'offset_mapping', 'example_id', 'labels'],\n",
              "    num_rows: 5022\n",
              "})"
            ]
          },
          "execution_count": 50,
          "metadata": {},
          "output_type": "execute_result"
        }
      ],
      "source": [
        "validation_features"
      ]
    },
    {
      "cell_type": "code",
      "execution_count": null,
      "metadata": {
        "colab": {
          "base_uri": "https://localhost:8080/",
          "height": 131
        },
        "id": "DgLmGBbd47jT",
        "outputId": "c183cc90-2b0c-45ce-eb33-bc8670c2f025"
      },
      "outputs": [
        {
          "name": "stderr",
          "output_type": "stream",
          "text": [
            "The following columns in the test set  don't have a corresponding argument in `BertForQuestionAnswering.forward` and have been ignored: example_id, offset_mapping. If example_id, offset_mapping are not expected by `BertForQuestionAnswering.forward`,  you can safely ignore this message.\n",
            "***** Running Prediction *****\n",
            "  Num examples = 5022\n",
            "  Batch size = 16\n"
          ]
        },
        {
          "data": {
            "text/html": [
              "\n",
              "    <div>\n",
              "      \n",
              "      <progress value='314' max='314' style='width:300px; height:20px; vertical-align: middle;'></progress>\n",
              "      [314/314 01:35]\n",
              "    </div>\n",
              "    "
            ],
            "text/plain": [
              "<IPython.core.display.HTML object>"
            ]
          },
          "metadata": {},
          "output_type": "display_data"
        }
      ],
      "source": [
        "raw_predictions = trainer.predict(validation_features)"
      ]
    },
    {
      "cell_type": "code",
      "execution_count": null,
      "metadata": {
        "colab": {
          "base_uri": "https://localhost:8080/"
        },
        "id": "VPEL8XuhVDVC",
        "outputId": "b4c38d14-00f2-4664-b2a9-fe600e14f0eb"
      },
      "outputs": [
        {
          "name": "stdout",
          "output_type": "stream",
          "text": [
            "[-5.728 -6.781 -7.398 -7.856 -7.653 -7.874 -8.237 -8.358 -7.949 -7.015\n",
            " -2.764 -3.575 -3.656 -4.018  3.413  4.031  7.781 -4.145 -3.464 -5.82\n",
            " -6.166 -6.141 -6.025 -6.34  -5.329 -6.029 -5.915 -5.485 -3.96  -4.062\n",
            " -6.993 -4.876 -7.457 -6.534 -7.026 -7.198 -7.951 -6.858 -6.129 -7.055\n",
            " -7.766 -7.528 -7.072 -8.18  -7.175 -5.904 -7.701 -7.891 -6.857 -7.234\n",
            " -7.561 -7.885 -8.007 -6.84  -7.261 -7.556 -7.44  -7.431 -7.567 -7.84\n",
            " -8.227 -8.254 -7.398 -7.559 -7.462 -7.667 -7.966 -8.208 -7.337 -7.106\n",
            " -7.802 -7.658 -6.978 -7.498 -8.067 -8.234 -8.262 -7.459 -7.225 -7.457\n",
            " -7.693 -7.879 -8.628 -7.766 -7.752 -7.223 -7.639 -8.021 -7.654 -7.713\n",
            " -8.085 -7.332 -6.529 -7.556 -7.493 -6.692 -7.191 -7.452 -6.949 -8.172\n",
            " -7.78  -6.808 -7.201 -7.804 -7.728 -6.344 -7.2   -7.347 -7.969 -7.195\n",
            " -7.426 -7.478 -7.872 -8.182 -7.546 -7.964 -7.999 -7.999 -8.189 -8.331\n",
            " -8.047 -8.038 -7.829 -8.589 -8.37  -7.009 -7.436 -7.788 -7.865 -8.227\n",
            " -8.035 -8.02  -8.1   -8.619 -8.285 -7.022 -7.787 -7.764 -7.457 -7.546\n",
            " -7.938 -8.57  -7.346 -5.914 -6.716 -6.54  -7.646 -8.146 -8.178 -7.364\n",
            " -7.998 -7.596 -7.996 -7.712 -8.16  -8.058 -7.533 -7.098 -8.203 -8.189\n",
            " -7.461 -8.438 -8.223 -7.641 -7.816 -7.251 -8.117 -8.08  -8.333 -7.745\n",
            " -7.965 -7.531 -7.909 -8.329 -8.304 -8.467 -8.106 -8.419 -8.303 -8.375\n",
            " -7.751 -7.944 -7.531 -7.735 -8.234 -8.377 -8.172 -8.506 -8.494 -8.081\n",
            " -7.027 -8.401 -8.341 -8.468 -8.535 -8.546 -8.599 -8.568 -8.561 -8.634\n",
            " -8.521 -8.564 -8.426 -8.376 -8.367 -8.393 -8.538 -8.569 -8.629 -8.529\n",
            " -8.553 -8.438 -8.38  -8.428 -8.408 -8.387 -8.391 -8.401 -8.439 -8.438\n",
            " -8.488 -8.589 -8.55  -8.507 -8.486 -8.465 -8.462 -8.32  -8.412 -8.497\n",
            " -8.408 -8.321 -8.448 -8.502 -8.517 -8.496 -8.54  -8.508 -8.518 -8.539\n",
            " -8.473 -8.463 -8.464 -8.483 -8.413 -8.324 -8.329 -8.336 -8.346 -8.314\n",
            " -8.382 -8.414 -8.477 -8.454 -8.52  -8.534 -8.471 -8.413 -8.394 -8.414\n",
            " -8.34  -8.394 -8.416 -8.408 -8.407 -8.464 -8.44  -8.448 -8.44  -8.447\n",
            " -8.411 -8.368 -8.397 -8.307 -8.32  -8.337 -8.355 -8.355 -8.347 -8.379\n",
            " -8.457 -8.431 -8.401 -8.433 -8.481 -8.454 -8.469 -8.492 -8.456 -8.465\n",
            " -8.448 -8.4   -8.416 -8.429 -8.407 -8.386 -8.345 -8.4   -8.43  -8.45\n",
            " -8.511 -8.492 -8.474 -8.458 -8.438 -8.451 -8.459 -8.498 -8.512 -8.555\n",
            " -8.474 -8.567 -8.568 -8.575 -8.621 -8.541 -8.496 -8.554 -8.49  -8.422\n",
            " -8.472 -8.504 -8.59  -8.624 -8.675 -8.619 -8.622 -8.525 -8.527 -8.591\n",
            " -8.598 -8.436 -8.533 -8.493 -8.579 -8.577 -8.539 -8.613 -8.622 -8.637\n",
            " -8.59  -8.415 -8.582 -8.598 -8.436 -8.47  -8.469 -8.477 -8.633 -8.697\n",
            " -8.566 -8.509 -8.372 -8.36  -8.612 -8.695 -8.7   -8.416 -8.504 -8.539\n",
            " -8.537 -8.483 -8.42  -8.484 -8.551 -8.535 -8.616 -8.585 -7.889 -8.493\n",
            " -8.626 -8.61  -8.537 -8.518 -8.644 -8.541 -8.468 -8.633 -8.686 -8.556\n",
            " -8.446 -8.455 -8.458 -8.541 -8.69  -8.519 -8.469 -8.462 -8.596 -8.582\n",
            " -8.588 -8.612 -8.67  -8.51  -8.365 -8.629 -8.615 -8.5   -8.465 -8.44\n",
            " -8.449 -8.554 -8.617 -8.611 -8.624 -8.497 -8.592 -8.563 -8.359 -8.277\n",
            " -8.494 -8.57  -8.548 -8.539 -8.562 -8.542 -8.585 -8.55  -8.564 -8.559\n",
            " -8.459 -8.475 -8.43  -8.497 -8.591 -8.569 -8.604 -8.558 -8.575 -8.342\n",
            " -8.498 -8.575 -8.552 -8.531 -8.54  -8.56  -8.552 -8.557 -8.586 -8.569\n",
            " -8.621 -8.547 -8.541 -8.418 -8.39  -8.465 -8.536 -8.601 -8.574 -8.568\n",
            " -8.385 -8.386 -8.495 -8.535 -8.545 -8.538 -8.551 -8.549 -8.522 -8.506\n",
            " -8.487 -8.428 -8.477 -8.503 -8.556 -8.607 -8.577 -8.585 -8.552 -8.561\n",
            " -8.39  -8.427 -8.513 -8.505 -8.57  -8.597 -8.606 -8.552 -8.583 -8.603\n",
            " -8.54  -8.55  -8.54  -8.446 -8.471 -8.526 -8.582 -8.641 -8.613 -8.62\n",
            " -8.534 -8.585 -8.593 -8.53  -8.506 -8.484 -8.492 -8.56  -8.57  -8.616\n",
            " -8.646 -8.614 -8.617 -8.604 -8.502 -8.55  -8.51  -8.484 -8.565 -8.6\n",
            " -8.4   -8.536]\n"
          ]
        }
      ],
      "source": [
        "print((raw_predictions[0][0][0]))"
      ]
    },
    {
      "cell_type": "code",
      "execution_count": null,
      "metadata": {
        "id": "gYuN0HGra19r"
      },
      "outputs": [],
      "source": [
        "max_answer_length = 50"
      ]
    },
    {
      "cell_type": "code",
      "execution_count": null,
      "metadata": {
        "colab": {
          "base_uri": "https://localhost:8080/"
        },
        "id": "mWAlRuf4azgj",
        "outputId": "031a0203-8fc9-4bd0-9a4d-65e31f693c8d"
      },
      "outputs": [
        {
          "data": {
            "text/plain": [
              "[{'score': 15.076738, 'text': 'лихорадкой'},\n",
              " {'score': 13.927921, 'text': 'лихорадкой,'},\n",
              " {'score': 11.326551, 'text': 'заболел лихорадкой'},\n",
              " {'score': 10.708677, 'text': 'Байрон заболел лихорадкой'},\n",
              " {'score': 10.177734, 'text': 'заболел лихорадкой,'},\n",
              " {'score': 9.55986, 'text': 'Байрон заболел лихорадкой,'},\n",
              " {'score': 9.095023,\n",
              "  'text': 'лихорадкой, продолжая отдавать все свои силы на борьбу за свободу страны.'},\n",
              " {'score': 8.297618,\n",
              "  'text': 'лихорадкой, продолжая отдавать все свои силы на борьбу за свободу страны'},\n",
              " {'score': 5.3448353,\n",
              "  'text': 'заболел лихорадкой, продолжая отдавать все свои силы на борьбу за свободу страны.'},\n",
              " {'score': 4.726962,\n",
              "  'text': 'Байрон заболел лихорадкой, продолжая отдавать все свои силы на борьбу за свободу страны.'},\n",
              " {'score': 4.5474305,\n",
              "  'text': 'заболел лихорадкой, продолжая отдавать все свои силы на борьбу за свободу страны'},\n",
              " {'score': 4.531169, 'text': 'В Миссолонги Байрон заболел лихорадкой'},\n",
              " {'score': 3.9295568,\n",
              "  'text': 'Байрон заболел лихорадкой, продолжая отдавать все свои силы на борьбу за свободу страны'},\n",
              " {'score': 3.7367058, 'text': 'лихорадкой, продолжая отдавать все свои силы'},\n",
              " {'score': 3.7209926, 'text': 'Миссолонги Байрон заболел лихорадкой'},\n",
              " {'score': 3.6677318, 'text': 'лихорадкой, продолжая'},\n",
              " {'score': 3.6391375, 'text': 'олонги Байрон заболел лихорадкой'},\n",
              " {'score': 3.382352, 'text': 'В Миссолонги Байрон заболел лихорадкой,'},\n",
              " {'score': 3.277749, 'text': 'ги Байрон заболел лихорадкой'},\n",
              " {'score': 3.1357808,\n",
              "  'text': 'лихорадкой, продолжая отдавать все свои силы на борьбу за свободу страны. 19 января 1824'}]"
            ]
          },
          "execution_count": 89,
          "metadata": {},
          "output_type": "execute_result"
        }
      ],
      "source": [
        "start_logits = output.start_logits[0].cpu().numpy()\n",
        "end_logits = output.end_logits[0].cpu().numpy()\n",
        "offset_mapping = validation_features[0][\"offset_mapping\"]\n",
        "\n",
        "context = data_test[0][\"context\"]\n",
        "\n",
        "start_indexes = np.argsort(start_logits)[-1 : -n_best_size - 1 : -1].tolist()\n",
        "end_indexes = np.argsort(end_logits)[-1 : -n_best_size - 1 : -1].tolist()\n",
        "valid_answers = []\n",
        "for start_index in start_indexes:\n",
        "    for end_index in end_indexes:\n",
        "        if (\n",
        "            start_index >= len(offset_mapping)\n",
        "            or end_index >= len(offset_mapping)\n",
        "            or offset_mapping[start_index] is None\n",
        "            or offset_mapping[end_index] is None\n",
        "        ):\n",
        "            continue\n",
        "        if end_index < start_index or end_index - start_index + 1 > max_answer_length:\n",
        "            continue\n",
        "        if start_index <= end_index:\n",
        "            start_char = offset_mapping[start_index][0]\n",
        "            end_char = offset_mapping[end_index][1]\n",
        "            valid_answers.append(\n",
        "                {\n",
        "                    \"score\": start_logits[start_index] + end_logits[end_index],\n",
        "                    \"text\": context[start_char: end_char]\n",
        "                }\n",
        "            )\n",
        "\n",
        "valid_answers = sorted(valid_answers, key=lambda x: x[\"score\"], reverse=True)[:n_best_size]\n",
        "valid_answers"
      ]
    },
    {
      "cell_type": "code",
      "execution_count": null,
      "metadata": {
        "colab": {
          "base_uri": "https://localhost:8080/"
        },
        "id": "JgO48wH8a6Rd",
        "outputId": "c9a168ca-6b46-47fb-d9a6-ba79b156ee92"
      },
      "outputs": [
        {
          "data": {
            "text/plain": [
              "{'answer_start': [28], 'text': ['лихорадкой']}"
            ]
          },
          "execution_count": 59,
          "metadata": {},
          "output_type": "execute_result"
        }
      ],
      "source": [
        "data_test[0][\"answers\"]"
      ]
    },
    {
      "cell_type": "code",
      "execution_count": null,
      "metadata": {
        "id": "sKXDW-cz48sO"
      },
      "outputs": [],
      "source": [
        "def postprocess_qa_predictions(examples, features, raw_predictions, n_best_size = 20, max_answer_length = 30):\n",
        "    all_start_logits, all_end_logits = raw_predictions\n",
        "    example_id_to_index = {k: i for i, k in enumerate(examples[\"__index_level_0__\"])}\n",
        "    features_per_example = collections.defaultdict(list)\n",
        "    for i, feature in enumerate(features):\n",
        "        features_per_example[example_id_to_index[feature[\"example_id\"]]].append(i)\n",
        "\n",
        "    predictions = collections.OrderedDict()\n",
        "\n",
        "    print(f\"Post-processing {len(examples)} example predictions split into {len(features)} features.\")\n",
        "\n",
        "    for example_index, example in enumerate(tqdm(examples)):\n",
        "        feature_indices = features_per_example[example_index]\n",
        "\n",
        "        min_null_score = None\n",
        "        valid_answers = []\n",
        "        \n",
        "        context = example[\"context\"]\n",
        "        for feature_index in feature_indices:\n",
        "            start_logits = all_start_logits[feature_index]\n",
        "            end_logits = all_end_logits[feature_index]\n",
        "            offset_mapping = features[feature_index][\"offset_mapping\"]\n",
        "\n",
        "            cls_index = features[feature_index][\"input_ids\"].index(tokenizer.cls_token_id)\n",
        "            feature_null_score = start_logits[cls_index] + end_logits[cls_index]\n",
        "            if min_null_score is None or min_null_score < feature_null_score:\n",
        "                min_null_score = feature_null_score\n",
        "\n",
        "            start_indexes = np.argsort(start_logits)[-1 : -n_best_size - 1 : -1].tolist()\n",
        "            end_indexes = np.argsort(end_logits)[-1 : -n_best_size - 1 : -1].tolist()\n",
        "            for start_index in start_indexes:\n",
        "                for end_index in end_indexes:\n",
        "                    if (\n",
        "                        start_index >= len(offset_mapping)\n",
        "                        or end_index >= len(offset_mapping)\n",
        "                        or offset_mapping[start_index] is None\n",
        "                        or offset_mapping[end_index] is None\n",
        "                    ):\n",
        "                        continue\n",
        "                    if end_index < start_index or end_index - start_index + 1 > max_answer_length:\n",
        "                        continue\n",
        "\n",
        "                    start_char = offset_mapping[start_index][0]\n",
        "                    end_char = offset_mapping[end_index][1]\n",
        "                    valid_answers.append(\n",
        "                        {\n",
        "                            \"score\": start_logits[start_index] + end_logits[end_index],\n",
        "                            \"text\": context[start_char: end_char]\n",
        "                        }\n",
        "                    )\n",
        "        \n",
        "        if len(valid_answers) > 0:\n",
        "            best_answer = sorted(valid_answers, key=lambda x: x[\"score\"], reverse=True)[0]\n",
        "        else:\n",
        "            best_answer = {\"text\": \"\", \"score\": 0.0}\n",
        "        \n",
        "        predictions[example[\"__index_level_0__\"]] = best_answer[\"text\"]\n",
        "\n",
        "    return predictions\n"
      ]
    },
    {
      "cell_type": "code",
      "execution_count": null,
      "metadata": {
        "colab": {
          "base_uri": "https://localhost:8080/",
          "height": 67,
          "referenced_widgets": [
            "e62ba15316ee439593794730441afffb",
            "54d35e000e69422d8aa0187d7201cfec",
            "403ca4ef17ff4aa19eb09b9d6e8ca66d",
            "a3e117dcaf3f487784057e196db693f3",
            "6114c8643b254e37ac453e55a87689b2",
            "edd851c3a3324641a56a86624fdf057c",
            "50d46d9802aa48ac9c0589a0b04b83f4",
            "d2345028e70149b495b83c21c7da88aa",
            "55ff2641048f4176ab209b3717fa018f",
            "683e95f5a40d4e7a8f009ee3f2d9a22c",
            "9ae01733612343c1825f9e44622e743c"
          ]
        },
        "id": "pNm8v1XAaCiI",
        "outputId": "eeafc230-c0a5-4df3-b15f-d680a7b563e6"
      },
      "outputs": [
        {
          "name": "stdout",
          "output_type": "stream",
          "text": [
            "Post-processing 5022 example predictions split into 5022 features.\n"
          ]
        },
        {
          "data": {
            "application/vnd.jupyter.widget-view+json": {
              "model_id": "e62ba15316ee439593794730441afffb",
              "version_major": 2,
              "version_minor": 0
            },
            "text/plain": [
              "  0%|          | 0/5022 [00:00<?, ?it/s]"
            ]
          },
          "metadata": {},
          "output_type": "display_data"
        }
      ],
      "source": [
        "import collections\n",
        "from tqdm.auto import tqdm\n",
        "\n",
        "examples = data_test\n",
        "features = validation_features\n",
        "\n",
        "example_id_to_index = {k: i for i, k in enumerate(examples[\"__index_level_0__\"])}\n",
        "features_per_example = collections.defaultdict(list)\n",
        "for i, feature in enumerate(features):\n",
        "    features_per_example[example_id_to_index[feature[\"example_id\"]]].append(i)\n",
        "    \n",
        "final_predictions = postprocess_qa_predictions(data_test, validation_features, raw_predictions.predictions)\n",
        "references = [{\"qas_id\": ex[\"__index_level_0__\"], \"answers\": ex[\"answers\"]['text'][0]} for ex in data_test]"
      ]
    },
    {
      "cell_type": "code",
      "execution_count": null,
      "metadata": {
        "id": "JPvq3-DKU1X1"
      },
      "outputs": [],
      "source": [
        "res = pd.DataFrame(references)\n",
        "res['prediction'] = res['qas_id'].apply(lambda r: final_predictions[r])"
      ]
    },
    {
      "cell_type": "code",
      "execution_count": null,
      "metadata": {
        "id": "aJM575Inu-lN"
      },
      "outputs": [],
      "source": [
        "list_true = res['answers'].tolist()\n",
        "list_pred = res['prediction'].tolist()"
      ]
    },
    {
      "cell_type": "code",
      "execution_count": null,
      "metadata": {
        "id": "RMn7GUfns1HV"
      },
      "outputs": [],
      "source": [
        "import re\n",
        "import string\n",
        "from collections import Counter\n",
        "from typing import List\n",
        "\n",
        "from deeppavlov.core.common.metrics_registry import register_metric\n",
        "\n",
        "\n",
        "def squad_v1_f1(y_true: List[List[str]], y_predicted: List[str]) -> float:\n",
        "    \"\"\" Calculates F-1 score between y_true and y_predicted\n",
        "        F-1 score uses the best matching y_true answer\n",
        "        Skips examples without an answer.\n",
        "    Args:\n",
        "        y_true: list of correct answers (correct answers are represented by list of strings)\n",
        "        y_predicted: list of predicted answers\n",
        "    Returns:\n",
        "        F-1 score : float\n",
        "    \"\"\"\n",
        "    f1_total = 0.0\n",
        "    count = 0\n",
        "    for ground_truth, prediction in zip(y_true, y_predicted):\n",
        "        if len(ground_truth[0]) == 0:\n",
        "            # skip empty answers\n",
        "            continue\n",
        "        count += 1\n",
        "        prediction_tokens = normalize_answer(prediction).split()\n",
        "        f1s = []\n",
        "        ground_truth_tokens = normalize_answer(ground_truth).split()\n",
        "        common = Counter(prediction_tokens) & Counter(ground_truth_tokens)\n",
        "        num_same = sum(common.values())\n",
        "        if num_same == 0:\n",
        "            f1s.append(0.0)\n",
        "            continue\n",
        "        precision = 1.0 * num_same / len(prediction_tokens)\n",
        "        recall = 1.0 * num_same / len(ground_truth_tokens)\n",
        "        f1 = (2 * precision * recall) / (precision + recall)\n",
        "        f1s.append(f1)\n",
        "        f1_total += max(f1s)\n",
        "    return 100 * f1_total / count if count > 0 else 0\n",
        "\n",
        "def squad_v1_exact_match(y_true: List[List[str]], y_predicted: List[str]) -> float:\n",
        "    \"\"\" Calculates Exact Match score between y_true and y_predicted\n",
        "        EM score uses the best matching y_true answer:\n",
        "            if y_pred equal at least to one answer in y_true then EM = 1, else EM = 0\n",
        "        Skips examples without an answer.\n",
        "    Args:\n",
        "        y_true: list of correct answers (correct answers are represented by list of strings)\n",
        "        y_predicted: list of predicted answers\n",
        "    Returns:\n",
        "        exact match score : float\n",
        "    \"\"\"\n",
        "    EM_total = 0\n",
        "    count = 0\n",
        "    for ground_truth, prediction in zip(y_true, y_predicted):\n",
        "        if len(ground_truth[0]) == 0:\n",
        "            # skip empty answers\n",
        "            continue\n",
        "        # print(ground_truth)\n",
        "        # print(prediction)\n",
        "        # print('\\n')\n",
        "        count += 1\n",
        "        EMs = [int(normalize_answer(ground_truth) == normalize_answer(prediction))]\n",
        "        EM_total += max(EMs)\n",
        "    return 100 * EM_total / count if count > 0 else 0\n",
        "\n",
        "\n",
        "def normalize_answer(s: str) -> str:\n",
        "    def remove_articles(text):\n",
        "        return re.sub(r'\\b(a|an|the)\\b', ' ', text)\n",
        "\n",
        "    def white_space_fix(text):\n",
        "        return ' '.join(text.split())\n",
        "\n",
        "    def remove_punc(text):\n",
        "        exclude = set(string.punctuation)\n",
        "        return ''.join(ch for ch in text if ch not in exclude)\n",
        "\n",
        "    def lower(text):\n",
        "        return text.lower()\n",
        "\n",
        "    return white_space_fix(remove_articles(remove_punc(lower(s))))"
      ]
    },
    {
      "cell_type": "code",
      "execution_count": null,
      "metadata": {
        "id": "qv6zhNZGxaVW"
      },
      "outputs": [],
      "source": [
        "def get_f1_em(list_true, list_pred, model_name):\n",
        "  f1 = squad_v1_f1(list_true, list_pred)\n",
        "  em = squad_v1_exact_match(list_true, list_pred)\n",
        "  print(model_name)\n",
        "  print(\"F1: %f\\nEM: %f\"%(f1,em))"
      ]
    },
    {
      "cell_type": "code",
      "execution_count": null,
      "metadata": {
        "id": "cAfRtjEdw42t"
      },
      "outputs": [],
      "source": [
        ""
      ]
    },
    {
      "cell_type": "markdown",
      "metadata": {
        "id": "4PEbzrLCz-d7"
      },
      "source": [
        "## Результаты"
      ]
    },
    {
      "cell_type": "markdown",
      "metadata": {
        "id": "f49sp-xT0EHf"
      },
      "source": [
        "Sber Large"
      ]
    },
    {
      "cell_type": "code",
      "execution_count": null,
      "metadata": {
        "colab": {
          "base_uri": "https://localhost:8080/"
        },
        "id": "O_LXTvYPyDyO",
        "outputId": "a1b935cb-ebfc-4834-d627-dabcb5a1c8b9"
      },
      "outputs": [
        {
          "name": "stdout",
          "output_type": "stream",
          "text": [
            "Sber\n",
            "F1: 83.469967\n",
            "EM: 63.580247\n"
          ]
        }
      ],
      "source": [
        "get_f1_em(list_true, list_pred, 'Sber')"
      ]
    },
    {
      "cell_type": "markdown",
      "source": [
        "Sber Large + Label Size 10"
      ],
      "metadata": {
        "id": "ht_CjFAIrsgI"
      }
    },
    {
      "cell_type": "code",
      "execution_count": null,
      "metadata": {
        "colab": {
          "base_uri": "https://localhost:8080/"
        },
        "id": "4f3To1ho0VZm",
        "outputId": "8bfd804d-f8d9-4f40-af02-d0e9e032e793"
      },
      "outputs": [
        {
          "name": "stdout",
          "output_type": "stream",
          "text": [
            "Sber + Framebank\n",
            "F1: 83.384670\n",
            "EM: 63.480685\n"
          ]
        }
      ],
      "source": [
        "get_f1_em(list_true, list_pred, 'Sber + Framebank')"
      ]
    },
    {
      "cell_type": "markdown",
      "metadata": {
        "id": "j82uyA4Z1n-L"
      },
      "source": [
        "DeepPavlov"
      ]
    },
    {
      "cell_type": "code",
      "execution_count": null,
      "metadata": {
        "colab": {
          "base_uri": "https://localhost:8080/"
        },
        "id": "gmRfVm8MSszu",
        "outputId": "48c78c3d-85a3-4eab-e258-51cb85cb2a90"
      },
      "outputs": [
        {
          "name": "stdout",
          "output_type": "stream",
          "text": [
            "DeepPavlov\n",
            "F1: 83.991671\n",
            "EM: 63.998407\n"
          ]
        }
      ],
      "source": [
        "get_f1_em(list_true, list_pred, 'DeepPavlov')"
      ]
    },
    {
      "cell_type": "markdown",
      "source": [
        "DeepPavlov + Label Size 10"
      ],
      "metadata": {
        "id": "8I7QCLY9rwde"
      }
    },
    {
      "cell_type": "code",
      "execution_count": null,
      "metadata": {
        "colab": {
          "base_uri": "https://localhost:8080/"
        },
        "id": "raLMU_9az-ES",
        "outputId": "902b811e-9b7a-4867-8f24-df5ee70c700b"
      },
      "outputs": [
        {
          "name": "stdout",
          "output_type": "stream",
          "text": [
            "DeepPavlov + Framebank\n",
            "F1: 83.628515\n",
            "EM: 63.381123\n"
          ]
        }
      ],
      "source": [
        "get_f1_em(list_true, list_pred, 'DeepPavlov + Framebank')"
      ]
    },
    {
      "cell_type": "markdown",
      "metadata": {
        "id": "ecpDHsJflp9p"
      },
      "source": [
        "## Тесты с различными длинами Labels"
      ]
    },
    {
      "cell_type": "code",
      "execution_count": null,
      "metadata": {
        "colab": {
          "base_uri": "https://localhost:8080/"
        },
        "id": "6iTxcCowqDLs",
        "outputId": "48c78c3d-85a3-4eab-e258-51cb85cb2a90"
      },
      "outputs": [
        {
          "name": "stdout",
          "output_type": "stream",
          "text": [
            "DeepPavlov\n",
            "F1: 83.991671\n",
            "EM: 63.998407\n"
          ]
        }
      ],
      "source": [
        "get_f1_em(list_true, list_pred, 'DeepPavlov')"
      ]
    },
    {
      "cell_type": "markdown",
      "source": [
        "LabelSize = 10, epoch = 5"
      ],
      "metadata": {
        "id": "Qx0igmYSsJDU"
      }
    },
    {
      "cell_type": "code",
      "execution_count": null,
      "metadata": {
        "colab": {
          "base_uri": "https://localhost:8080/"
        },
        "id": "3pMdcC02BOLN",
        "outputId": "5c672c09-f2ac-4092-96cb-0b886775027f"
      },
      "outputs": [
        {
          "name": "stdout",
          "output_type": "stream",
          "text": [
            "DeepPavlov + Framebank + 5epoch\n",
            "F1: 83.322322\n",
            "EM: 62.086818\n"
          ]
        }
      ],
      "source": [
        "get_f1_em(list_true, list_pred, 'DeepPavlov + Framebank + 5epoch')"
      ]
    },
    {
      "cell_type": "markdown",
      "source": [
        "LabelSize = TokenSize / 2"
      ],
      "metadata": {
        "id": "eOBp-f48sNLQ"
      }
    },
    {
      "cell_type": "code",
      "execution_count": null,
      "metadata": {
        "colab": {
          "base_uri": "https://localhost:8080/"
        },
        "id": "RsMuoPo5pdNM",
        "outputId": "c26f65e3-0cb3-4520-feb1-4d6c809f85f1"
      },
      "outputs": [
        {
          "name": "stdout",
          "output_type": "stream",
          "text": [
            "DeepPavlov + Framebank + HideSize\n",
            "F1: 83.657054\n",
            "EM: 63.859020\n"
          ]
        }
      ],
      "source": [
        "#ruselkomp/deep-pavlov-framebank-hidesize\n",
        "get_f1_em(list_true, list_pred, 'DeepPavlov + Framebank + HideSize / 2')"
      ]
    },
    {
      "cell_type": "markdown",
      "source": [
        "LabelSize = TokenSize"
      ],
      "metadata": {
        "id": "2BHsGfVdsRa4"
      }
    },
    {
      "cell_type": "code",
      "execution_count": null,
      "metadata": {
        "colab": {
          "base_uri": "https://localhost:8080/"
        },
        "id": "40yupbXOlsad",
        "outputId": "5a3e134e-20dd-4790-a932-d2852ebb9f1f"
      },
      "outputs": [
        {
          "name": "stdout",
          "output_type": "stream",
          "text": [
            "DeepPavlov + Framebank + HideSize (full)\n",
            "F1: 84.095205\n",
            "EM: 64.317005\n"
          ]
        }
      ],
      "source": [
        "#ruselkomp/deep-pavlov-framebank-hidesize-1\n",
        "get_f1_em(list_true, list_pred, 'DeepPavlov + Framebank + HideSize (full)')"
      ]
    },
    {
      "cell_type": "code",
      "execution_count": null,
      "metadata": {
        "colab": {
          "base_uri": "https://localhost:8080/"
        },
        "id": "0ejP_dF5lv2c",
        "outputId": "005e2e27-6853-4a48-b295-6d711823fdd4"
      },
      "outputs": [
        {
          "name": "stdout",
          "output_type": "stream",
          "text": [
            "DeepPavlov + Framebank + Sber (full)\n",
            "F1: 82.589119\n",
            "EM: 62.504978\n"
          ]
        }
      ],
      "source": [
        "#ruselkomp/sber-framebank-hidesize-1\n",
        "get_f1_em(list_true, list_pred, 'DeepPavlov + Framebank + Sber (full)')"
      ]
    },
    {
      "cell_type": "markdown",
      "source": [
        "LabelSize = TokenSize * 0.75"
      ],
      "metadata": {
        "id": "96S5pW1esWi_"
      }
    },
    {
      "cell_type": "code",
      "execution_count": null,
      "metadata": {
        "colab": {
          "base_uri": "https://localhost:8080/"
        },
        "id": "OWdwTGwalv47",
        "outputId": "eea654f7-a7be-4ff0-aee8-0c8f87559314"
      },
      "outputs": [
        {
          "name": "stdout",
          "output_type": "stream",
          "text": [
            "DeepPavlov + Framebank + Sber (0.75 * full)\n",
            "F1: 83.574943\n",
            "EM: 63.142174\n"
          ]
        }
      ],
      "source": [
        "#ruselkomp/sber-framebank-hidesize-2\n",
        "get_f1_em(list_true, list_pred, 'DeepPavlov + Framebank + Sber (0.75 * full)')"
      ]
    },
    {
      "cell_type": "markdown",
      "source": [
        "LabelSize = TokenSize / 6"
      ],
      "metadata": {
        "id": "jOAKgqzmsY8v"
      }
    },
    {
      "cell_type": "code",
      "execution_count": null,
      "metadata": {
        "colab": {
          "base_uri": "https://localhost:8080/"
        },
        "id": "gYzAhsC7LqFR",
        "outputId": "9e3fe5ba-52b3-4027-ab05-0990577cbf3d"
      },
      "outputs": [
        {
          "name": "stdout",
          "output_type": "stream",
          "text": [
            "DeepPavlov + Framebank + HideSize (full / 6)\n",
            "F1: 83.747137\n",
            "EM: 64.137794\n"
          ]
        }
      ],
      "source": [
        "get_f1_em(list_true, list_pred, 'DeepPavlov + Framebank + HideSize (full / 6)')"
      ]
    },
    {
      "cell_type": "markdown",
      "source": [
        "LabelSize = TokenSize , epoch = 5"
      ],
      "metadata": {
        "id": "vZ7lvwFfsa0P"
      }
    },
    {
      "cell_type": "code",
      "execution_count": null,
      "metadata": {
        "colab": {
          "base_uri": "https://localhost:8080/"
        },
        "id": "VYUNQWYB3fAR",
        "outputId": "6e1d2819-a257-4e90-b4ff-5e61629ed7fc"
      },
      "outputs": [
        {
          "name": "stdout",
          "output_type": "stream",
          "text": [
            "DeepPavlov + Framebank + full + 5 epochs\n",
            "F1: 83.121687\n",
            "EM: 61.907607\n"
          ]
        }
      ],
      "source": [
        "#ruselkomp/deeppavlov-framebank-full-5epochs\n",
        "get_f1_em(list_true, list_pred, 'DeepPavlov + Framebank + full + 5 epochs')"
      ]
    },
    {
      "cell_type": "markdown",
      "source": [
        "LabelSize = 50"
      ],
      "metadata": {
        "id": "Wh6Hk8eEsc2P"
      }
    },
    {
      "cell_type": "code",
      "execution_count": null,
      "metadata": {
        "colab": {
          "base_uri": "https://localhost:8080/"
        },
        "id": "HiqqZ1VMUFwt",
        "outputId": "9939716d-813f-4eb2-b356-0b92c54791ba"
      },
      "outputs": [
        {
          "name": "stdout",
          "output_type": "stream",
          "text": [
            "DeepPavlov + Framebank + HideSize (50)\n",
            "F1: 84.070120\n",
            "EM: 64.376742\n"
          ]
        }
      ],
      "source": [
        "#ruselkomp/deeppavlov-framebank-full-5epochs\n",
        "get_f1_em(list_true, list_pred, 'DeepPavlov + Framebank + HideSize (50)')"
      ]
    },
    {
      "cell_type": "code",
      "execution_count": null,
      "metadata": {
        "colab": {
          "base_uri": "https://localhost:8080/"
        },
        "id": "y2L6cOKByMck",
        "outputId": "f83d0cfa-1d5b-4d34-b8b8-0c36b12db3ea"
      },
      "outputs": [
        {
          "name": "stdout",
          "output_type": "stream",
          "text": [
            "Sber + Framebank + HideSize (50)\n",
            "F1: 82.855885\n",
            "EM: 62.425329\n"
          ]
        }
      ],
      "source": [
        "#ruselkomp/deeppavlov-framebank-full-5epochs\n",
        "get_f1_em(list_true, list_pred, 'Sber + Framebank + HideSize (50)')"
      ]
    }
  ],
  "metadata": {
    "accelerator": "GPU",
    "colab": {
      "collapsed_sections": [
        "u0MGf8rncD_n"
      ],
      "machine_shape": "hm",
      "name": "SQUAD with Framebank",
      "provenance": [],
      "toc_visible": true
    },
    "kernelspec": {
      "display_name": "Python 3",
      "name": "python3"
    },
    "language_info": {
      "name": "python"
    },
    "widgets": {
      "application/vnd.jupyter.widget-state+json": {
        "072d3c87215a4bcd895579cb9bf79db5": {
          "model_module": "@jupyter-widgets/controls",
          "model_module_version": "1.5.0",
          "model_name": "HTMLModel",
          "state": {
            "_dom_classes": [],
            "_model_module": "@jupyter-widgets/controls",
            "_model_module_version": "1.5.0",
            "_model_name": "HTMLModel",
            "_view_count": null,
            "_view_module": "@jupyter-widgets/controls",
            "_view_module_version": "1.5.0",
            "_view_name": "HTMLView",
            "description": "",
            "description_tooltip": null,
            "layout": "IPY_MODEL_b5cbb50a437c4aea8acb143451a77892",
            "placeholder": "​",
            "style": "IPY_MODEL_18c9b3e643fe40e18086f411ab6ee352",
            "value": " 1.59G/1.59G [02:59&lt;00:00, 6.43MB/s]"
          }
        },
        "08f63f4fbaa646458773b189bbc61cb1": {
          "model_module": "@jupyter-widgets/controls",
          "model_module_version": "1.5.0",
          "model_name": "FloatProgressModel",
          "state": {
            "_dom_classes": [],
            "_model_module": "@jupyter-widgets/controls",
            "_model_module_version": "1.5.0",
            "_model_name": "FloatProgressModel",
            "_view_count": null,
            "_view_module": "@jupyter-widgets/controls",
            "_view_module_version": "1.5.0",
            "_view_name": "ProgressView",
            "bar_style": "success",
            "description": "",
            "description_tooltip": null,
            "layout": "IPY_MODEL_a1071d613c9943b589499dd6dde97ed0",
            "max": 8961,
            "min": 0,
            "orientation": "horizontal",
            "style": "IPY_MODEL_3ef64c89c0ce4eb79ed8a36ea54379d6",
            "value": 8961
          }
        },
        "0a411dc8259d428aba9645def04401c4": {
          "model_module": "@jupyter-widgets/controls",
          "model_module_version": "1.5.0",
          "model_name": "DescriptionStyleModel",
          "state": {
            "_model_module": "@jupyter-widgets/controls",
            "_model_module_version": "1.5.0",
            "_model_name": "DescriptionStyleModel",
            "_view_count": null,
            "_view_module": "@jupyter-widgets/base",
            "_view_module_version": "1.2.0",
            "_view_name": "StyleView",
            "description_width": ""
          }
        },
        "0ffd8c67d27545c1b9e45274ff89ae77": {
          "model_module": "@jupyter-widgets/controls",
          "model_module_version": "1.5.0",
          "model_name": "HTMLModel",
          "state": {
            "_dom_classes": [],
            "_model_module": "@jupyter-widgets/controls",
            "_model_module_version": "1.5.0",
            "_model_name": "HTMLModel",
            "_view_count": null,
            "_view_module": "@jupyter-widgets/controls",
            "_view_module_version": "1.5.0",
            "_view_name": "HTMLView",
            "description": "",
            "description_tooltip": null,
            "layout": "IPY_MODEL_61582f8afbbe4646b4b354aa5f1499c6",
            "placeholder": "​",
            "style": "IPY_MODEL_7276d4e2ac734bd7b6217ced694226a9",
            "value": "Upload file pytorch_model.bin: 100%"
          }
        },
        "10ca9edacef7412da160a1d8e200b5f9": {
          "model_module": "@jupyter-widgets/base",
          "model_module_version": "1.2.0",
          "model_name": "LayoutModel",
          "state": {
            "_model_module": "@jupyter-widgets/base",
            "_model_module_version": "1.2.0",
            "_model_name": "LayoutModel",
            "_view_count": null,
            "_view_module": "@jupyter-widgets/base",
            "_view_module_version": "1.2.0",
            "_view_name": "LayoutView",
            "align_content": null,
            "align_items": null,
            "align_self": null,
            "border": null,
            "bottom": null,
            "display": null,
            "flex": null,
            "flex_flow": null,
            "grid_area": null,
            "grid_auto_columns": null,
            "grid_auto_flow": null,
            "grid_auto_rows": null,
            "grid_column": null,
            "grid_gap": null,
            "grid_row": null,
            "grid_template_areas": null,
            "grid_template_columns": null,
            "grid_template_rows": null,
            "height": null,
            "justify_content": null,
            "justify_items": null,
            "left": null,
            "margin": null,
            "max_height": null,
            "max_width": null,
            "min_height": null,
            "min_width": null,
            "object_fit": null,
            "object_position": null,
            "order": null,
            "overflow": null,
            "overflow_x": null,
            "overflow_y": null,
            "padding": null,
            "right": null,
            "top": null,
            "visibility": null,
            "width": null
          }
        },
        "12aef21a2b3941aa880350db021983c2": {
          "model_module": "@jupyter-widgets/controls",
          "model_module_version": "1.5.0",
          "model_name": "FloatProgressModel",
          "state": {
            "_dom_classes": [],
            "_model_module": "@jupyter-widgets/controls",
            "_model_module_version": "1.5.0",
            "_model_name": "FloatProgressModel",
            "_view_count": null,
            "_view_module": "@jupyter-widgets/controls",
            "_view_module_version": "1.5.0",
            "_view_name": "ProgressView",
            "bar_style": "success",
            "description": "",
            "description_tooltip": null,
            "layout": "IPY_MODEL_f2967915a4d9475cb449cd73dde9a0e7",
            "max": 709127985,
            "min": 0,
            "orientation": "horizontal",
            "style": "IPY_MODEL_97ea2fa15ca9434c8d1100f220d49bd7",
            "value": 709127985
          }
        },
        "12cfc05bbf1a4aeca2162cb4d785e27f": {
          "model_module": "@jupyter-widgets/base",
          "model_module_version": "1.2.0",
          "model_name": "LayoutModel",
          "state": {
            "_model_module": "@jupyter-widgets/base",
            "_model_module_version": "1.2.0",
            "_model_name": "LayoutModel",
            "_view_count": null,
            "_view_module": "@jupyter-widgets/base",
            "_view_module_version": "1.2.0",
            "_view_name": "LayoutView",
            "align_content": null,
            "align_items": null,
            "align_self": null,
            "border": null,
            "bottom": null,
            "display": null,
            "flex": null,
            "flex_flow": null,
            "grid_area": null,
            "grid_auto_columns": null,
            "grid_auto_flow": null,
            "grid_auto_rows": null,
            "grid_column": null,
            "grid_gap": null,
            "grid_row": null,
            "grid_template_areas": null,
            "grid_template_columns": null,
            "grid_template_rows": null,
            "height": null,
            "justify_content": null,
            "justify_items": null,
            "left": null,
            "margin": null,
            "max_height": null,
            "max_width": null,
            "min_height": null,
            "min_width": null,
            "object_fit": null,
            "object_position": null,
            "order": null,
            "overflow": null,
            "overflow_x": null,
            "overflow_y": null,
            "padding": null,
            "right": null,
            "top": null,
            "visibility": null,
            "width": null
          }
        },
        "12fc4250e1fe4535bd4dd504cedc49bf": {
          "model_module": "@jupyter-widgets/controls",
          "model_module_version": "1.5.0",
          "model_name": "ProgressStyleModel",
          "state": {
            "_model_module": "@jupyter-widgets/controls",
            "_model_module_version": "1.5.0",
            "_model_name": "ProgressStyleModel",
            "_view_count": null,
            "_view_module": "@jupyter-widgets/base",
            "_view_module_version": "1.2.0",
            "_view_name": "StyleView",
            "bar_color": null,
            "description_width": ""
          }
        },
        "134f6d7208f84e67b39eec8f339ccd47": {
          "model_module": "@jupyter-widgets/controls",
          "model_module_version": "1.5.0",
          "model_name": "HTMLModel",
          "state": {
            "_dom_classes": [],
            "_model_module": "@jupyter-widgets/controls",
            "_model_module_version": "1.5.0",
            "_model_name": "HTMLModel",
            "_view_count": null,
            "_view_module": "@jupyter-widgets/controls",
            "_view_module_version": "1.5.0",
            "_view_name": "HTMLView",
            "description": "",
            "description_tooltip": null,
            "layout": "IPY_MODEL_f437eab6250c4677a8ebab6cb62b0f46",
            "placeholder": "​",
            "style": "IPY_MODEL_f17f90424c76471b9358b2b01c0f8bae",
            "value": "Downloading: 100%"
          }
        },
        "1764f606fbcb4581b4930c4feedc6fa5": {
          "model_module": "@jupyter-widgets/base",
          "model_module_version": "1.2.0",
          "model_name": "LayoutModel",
          "state": {
            "_model_module": "@jupyter-widgets/base",
            "_model_module_version": "1.2.0",
            "_model_name": "LayoutModel",
            "_view_count": null,
            "_view_module": "@jupyter-widgets/base",
            "_view_module_version": "1.2.0",
            "_view_name": "LayoutView",
            "align_content": null,
            "align_items": null,
            "align_self": null,
            "border": null,
            "bottom": null,
            "display": null,
            "flex": null,
            "flex_flow": null,
            "grid_area": null,
            "grid_auto_columns": null,
            "grid_auto_flow": null,
            "grid_auto_rows": null,
            "grid_column": null,
            "grid_gap": null,
            "grid_row": null,
            "grid_template_areas": null,
            "grid_template_columns": null,
            "grid_template_rows": null,
            "height": null,
            "justify_content": null,
            "justify_items": null,
            "left": null,
            "margin": null,
            "max_height": null,
            "max_width": null,
            "min_height": null,
            "min_width": null,
            "object_fit": null,
            "object_position": null,
            "order": null,
            "overflow": null,
            "overflow_x": null,
            "overflow_y": null,
            "padding": null,
            "right": null,
            "top": null,
            "visibility": null,
            "width": null
          }
        },
        "18c9b3e643fe40e18086f411ab6ee352": {
          "model_module": "@jupyter-widgets/controls",
          "model_module_version": "1.5.0",
          "model_name": "DescriptionStyleModel",
          "state": {
            "_model_module": "@jupyter-widgets/controls",
            "_model_module_version": "1.5.0",
            "_model_name": "DescriptionStyleModel",
            "_view_count": null,
            "_view_module": "@jupyter-widgets/base",
            "_view_module_version": "1.2.0",
            "_view_name": "StyleView",
            "description_width": ""
          }
        },
        "1a03bda644054ac9b8ea6b44755b665b": {
          "model_module": "@jupyter-widgets/base",
          "model_module_version": "1.2.0",
          "model_name": "LayoutModel",
          "state": {
            "_model_module": "@jupyter-widgets/base",
            "_model_module_version": "1.2.0",
            "_model_name": "LayoutModel",
            "_view_count": null,
            "_view_module": "@jupyter-widgets/base",
            "_view_module_version": "1.2.0",
            "_view_name": "LayoutView",
            "align_content": null,
            "align_items": null,
            "align_self": null,
            "border": null,
            "bottom": null,
            "display": null,
            "flex": null,
            "flex_flow": null,
            "grid_area": null,
            "grid_auto_columns": null,
            "grid_auto_flow": null,
            "grid_auto_rows": null,
            "grid_column": null,
            "grid_gap": null,
            "grid_row": null,
            "grid_template_areas": null,
            "grid_template_columns": null,
            "grid_template_rows": null,
            "height": null,
            "justify_content": null,
            "justify_items": null,
            "left": null,
            "margin": null,
            "max_height": null,
            "max_width": null,
            "min_height": null,
            "min_width": null,
            "object_fit": null,
            "object_position": null,
            "order": null,
            "overflow": null,
            "overflow_x": null,
            "overflow_y": null,
            "padding": null,
            "right": null,
            "top": null,
            "visibility": null,
            "width": null
          }
        },
        "21d2714e123f4522b60746adf93aaeb0": {
          "model_module": "@jupyter-widgets/controls",
          "model_module_version": "1.5.0",
          "model_name": "FloatProgressModel",
          "state": {
            "_dom_classes": [],
            "_model_module": "@jupyter-widgets/controls",
            "_model_module_version": "1.5.0",
            "_model_name": "FloatProgressModel",
            "_view_count": null,
            "_view_module": "@jupyter-widgets/controls",
            "_view_module_version": "1.5.0",
            "_view_name": "ProgressView",
            "bar_style": "success",
            "description": "",
            "description_tooltip": null,
            "layout": "IPY_MODEL_79e9ee5c5b77425eb56cb67967d105c2",
            "max": 869,
            "min": 0,
            "orientation": "horizontal",
            "style": "IPY_MODEL_53005603d153437c8f19605ecc0b304b",
            "value": 869
          }
        },
        "29602d0490c1412d8aab2c72537c189e": {
          "model_module": "@jupyter-widgets/controls",
          "model_module_version": "1.5.0",
          "model_name": "HBoxModel",
          "state": {
            "_dom_classes": [],
            "_model_module": "@jupyter-widgets/controls",
            "_model_module_version": "1.5.0",
            "_model_name": "HBoxModel",
            "_view_count": null,
            "_view_module": "@jupyter-widgets/controls",
            "_view_module_version": "1.5.0",
            "_view_name": "HBoxView",
            "box_style": "",
            "children": [
              "IPY_MODEL_ac4e9357022647d3afe6395bb77a221c",
              "IPY_MODEL_12aef21a2b3941aa880350db021983c2",
              "IPY_MODEL_adff26fc2cf84851a83fef77ba919ec4"
            ],
            "layout": "IPY_MODEL_9080917e933c47ae8c520b2bdce2d8e3"
          }
        },
        "312ca901c6eb4a46b9f59374189c9ab7": {
          "model_module": "@jupyter-widgets/controls",
          "model_module_version": "1.5.0",
          "model_name": "HBoxModel",
          "state": {
            "_dom_classes": [],
            "_model_module": "@jupyter-widgets/controls",
            "_model_module_version": "1.5.0",
            "_model_name": "HBoxModel",
            "_view_count": null,
            "_view_module": "@jupyter-widgets/controls",
            "_view_module_version": "1.5.0",
            "_view_name": "HBoxView",
            "box_style": "",
            "children": [
              "IPY_MODEL_0ffd8c67d27545c1b9e45274ff89ae77",
              "IPY_MODEL_36c9c2a0636e49329e25108cb670467b",
              "IPY_MODEL_072d3c87215a4bcd895579cb9bf79db5"
            ],
            "layout": "IPY_MODEL_10ca9edacef7412da160a1d8e200b5f9"
          }
        },
        "325dd1e2a8404fe487dbb1d07b703fdf": {
          "model_module": "@jupyter-widgets/controls",
          "model_module_version": "1.5.0",
          "model_name": "HTMLModel",
          "state": {
            "_dom_classes": [],
            "_model_module": "@jupyter-widgets/controls",
            "_model_module_version": "1.5.0",
            "_model_name": "HTMLModel",
            "_view_count": null,
            "_view_module": "@jupyter-widgets/controls",
            "_view_module_version": "1.5.0",
            "_view_name": "HTMLView",
            "description": "",
            "description_tooltip": null,
            "layout": "IPY_MODEL_1a03bda644054ac9b8ea6b44755b665b",
            "placeholder": "​",
            "style": "IPY_MODEL_c7727a2234344601b3cae7ac921a72f3",
            "value": "100%"
          }
        },
        "33c06c9b41db4da7b94b6af9f8766da5": {
          "model_module": "@jupyter-widgets/controls",
          "model_module_version": "1.5.0",
          "model_name": "FloatProgressModel",
          "state": {
            "_dom_classes": [],
            "_model_module": "@jupyter-widgets/controls",
            "_model_module_version": "1.5.0",
            "_model_name": "FloatProgressModel",
            "_view_count": null,
            "_view_module": "@jupyter-widgets/controls",
            "_view_module_version": "1.5.0",
            "_view_name": "ProgressView",
            "bar_style": "success",
            "description": "",
            "description_tooltip": null,
            "layout": "IPY_MODEL_f452492106924b3aae1c4765d612b38d",
            "max": 8693,
            "min": 0,
            "orientation": "horizontal",
            "style": "IPY_MODEL_12fc4250e1fe4535bd4dd504cedc49bf",
            "value": 8693
          }
        },
        "360efa3b030e4892a62ddb5847ca39c6": {
          "model_module": "@jupyter-widgets/controls",
          "model_module_version": "1.5.0",
          "model_name": "ProgressStyleModel",
          "state": {
            "_model_module": "@jupyter-widgets/controls",
            "_model_module_version": "1.5.0",
            "_model_name": "ProgressStyleModel",
            "_view_count": null,
            "_view_module": "@jupyter-widgets/base",
            "_view_module_version": "1.2.0",
            "_view_name": "StyleView",
            "bar_color": null,
            "description_width": ""
          }
        },
        "36c9c2a0636e49329e25108cb670467b": {
          "model_module": "@jupyter-widgets/controls",
          "model_module_version": "1.5.0",
          "model_name": "FloatProgressModel",
          "state": {
            "_dom_classes": [],
            "_model_module": "@jupyter-widgets/controls",
            "_model_module_version": "1.5.0",
            "_model_name": "FloatProgressModel",
            "_view_count": null,
            "_view_module": "@jupyter-widgets/controls",
            "_view_module_version": "1.5.0",
            "_view_name": "ProgressView",
            "bar_style": "success",
            "description": "",
            "description_tooltip": null,
            "layout": "IPY_MODEL_e3b7aaeb563b40bdad24a2a9d1bdc3cd",
            "max": 1703589935,
            "min": 0,
            "orientation": "horizontal",
            "style": "IPY_MODEL_8bb1b99cc35841c6bbd09a5ca25ef7e6",
            "value": 1703589935
          }
        },
        "3a3a04eff3fa40ce8ad8d35d721b76c7": {
          "model_module": "@jupyter-widgets/controls",
          "model_module_version": "1.5.0",
          "model_name": "HBoxModel",
          "state": {
            "_dom_classes": [],
            "_model_module": "@jupyter-widgets/controls",
            "_model_module_version": "1.5.0",
            "_model_name": "HBoxModel",
            "_view_count": null,
            "_view_module": "@jupyter-widgets/controls",
            "_view_module_version": "1.5.0",
            "_view_name": "HBoxView",
            "box_style": "",
            "children": [
              "IPY_MODEL_134f6d7208f84e67b39eec8f339ccd47",
              "IPY_MODEL_f532e57bf641485380b5f60d1fac9728",
              "IPY_MODEL_98bd647378ca47d8a655faae451c4622"
            ],
            "layout": "IPY_MODEL_d3da8f6aa25044a490a09eac0457d3a9"
          }
        },
        "3d894ebfb9b1480ba16cdec9056b6ec6": {
          "model_module": "@jupyter-widgets/base",
          "model_module_version": "1.2.0",
          "model_name": "LayoutModel",
          "state": {
            "_model_module": "@jupyter-widgets/base",
            "_model_module_version": "1.2.0",
            "_model_name": "LayoutModel",
            "_view_count": null,
            "_view_module": "@jupyter-widgets/base",
            "_view_module_version": "1.2.0",
            "_view_name": "LayoutView",
            "align_content": null,
            "align_items": null,
            "align_self": null,
            "border": null,
            "bottom": null,
            "display": null,
            "flex": null,
            "flex_flow": null,
            "grid_area": null,
            "grid_auto_columns": null,
            "grid_auto_flow": null,
            "grid_auto_rows": null,
            "grid_column": null,
            "grid_gap": null,
            "grid_row": null,
            "grid_template_areas": null,
            "grid_template_columns": null,
            "grid_template_rows": null,
            "height": null,
            "justify_content": null,
            "justify_items": null,
            "left": null,
            "margin": null,
            "max_height": null,
            "max_width": null,
            "min_height": null,
            "min_width": null,
            "object_fit": null,
            "object_position": null,
            "order": null,
            "overflow": null,
            "overflow_x": null,
            "overflow_y": null,
            "padding": null,
            "right": null,
            "top": null,
            "visibility": null,
            "width": null
          }
        },
        "3d9b4601139744379c809b63abb8e9d9": {
          "model_module": "@jupyter-widgets/controls",
          "model_module_version": "1.5.0",
          "model_name": "HBoxModel",
          "state": {
            "_dom_classes": [],
            "_model_module": "@jupyter-widgets/controls",
            "_model_module_version": "1.5.0",
            "_model_name": "HBoxModel",
            "_view_count": null,
            "_view_module": "@jupyter-widgets/controls",
            "_view_module_version": "1.5.0",
            "_view_name": "HBoxView",
            "box_style": "",
            "children": [
              "IPY_MODEL_454fa60d950643c98c17354f8cacc994",
              "IPY_MODEL_21d2714e123f4522b60746adf93aaeb0",
              "IPY_MODEL_ff70f6ec1dac4fdb9a914c5e2c1cc02a"
            ],
            "layout": "IPY_MODEL_47e31f90b56e47f78d9c72ae023393b3"
          }
        },
        "3ef64c89c0ce4eb79ed8a36ea54379d6": {
          "model_module": "@jupyter-widgets/controls",
          "model_module_version": "1.5.0",
          "model_name": "ProgressStyleModel",
          "state": {
            "_model_module": "@jupyter-widgets/controls",
            "_model_module_version": "1.5.0",
            "_model_name": "ProgressStyleModel",
            "_view_count": null,
            "_view_module": "@jupyter-widgets/base",
            "_view_module_version": "1.2.0",
            "_view_name": "StyleView",
            "bar_color": null,
            "description_width": ""
          }
        },
        "403ca4ef17ff4aa19eb09b9d6e8ca66d": {
          "model_module": "@jupyter-widgets/controls",
          "model_module_version": "1.5.0",
          "model_name": "FloatProgressModel",
          "state": {
            "_dom_classes": [],
            "_model_module": "@jupyter-widgets/controls",
            "_model_module_version": "1.5.0",
            "_model_name": "FloatProgressModel",
            "_view_count": null,
            "_view_module": "@jupyter-widgets/controls",
            "_view_module_version": "1.5.0",
            "_view_name": "ProgressView",
            "bar_style": "success",
            "description": "",
            "description_tooltip": null,
            "layout": "IPY_MODEL_d2345028e70149b495b83c21c7da88aa",
            "max": 5022,
            "min": 0,
            "orientation": "horizontal",
            "style": "IPY_MODEL_55ff2641048f4176ab209b3717fa018f",
            "value": 5022
          }
        },
        "412a5c1068a24d5cac068344f3ea0f31": {
          "model_module": "@jupyter-widgets/controls",
          "model_module_version": "1.5.0",
          "model_name": "FloatProgressModel",
          "state": {
            "_dom_classes": [],
            "_model_module": "@jupyter-widgets/controls",
            "_model_module_version": "1.5.0",
            "_model_name": "FloatProgressModel",
            "_view_count": null,
            "_view_module": "@jupyter-widgets/controls",
            "_view_module_version": "1.5.0",
            "_view_name": "ProgressView",
            "bar_style": "success",
            "description": "",
            "description_tooltip": null,
            "layout": "IPY_MODEL_d09efde7054641c18b4b11bcdf265003",
            "max": 1707791567,
            "min": 0,
            "orientation": "horizontal",
            "style": "IPY_MODEL_a3430026371440c8a263b80b2bd0bf48",
            "value": 1707791567
          }
        },
        "412aee3db47a49458706b8c2fded0c7a": {
          "model_module": "@jupyter-widgets/controls",
          "model_module_version": "1.5.0",
          "model_name": "HTMLModel",
          "state": {
            "_dom_classes": [],
            "_model_module": "@jupyter-widgets/controls",
            "_model_module_version": "1.5.0",
            "_model_name": "HTMLModel",
            "_view_count": null,
            "_view_module": "@jupyter-widgets/controls",
            "_view_module_version": "1.5.0",
            "_view_name": "HTMLView",
            "description": "",
            "description_tooltip": null,
            "layout": "IPY_MODEL_46c5a8754c4c4d1aa64800afc8c3ad49",
            "placeholder": "​",
            "style": "IPY_MODEL_68eeb8634d4b4d83802692149c2e6275",
            "value": " 8693/8693 [00:33&lt;00:00, 266.83it/s]"
          }
        },
        "454fa60d950643c98c17354f8cacc994": {
          "model_module": "@jupyter-widgets/controls",
          "model_module_version": "1.5.0",
          "model_name": "HTMLModel",
          "state": {
            "_dom_classes": [],
            "_model_module": "@jupyter-widgets/controls",
            "_model_module_version": "1.5.0",
            "_model_name": "HTMLModel",
            "_view_count": null,
            "_view_module": "@jupyter-widgets/controls",
            "_view_module_version": "1.5.0",
            "_view_name": "HTMLView",
            "description": "",
            "description_tooltip": null,
            "layout": "IPY_MODEL_a6645eefdb4e4a969bb742b83cd781f1",
            "placeholder": "​",
            "style": "IPY_MODEL_cea9f980be0b4044ad60cdb4a940d2a6",
            "value": "Downloading: 100%"
          }
        },
        "46c5a8754c4c4d1aa64800afc8c3ad49": {
          "model_module": "@jupyter-widgets/base",
          "model_module_version": "1.2.0",
          "model_name": "LayoutModel",
          "state": {
            "_model_module": "@jupyter-widgets/base",
            "_model_module_version": "1.2.0",
            "_model_name": "LayoutModel",
            "_view_count": null,
            "_view_module": "@jupyter-widgets/base",
            "_view_module_version": "1.2.0",
            "_view_name": "LayoutView",
            "align_content": null,
            "align_items": null,
            "align_self": null,
            "border": null,
            "bottom": null,
            "display": null,
            "flex": null,
            "flex_flow": null,
            "grid_area": null,
            "grid_auto_columns": null,
            "grid_auto_flow": null,
            "grid_auto_rows": null,
            "grid_column": null,
            "grid_gap": null,
            "grid_row": null,
            "grid_template_areas": null,
            "grid_template_columns": null,
            "grid_template_rows": null,
            "height": null,
            "justify_content": null,
            "justify_items": null,
            "left": null,
            "margin": null,
            "max_height": null,
            "max_width": null,
            "min_height": null,
            "min_width": null,
            "object_fit": null,
            "object_position": null,
            "order": null,
            "overflow": null,
            "overflow_x": null,
            "overflow_y": null,
            "padding": null,
            "right": null,
            "top": null,
            "visibility": null,
            "width": null
          }
        },
        "47e31f90b56e47f78d9c72ae023393b3": {
          "model_module": "@jupyter-widgets/base",
          "model_module_version": "1.2.0",
          "model_name": "LayoutModel",
          "state": {
            "_model_module": "@jupyter-widgets/base",
            "_model_module_version": "1.2.0",
            "_model_name": "LayoutModel",
            "_view_count": null,
            "_view_module": "@jupyter-widgets/base",
            "_view_module_version": "1.2.0",
            "_view_name": "LayoutView",
            "align_content": null,
            "align_items": null,
            "align_self": null,
            "border": null,
            "bottom": null,
            "display": null,
            "flex": null,
            "flex_flow": null,
            "grid_area": null,
            "grid_auto_columns": null,
            "grid_auto_flow": null,
            "grid_auto_rows": null,
            "grid_column": null,
            "grid_gap": null,
            "grid_row": null,
            "grid_template_areas": null,
            "grid_template_columns": null,
            "grid_template_rows": null,
            "height": null,
            "justify_content": null,
            "justify_items": null,
            "left": null,
            "margin": null,
            "max_height": null,
            "max_width": null,
            "min_height": null,
            "min_width": null,
            "object_fit": null,
            "object_position": null,
            "order": null,
            "overflow": null,
            "overflow_x": null,
            "overflow_y": null,
            "padding": null,
            "right": null,
            "top": null,
            "visibility": null,
            "width": null
          }
        },
        "4d3315de898e47e2ad1b9cdfb5cce474": {
          "model_module": "@jupyter-widgets/controls",
          "model_module_version": "1.5.0",
          "model_name": "FloatProgressModel",
          "state": {
            "_dom_classes": [],
            "_model_module": "@jupyter-widgets/controls",
            "_model_module_version": "1.5.0",
            "_model_name": "FloatProgressModel",
            "_view_count": null,
            "_view_module": "@jupyter-widgets/controls",
            "_view_module_version": "1.5.0",
            "_view_name": "ProgressView",
            "bar_style": "success",
            "description": "",
            "description_tooltip": null,
            "layout": "IPY_MODEL_f3270d496e6f4b43b5e745136ebe2e69",
            "max": 6,
            "min": 0,
            "orientation": "horizontal",
            "style": "IPY_MODEL_360efa3b030e4892a62ddb5847ca39c6",
            "value": 6
          }
        },
        "4e3d953ce43843c8a7937f85ad91b852": {
          "model_module": "@jupyter-widgets/controls",
          "model_module_version": "1.5.0",
          "model_name": "DescriptionStyleModel",
          "state": {
            "_model_module": "@jupyter-widgets/controls",
            "_model_module_version": "1.5.0",
            "_model_name": "DescriptionStyleModel",
            "_view_count": null,
            "_view_module": "@jupyter-widgets/base",
            "_view_module_version": "1.2.0",
            "_view_name": "StyleView",
            "description_width": ""
          }
        },
        "50d46d9802aa48ac9c0589a0b04b83f4": {
          "model_module": "@jupyter-widgets/controls",
          "model_module_version": "1.5.0",
          "model_name": "DescriptionStyleModel",
          "state": {
            "_model_module": "@jupyter-widgets/controls",
            "_model_module_version": "1.5.0",
            "_model_name": "DescriptionStyleModel",
            "_view_count": null,
            "_view_module": "@jupyter-widgets/base",
            "_view_module_version": "1.2.0",
            "_view_name": "StyleView",
            "description_width": ""
          }
        },
        "53005603d153437c8f19605ecc0b304b": {
          "model_module": "@jupyter-widgets/controls",
          "model_module_version": "1.5.0",
          "model_name": "ProgressStyleModel",
          "state": {
            "_model_module": "@jupyter-widgets/controls",
            "_model_module_version": "1.5.0",
            "_model_name": "ProgressStyleModel",
            "_view_count": null,
            "_view_module": "@jupyter-widgets/base",
            "_view_module_version": "1.2.0",
            "_view_name": "StyleView",
            "bar_color": null,
            "description_width": ""
          }
        },
        "54d35e000e69422d8aa0187d7201cfec": {
          "model_module": "@jupyter-widgets/controls",
          "model_module_version": "1.5.0",
          "model_name": "HTMLModel",
          "state": {
            "_dom_classes": [],
            "_model_module": "@jupyter-widgets/controls",
            "_model_module_version": "1.5.0",
            "_model_name": "HTMLModel",
            "_view_count": null,
            "_view_module": "@jupyter-widgets/controls",
            "_view_module_version": "1.5.0",
            "_view_name": "HTMLView",
            "description": "",
            "description_tooltip": null,
            "layout": "IPY_MODEL_edd851c3a3324641a56a86624fdf057c",
            "placeholder": "​",
            "style": "IPY_MODEL_50d46d9802aa48ac9c0589a0b04b83f4",
            "value": "100%"
          }
        },
        "55274836981242498c5e0240a069af71": {
          "model_module": "@jupyter-widgets/controls",
          "model_module_version": "1.5.0",
          "model_name": "HTMLModel",
          "state": {
            "_dom_classes": [],
            "_model_module": "@jupyter-widgets/controls",
            "_model_module_version": "1.5.0",
            "_model_name": "HTMLModel",
            "_view_count": null,
            "_view_module": "@jupyter-widgets/controls",
            "_view_module_version": "1.5.0",
            "_view_name": "HTMLView",
            "description": "",
            "description_tooltip": null,
            "layout": "IPY_MODEL_a720a16a8b5349c9a36440d7148e7bc7",
            "placeholder": "​",
            "style": "IPY_MODEL_a4f1d6b4e52d48a2b00d4eaa1479e707",
            "value": "Upload file runs/May31_10-02-56_2a406c9c041f/events.out.tfevents.1653991430.2a406c9c041f.2401.0: 100%"
          }
        },
        "55766c180b1a4bf384d36a7d947e28e1": {
          "model_module": "@jupyter-widgets/controls",
          "model_module_version": "1.5.0",
          "model_name": "HTMLModel",
          "state": {
            "_dom_classes": [],
            "_model_module": "@jupyter-widgets/controls",
            "_model_module_version": "1.5.0",
            "_model_name": "HTMLModel",
            "_view_count": null,
            "_view_module": "@jupyter-widgets/controls",
            "_view_module_version": "1.5.0",
            "_view_name": "HTMLView",
            "description": "",
            "description_tooltip": null,
            "layout": "IPY_MODEL_db86c0b968b54ffda5353e6ad5be7278",
            "placeholder": "​",
            "style": "IPY_MODEL_0a411dc8259d428aba9645def04401c4",
            "value": " 6/6 [00:41&lt;00:00,  5.49s/ba]"
          }
        },
        "55ff2641048f4176ab209b3717fa018f": {
          "model_module": "@jupyter-widgets/controls",
          "model_module_version": "1.5.0",
          "model_name": "ProgressStyleModel",
          "state": {
            "_model_module": "@jupyter-widgets/controls",
            "_model_module_version": "1.5.0",
            "_model_name": "ProgressStyleModel",
            "_view_count": null,
            "_view_module": "@jupyter-widgets/base",
            "_view_module_version": "1.2.0",
            "_view_name": "StyleView",
            "bar_color": null,
            "description_width": ""
          }
        },
        "58e284e47c4d43c2b49637aa8521510f": {
          "model_module": "@jupyter-widgets/controls",
          "model_module_version": "1.5.0",
          "model_name": "HTMLModel",
          "state": {
            "_dom_classes": [],
            "_model_module": "@jupyter-widgets/controls",
            "_model_module_version": "1.5.0",
            "_model_name": "HTMLModel",
            "_view_count": null,
            "_view_module": "@jupyter-widgets/controls",
            "_view_module_version": "1.5.0",
            "_view_name": "HTMLView",
            "description": "",
            "description_tooltip": null,
            "layout": "IPY_MODEL_12cfc05bbf1a4aeca2162cb4d785e27f",
            "placeholder": "​",
            "style": "IPY_MODEL_dcb84b4464de4168a1adb6ea367ae292",
            "value": " 8.75k/8.75k [02:59&lt;?, ?B/s]"
          }
        },
        "5b80d00818104fdf9190bc20a225690c": {
          "model_module": "@jupyter-widgets/base",
          "model_module_version": "1.2.0",
          "model_name": "LayoutModel",
          "state": {
            "_model_module": "@jupyter-widgets/base",
            "_model_module_version": "1.2.0",
            "_model_name": "LayoutModel",
            "_view_count": null,
            "_view_module": "@jupyter-widgets/base",
            "_view_module_version": "1.2.0",
            "_view_name": "LayoutView",
            "align_content": null,
            "align_items": null,
            "align_self": null,
            "border": null,
            "bottom": null,
            "display": null,
            "flex": null,
            "flex_flow": null,
            "grid_area": null,
            "grid_auto_columns": null,
            "grid_auto_flow": null,
            "grid_auto_rows": null,
            "grid_column": null,
            "grid_gap": null,
            "grid_row": null,
            "grid_template_areas": null,
            "grid_template_columns": null,
            "grid_template_rows": null,
            "height": null,
            "justify_content": null,
            "justify_items": null,
            "left": null,
            "margin": null,
            "max_height": null,
            "max_width": null,
            "min_height": null,
            "min_width": null,
            "object_fit": null,
            "object_position": null,
            "order": null,
            "overflow": null,
            "overflow_x": null,
            "overflow_y": null,
            "padding": null,
            "right": null,
            "top": null,
            "visibility": null,
            "width": null
          }
        },
        "5fa22362344f49fd9a023f4611e2829a": {
          "model_module": "@jupyter-widgets/controls",
          "model_module_version": "1.5.0",
          "model_name": "HBoxModel",
          "state": {
            "_dom_classes": [],
            "_model_module": "@jupyter-widgets/controls",
            "_model_module_version": "1.5.0",
            "_model_name": "HBoxModel",
            "_view_count": null,
            "_view_module": "@jupyter-widgets/controls",
            "_view_module_version": "1.5.0",
            "_view_name": "HBoxView",
            "box_style": "",
            "children": [
              "IPY_MODEL_c135946b3bf04d87a18ba64697d0bea9",
              "IPY_MODEL_412a5c1068a24d5cac068344f3ea0f31",
              "IPY_MODEL_fd8e608dd05f47a3a54574fef3a9d231"
            ],
            "layout": "IPY_MODEL_d70dab7247084f219c1e8c5a70d55f16"
          }
        },
        "6114c8643b254e37ac453e55a87689b2": {
          "model_module": "@jupyter-widgets/base",
          "model_module_version": "1.2.0",
          "model_name": "LayoutModel",
          "state": {
            "_model_module": "@jupyter-widgets/base",
            "_model_module_version": "1.2.0",
            "_model_name": "LayoutModel",
            "_view_count": null,
            "_view_module": "@jupyter-widgets/base",
            "_view_module_version": "1.2.0",
            "_view_name": "LayoutView",
            "align_content": null,
            "align_items": null,
            "align_self": null,
            "border": null,
            "bottom": null,
            "display": null,
            "flex": null,
            "flex_flow": null,
            "grid_area": null,
            "grid_auto_columns": null,
            "grid_auto_flow": null,
            "grid_auto_rows": null,
            "grid_column": null,
            "grid_gap": null,
            "grid_row": null,
            "grid_template_areas": null,
            "grid_template_columns": null,
            "grid_template_rows": null,
            "height": null,
            "justify_content": null,
            "justify_items": null,
            "left": null,
            "margin": null,
            "max_height": null,
            "max_width": null,
            "min_height": null,
            "min_width": null,
            "object_fit": null,
            "object_position": null,
            "order": null,
            "overflow": null,
            "overflow_x": null,
            "overflow_y": null,
            "padding": null,
            "right": null,
            "top": null,
            "visibility": null,
            "width": null
          }
        },
        "61582f8afbbe4646b4b354aa5f1499c6": {
          "model_module": "@jupyter-widgets/base",
          "model_module_version": "1.2.0",
          "model_name": "LayoutModel",
          "state": {
            "_model_module": "@jupyter-widgets/base",
            "_model_module_version": "1.2.0",
            "_model_name": "LayoutModel",
            "_view_count": null,
            "_view_module": "@jupyter-widgets/base",
            "_view_module_version": "1.2.0",
            "_view_name": "LayoutView",
            "align_content": null,
            "align_items": null,
            "align_self": null,
            "border": null,
            "bottom": null,
            "display": null,
            "flex": null,
            "flex_flow": null,
            "grid_area": null,
            "grid_auto_columns": null,
            "grid_auto_flow": null,
            "grid_auto_rows": null,
            "grid_column": null,
            "grid_gap": null,
            "grid_row": null,
            "grid_template_areas": null,
            "grid_template_columns": null,
            "grid_template_rows": null,
            "height": null,
            "justify_content": null,
            "justify_items": null,
            "left": null,
            "margin": null,
            "max_height": null,
            "max_width": null,
            "min_height": null,
            "min_width": null,
            "object_fit": null,
            "object_position": null,
            "order": null,
            "overflow": null,
            "overflow_x": null,
            "overflow_y": null,
            "padding": null,
            "right": null,
            "top": null,
            "visibility": null,
            "width": null
          }
        },
        "6433b984c5ff46dc8e860db17d9b0c91": {
          "model_module": "@jupyter-widgets/base",
          "model_module_version": "1.2.0",
          "model_name": "LayoutModel",
          "state": {
            "_model_module": "@jupyter-widgets/base",
            "_model_module_version": "1.2.0",
            "_model_name": "LayoutModel",
            "_view_count": null,
            "_view_module": "@jupyter-widgets/base",
            "_view_module_version": "1.2.0",
            "_view_name": "LayoutView",
            "align_content": null,
            "align_items": null,
            "align_self": null,
            "border": null,
            "bottom": null,
            "display": null,
            "flex": null,
            "flex_flow": null,
            "grid_area": null,
            "grid_auto_columns": null,
            "grid_auto_flow": null,
            "grid_auto_rows": null,
            "grid_column": null,
            "grid_gap": null,
            "grid_row": null,
            "grid_template_areas": null,
            "grid_template_columns": null,
            "grid_template_rows": null,
            "height": null,
            "justify_content": null,
            "justify_items": null,
            "left": null,
            "margin": null,
            "max_height": null,
            "max_width": null,
            "min_height": null,
            "min_width": null,
            "object_fit": null,
            "object_position": null,
            "order": null,
            "overflow": null,
            "overflow_x": null,
            "overflow_y": null,
            "padding": null,
            "right": null,
            "top": null,
            "visibility": null,
            "width": null
          }
        },
        "683e95f5a40d4e7a8f009ee3f2d9a22c": {
          "model_module": "@jupyter-widgets/base",
          "model_module_version": "1.2.0",
          "model_name": "LayoutModel",
          "state": {
            "_model_module": "@jupyter-widgets/base",
            "_model_module_version": "1.2.0",
            "_model_name": "LayoutModel",
            "_view_count": null,
            "_view_module": "@jupyter-widgets/base",
            "_view_module_version": "1.2.0",
            "_view_name": "LayoutView",
            "align_content": null,
            "align_items": null,
            "align_self": null,
            "border": null,
            "bottom": null,
            "display": null,
            "flex": null,
            "flex_flow": null,
            "grid_area": null,
            "grid_auto_columns": null,
            "grid_auto_flow": null,
            "grid_auto_rows": null,
            "grid_column": null,
            "grid_gap": null,
            "grid_row": null,
            "grid_template_areas": null,
            "grid_template_columns": null,
            "grid_template_rows": null,
            "height": null,
            "justify_content": null,
            "justify_items": null,
            "left": null,
            "margin": null,
            "max_height": null,
            "max_width": null,
            "min_height": null,
            "min_width": null,
            "object_fit": null,
            "object_position": null,
            "order": null,
            "overflow": null,
            "overflow_x": null,
            "overflow_y": null,
            "padding": null,
            "right": null,
            "top": null,
            "visibility": null,
            "width": null
          }
        },
        "68eeb8634d4b4d83802692149c2e6275": {
          "model_module": "@jupyter-widgets/controls",
          "model_module_version": "1.5.0",
          "model_name": "DescriptionStyleModel",
          "state": {
            "_model_module": "@jupyter-widgets/controls",
            "_model_module_version": "1.5.0",
            "_model_name": "DescriptionStyleModel",
            "_view_count": null,
            "_view_module": "@jupyter-widgets/base",
            "_view_module_version": "1.2.0",
            "_view_name": "StyleView",
            "description_width": ""
          }
        },
        "71427d675c3b4c3eab635ab0da7d39f0": {
          "model_module": "@jupyter-widgets/controls",
          "model_module_version": "1.5.0",
          "model_name": "DescriptionStyleModel",
          "state": {
            "_model_module": "@jupyter-widgets/controls",
            "_model_module_version": "1.5.0",
            "_model_name": "DescriptionStyleModel",
            "_view_count": null,
            "_view_module": "@jupyter-widgets/base",
            "_view_module_version": "1.2.0",
            "_view_name": "StyleView",
            "description_width": ""
          }
        },
        "7276d4e2ac734bd7b6217ced694226a9": {
          "model_module": "@jupyter-widgets/controls",
          "model_module_version": "1.5.0",
          "model_name": "DescriptionStyleModel",
          "state": {
            "_model_module": "@jupyter-widgets/controls",
            "_model_module_version": "1.5.0",
            "_model_name": "DescriptionStyleModel",
            "_view_count": null,
            "_view_module": "@jupyter-widgets/base",
            "_view_module_version": "1.2.0",
            "_view_name": "StyleView",
            "description_width": ""
          }
        },
        "77410096e8de40108bfd1f8ed39dc6e1": {
          "model_module": "@jupyter-widgets/controls",
          "model_module_version": "1.5.0",
          "model_name": "DescriptionStyleModel",
          "state": {
            "_model_module": "@jupyter-widgets/controls",
            "_model_module_version": "1.5.0",
            "_model_name": "DescriptionStyleModel",
            "_view_count": null,
            "_view_module": "@jupyter-widgets/base",
            "_view_module_version": "1.2.0",
            "_view_name": "StyleView",
            "description_width": ""
          }
        },
        "79e9ee5c5b77425eb56cb67967d105c2": {
          "model_module": "@jupyter-widgets/base",
          "model_module_version": "1.2.0",
          "model_name": "LayoutModel",
          "state": {
            "_model_module": "@jupyter-widgets/base",
            "_model_module_version": "1.2.0",
            "_model_name": "LayoutModel",
            "_view_count": null,
            "_view_module": "@jupyter-widgets/base",
            "_view_module_version": "1.2.0",
            "_view_name": "LayoutView",
            "align_content": null,
            "align_items": null,
            "align_self": null,
            "border": null,
            "bottom": null,
            "display": null,
            "flex": null,
            "flex_flow": null,
            "grid_area": null,
            "grid_auto_columns": null,
            "grid_auto_flow": null,
            "grid_auto_rows": null,
            "grid_column": null,
            "grid_gap": null,
            "grid_row": null,
            "grid_template_areas": null,
            "grid_template_columns": null,
            "grid_template_rows": null,
            "height": null,
            "justify_content": null,
            "justify_items": null,
            "left": null,
            "margin": null,
            "max_height": null,
            "max_width": null,
            "min_height": null,
            "min_width": null,
            "object_fit": null,
            "object_position": null,
            "order": null,
            "overflow": null,
            "overflow_x": null,
            "overflow_y": null,
            "padding": null,
            "right": null,
            "top": null,
            "visibility": null,
            "width": null
          }
        },
        "7f831338b18a4052bd462d2e2cf84de9": {
          "model_module": "@jupyter-widgets/base",
          "model_module_version": "1.2.0",
          "model_name": "LayoutModel",
          "state": {
            "_model_module": "@jupyter-widgets/base",
            "_model_module_version": "1.2.0",
            "_model_name": "LayoutModel",
            "_view_count": null,
            "_view_module": "@jupyter-widgets/base",
            "_view_module_version": "1.2.0",
            "_view_name": "LayoutView",
            "align_content": null,
            "align_items": null,
            "align_self": null,
            "border": null,
            "bottom": null,
            "display": null,
            "flex": null,
            "flex_flow": null,
            "grid_area": null,
            "grid_auto_columns": null,
            "grid_auto_flow": null,
            "grid_auto_rows": null,
            "grid_column": null,
            "grid_gap": null,
            "grid_row": null,
            "grid_template_areas": null,
            "grid_template_columns": null,
            "grid_template_rows": null,
            "height": null,
            "justify_content": null,
            "justify_items": null,
            "left": null,
            "margin": null,
            "max_height": null,
            "max_width": null,
            "min_height": null,
            "min_width": null,
            "object_fit": null,
            "object_position": null,
            "order": null,
            "overflow": null,
            "overflow_x": null,
            "overflow_y": null,
            "padding": null,
            "right": null,
            "top": null,
            "visibility": null,
            "width": null
          }
        },
        "8b9268eaab1c474d940613b691532fd1": {
          "model_module": "@jupyter-widgets/base",
          "model_module_version": "1.2.0",
          "model_name": "LayoutModel",
          "state": {
            "_model_module": "@jupyter-widgets/base",
            "_model_module_version": "1.2.0",
            "_model_name": "LayoutModel",
            "_view_count": null,
            "_view_module": "@jupyter-widgets/base",
            "_view_module_version": "1.2.0",
            "_view_name": "LayoutView",
            "align_content": null,
            "align_items": null,
            "align_self": null,
            "border": null,
            "bottom": null,
            "display": null,
            "flex": null,
            "flex_flow": null,
            "grid_area": null,
            "grid_auto_columns": null,
            "grid_auto_flow": null,
            "grid_auto_rows": null,
            "grid_column": null,
            "grid_gap": null,
            "grid_row": null,
            "grid_template_areas": null,
            "grid_template_columns": null,
            "grid_template_rows": null,
            "height": null,
            "justify_content": null,
            "justify_items": null,
            "left": null,
            "margin": null,
            "max_height": null,
            "max_width": null,
            "min_height": null,
            "min_width": null,
            "object_fit": null,
            "object_position": null,
            "order": null,
            "overflow": null,
            "overflow_x": null,
            "overflow_y": null,
            "padding": null,
            "right": null,
            "top": null,
            "visibility": null,
            "width": null
          }
        },
        "8bb1b99cc35841c6bbd09a5ca25ef7e6": {
          "model_module": "@jupyter-widgets/controls",
          "model_module_version": "1.5.0",
          "model_name": "ProgressStyleModel",
          "state": {
            "_model_module": "@jupyter-widgets/controls",
            "_model_module_version": "1.5.0",
            "_model_name": "ProgressStyleModel",
            "_view_count": null,
            "_view_module": "@jupyter-widgets/base",
            "_view_module_version": "1.2.0",
            "_view_name": "StyleView",
            "bar_color": null,
            "description_width": ""
          }
        },
        "9080917e933c47ae8c520b2bdce2d8e3": {
          "model_module": "@jupyter-widgets/base",
          "model_module_version": "1.2.0",
          "model_name": "LayoutModel",
          "state": {
            "_model_module": "@jupyter-widgets/base",
            "_model_module_version": "1.2.0",
            "_model_name": "LayoutModel",
            "_view_count": null,
            "_view_module": "@jupyter-widgets/base",
            "_view_module_version": "1.2.0",
            "_view_name": "LayoutView",
            "align_content": null,
            "align_items": null,
            "align_self": null,
            "border": null,
            "bottom": null,
            "display": null,
            "flex": null,
            "flex_flow": null,
            "grid_area": null,
            "grid_auto_columns": null,
            "grid_auto_flow": null,
            "grid_auto_rows": null,
            "grid_column": null,
            "grid_gap": null,
            "grid_row": null,
            "grid_template_areas": null,
            "grid_template_columns": null,
            "grid_template_rows": null,
            "height": null,
            "justify_content": null,
            "justify_items": null,
            "left": null,
            "margin": null,
            "max_height": null,
            "max_width": null,
            "min_height": null,
            "min_width": null,
            "object_fit": null,
            "object_position": null,
            "order": null,
            "overflow": null,
            "overflow_x": null,
            "overflow_y": null,
            "padding": null,
            "right": null,
            "top": null,
            "visibility": null,
            "width": null
          }
        },
        "90ca82a2b3f94bc4804fb9d35bf13df6": {
          "model_module": "@jupyter-widgets/base",
          "model_module_version": "1.2.0",
          "model_name": "LayoutModel",
          "state": {
            "_model_module": "@jupyter-widgets/base",
            "_model_module_version": "1.2.0",
            "_model_name": "LayoutModel",
            "_view_count": null,
            "_view_module": "@jupyter-widgets/base",
            "_view_module_version": "1.2.0",
            "_view_name": "LayoutView",
            "align_content": null,
            "align_items": null,
            "align_self": null,
            "border": null,
            "bottom": null,
            "display": null,
            "flex": null,
            "flex_flow": null,
            "grid_area": null,
            "grid_auto_columns": null,
            "grid_auto_flow": null,
            "grid_auto_rows": null,
            "grid_column": null,
            "grid_gap": null,
            "grid_row": null,
            "grid_template_areas": null,
            "grid_template_columns": null,
            "grid_template_rows": null,
            "height": null,
            "justify_content": null,
            "justify_items": null,
            "left": null,
            "margin": null,
            "max_height": null,
            "max_width": null,
            "min_height": null,
            "min_width": null,
            "object_fit": null,
            "object_position": null,
            "order": null,
            "overflow": null,
            "overflow_x": null,
            "overflow_y": null,
            "padding": null,
            "right": null,
            "top": null,
            "visibility": null,
            "width": null
          }
        },
        "97ea2fa15ca9434c8d1100f220d49bd7": {
          "model_module": "@jupyter-widgets/controls",
          "model_module_version": "1.5.0",
          "model_name": "ProgressStyleModel",
          "state": {
            "_model_module": "@jupyter-widgets/controls",
            "_model_module_version": "1.5.0",
            "_model_name": "ProgressStyleModel",
            "_view_count": null,
            "_view_module": "@jupyter-widgets/base",
            "_view_module_version": "1.2.0",
            "_view_name": "StyleView",
            "bar_color": null,
            "description_width": ""
          }
        },
        "98bd647378ca47d8a655faae451c4622": {
          "model_module": "@jupyter-widgets/controls",
          "model_module_version": "1.5.0",
          "model_name": "HTMLModel",
          "state": {
            "_dom_classes": [],
            "_model_module": "@jupyter-widgets/controls",
            "_model_module_version": "1.5.0",
            "_model_name": "HTMLModel",
            "_view_count": null,
            "_view_module": "@jupyter-widgets/controls",
            "_view_module_version": "1.5.0",
            "_view_name": "HTMLView",
            "description": "",
            "description_tooltip": null,
            "layout": "IPY_MODEL_6433b984c5ff46dc8e860db17d9b0c91",
            "placeholder": "​",
            "style": "IPY_MODEL_77410096e8de40108bfd1f8ed39dc6e1",
            "value": " 681M/681M [00:12&lt;00:00, 60.9MB/s]"
          }
        },
        "9ae01733612343c1825f9e44622e743c": {
          "model_module": "@jupyter-widgets/controls",
          "model_module_version": "1.5.0",
          "model_name": "DescriptionStyleModel",
          "state": {
            "_model_module": "@jupyter-widgets/controls",
            "_model_module_version": "1.5.0",
            "_model_name": "DescriptionStyleModel",
            "_view_count": null,
            "_view_module": "@jupyter-widgets/base",
            "_view_module_version": "1.2.0",
            "_view_name": "StyleView",
            "description_width": ""
          }
        },
        "a1071d613c9943b589499dd6dde97ed0": {
          "model_module": "@jupyter-widgets/base",
          "model_module_version": "1.2.0",
          "model_name": "LayoutModel",
          "state": {
            "_model_module": "@jupyter-widgets/base",
            "_model_module_version": "1.2.0",
            "_model_name": "LayoutModel",
            "_view_count": null,
            "_view_module": "@jupyter-widgets/base",
            "_view_module_version": "1.2.0",
            "_view_name": "LayoutView",
            "align_content": null,
            "align_items": null,
            "align_self": null,
            "border": null,
            "bottom": null,
            "display": null,
            "flex": null,
            "flex_flow": null,
            "grid_area": null,
            "grid_auto_columns": null,
            "grid_auto_flow": null,
            "grid_auto_rows": null,
            "grid_column": null,
            "grid_gap": null,
            "grid_row": null,
            "grid_template_areas": null,
            "grid_template_columns": null,
            "grid_template_rows": null,
            "height": null,
            "justify_content": null,
            "justify_items": null,
            "left": null,
            "margin": null,
            "max_height": null,
            "max_width": null,
            "min_height": null,
            "min_width": null,
            "object_fit": null,
            "object_position": null,
            "order": null,
            "overflow": null,
            "overflow_x": null,
            "overflow_y": null,
            "padding": null,
            "right": null,
            "top": null,
            "visibility": null,
            "width": null
          }
        },
        "a1c4aa6d0be64058ac77f2e052bb0ec2": {
          "model_module": "@jupyter-widgets/controls",
          "model_module_version": "1.5.0",
          "model_name": "ProgressStyleModel",
          "state": {
            "_model_module": "@jupyter-widgets/controls",
            "_model_module_version": "1.5.0",
            "_model_name": "ProgressStyleModel",
            "_view_count": null,
            "_view_module": "@jupyter-widgets/base",
            "_view_module_version": "1.2.0",
            "_view_name": "StyleView",
            "bar_color": null,
            "description_width": ""
          }
        },
        "a3430026371440c8a263b80b2bd0bf48": {
          "model_module": "@jupyter-widgets/controls",
          "model_module_version": "1.5.0",
          "model_name": "ProgressStyleModel",
          "state": {
            "_model_module": "@jupyter-widgets/controls",
            "_model_module_version": "1.5.0",
            "_model_name": "ProgressStyleModel",
            "_view_count": null,
            "_view_module": "@jupyter-widgets/base",
            "_view_module_version": "1.2.0",
            "_view_name": "StyleView",
            "bar_color": null,
            "description_width": ""
          }
        },
        "a3e117dcaf3f487784057e196db693f3": {
          "model_module": "@jupyter-widgets/controls",
          "model_module_version": "1.5.0",
          "model_name": "HTMLModel",
          "state": {
            "_dom_classes": [],
            "_model_module": "@jupyter-widgets/controls",
            "_model_module_version": "1.5.0",
            "_model_name": "HTMLModel",
            "_view_count": null,
            "_view_module": "@jupyter-widgets/controls",
            "_view_module_version": "1.5.0",
            "_view_name": "HTMLView",
            "description": "",
            "description_tooltip": null,
            "layout": "IPY_MODEL_683e95f5a40d4e7a8f009ee3f2d9a22c",
            "placeholder": "​",
            "style": "IPY_MODEL_9ae01733612343c1825f9e44622e743c",
            "value": " 5022/5022 [00:15&lt;00:00, 322.70it/s]"
          }
        },
        "a4f1d6b4e52d48a2b00d4eaa1479e707": {
          "model_module": "@jupyter-widgets/controls",
          "model_module_version": "1.5.0",
          "model_name": "DescriptionStyleModel",
          "state": {
            "_model_module": "@jupyter-widgets/controls",
            "_model_module_version": "1.5.0",
            "_model_name": "DescriptionStyleModel",
            "_view_count": null,
            "_view_module": "@jupyter-widgets/base",
            "_view_module_version": "1.2.0",
            "_view_name": "StyleView",
            "description_width": ""
          }
        },
        "a6645eefdb4e4a969bb742b83cd781f1": {
          "model_module": "@jupyter-widgets/base",
          "model_module_version": "1.2.0",
          "model_name": "LayoutModel",
          "state": {
            "_model_module": "@jupyter-widgets/base",
            "_model_module_version": "1.2.0",
            "_model_name": "LayoutModel",
            "_view_count": null,
            "_view_module": "@jupyter-widgets/base",
            "_view_module_version": "1.2.0",
            "_view_name": "LayoutView",
            "align_content": null,
            "align_items": null,
            "align_self": null,
            "border": null,
            "bottom": null,
            "display": null,
            "flex": null,
            "flex_flow": null,
            "grid_area": null,
            "grid_auto_columns": null,
            "grid_auto_flow": null,
            "grid_auto_rows": null,
            "grid_column": null,
            "grid_gap": null,
            "grid_row": null,
            "grid_template_areas": null,
            "grid_template_columns": null,
            "grid_template_rows": null,
            "height": null,
            "justify_content": null,
            "justify_items": null,
            "left": null,
            "margin": null,
            "max_height": null,
            "max_width": null,
            "min_height": null,
            "min_width": null,
            "object_fit": null,
            "object_position": null,
            "order": null,
            "overflow": null,
            "overflow_x": null,
            "overflow_y": null,
            "padding": null,
            "right": null,
            "top": null,
            "visibility": null,
            "width": null
          }
        },
        "a720a16a8b5349c9a36440d7148e7bc7": {
          "model_module": "@jupyter-widgets/base",
          "model_module_version": "1.2.0",
          "model_name": "LayoutModel",
          "state": {
            "_model_module": "@jupyter-widgets/base",
            "_model_module_version": "1.2.0",
            "_model_name": "LayoutModel",
            "_view_count": null,
            "_view_module": "@jupyter-widgets/base",
            "_view_module_version": "1.2.0",
            "_view_name": "LayoutView",
            "align_content": null,
            "align_items": null,
            "align_self": null,
            "border": null,
            "bottom": null,
            "display": null,
            "flex": null,
            "flex_flow": null,
            "grid_area": null,
            "grid_auto_columns": null,
            "grid_auto_flow": null,
            "grid_auto_rows": null,
            "grid_column": null,
            "grid_gap": null,
            "grid_row": null,
            "grid_template_areas": null,
            "grid_template_columns": null,
            "grid_template_rows": null,
            "height": null,
            "justify_content": null,
            "justify_items": null,
            "left": null,
            "margin": null,
            "max_height": null,
            "max_width": null,
            "min_height": null,
            "min_width": null,
            "object_fit": null,
            "object_position": null,
            "order": null,
            "overflow": null,
            "overflow_x": null,
            "overflow_y": null,
            "padding": null,
            "right": null,
            "top": null,
            "visibility": null,
            "width": null
          }
        },
        "ac4e9357022647d3afe6395bb77a221c": {
          "model_module": "@jupyter-widgets/controls",
          "model_module_version": "1.5.0",
          "model_name": "HTMLModel",
          "state": {
            "_dom_classes": [],
            "_model_module": "@jupyter-widgets/controls",
            "_model_module_version": "1.5.0",
            "_model_name": "HTMLModel",
            "_view_count": null,
            "_view_module": "@jupyter-widgets/controls",
            "_view_module_version": "1.5.0",
            "_view_name": "HTMLView",
            "description": "",
            "description_tooltip": null,
            "layout": "IPY_MODEL_7f831338b18a4052bd462d2e2cf84de9",
            "placeholder": "​",
            "style": "IPY_MODEL_d37e4fde1b384615a34d665aeb8ae88d",
            "value": "Downloading: 100%"
          }
        },
        "adff26fc2cf84851a83fef77ba919ec4": {
          "model_module": "@jupyter-widgets/controls",
          "model_module_version": "1.5.0",
          "model_name": "HTMLModel",
          "state": {
            "_dom_classes": [],
            "_model_module": "@jupyter-widgets/controls",
            "_model_module_version": "1.5.0",
            "_model_name": "HTMLModel",
            "_view_count": null,
            "_view_module": "@jupyter-widgets/controls",
            "_view_module_version": "1.5.0",
            "_view_name": "HTMLView",
            "description": "",
            "description_tooltip": null,
            "layout": "IPY_MODEL_c5b2b60d9ac444e38ece2f472c674aa1",
            "placeholder": "​",
            "style": "IPY_MODEL_71427d675c3b4c3eab635ab0da7d39f0",
            "value": " 676M/676M [00:40&lt;00:00, 17.9MB/s]"
          }
        },
        "b2e0bca573d944eb814a795de5105658": {
          "model_module": "@jupyter-widgets/controls",
          "model_module_version": "1.5.0",
          "model_name": "DescriptionStyleModel",
          "state": {
            "_model_module": "@jupyter-widgets/controls",
            "_model_module_version": "1.5.0",
            "_model_name": "DescriptionStyleModel",
            "_view_count": null,
            "_view_module": "@jupyter-widgets/base",
            "_view_module_version": "1.2.0",
            "_view_name": "StyleView",
            "description_width": ""
          }
        },
        "b5cbb50a437c4aea8acb143451a77892": {
          "model_module": "@jupyter-widgets/base",
          "model_module_version": "1.2.0",
          "model_name": "LayoutModel",
          "state": {
            "_model_module": "@jupyter-widgets/base",
            "_model_module_version": "1.2.0",
            "_model_name": "LayoutModel",
            "_view_count": null,
            "_view_module": "@jupyter-widgets/base",
            "_view_module_version": "1.2.0",
            "_view_name": "LayoutView",
            "align_content": null,
            "align_items": null,
            "align_self": null,
            "border": null,
            "bottom": null,
            "display": null,
            "flex": null,
            "flex_flow": null,
            "grid_area": null,
            "grid_auto_columns": null,
            "grid_auto_flow": null,
            "grid_auto_rows": null,
            "grid_column": null,
            "grid_gap": null,
            "grid_row": null,
            "grid_template_areas": null,
            "grid_template_columns": null,
            "grid_template_rows": null,
            "height": null,
            "justify_content": null,
            "justify_items": null,
            "left": null,
            "margin": null,
            "max_height": null,
            "max_width": null,
            "min_height": null,
            "min_width": null,
            "object_fit": null,
            "object_position": null,
            "order": null,
            "overflow": null,
            "overflow_x": null,
            "overflow_y": null,
            "padding": null,
            "right": null,
            "top": null,
            "visibility": null,
            "width": null
          }
        },
        "c135946b3bf04d87a18ba64697d0bea9": {
          "model_module": "@jupyter-widgets/controls",
          "model_module_version": "1.5.0",
          "model_name": "HTMLModel",
          "state": {
            "_dom_classes": [],
            "_model_module": "@jupyter-widgets/controls",
            "_model_module_version": "1.5.0",
            "_model_name": "HTMLModel",
            "_view_count": null,
            "_view_module": "@jupyter-widgets/controls",
            "_view_module_version": "1.5.0",
            "_view_name": "HTMLView",
            "description": "",
            "description_tooltip": null,
            "layout": "IPY_MODEL_8b9268eaab1c474d940613b691532fd1",
            "placeholder": "​",
            "style": "IPY_MODEL_df8e8a3dba4e43baa0d639b542b0959a",
            "value": "Downloading: 100%"
          }
        },
        "c484b9dc3f784ee283340a2eaf7c58ec": {
          "model_module": "@jupyter-widgets/controls",
          "model_module_version": "1.5.0",
          "model_name": "HTMLModel",
          "state": {
            "_dom_classes": [],
            "_model_module": "@jupyter-widgets/controls",
            "_model_module_version": "1.5.0",
            "_model_name": "HTMLModel",
            "_view_count": null,
            "_view_module": "@jupyter-widgets/controls",
            "_view_module_version": "1.5.0",
            "_view_name": "HTMLView",
            "description": "",
            "description_tooltip": null,
            "layout": "IPY_MODEL_5b80d00818104fdf9190bc20a225690c",
            "placeholder": "​",
            "style": "IPY_MODEL_b2e0bca573d944eb814a795de5105658",
            "value": "Skipping the first batches: 100%"
          }
        },
        "c5b2b60d9ac444e38ece2f472c674aa1": {
          "model_module": "@jupyter-widgets/base",
          "model_module_version": "1.2.0",
          "model_name": "LayoutModel",
          "state": {
            "_model_module": "@jupyter-widgets/base",
            "_model_module_version": "1.2.0",
            "_model_name": "LayoutModel",
            "_view_count": null,
            "_view_module": "@jupyter-widgets/base",
            "_view_module_version": "1.2.0",
            "_view_name": "LayoutView",
            "align_content": null,
            "align_items": null,
            "align_self": null,
            "border": null,
            "bottom": null,
            "display": null,
            "flex": null,
            "flex_flow": null,
            "grid_area": null,
            "grid_auto_columns": null,
            "grid_auto_flow": null,
            "grid_auto_rows": null,
            "grid_column": null,
            "grid_gap": null,
            "grid_row": null,
            "grid_template_areas": null,
            "grid_template_columns": null,
            "grid_template_rows": null,
            "height": null,
            "justify_content": null,
            "justify_items": null,
            "left": null,
            "margin": null,
            "max_height": null,
            "max_width": null,
            "min_height": null,
            "min_width": null,
            "object_fit": null,
            "object_position": null,
            "order": null,
            "overflow": null,
            "overflow_x": null,
            "overflow_y": null,
            "padding": null,
            "right": null,
            "top": null,
            "visibility": null,
            "width": null
          }
        },
        "c7727a2234344601b3cae7ac921a72f3": {
          "model_module": "@jupyter-widgets/controls",
          "model_module_version": "1.5.0",
          "model_name": "DescriptionStyleModel",
          "state": {
            "_model_module": "@jupyter-widgets/controls",
            "_model_module_version": "1.5.0",
            "_model_name": "DescriptionStyleModel",
            "_view_count": null,
            "_view_module": "@jupyter-widgets/base",
            "_view_module_version": "1.2.0",
            "_view_name": "StyleView",
            "description_width": ""
          }
        },
        "cd076602d0c64649882269a89f5b5cac": {
          "model_module": "@jupyter-widgets/controls",
          "model_module_version": "1.5.0",
          "model_name": "HBoxModel",
          "state": {
            "_dom_classes": [],
            "_model_module": "@jupyter-widgets/controls",
            "_model_module_version": "1.5.0",
            "_model_name": "HBoxModel",
            "_view_count": null,
            "_view_module": "@jupyter-widgets/controls",
            "_view_module_version": "1.5.0",
            "_view_name": "HBoxView",
            "box_style": "",
            "children": [
              "IPY_MODEL_55274836981242498c5e0240a069af71",
              "IPY_MODEL_08f63f4fbaa646458773b189bbc61cb1",
              "IPY_MODEL_58e284e47c4d43c2b49637aa8521510f"
            ],
            "layout": "IPY_MODEL_3d894ebfb9b1480ba16cdec9056b6ec6"
          }
        },
        "cd5a6cfe2bab4ce9a0372d80e6bd724c": {
          "model_module": "@jupyter-widgets/controls",
          "model_module_version": "1.5.0",
          "model_name": "HBoxModel",
          "state": {
            "_dom_classes": [],
            "_model_module": "@jupyter-widgets/controls",
            "_model_module_version": "1.5.0",
            "_model_name": "HBoxModel",
            "_view_count": null,
            "_view_module": "@jupyter-widgets/controls",
            "_view_module_version": "1.5.0",
            "_view_name": "HBoxView",
            "box_style": "",
            "children": [
              "IPY_MODEL_c484b9dc3f784ee283340a2eaf7c58ec",
              "IPY_MODEL_33c06c9b41db4da7b94b6af9f8766da5",
              "IPY_MODEL_412aee3db47a49458706b8c2fded0c7a"
            ],
            "layout": "IPY_MODEL_90ca82a2b3f94bc4804fb9d35bf13df6"
          }
        },
        "cea9f980be0b4044ad60cdb4a940d2a6": {
          "model_module": "@jupyter-widgets/controls",
          "model_module_version": "1.5.0",
          "model_name": "DescriptionStyleModel",
          "state": {
            "_model_module": "@jupyter-widgets/controls",
            "_model_module_version": "1.5.0",
            "_model_name": "DescriptionStyleModel",
            "_view_count": null,
            "_view_module": "@jupyter-widgets/base",
            "_view_module_version": "1.2.0",
            "_view_name": "StyleView",
            "description_width": ""
          }
        },
        "d09efde7054641c18b4b11bcdf265003": {
          "model_module": "@jupyter-widgets/base",
          "model_module_version": "1.2.0",
          "model_name": "LayoutModel",
          "state": {
            "_model_module": "@jupyter-widgets/base",
            "_model_module_version": "1.2.0",
            "_model_name": "LayoutModel",
            "_view_count": null,
            "_view_module": "@jupyter-widgets/base",
            "_view_module_version": "1.2.0",
            "_view_name": "LayoutView",
            "align_content": null,
            "align_items": null,
            "align_self": null,
            "border": null,
            "bottom": null,
            "display": null,
            "flex": null,
            "flex_flow": null,
            "grid_area": null,
            "grid_auto_columns": null,
            "grid_auto_flow": null,
            "grid_auto_rows": null,
            "grid_column": null,
            "grid_gap": null,
            "grid_row": null,
            "grid_template_areas": null,
            "grid_template_columns": null,
            "grid_template_rows": null,
            "height": null,
            "justify_content": null,
            "justify_items": null,
            "left": null,
            "margin": null,
            "max_height": null,
            "max_width": null,
            "min_height": null,
            "min_width": null,
            "object_fit": null,
            "object_position": null,
            "order": null,
            "overflow": null,
            "overflow_x": null,
            "overflow_y": null,
            "padding": null,
            "right": null,
            "top": null,
            "visibility": null,
            "width": null
          }
        },
        "d2345028e70149b495b83c21c7da88aa": {
          "model_module": "@jupyter-widgets/base",
          "model_module_version": "1.2.0",
          "model_name": "LayoutModel",
          "state": {
            "_model_module": "@jupyter-widgets/base",
            "_model_module_version": "1.2.0",
            "_model_name": "LayoutModel",
            "_view_count": null,
            "_view_module": "@jupyter-widgets/base",
            "_view_module_version": "1.2.0",
            "_view_name": "LayoutView",
            "align_content": null,
            "align_items": null,
            "align_self": null,
            "border": null,
            "bottom": null,
            "display": null,
            "flex": null,
            "flex_flow": null,
            "grid_area": null,
            "grid_auto_columns": null,
            "grid_auto_flow": null,
            "grid_auto_rows": null,
            "grid_column": null,
            "grid_gap": null,
            "grid_row": null,
            "grid_template_areas": null,
            "grid_template_columns": null,
            "grid_template_rows": null,
            "height": null,
            "justify_content": null,
            "justify_items": null,
            "left": null,
            "margin": null,
            "max_height": null,
            "max_width": null,
            "min_height": null,
            "min_width": null,
            "object_fit": null,
            "object_position": null,
            "order": null,
            "overflow": null,
            "overflow_x": null,
            "overflow_y": null,
            "padding": null,
            "right": null,
            "top": null,
            "visibility": null,
            "width": null
          }
        },
        "d37e4fde1b384615a34d665aeb8ae88d": {
          "model_module": "@jupyter-widgets/controls",
          "model_module_version": "1.5.0",
          "model_name": "DescriptionStyleModel",
          "state": {
            "_model_module": "@jupyter-widgets/controls",
            "_model_module_version": "1.5.0",
            "_model_name": "DescriptionStyleModel",
            "_view_count": null,
            "_view_module": "@jupyter-widgets/base",
            "_view_module_version": "1.2.0",
            "_view_name": "StyleView",
            "description_width": ""
          }
        },
        "d3da8f6aa25044a490a09eac0457d3a9": {
          "model_module": "@jupyter-widgets/base",
          "model_module_version": "1.2.0",
          "model_name": "LayoutModel",
          "state": {
            "_model_module": "@jupyter-widgets/base",
            "_model_module_version": "1.2.0",
            "_model_name": "LayoutModel",
            "_view_count": null,
            "_view_module": "@jupyter-widgets/base",
            "_view_module_version": "1.2.0",
            "_view_name": "LayoutView",
            "align_content": null,
            "align_items": null,
            "align_self": null,
            "border": null,
            "bottom": null,
            "display": null,
            "flex": null,
            "flex_flow": null,
            "grid_area": null,
            "grid_auto_columns": null,
            "grid_auto_flow": null,
            "grid_auto_rows": null,
            "grid_column": null,
            "grid_gap": null,
            "grid_row": null,
            "grid_template_areas": null,
            "grid_template_columns": null,
            "grid_template_rows": null,
            "height": null,
            "justify_content": null,
            "justify_items": null,
            "left": null,
            "margin": null,
            "max_height": null,
            "max_width": null,
            "min_height": null,
            "min_width": null,
            "object_fit": null,
            "object_position": null,
            "order": null,
            "overflow": null,
            "overflow_x": null,
            "overflow_y": null,
            "padding": null,
            "right": null,
            "top": null,
            "visibility": null,
            "width": null
          }
        },
        "d4926be96b854295ba02fe013ac05ed4": {
          "model_module": "@jupyter-widgets/base",
          "model_module_version": "1.2.0",
          "model_name": "LayoutModel",
          "state": {
            "_model_module": "@jupyter-widgets/base",
            "_model_module_version": "1.2.0",
            "_model_name": "LayoutModel",
            "_view_count": null,
            "_view_module": "@jupyter-widgets/base",
            "_view_module_version": "1.2.0",
            "_view_name": "LayoutView",
            "align_content": null,
            "align_items": null,
            "align_self": null,
            "border": null,
            "bottom": null,
            "display": null,
            "flex": null,
            "flex_flow": null,
            "grid_area": null,
            "grid_auto_columns": null,
            "grid_auto_flow": null,
            "grid_auto_rows": null,
            "grid_column": null,
            "grid_gap": null,
            "grid_row": null,
            "grid_template_areas": null,
            "grid_template_columns": null,
            "grid_template_rows": null,
            "height": null,
            "justify_content": null,
            "justify_items": null,
            "left": null,
            "margin": null,
            "max_height": null,
            "max_width": null,
            "min_height": null,
            "min_width": null,
            "object_fit": null,
            "object_position": null,
            "order": null,
            "overflow": null,
            "overflow_x": null,
            "overflow_y": null,
            "padding": null,
            "right": null,
            "top": null,
            "visibility": null,
            "width": null
          }
        },
        "d5ec4ed6db3546948ac2b4af20048038": {
          "model_module": "@jupyter-widgets/base",
          "model_module_version": "1.2.0",
          "model_name": "LayoutModel",
          "state": {
            "_model_module": "@jupyter-widgets/base",
            "_model_module_version": "1.2.0",
            "_model_name": "LayoutModel",
            "_view_count": null,
            "_view_module": "@jupyter-widgets/base",
            "_view_module_version": "1.2.0",
            "_view_name": "LayoutView",
            "align_content": null,
            "align_items": null,
            "align_self": null,
            "border": null,
            "bottom": null,
            "display": null,
            "flex": null,
            "flex_flow": null,
            "grid_area": null,
            "grid_auto_columns": null,
            "grid_auto_flow": null,
            "grid_auto_rows": null,
            "grid_column": null,
            "grid_gap": null,
            "grid_row": null,
            "grid_template_areas": null,
            "grid_template_columns": null,
            "grid_template_rows": null,
            "height": null,
            "justify_content": null,
            "justify_items": null,
            "left": null,
            "margin": null,
            "max_height": null,
            "max_width": null,
            "min_height": null,
            "min_width": null,
            "object_fit": null,
            "object_position": null,
            "order": null,
            "overflow": null,
            "overflow_x": null,
            "overflow_y": null,
            "padding": null,
            "right": null,
            "top": null,
            "visibility": null,
            "width": null
          }
        },
        "d70dab7247084f219c1e8c5a70d55f16": {
          "model_module": "@jupyter-widgets/base",
          "model_module_version": "1.2.0",
          "model_name": "LayoutModel",
          "state": {
            "_model_module": "@jupyter-widgets/base",
            "_model_module_version": "1.2.0",
            "_model_name": "LayoutModel",
            "_view_count": null,
            "_view_module": "@jupyter-widgets/base",
            "_view_module_version": "1.2.0",
            "_view_name": "LayoutView",
            "align_content": null,
            "align_items": null,
            "align_self": null,
            "border": null,
            "bottom": null,
            "display": null,
            "flex": null,
            "flex_flow": null,
            "grid_area": null,
            "grid_auto_columns": null,
            "grid_auto_flow": null,
            "grid_auto_rows": null,
            "grid_column": null,
            "grid_gap": null,
            "grid_row": null,
            "grid_template_areas": null,
            "grid_template_columns": null,
            "grid_template_rows": null,
            "height": null,
            "justify_content": null,
            "justify_items": null,
            "left": null,
            "margin": null,
            "max_height": null,
            "max_width": null,
            "min_height": null,
            "min_width": null,
            "object_fit": null,
            "object_position": null,
            "order": null,
            "overflow": null,
            "overflow_x": null,
            "overflow_y": null,
            "padding": null,
            "right": null,
            "top": null,
            "visibility": null,
            "width": null
          }
        },
        "d7140666cae24f8c8bc52b66cdd02595": {
          "model_module": "@jupyter-widgets/controls",
          "model_module_version": "1.5.0",
          "model_name": "HBoxModel",
          "state": {
            "_dom_classes": [],
            "_model_module": "@jupyter-widgets/controls",
            "_model_module_version": "1.5.0",
            "_model_name": "HBoxModel",
            "_view_count": null,
            "_view_module": "@jupyter-widgets/controls",
            "_view_module_version": "1.5.0",
            "_view_name": "HBoxView",
            "box_style": "",
            "children": [
              "IPY_MODEL_325dd1e2a8404fe487dbb1d07b703fdf",
              "IPY_MODEL_4d3315de898e47e2ad1b9cdfb5cce474",
              "IPY_MODEL_55766c180b1a4bf384d36a7d947e28e1"
            ],
            "layout": "IPY_MODEL_f6bb78658ada4b5f8971f1b992bc0a19"
          }
        },
        "db86c0b968b54ffda5353e6ad5be7278": {
          "model_module": "@jupyter-widgets/base",
          "model_module_version": "1.2.0",
          "model_name": "LayoutModel",
          "state": {
            "_model_module": "@jupyter-widgets/base",
            "_model_module_version": "1.2.0",
            "_model_name": "LayoutModel",
            "_view_count": null,
            "_view_module": "@jupyter-widgets/base",
            "_view_module_version": "1.2.0",
            "_view_name": "LayoutView",
            "align_content": null,
            "align_items": null,
            "align_self": null,
            "border": null,
            "bottom": null,
            "display": null,
            "flex": null,
            "flex_flow": null,
            "grid_area": null,
            "grid_auto_columns": null,
            "grid_auto_flow": null,
            "grid_auto_rows": null,
            "grid_column": null,
            "grid_gap": null,
            "grid_row": null,
            "grid_template_areas": null,
            "grid_template_columns": null,
            "grid_template_rows": null,
            "height": null,
            "justify_content": null,
            "justify_items": null,
            "left": null,
            "margin": null,
            "max_height": null,
            "max_width": null,
            "min_height": null,
            "min_width": null,
            "object_fit": null,
            "object_position": null,
            "order": null,
            "overflow": null,
            "overflow_x": null,
            "overflow_y": null,
            "padding": null,
            "right": null,
            "top": null,
            "visibility": null,
            "width": null
          }
        },
        "dcb84b4464de4168a1adb6ea367ae292": {
          "model_module": "@jupyter-widgets/controls",
          "model_module_version": "1.5.0",
          "model_name": "DescriptionStyleModel",
          "state": {
            "_model_module": "@jupyter-widgets/controls",
            "_model_module_version": "1.5.0",
            "_model_name": "DescriptionStyleModel",
            "_view_count": null,
            "_view_module": "@jupyter-widgets/base",
            "_view_module_version": "1.2.0",
            "_view_name": "StyleView",
            "description_width": ""
          }
        },
        "dd3c64775a854adcbf0d45e8264b0e18": {
          "model_module": "@jupyter-widgets/controls",
          "model_module_version": "1.5.0",
          "model_name": "DescriptionStyleModel",
          "state": {
            "_model_module": "@jupyter-widgets/controls",
            "_model_module_version": "1.5.0",
            "_model_name": "DescriptionStyleModel",
            "_view_count": null,
            "_view_module": "@jupyter-widgets/base",
            "_view_module_version": "1.2.0",
            "_view_name": "StyleView",
            "description_width": ""
          }
        },
        "df8e8a3dba4e43baa0d639b542b0959a": {
          "model_module": "@jupyter-widgets/controls",
          "model_module_version": "1.5.0",
          "model_name": "DescriptionStyleModel",
          "state": {
            "_model_module": "@jupyter-widgets/controls",
            "_model_module_version": "1.5.0",
            "_model_name": "DescriptionStyleModel",
            "_view_count": null,
            "_view_module": "@jupyter-widgets/base",
            "_view_module_version": "1.2.0",
            "_view_name": "StyleView",
            "description_width": ""
          }
        },
        "e3b7aaeb563b40bdad24a2a9d1bdc3cd": {
          "model_module": "@jupyter-widgets/base",
          "model_module_version": "1.2.0",
          "model_name": "LayoutModel",
          "state": {
            "_model_module": "@jupyter-widgets/base",
            "_model_module_version": "1.2.0",
            "_model_name": "LayoutModel",
            "_view_count": null,
            "_view_module": "@jupyter-widgets/base",
            "_view_module_version": "1.2.0",
            "_view_name": "LayoutView",
            "align_content": null,
            "align_items": null,
            "align_self": null,
            "border": null,
            "bottom": null,
            "display": null,
            "flex": null,
            "flex_flow": null,
            "grid_area": null,
            "grid_auto_columns": null,
            "grid_auto_flow": null,
            "grid_auto_rows": null,
            "grid_column": null,
            "grid_gap": null,
            "grid_row": null,
            "grid_template_areas": null,
            "grid_template_columns": null,
            "grid_template_rows": null,
            "height": null,
            "justify_content": null,
            "justify_items": null,
            "left": null,
            "margin": null,
            "max_height": null,
            "max_width": null,
            "min_height": null,
            "min_width": null,
            "object_fit": null,
            "object_position": null,
            "order": null,
            "overflow": null,
            "overflow_x": null,
            "overflow_y": null,
            "padding": null,
            "right": null,
            "top": null,
            "visibility": null,
            "width": null
          }
        },
        "e62ba15316ee439593794730441afffb": {
          "model_module": "@jupyter-widgets/controls",
          "model_module_version": "1.5.0",
          "model_name": "HBoxModel",
          "state": {
            "_dom_classes": [],
            "_model_module": "@jupyter-widgets/controls",
            "_model_module_version": "1.5.0",
            "_model_name": "HBoxModel",
            "_view_count": null,
            "_view_module": "@jupyter-widgets/controls",
            "_view_module_version": "1.5.0",
            "_view_name": "HBoxView",
            "box_style": "",
            "children": [
              "IPY_MODEL_54d35e000e69422d8aa0187d7201cfec",
              "IPY_MODEL_403ca4ef17ff4aa19eb09b9d6e8ca66d",
              "IPY_MODEL_a3e117dcaf3f487784057e196db693f3"
            ],
            "layout": "IPY_MODEL_6114c8643b254e37ac453e55a87689b2"
          }
        },
        "edd851c3a3324641a56a86624fdf057c": {
          "model_module": "@jupyter-widgets/base",
          "model_module_version": "1.2.0",
          "model_name": "LayoutModel",
          "state": {
            "_model_module": "@jupyter-widgets/base",
            "_model_module_version": "1.2.0",
            "_model_name": "LayoutModel",
            "_view_count": null,
            "_view_module": "@jupyter-widgets/base",
            "_view_module_version": "1.2.0",
            "_view_name": "LayoutView",
            "align_content": null,
            "align_items": null,
            "align_self": null,
            "border": null,
            "bottom": null,
            "display": null,
            "flex": null,
            "flex_flow": null,
            "grid_area": null,
            "grid_auto_columns": null,
            "grid_auto_flow": null,
            "grid_auto_rows": null,
            "grid_column": null,
            "grid_gap": null,
            "grid_row": null,
            "grid_template_areas": null,
            "grid_template_columns": null,
            "grid_template_rows": null,
            "height": null,
            "justify_content": null,
            "justify_items": null,
            "left": null,
            "margin": null,
            "max_height": null,
            "max_width": null,
            "min_height": null,
            "min_width": null,
            "object_fit": null,
            "object_position": null,
            "order": null,
            "overflow": null,
            "overflow_x": null,
            "overflow_y": null,
            "padding": null,
            "right": null,
            "top": null,
            "visibility": null,
            "width": null
          }
        },
        "f17f90424c76471b9358b2b01c0f8bae": {
          "model_module": "@jupyter-widgets/controls",
          "model_module_version": "1.5.0",
          "model_name": "DescriptionStyleModel",
          "state": {
            "_model_module": "@jupyter-widgets/controls",
            "_model_module_version": "1.5.0",
            "_model_name": "DescriptionStyleModel",
            "_view_count": null,
            "_view_module": "@jupyter-widgets/base",
            "_view_module_version": "1.2.0",
            "_view_name": "StyleView",
            "description_width": ""
          }
        },
        "f2967915a4d9475cb449cd73dde9a0e7": {
          "model_module": "@jupyter-widgets/base",
          "model_module_version": "1.2.0",
          "model_name": "LayoutModel",
          "state": {
            "_model_module": "@jupyter-widgets/base",
            "_model_module_version": "1.2.0",
            "_model_name": "LayoutModel",
            "_view_count": null,
            "_view_module": "@jupyter-widgets/base",
            "_view_module_version": "1.2.0",
            "_view_name": "LayoutView",
            "align_content": null,
            "align_items": null,
            "align_self": null,
            "border": null,
            "bottom": null,
            "display": null,
            "flex": null,
            "flex_flow": null,
            "grid_area": null,
            "grid_auto_columns": null,
            "grid_auto_flow": null,
            "grid_auto_rows": null,
            "grid_column": null,
            "grid_gap": null,
            "grid_row": null,
            "grid_template_areas": null,
            "grid_template_columns": null,
            "grid_template_rows": null,
            "height": null,
            "justify_content": null,
            "justify_items": null,
            "left": null,
            "margin": null,
            "max_height": null,
            "max_width": null,
            "min_height": null,
            "min_width": null,
            "object_fit": null,
            "object_position": null,
            "order": null,
            "overflow": null,
            "overflow_x": null,
            "overflow_y": null,
            "padding": null,
            "right": null,
            "top": null,
            "visibility": null,
            "width": null
          }
        },
        "f3270d496e6f4b43b5e745136ebe2e69": {
          "model_module": "@jupyter-widgets/base",
          "model_module_version": "1.2.0",
          "model_name": "LayoutModel",
          "state": {
            "_model_module": "@jupyter-widgets/base",
            "_model_module_version": "1.2.0",
            "_model_name": "LayoutModel",
            "_view_count": null,
            "_view_module": "@jupyter-widgets/base",
            "_view_module_version": "1.2.0",
            "_view_name": "LayoutView",
            "align_content": null,
            "align_items": null,
            "align_self": null,
            "border": null,
            "bottom": null,
            "display": null,
            "flex": null,
            "flex_flow": null,
            "grid_area": null,
            "grid_auto_columns": null,
            "grid_auto_flow": null,
            "grid_auto_rows": null,
            "grid_column": null,
            "grid_gap": null,
            "grid_row": null,
            "grid_template_areas": null,
            "grid_template_columns": null,
            "grid_template_rows": null,
            "height": null,
            "justify_content": null,
            "justify_items": null,
            "left": null,
            "margin": null,
            "max_height": null,
            "max_width": null,
            "min_height": null,
            "min_width": null,
            "object_fit": null,
            "object_position": null,
            "order": null,
            "overflow": null,
            "overflow_x": null,
            "overflow_y": null,
            "padding": null,
            "right": null,
            "top": null,
            "visibility": null,
            "width": null
          }
        },
        "f437eab6250c4677a8ebab6cb62b0f46": {
          "model_module": "@jupyter-widgets/base",
          "model_module_version": "1.2.0",
          "model_name": "LayoutModel",
          "state": {
            "_model_module": "@jupyter-widgets/base",
            "_model_module_version": "1.2.0",
            "_model_name": "LayoutModel",
            "_view_count": null,
            "_view_module": "@jupyter-widgets/base",
            "_view_module_version": "1.2.0",
            "_view_name": "LayoutView",
            "align_content": null,
            "align_items": null,
            "align_self": null,
            "border": null,
            "bottom": null,
            "display": null,
            "flex": null,
            "flex_flow": null,
            "grid_area": null,
            "grid_auto_columns": null,
            "grid_auto_flow": null,
            "grid_auto_rows": null,
            "grid_column": null,
            "grid_gap": null,
            "grid_row": null,
            "grid_template_areas": null,
            "grid_template_columns": null,
            "grid_template_rows": null,
            "height": null,
            "justify_content": null,
            "justify_items": null,
            "left": null,
            "margin": null,
            "max_height": null,
            "max_width": null,
            "min_height": null,
            "min_width": null,
            "object_fit": null,
            "object_position": null,
            "order": null,
            "overflow": null,
            "overflow_x": null,
            "overflow_y": null,
            "padding": null,
            "right": null,
            "top": null,
            "visibility": null,
            "width": null
          }
        },
        "f452492106924b3aae1c4765d612b38d": {
          "model_module": "@jupyter-widgets/base",
          "model_module_version": "1.2.0",
          "model_name": "LayoutModel",
          "state": {
            "_model_module": "@jupyter-widgets/base",
            "_model_module_version": "1.2.0",
            "_model_name": "LayoutModel",
            "_view_count": null,
            "_view_module": "@jupyter-widgets/base",
            "_view_module_version": "1.2.0",
            "_view_name": "LayoutView",
            "align_content": null,
            "align_items": null,
            "align_self": null,
            "border": null,
            "bottom": null,
            "display": null,
            "flex": null,
            "flex_flow": null,
            "grid_area": null,
            "grid_auto_columns": null,
            "grid_auto_flow": null,
            "grid_auto_rows": null,
            "grid_column": null,
            "grid_gap": null,
            "grid_row": null,
            "grid_template_areas": null,
            "grid_template_columns": null,
            "grid_template_rows": null,
            "height": null,
            "justify_content": null,
            "justify_items": null,
            "left": null,
            "margin": null,
            "max_height": null,
            "max_width": null,
            "min_height": null,
            "min_width": null,
            "object_fit": null,
            "object_position": null,
            "order": null,
            "overflow": null,
            "overflow_x": null,
            "overflow_y": null,
            "padding": null,
            "right": null,
            "top": null,
            "visibility": null,
            "width": null
          }
        },
        "f532e57bf641485380b5f60d1fac9728": {
          "model_module": "@jupyter-widgets/controls",
          "model_module_version": "1.5.0",
          "model_name": "FloatProgressModel",
          "state": {
            "_dom_classes": [],
            "_model_module": "@jupyter-widgets/controls",
            "_model_module_version": "1.5.0",
            "_model_name": "FloatProgressModel",
            "_view_count": null,
            "_view_module": "@jupyter-widgets/controls",
            "_view_module_version": "1.5.0",
            "_view_name": "ProgressView",
            "bar_style": "success",
            "description": "",
            "description_tooltip": null,
            "layout": "IPY_MODEL_d4926be96b854295ba02fe013ac05ed4",
            "max": 714355318,
            "min": 0,
            "orientation": "horizontal",
            "style": "IPY_MODEL_a1c4aa6d0be64058ac77f2e052bb0ec2",
            "value": 714355318
          }
        },
        "f6bb78658ada4b5f8971f1b992bc0a19": {
          "model_module": "@jupyter-widgets/base",
          "model_module_version": "1.2.0",
          "model_name": "LayoutModel",
          "state": {
            "_model_module": "@jupyter-widgets/base",
            "_model_module_version": "1.2.0",
            "_model_name": "LayoutModel",
            "_view_count": null,
            "_view_module": "@jupyter-widgets/base",
            "_view_module_version": "1.2.0",
            "_view_name": "LayoutView",
            "align_content": null,
            "align_items": null,
            "align_self": null,
            "border": null,
            "bottom": null,
            "display": null,
            "flex": null,
            "flex_flow": null,
            "grid_area": null,
            "grid_auto_columns": null,
            "grid_auto_flow": null,
            "grid_auto_rows": null,
            "grid_column": null,
            "grid_gap": null,
            "grid_row": null,
            "grid_template_areas": null,
            "grid_template_columns": null,
            "grid_template_rows": null,
            "height": null,
            "justify_content": null,
            "justify_items": null,
            "left": null,
            "margin": null,
            "max_height": null,
            "max_width": null,
            "min_height": null,
            "min_width": null,
            "object_fit": null,
            "object_position": null,
            "order": null,
            "overflow": null,
            "overflow_x": null,
            "overflow_y": null,
            "padding": null,
            "right": null,
            "top": null,
            "visibility": null,
            "width": null
          }
        },
        "fd8e608dd05f47a3a54574fef3a9d231": {
          "model_module": "@jupyter-widgets/controls",
          "model_module_version": "1.5.0",
          "model_name": "HTMLModel",
          "state": {
            "_dom_classes": [],
            "_model_module": "@jupyter-widgets/controls",
            "_model_module_version": "1.5.0",
            "_model_name": "HTMLModel",
            "_view_count": null,
            "_view_module": "@jupyter-widgets/controls",
            "_view_module_version": "1.5.0",
            "_view_name": "HTMLView",
            "description": "",
            "description_tooltip": null,
            "layout": "IPY_MODEL_1764f606fbcb4581b4930c4feedc6fa5",
            "placeholder": "​",
            "style": "IPY_MODEL_dd3c64775a854adcbf0d45e8264b0e18",
            "value": " 1.59G/1.59G [00:29&lt;00:00, 57.8MB/s]"
          }
        },
        "ff70f6ec1dac4fdb9a914c5e2c1cc02a": {
          "model_module": "@jupyter-widgets/controls",
          "model_module_version": "1.5.0",
          "model_name": "HTMLModel",
          "state": {
            "_dom_classes": [],
            "_model_module": "@jupyter-widgets/controls",
            "_model_module_version": "1.5.0",
            "_model_name": "HTMLModel",
            "_view_count": null,
            "_view_module": "@jupyter-widgets/controls",
            "_view_module_version": "1.5.0",
            "_view_name": "HTMLView",
            "description": "",
            "description_tooltip": null,
            "layout": "IPY_MODEL_d5ec4ed6db3546948ac2b4af20048038",
            "placeholder": "​",
            "style": "IPY_MODEL_4e3d953ce43843c8a7937f85ad91b852",
            "value": " 869/869 [00:00&lt;00:00, 15.2kB/s]"
          }
        },
        "e61752f868294b8f831b888fe4f5c7a4": {
          "model_module": "@jupyter-widgets/controls",
          "model_name": "HBoxModel",
          "model_module_version": "1.5.0",
          "state": {
            "_dom_classes": [],
            "_model_module": "@jupyter-widgets/controls",
            "_model_module_version": "1.5.0",
            "_model_name": "HBoxModel",
            "_view_count": null,
            "_view_module": "@jupyter-widgets/controls",
            "_view_module_version": "1.5.0",
            "_view_name": "HBoxView",
            "box_style": "",
            "children": [
              "IPY_MODEL_e964a87cda2f47a8af2e1b238684efa7",
              "IPY_MODEL_15cf6dbf81b74dc49875e504900a5663",
              "IPY_MODEL_3f793807f98e4f5cbeff5b1e439b1430"
            ],
            "layout": "IPY_MODEL_8ec7668b2e60415986d79d750e6d77fc"
          }
        },
        "e964a87cda2f47a8af2e1b238684efa7": {
          "model_module": "@jupyter-widgets/controls",
          "model_name": "HTMLModel",
          "model_module_version": "1.5.0",
          "state": {
            "_dom_classes": [],
            "_model_module": "@jupyter-widgets/controls",
            "_model_module_version": "1.5.0",
            "_model_name": "HTMLModel",
            "_view_count": null,
            "_view_module": "@jupyter-widgets/controls",
            "_view_module_version": "1.5.0",
            "_view_name": "HTMLView",
            "description": "",
            "description_tooltip": null,
            "layout": "IPY_MODEL_5ef5a44220f541358d5058364edd3c09",
            "placeholder": "​",
            "style": "IPY_MODEL_7757da409a1c4159a0d4ab195ef95c83",
            "value": "Downloading: 100%"
          }
        },
        "15cf6dbf81b74dc49875e504900a5663": {
          "model_module": "@jupyter-widgets/controls",
          "model_name": "FloatProgressModel",
          "model_module_version": "1.5.0",
          "state": {
            "_dom_classes": [],
            "_model_module": "@jupyter-widgets/controls",
            "_model_module_version": "1.5.0",
            "_model_name": "FloatProgressModel",
            "_view_count": null,
            "_view_module": "@jupyter-widgets/controls",
            "_view_module_version": "1.5.0",
            "_view_name": "ProgressView",
            "bar_style": "success",
            "description": "",
            "description_tooltip": null,
            "layout": "IPY_MODEL_f4087de5de6d4f89b4ca01ae5288f208",
            "max": 24,
            "min": 0,
            "orientation": "horizontal",
            "style": "IPY_MODEL_5a687239352642cfb0824e15ca9e3084",
            "value": 24
          }
        },
        "3f793807f98e4f5cbeff5b1e439b1430": {
          "model_module": "@jupyter-widgets/controls",
          "model_name": "HTMLModel",
          "model_module_version": "1.5.0",
          "state": {
            "_dom_classes": [],
            "_model_module": "@jupyter-widgets/controls",
            "_model_module_version": "1.5.0",
            "_model_name": "HTMLModel",
            "_view_count": null,
            "_view_module": "@jupyter-widgets/controls",
            "_view_module_version": "1.5.0",
            "_view_name": "HTMLView",
            "description": "",
            "description_tooltip": null,
            "layout": "IPY_MODEL_8a768006f367430a961edf48c58e2784",
            "placeholder": "​",
            "style": "IPY_MODEL_c353fa8d517d47e296ccd9a39ed6f9ca",
            "value": " 24.0/24.0 [00:00&lt;00:00, 666B/s]"
          }
        },
        "8ec7668b2e60415986d79d750e6d77fc": {
          "model_module": "@jupyter-widgets/base",
          "model_name": "LayoutModel",
          "model_module_version": "1.2.0",
          "state": {
            "_model_module": "@jupyter-widgets/base",
            "_model_module_version": "1.2.0",
            "_model_name": "LayoutModel",
            "_view_count": null,
            "_view_module": "@jupyter-widgets/base",
            "_view_module_version": "1.2.0",
            "_view_name": "LayoutView",
            "align_content": null,
            "align_items": null,
            "align_self": null,
            "border": null,
            "bottom": null,
            "display": null,
            "flex": null,
            "flex_flow": null,
            "grid_area": null,
            "grid_auto_columns": null,
            "grid_auto_flow": null,
            "grid_auto_rows": null,
            "grid_column": null,
            "grid_gap": null,
            "grid_row": null,
            "grid_template_areas": null,
            "grid_template_columns": null,
            "grid_template_rows": null,
            "height": null,
            "justify_content": null,
            "justify_items": null,
            "left": null,
            "margin": null,
            "max_height": null,
            "max_width": null,
            "min_height": null,
            "min_width": null,
            "object_fit": null,
            "object_position": null,
            "order": null,
            "overflow": null,
            "overflow_x": null,
            "overflow_y": null,
            "padding": null,
            "right": null,
            "top": null,
            "visibility": null,
            "width": null
          }
        },
        "5ef5a44220f541358d5058364edd3c09": {
          "model_module": "@jupyter-widgets/base",
          "model_name": "LayoutModel",
          "model_module_version": "1.2.0",
          "state": {
            "_model_module": "@jupyter-widgets/base",
            "_model_module_version": "1.2.0",
            "_model_name": "LayoutModel",
            "_view_count": null,
            "_view_module": "@jupyter-widgets/base",
            "_view_module_version": "1.2.0",
            "_view_name": "LayoutView",
            "align_content": null,
            "align_items": null,
            "align_self": null,
            "border": null,
            "bottom": null,
            "display": null,
            "flex": null,
            "flex_flow": null,
            "grid_area": null,
            "grid_auto_columns": null,
            "grid_auto_flow": null,
            "grid_auto_rows": null,
            "grid_column": null,
            "grid_gap": null,
            "grid_row": null,
            "grid_template_areas": null,
            "grid_template_columns": null,
            "grid_template_rows": null,
            "height": null,
            "justify_content": null,
            "justify_items": null,
            "left": null,
            "margin": null,
            "max_height": null,
            "max_width": null,
            "min_height": null,
            "min_width": null,
            "object_fit": null,
            "object_position": null,
            "order": null,
            "overflow": null,
            "overflow_x": null,
            "overflow_y": null,
            "padding": null,
            "right": null,
            "top": null,
            "visibility": null,
            "width": null
          }
        },
        "7757da409a1c4159a0d4ab195ef95c83": {
          "model_module": "@jupyter-widgets/controls",
          "model_name": "DescriptionStyleModel",
          "model_module_version": "1.5.0",
          "state": {
            "_model_module": "@jupyter-widgets/controls",
            "_model_module_version": "1.5.0",
            "_model_name": "DescriptionStyleModel",
            "_view_count": null,
            "_view_module": "@jupyter-widgets/base",
            "_view_module_version": "1.2.0",
            "_view_name": "StyleView",
            "description_width": ""
          }
        },
        "f4087de5de6d4f89b4ca01ae5288f208": {
          "model_module": "@jupyter-widgets/base",
          "model_name": "LayoutModel",
          "model_module_version": "1.2.0",
          "state": {
            "_model_module": "@jupyter-widgets/base",
            "_model_module_version": "1.2.0",
            "_model_name": "LayoutModel",
            "_view_count": null,
            "_view_module": "@jupyter-widgets/base",
            "_view_module_version": "1.2.0",
            "_view_name": "LayoutView",
            "align_content": null,
            "align_items": null,
            "align_self": null,
            "border": null,
            "bottom": null,
            "display": null,
            "flex": null,
            "flex_flow": null,
            "grid_area": null,
            "grid_auto_columns": null,
            "grid_auto_flow": null,
            "grid_auto_rows": null,
            "grid_column": null,
            "grid_gap": null,
            "grid_row": null,
            "grid_template_areas": null,
            "grid_template_columns": null,
            "grid_template_rows": null,
            "height": null,
            "justify_content": null,
            "justify_items": null,
            "left": null,
            "margin": null,
            "max_height": null,
            "max_width": null,
            "min_height": null,
            "min_width": null,
            "object_fit": null,
            "object_position": null,
            "order": null,
            "overflow": null,
            "overflow_x": null,
            "overflow_y": null,
            "padding": null,
            "right": null,
            "top": null,
            "visibility": null,
            "width": null
          }
        },
        "5a687239352642cfb0824e15ca9e3084": {
          "model_module": "@jupyter-widgets/controls",
          "model_name": "ProgressStyleModel",
          "model_module_version": "1.5.0",
          "state": {
            "_model_module": "@jupyter-widgets/controls",
            "_model_module_version": "1.5.0",
            "_model_name": "ProgressStyleModel",
            "_view_count": null,
            "_view_module": "@jupyter-widgets/base",
            "_view_module_version": "1.2.0",
            "_view_name": "StyleView",
            "bar_color": null,
            "description_width": ""
          }
        },
        "8a768006f367430a961edf48c58e2784": {
          "model_module": "@jupyter-widgets/base",
          "model_name": "LayoutModel",
          "model_module_version": "1.2.0",
          "state": {
            "_model_module": "@jupyter-widgets/base",
            "_model_module_version": "1.2.0",
            "_model_name": "LayoutModel",
            "_view_count": null,
            "_view_module": "@jupyter-widgets/base",
            "_view_module_version": "1.2.0",
            "_view_name": "LayoutView",
            "align_content": null,
            "align_items": null,
            "align_self": null,
            "border": null,
            "bottom": null,
            "display": null,
            "flex": null,
            "flex_flow": null,
            "grid_area": null,
            "grid_auto_columns": null,
            "grid_auto_flow": null,
            "grid_auto_rows": null,
            "grid_column": null,
            "grid_gap": null,
            "grid_row": null,
            "grid_template_areas": null,
            "grid_template_columns": null,
            "grid_template_rows": null,
            "height": null,
            "justify_content": null,
            "justify_items": null,
            "left": null,
            "margin": null,
            "max_height": null,
            "max_width": null,
            "min_height": null,
            "min_width": null,
            "object_fit": null,
            "object_position": null,
            "order": null,
            "overflow": null,
            "overflow_x": null,
            "overflow_y": null,
            "padding": null,
            "right": null,
            "top": null,
            "visibility": null,
            "width": null
          }
        },
        "c353fa8d517d47e296ccd9a39ed6f9ca": {
          "model_module": "@jupyter-widgets/controls",
          "model_name": "DescriptionStyleModel",
          "model_module_version": "1.5.0",
          "state": {
            "_model_module": "@jupyter-widgets/controls",
            "_model_module_version": "1.5.0",
            "_model_name": "DescriptionStyleModel",
            "_view_count": null,
            "_view_module": "@jupyter-widgets/base",
            "_view_module_version": "1.2.0",
            "_view_name": "StyleView",
            "description_width": ""
          }
        },
        "944e8e91653843aeb4bc3d371b8fde53": {
          "model_module": "@jupyter-widgets/controls",
          "model_name": "HBoxModel",
          "model_module_version": "1.5.0",
          "state": {
            "_dom_classes": [],
            "_model_module": "@jupyter-widgets/controls",
            "_model_module_version": "1.5.0",
            "_model_name": "HBoxModel",
            "_view_count": null,
            "_view_module": "@jupyter-widgets/controls",
            "_view_module_version": "1.5.0",
            "_view_name": "HBoxView",
            "box_style": "",
            "children": [
              "IPY_MODEL_6fb7d5afeb5547f1bc94486343860bfe",
              "IPY_MODEL_fa88b9909a0a41c4b2cdc39294d3b06c",
              "IPY_MODEL_32c8600e5e0d408a86810c27953e6315"
            ],
            "layout": "IPY_MODEL_9f826e155aee45b08499949bef8524a4"
          }
        },
        "6fb7d5afeb5547f1bc94486343860bfe": {
          "model_module": "@jupyter-widgets/controls",
          "model_name": "HTMLModel",
          "model_module_version": "1.5.0",
          "state": {
            "_dom_classes": [],
            "_model_module": "@jupyter-widgets/controls",
            "_model_module_version": "1.5.0",
            "_model_name": "HTMLModel",
            "_view_count": null,
            "_view_module": "@jupyter-widgets/controls",
            "_view_module_version": "1.5.0",
            "_view_name": "HTMLView",
            "description": "",
            "description_tooltip": null,
            "layout": "IPY_MODEL_14084c2c9c9f4f27afbda4deaa8de54d",
            "placeholder": "​",
            "style": "IPY_MODEL_7e0f4f9f07da40708b6c667efb05636c",
            "value": "Downloading: 100%"
          }
        },
        "fa88b9909a0a41c4b2cdc39294d3b06c": {
          "model_module": "@jupyter-widgets/controls",
          "model_name": "FloatProgressModel",
          "model_module_version": "1.5.0",
          "state": {
            "_dom_classes": [],
            "_model_module": "@jupyter-widgets/controls",
            "_model_module_version": "1.5.0",
            "_model_name": "FloatProgressModel",
            "_view_count": null,
            "_view_module": "@jupyter-widgets/controls",
            "_view_module_version": "1.5.0",
            "_view_name": "ProgressView",
            "bar_style": "success",
            "description": "",
            "description_tooltip": null,
            "layout": "IPY_MODEL_14bf74b07cef4d3fa72732294d8efc17",
            "max": 642,
            "min": 0,
            "orientation": "horizontal",
            "style": "IPY_MODEL_6674c8ca57504f63aed01c85a0c7be74",
            "value": 642
          }
        },
        "32c8600e5e0d408a86810c27953e6315": {
          "model_module": "@jupyter-widgets/controls",
          "model_name": "HTMLModel",
          "model_module_version": "1.5.0",
          "state": {
            "_dom_classes": [],
            "_model_module": "@jupyter-widgets/controls",
            "_model_module_version": "1.5.0",
            "_model_name": "HTMLModel",
            "_view_count": null,
            "_view_module": "@jupyter-widgets/controls",
            "_view_module_version": "1.5.0",
            "_view_name": "HTMLView",
            "description": "",
            "description_tooltip": null,
            "layout": "IPY_MODEL_5dbe3361b6474e50965aff60d4d35124",
            "placeholder": "​",
            "style": "IPY_MODEL_93a7aab373564975b98433d983645c50",
            "value": " 642/642 [00:00&lt;00:00, 21.0kB/s]"
          }
        },
        "9f826e155aee45b08499949bef8524a4": {
          "model_module": "@jupyter-widgets/base",
          "model_name": "LayoutModel",
          "model_module_version": "1.2.0",
          "state": {
            "_model_module": "@jupyter-widgets/base",
            "_model_module_version": "1.2.0",
            "_model_name": "LayoutModel",
            "_view_count": null,
            "_view_module": "@jupyter-widgets/base",
            "_view_module_version": "1.2.0",
            "_view_name": "LayoutView",
            "align_content": null,
            "align_items": null,
            "align_self": null,
            "border": null,
            "bottom": null,
            "display": null,
            "flex": null,
            "flex_flow": null,
            "grid_area": null,
            "grid_auto_columns": null,
            "grid_auto_flow": null,
            "grid_auto_rows": null,
            "grid_column": null,
            "grid_gap": null,
            "grid_row": null,
            "grid_template_areas": null,
            "grid_template_columns": null,
            "grid_template_rows": null,
            "height": null,
            "justify_content": null,
            "justify_items": null,
            "left": null,
            "margin": null,
            "max_height": null,
            "max_width": null,
            "min_height": null,
            "min_width": null,
            "object_fit": null,
            "object_position": null,
            "order": null,
            "overflow": null,
            "overflow_x": null,
            "overflow_y": null,
            "padding": null,
            "right": null,
            "top": null,
            "visibility": null,
            "width": null
          }
        },
        "14084c2c9c9f4f27afbda4deaa8de54d": {
          "model_module": "@jupyter-widgets/base",
          "model_name": "LayoutModel",
          "model_module_version": "1.2.0",
          "state": {
            "_model_module": "@jupyter-widgets/base",
            "_model_module_version": "1.2.0",
            "_model_name": "LayoutModel",
            "_view_count": null,
            "_view_module": "@jupyter-widgets/base",
            "_view_module_version": "1.2.0",
            "_view_name": "LayoutView",
            "align_content": null,
            "align_items": null,
            "align_self": null,
            "border": null,
            "bottom": null,
            "display": null,
            "flex": null,
            "flex_flow": null,
            "grid_area": null,
            "grid_auto_columns": null,
            "grid_auto_flow": null,
            "grid_auto_rows": null,
            "grid_column": null,
            "grid_gap": null,
            "grid_row": null,
            "grid_template_areas": null,
            "grid_template_columns": null,
            "grid_template_rows": null,
            "height": null,
            "justify_content": null,
            "justify_items": null,
            "left": null,
            "margin": null,
            "max_height": null,
            "max_width": null,
            "min_height": null,
            "min_width": null,
            "object_fit": null,
            "object_position": null,
            "order": null,
            "overflow": null,
            "overflow_x": null,
            "overflow_y": null,
            "padding": null,
            "right": null,
            "top": null,
            "visibility": null,
            "width": null
          }
        },
        "7e0f4f9f07da40708b6c667efb05636c": {
          "model_module": "@jupyter-widgets/controls",
          "model_name": "DescriptionStyleModel",
          "model_module_version": "1.5.0",
          "state": {
            "_model_module": "@jupyter-widgets/controls",
            "_model_module_version": "1.5.0",
            "_model_name": "DescriptionStyleModel",
            "_view_count": null,
            "_view_module": "@jupyter-widgets/base",
            "_view_module_version": "1.2.0",
            "_view_name": "StyleView",
            "description_width": ""
          }
        },
        "14bf74b07cef4d3fa72732294d8efc17": {
          "model_module": "@jupyter-widgets/base",
          "model_name": "LayoutModel",
          "model_module_version": "1.2.0",
          "state": {
            "_model_module": "@jupyter-widgets/base",
            "_model_module_version": "1.2.0",
            "_model_name": "LayoutModel",
            "_view_count": null,
            "_view_module": "@jupyter-widgets/base",
            "_view_module_version": "1.2.0",
            "_view_name": "LayoutView",
            "align_content": null,
            "align_items": null,
            "align_self": null,
            "border": null,
            "bottom": null,
            "display": null,
            "flex": null,
            "flex_flow": null,
            "grid_area": null,
            "grid_auto_columns": null,
            "grid_auto_flow": null,
            "grid_auto_rows": null,
            "grid_column": null,
            "grid_gap": null,
            "grid_row": null,
            "grid_template_areas": null,
            "grid_template_columns": null,
            "grid_template_rows": null,
            "height": null,
            "justify_content": null,
            "justify_items": null,
            "left": null,
            "margin": null,
            "max_height": null,
            "max_width": null,
            "min_height": null,
            "min_width": null,
            "object_fit": null,
            "object_position": null,
            "order": null,
            "overflow": null,
            "overflow_x": null,
            "overflow_y": null,
            "padding": null,
            "right": null,
            "top": null,
            "visibility": null,
            "width": null
          }
        },
        "6674c8ca57504f63aed01c85a0c7be74": {
          "model_module": "@jupyter-widgets/controls",
          "model_name": "ProgressStyleModel",
          "model_module_version": "1.5.0",
          "state": {
            "_model_module": "@jupyter-widgets/controls",
            "_model_module_version": "1.5.0",
            "_model_name": "ProgressStyleModel",
            "_view_count": null,
            "_view_module": "@jupyter-widgets/base",
            "_view_module_version": "1.2.0",
            "_view_name": "StyleView",
            "bar_color": null,
            "description_width": ""
          }
        },
        "5dbe3361b6474e50965aff60d4d35124": {
          "model_module": "@jupyter-widgets/base",
          "model_name": "LayoutModel",
          "model_module_version": "1.2.0",
          "state": {
            "_model_module": "@jupyter-widgets/base",
            "_model_module_version": "1.2.0",
            "_model_name": "LayoutModel",
            "_view_count": null,
            "_view_module": "@jupyter-widgets/base",
            "_view_module_version": "1.2.0",
            "_view_name": "LayoutView",
            "align_content": null,
            "align_items": null,
            "align_self": null,
            "border": null,
            "bottom": null,
            "display": null,
            "flex": null,
            "flex_flow": null,
            "grid_area": null,
            "grid_auto_columns": null,
            "grid_auto_flow": null,
            "grid_auto_rows": null,
            "grid_column": null,
            "grid_gap": null,
            "grid_row": null,
            "grid_template_areas": null,
            "grid_template_columns": null,
            "grid_template_rows": null,
            "height": null,
            "justify_content": null,
            "justify_items": null,
            "left": null,
            "margin": null,
            "max_height": null,
            "max_width": null,
            "min_height": null,
            "min_width": null,
            "object_fit": null,
            "object_position": null,
            "order": null,
            "overflow": null,
            "overflow_x": null,
            "overflow_y": null,
            "padding": null,
            "right": null,
            "top": null,
            "visibility": null,
            "width": null
          }
        },
        "93a7aab373564975b98433d983645c50": {
          "model_module": "@jupyter-widgets/controls",
          "model_name": "DescriptionStyleModel",
          "model_module_version": "1.5.0",
          "state": {
            "_model_module": "@jupyter-widgets/controls",
            "_model_module_version": "1.5.0",
            "_model_name": "DescriptionStyleModel",
            "_view_count": null,
            "_view_module": "@jupyter-widgets/base",
            "_view_module_version": "1.2.0",
            "_view_name": "StyleView",
            "description_width": ""
          }
        },
        "02bae33dc03741d99ae4c09dde02e609": {
          "model_module": "@jupyter-widgets/controls",
          "model_name": "HBoxModel",
          "model_module_version": "1.5.0",
          "state": {
            "_dom_classes": [],
            "_model_module": "@jupyter-widgets/controls",
            "_model_module_version": "1.5.0",
            "_model_name": "HBoxModel",
            "_view_count": null,
            "_view_module": "@jupyter-widgets/controls",
            "_view_module_version": "1.5.0",
            "_view_name": "HBoxView",
            "box_style": "",
            "children": [
              "IPY_MODEL_395f00554f4b4ab09db326d48a157f83",
              "IPY_MODEL_d357e54d60c148f4bf2f64b0de2353ea",
              "IPY_MODEL_97ba997e76484d08a4d34921d4650f4b"
            ],
            "layout": "IPY_MODEL_f61110c7f1f64da0aa35065575aa4b20"
          }
        },
        "395f00554f4b4ab09db326d48a157f83": {
          "model_module": "@jupyter-widgets/controls",
          "model_name": "HTMLModel",
          "model_module_version": "1.5.0",
          "state": {
            "_dom_classes": [],
            "_model_module": "@jupyter-widgets/controls",
            "_model_module_version": "1.5.0",
            "_model_name": "HTMLModel",
            "_view_count": null,
            "_view_module": "@jupyter-widgets/controls",
            "_view_module_version": "1.5.0",
            "_view_name": "HTMLView",
            "description": "",
            "description_tooltip": null,
            "layout": "IPY_MODEL_90aeb4678ef54bd998edae264bec3f6c",
            "placeholder": "​",
            "style": "IPY_MODEL_82d1a6909d8b4f849a7fcc569adb5333",
            "value": "Downloading: 100%"
          }
        },
        "d357e54d60c148f4bf2f64b0de2353ea": {
          "model_module": "@jupyter-widgets/controls",
          "model_name": "FloatProgressModel",
          "model_module_version": "1.5.0",
          "state": {
            "_dom_classes": [],
            "_model_module": "@jupyter-widgets/controls",
            "_model_module_version": "1.5.0",
            "_model_name": "FloatProgressModel",
            "_view_count": null,
            "_view_module": "@jupyter-widgets/controls",
            "_view_module_version": "1.5.0",
            "_view_name": "ProgressView",
            "bar_style": "success",
            "description": "",
            "description_tooltip": null,
            "layout": "IPY_MODEL_82339f30506f470cb8b666fd299b318f",
            "max": 1649718,
            "min": 0,
            "orientation": "horizontal",
            "style": "IPY_MODEL_7c1c5e674af34464a20e329d2e8dc11d",
            "value": 1649718
          }
        },
        "97ba997e76484d08a4d34921d4650f4b": {
          "model_module": "@jupyter-widgets/controls",
          "model_name": "HTMLModel",
          "model_module_version": "1.5.0",
          "state": {
            "_dom_classes": [],
            "_model_module": "@jupyter-widgets/controls",
            "_model_module_version": "1.5.0",
            "_model_name": "HTMLModel",
            "_view_count": null,
            "_view_module": "@jupyter-widgets/controls",
            "_view_module_version": "1.5.0",
            "_view_name": "HTMLView",
            "description": "",
            "description_tooltip": null,
            "layout": "IPY_MODEL_7e9466449ae44529b099086f7cabe274",
            "placeholder": "​",
            "style": "IPY_MODEL_3ec497a76e4b4498a2be7f4db11a822d",
            "value": " 1.57M/1.57M [00:00&lt;00:00, 4.31MB/s]"
          }
        },
        "f61110c7f1f64da0aa35065575aa4b20": {
          "model_module": "@jupyter-widgets/base",
          "model_name": "LayoutModel",
          "model_module_version": "1.2.0",
          "state": {
            "_model_module": "@jupyter-widgets/base",
            "_model_module_version": "1.2.0",
            "_model_name": "LayoutModel",
            "_view_count": null,
            "_view_module": "@jupyter-widgets/base",
            "_view_module_version": "1.2.0",
            "_view_name": "LayoutView",
            "align_content": null,
            "align_items": null,
            "align_self": null,
            "border": null,
            "bottom": null,
            "display": null,
            "flex": null,
            "flex_flow": null,
            "grid_area": null,
            "grid_auto_columns": null,
            "grid_auto_flow": null,
            "grid_auto_rows": null,
            "grid_column": null,
            "grid_gap": null,
            "grid_row": null,
            "grid_template_areas": null,
            "grid_template_columns": null,
            "grid_template_rows": null,
            "height": null,
            "justify_content": null,
            "justify_items": null,
            "left": null,
            "margin": null,
            "max_height": null,
            "max_width": null,
            "min_height": null,
            "min_width": null,
            "object_fit": null,
            "object_position": null,
            "order": null,
            "overflow": null,
            "overflow_x": null,
            "overflow_y": null,
            "padding": null,
            "right": null,
            "top": null,
            "visibility": null,
            "width": null
          }
        },
        "90aeb4678ef54bd998edae264bec3f6c": {
          "model_module": "@jupyter-widgets/base",
          "model_name": "LayoutModel",
          "model_module_version": "1.2.0",
          "state": {
            "_model_module": "@jupyter-widgets/base",
            "_model_module_version": "1.2.0",
            "_model_name": "LayoutModel",
            "_view_count": null,
            "_view_module": "@jupyter-widgets/base",
            "_view_module_version": "1.2.0",
            "_view_name": "LayoutView",
            "align_content": null,
            "align_items": null,
            "align_self": null,
            "border": null,
            "bottom": null,
            "display": null,
            "flex": null,
            "flex_flow": null,
            "grid_area": null,
            "grid_auto_columns": null,
            "grid_auto_flow": null,
            "grid_auto_rows": null,
            "grid_column": null,
            "grid_gap": null,
            "grid_row": null,
            "grid_template_areas": null,
            "grid_template_columns": null,
            "grid_template_rows": null,
            "height": null,
            "justify_content": null,
            "justify_items": null,
            "left": null,
            "margin": null,
            "max_height": null,
            "max_width": null,
            "min_height": null,
            "min_width": null,
            "object_fit": null,
            "object_position": null,
            "order": null,
            "overflow": null,
            "overflow_x": null,
            "overflow_y": null,
            "padding": null,
            "right": null,
            "top": null,
            "visibility": null,
            "width": null
          }
        },
        "82d1a6909d8b4f849a7fcc569adb5333": {
          "model_module": "@jupyter-widgets/controls",
          "model_name": "DescriptionStyleModel",
          "model_module_version": "1.5.0",
          "state": {
            "_model_module": "@jupyter-widgets/controls",
            "_model_module_version": "1.5.0",
            "_model_name": "DescriptionStyleModel",
            "_view_count": null,
            "_view_module": "@jupyter-widgets/base",
            "_view_module_version": "1.2.0",
            "_view_name": "StyleView",
            "description_width": ""
          }
        },
        "82339f30506f470cb8b666fd299b318f": {
          "model_module": "@jupyter-widgets/base",
          "model_name": "LayoutModel",
          "model_module_version": "1.2.0",
          "state": {
            "_model_module": "@jupyter-widgets/base",
            "_model_module_version": "1.2.0",
            "_model_name": "LayoutModel",
            "_view_count": null,
            "_view_module": "@jupyter-widgets/base",
            "_view_module_version": "1.2.0",
            "_view_name": "LayoutView",
            "align_content": null,
            "align_items": null,
            "align_self": null,
            "border": null,
            "bottom": null,
            "display": null,
            "flex": null,
            "flex_flow": null,
            "grid_area": null,
            "grid_auto_columns": null,
            "grid_auto_flow": null,
            "grid_auto_rows": null,
            "grid_column": null,
            "grid_gap": null,
            "grid_row": null,
            "grid_template_areas": null,
            "grid_template_columns": null,
            "grid_template_rows": null,
            "height": null,
            "justify_content": null,
            "justify_items": null,
            "left": null,
            "margin": null,
            "max_height": null,
            "max_width": null,
            "min_height": null,
            "min_width": null,
            "object_fit": null,
            "object_position": null,
            "order": null,
            "overflow": null,
            "overflow_x": null,
            "overflow_y": null,
            "padding": null,
            "right": null,
            "top": null,
            "visibility": null,
            "width": null
          }
        },
        "7c1c5e674af34464a20e329d2e8dc11d": {
          "model_module": "@jupyter-widgets/controls",
          "model_name": "ProgressStyleModel",
          "model_module_version": "1.5.0",
          "state": {
            "_model_module": "@jupyter-widgets/controls",
            "_model_module_version": "1.5.0",
            "_model_name": "ProgressStyleModel",
            "_view_count": null,
            "_view_module": "@jupyter-widgets/base",
            "_view_module_version": "1.2.0",
            "_view_name": "StyleView",
            "bar_color": null,
            "description_width": ""
          }
        },
        "7e9466449ae44529b099086f7cabe274": {
          "model_module": "@jupyter-widgets/base",
          "model_name": "LayoutModel",
          "model_module_version": "1.2.0",
          "state": {
            "_model_module": "@jupyter-widgets/base",
            "_model_module_version": "1.2.0",
            "_model_name": "LayoutModel",
            "_view_count": null,
            "_view_module": "@jupyter-widgets/base",
            "_view_module_version": "1.2.0",
            "_view_name": "LayoutView",
            "align_content": null,
            "align_items": null,
            "align_self": null,
            "border": null,
            "bottom": null,
            "display": null,
            "flex": null,
            "flex_flow": null,
            "grid_area": null,
            "grid_auto_columns": null,
            "grid_auto_flow": null,
            "grid_auto_rows": null,
            "grid_column": null,
            "grid_gap": null,
            "grid_row": null,
            "grid_template_areas": null,
            "grid_template_columns": null,
            "grid_template_rows": null,
            "height": null,
            "justify_content": null,
            "justify_items": null,
            "left": null,
            "margin": null,
            "max_height": null,
            "max_width": null,
            "min_height": null,
            "min_width": null,
            "object_fit": null,
            "object_position": null,
            "order": null,
            "overflow": null,
            "overflow_x": null,
            "overflow_y": null,
            "padding": null,
            "right": null,
            "top": null,
            "visibility": null,
            "width": null
          }
        },
        "3ec497a76e4b4498a2be7f4db11a822d": {
          "model_module": "@jupyter-widgets/controls",
          "model_name": "DescriptionStyleModel",
          "model_module_version": "1.5.0",
          "state": {
            "_model_module": "@jupyter-widgets/controls",
            "_model_module_version": "1.5.0",
            "_model_name": "DescriptionStyleModel",
            "_view_count": null,
            "_view_module": "@jupyter-widgets/base",
            "_view_module_version": "1.2.0",
            "_view_name": "StyleView",
            "description_width": ""
          }
        },
        "4b17383ee0fe46b6aafe58f178794129": {
          "model_module": "@jupyter-widgets/controls",
          "model_name": "HBoxModel",
          "model_module_version": "1.5.0",
          "state": {
            "_dom_classes": [],
            "_model_module": "@jupyter-widgets/controls",
            "_model_module_version": "1.5.0",
            "_model_name": "HBoxModel",
            "_view_count": null,
            "_view_module": "@jupyter-widgets/controls",
            "_view_module_version": "1.5.0",
            "_view_name": "HBoxView",
            "box_style": "",
            "children": [
              "IPY_MODEL_3a2091ab73a44e029f4b868bfae336a7",
              "IPY_MODEL_ec0e03434eeb469eab92f96ae2e50e62",
              "IPY_MODEL_68a36abf3f7d48949443216e692e0108"
            ],
            "layout": "IPY_MODEL_ec08a4d422a143d3b208a92a72b85787"
          }
        },
        "3a2091ab73a44e029f4b868bfae336a7": {
          "model_module": "@jupyter-widgets/controls",
          "model_name": "HTMLModel",
          "model_module_version": "1.5.0",
          "state": {
            "_dom_classes": [],
            "_model_module": "@jupyter-widgets/controls",
            "_model_module_version": "1.5.0",
            "_model_name": "HTMLModel",
            "_view_count": null,
            "_view_module": "@jupyter-widgets/controls",
            "_view_module_version": "1.5.0",
            "_view_name": "HTMLView",
            "description": "",
            "description_tooltip": null,
            "layout": "IPY_MODEL_b1a31717c97648f7a3e3b0647f7f57eb",
            "placeholder": "​",
            "style": "IPY_MODEL_276515c6fbf24e38a788ef2b69804ca9",
            "value": "Downloading: 100%"
          }
        },
        "ec0e03434eeb469eab92f96ae2e50e62": {
          "model_module": "@jupyter-widgets/controls",
          "model_name": "FloatProgressModel",
          "model_module_version": "1.5.0",
          "state": {
            "_dom_classes": [],
            "_model_module": "@jupyter-widgets/controls",
            "_model_module_version": "1.5.0",
            "_model_name": "FloatProgressModel",
            "_view_count": null,
            "_view_module": "@jupyter-widgets/controls",
            "_view_module_version": "1.5.0",
            "_view_name": "ProgressView",
            "bar_style": "success",
            "description": "",
            "description_tooltip": null,
            "layout": "IPY_MODEL_dd826d4957ae42068c37488025907bdc",
            "max": 112,
            "min": 0,
            "orientation": "horizontal",
            "style": "IPY_MODEL_e84420dc821e482a84523f741888fa11",
            "value": 112
          }
        },
        "68a36abf3f7d48949443216e692e0108": {
          "model_module": "@jupyter-widgets/controls",
          "model_name": "HTMLModel",
          "model_module_version": "1.5.0",
          "state": {
            "_dom_classes": [],
            "_model_module": "@jupyter-widgets/controls",
            "_model_module_version": "1.5.0",
            "_model_name": "HTMLModel",
            "_view_count": null,
            "_view_module": "@jupyter-widgets/controls",
            "_view_module_version": "1.5.0",
            "_view_name": "HTMLView",
            "description": "",
            "description_tooltip": null,
            "layout": "IPY_MODEL_42c82205d1534cde9489391e66c5db3f",
            "placeholder": "​",
            "style": "IPY_MODEL_db0241ee8cde4b828bec06d06ea1b824",
            "value": " 112/112 [00:00&lt;00:00, 2.92kB/s]"
          }
        },
        "ec08a4d422a143d3b208a92a72b85787": {
          "model_module": "@jupyter-widgets/base",
          "model_name": "LayoutModel",
          "model_module_version": "1.2.0",
          "state": {
            "_model_module": "@jupyter-widgets/base",
            "_model_module_version": "1.2.0",
            "_model_name": "LayoutModel",
            "_view_count": null,
            "_view_module": "@jupyter-widgets/base",
            "_view_module_version": "1.2.0",
            "_view_name": "LayoutView",
            "align_content": null,
            "align_items": null,
            "align_self": null,
            "border": null,
            "bottom": null,
            "display": null,
            "flex": null,
            "flex_flow": null,
            "grid_area": null,
            "grid_auto_columns": null,
            "grid_auto_flow": null,
            "grid_auto_rows": null,
            "grid_column": null,
            "grid_gap": null,
            "grid_row": null,
            "grid_template_areas": null,
            "grid_template_columns": null,
            "grid_template_rows": null,
            "height": null,
            "justify_content": null,
            "justify_items": null,
            "left": null,
            "margin": null,
            "max_height": null,
            "max_width": null,
            "min_height": null,
            "min_width": null,
            "object_fit": null,
            "object_position": null,
            "order": null,
            "overflow": null,
            "overflow_x": null,
            "overflow_y": null,
            "padding": null,
            "right": null,
            "top": null,
            "visibility": null,
            "width": null
          }
        },
        "b1a31717c97648f7a3e3b0647f7f57eb": {
          "model_module": "@jupyter-widgets/base",
          "model_name": "LayoutModel",
          "model_module_version": "1.2.0",
          "state": {
            "_model_module": "@jupyter-widgets/base",
            "_model_module_version": "1.2.0",
            "_model_name": "LayoutModel",
            "_view_count": null,
            "_view_module": "@jupyter-widgets/base",
            "_view_module_version": "1.2.0",
            "_view_name": "LayoutView",
            "align_content": null,
            "align_items": null,
            "align_self": null,
            "border": null,
            "bottom": null,
            "display": null,
            "flex": null,
            "flex_flow": null,
            "grid_area": null,
            "grid_auto_columns": null,
            "grid_auto_flow": null,
            "grid_auto_rows": null,
            "grid_column": null,
            "grid_gap": null,
            "grid_row": null,
            "grid_template_areas": null,
            "grid_template_columns": null,
            "grid_template_rows": null,
            "height": null,
            "justify_content": null,
            "justify_items": null,
            "left": null,
            "margin": null,
            "max_height": null,
            "max_width": null,
            "min_height": null,
            "min_width": null,
            "object_fit": null,
            "object_position": null,
            "order": null,
            "overflow": null,
            "overflow_x": null,
            "overflow_y": null,
            "padding": null,
            "right": null,
            "top": null,
            "visibility": null,
            "width": null
          }
        },
        "276515c6fbf24e38a788ef2b69804ca9": {
          "model_module": "@jupyter-widgets/controls",
          "model_name": "DescriptionStyleModel",
          "model_module_version": "1.5.0",
          "state": {
            "_model_module": "@jupyter-widgets/controls",
            "_model_module_version": "1.5.0",
            "_model_name": "DescriptionStyleModel",
            "_view_count": null,
            "_view_module": "@jupyter-widgets/base",
            "_view_module_version": "1.2.0",
            "_view_name": "StyleView",
            "description_width": ""
          }
        },
        "dd826d4957ae42068c37488025907bdc": {
          "model_module": "@jupyter-widgets/base",
          "model_name": "LayoutModel",
          "model_module_version": "1.2.0",
          "state": {
            "_model_module": "@jupyter-widgets/base",
            "_model_module_version": "1.2.0",
            "_model_name": "LayoutModel",
            "_view_count": null,
            "_view_module": "@jupyter-widgets/base",
            "_view_module_version": "1.2.0",
            "_view_name": "LayoutView",
            "align_content": null,
            "align_items": null,
            "align_self": null,
            "border": null,
            "bottom": null,
            "display": null,
            "flex": null,
            "flex_flow": null,
            "grid_area": null,
            "grid_auto_columns": null,
            "grid_auto_flow": null,
            "grid_auto_rows": null,
            "grid_column": null,
            "grid_gap": null,
            "grid_row": null,
            "grid_template_areas": null,
            "grid_template_columns": null,
            "grid_template_rows": null,
            "height": null,
            "justify_content": null,
            "justify_items": null,
            "left": null,
            "margin": null,
            "max_height": null,
            "max_width": null,
            "min_height": null,
            "min_width": null,
            "object_fit": null,
            "object_position": null,
            "order": null,
            "overflow": null,
            "overflow_x": null,
            "overflow_y": null,
            "padding": null,
            "right": null,
            "top": null,
            "visibility": null,
            "width": null
          }
        },
        "e84420dc821e482a84523f741888fa11": {
          "model_module": "@jupyter-widgets/controls",
          "model_name": "ProgressStyleModel",
          "model_module_version": "1.5.0",
          "state": {
            "_model_module": "@jupyter-widgets/controls",
            "_model_module_version": "1.5.0",
            "_model_name": "ProgressStyleModel",
            "_view_count": null,
            "_view_module": "@jupyter-widgets/base",
            "_view_module_version": "1.2.0",
            "_view_name": "StyleView",
            "bar_color": null,
            "description_width": ""
          }
        },
        "42c82205d1534cde9489391e66c5db3f": {
          "model_module": "@jupyter-widgets/base",
          "model_name": "LayoutModel",
          "model_module_version": "1.2.0",
          "state": {
            "_model_module": "@jupyter-widgets/base",
            "_model_module_version": "1.2.0",
            "_model_name": "LayoutModel",
            "_view_count": null,
            "_view_module": "@jupyter-widgets/base",
            "_view_module_version": "1.2.0",
            "_view_name": "LayoutView",
            "align_content": null,
            "align_items": null,
            "align_self": null,
            "border": null,
            "bottom": null,
            "display": null,
            "flex": null,
            "flex_flow": null,
            "grid_area": null,
            "grid_auto_columns": null,
            "grid_auto_flow": null,
            "grid_auto_rows": null,
            "grid_column": null,
            "grid_gap": null,
            "grid_row": null,
            "grid_template_areas": null,
            "grid_template_columns": null,
            "grid_template_rows": null,
            "height": null,
            "justify_content": null,
            "justify_items": null,
            "left": null,
            "margin": null,
            "max_height": null,
            "max_width": null,
            "min_height": null,
            "min_width": null,
            "object_fit": null,
            "object_position": null,
            "order": null,
            "overflow": null,
            "overflow_x": null,
            "overflow_y": null,
            "padding": null,
            "right": null,
            "top": null,
            "visibility": null,
            "width": null
          }
        },
        "db0241ee8cde4b828bec06d06ea1b824": {
          "model_module": "@jupyter-widgets/controls",
          "model_name": "DescriptionStyleModel",
          "model_module_version": "1.5.0",
          "state": {
            "_model_module": "@jupyter-widgets/controls",
            "_model_module_version": "1.5.0",
            "_model_name": "DescriptionStyleModel",
            "_view_count": null,
            "_view_module": "@jupyter-widgets/base",
            "_view_module_version": "1.2.0",
            "_view_name": "StyleView",
            "description_width": ""
          }
        },
        "ffb10b57393744cd9d15932d5991146b": {
          "model_module": "@jupyter-widgets/controls",
          "model_name": "HBoxModel",
          "model_module_version": "1.5.0",
          "state": {
            "_dom_classes": [],
            "_model_module": "@jupyter-widgets/controls",
            "_model_module_version": "1.5.0",
            "_model_name": "HBoxModel",
            "_view_count": null,
            "_view_module": "@jupyter-widgets/controls",
            "_view_module_version": "1.5.0",
            "_view_name": "HBoxView",
            "box_style": "",
            "children": [
              "IPY_MODEL_89a38da9bdb74414828e267fc49fc68d",
              "IPY_MODEL_296f5b1b92ec4160ae902041645ee141",
              "IPY_MODEL_9ef31f444fa94a8db81d1d1d94c485d8"
            ],
            "layout": "IPY_MODEL_9d8ecf9575734d67ad2770937ff502e9"
          }
        },
        "89a38da9bdb74414828e267fc49fc68d": {
          "model_module": "@jupyter-widgets/controls",
          "model_name": "HTMLModel",
          "model_module_version": "1.5.0",
          "state": {
            "_dom_classes": [],
            "_model_module": "@jupyter-widgets/controls",
            "_model_module_version": "1.5.0",
            "_model_name": "HTMLModel",
            "_view_count": null,
            "_view_module": "@jupyter-widgets/controls",
            "_view_module_version": "1.5.0",
            "_view_name": "HTMLView",
            "description": "",
            "description_tooltip": null,
            "layout": "IPY_MODEL_dc3d3a69691b44f3b3e0d621ad221d41",
            "placeholder": "​",
            "style": "IPY_MODEL_aad194f76ab645deb88bd464e6c38d22",
            "value": "100%"
          }
        },
        "296f5b1b92ec4160ae902041645ee141": {
          "model_module": "@jupyter-widgets/controls",
          "model_name": "FloatProgressModel",
          "model_module_version": "1.5.0",
          "state": {
            "_dom_classes": [],
            "_model_module": "@jupyter-widgets/controls",
            "_model_module_version": "1.5.0",
            "_model_name": "FloatProgressModel",
            "_view_count": null,
            "_view_module": "@jupyter-widgets/controls",
            "_view_module_version": "1.5.0",
            "_view_name": "ProgressView",
            "bar_style": "success",
            "description": "",
            "description_tooltip": null,
            "layout": "IPY_MODEL_cfe6920eb2934ae7a93b0e092da36677",
            "max": 6,
            "min": 0,
            "orientation": "horizontal",
            "style": "IPY_MODEL_349c5500baa242a2bf47754809fe70c9",
            "value": 6
          }
        },
        "9ef31f444fa94a8db81d1d1d94c485d8": {
          "model_module": "@jupyter-widgets/controls",
          "model_name": "HTMLModel",
          "model_module_version": "1.5.0",
          "state": {
            "_dom_classes": [],
            "_model_module": "@jupyter-widgets/controls",
            "_model_module_version": "1.5.0",
            "_model_name": "HTMLModel",
            "_view_count": null,
            "_view_module": "@jupyter-widgets/controls",
            "_view_module_version": "1.5.0",
            "_view_name": "HTMLView",
            "description": "",
            "description_tooltip": null,
            "layout": "IPY_MODEL_ba88457e414347778211d3fce874c4ca",
            "placeholder": "​",
            "style": "IPY_MODEL_6eccffeb080a4df898bb21d9406fc41d",
            "value": " 6/6 [00:04&lt;00:00,  1.15ba/s]"
          }
        },
        "9d8ecf9575734d67ad2770937ff502e9": {
          "model_module": "@jupyter-widgets/base",
          "model_name": "LayoutModel",
          "model_module_version": "1.2.0",
          "state": {
            "_model_module": "@jupyter-widgets/base",
            "_model_module_version": "1.2.0",
            "_model_name": "LayoutModel",
            "_view_count": null,
            "_view_module": "@jupyter-widgets/base",
            "_view_module_version": "1.2.0",
            "_view_name": "LayoutView",
            "align_content": null,
            "align_items": null,
            "align_self": null,
            "border": null,
            "bottom": null,
            "display": null,
            "flex": null,
            "flex_flow": null,
            "grid_area": null,
            "grid_auto_columns": null,
            "grid_auto_flow": null,
            "grid_auto_rows": null,
            "grid_column": null,
            "grid_gap": null,
            "grid_row": null,
            "grid_template_areas": null,
            "grid_template_columns": null,
            "grid_template_rows": null,
            "height": null,
            "justify_content": null,
            "justify_items": null,
            "left": null,
            "margin": null,
            "max_height": null,
            "max_width": null,
            "min_height": null,
            "min_width": null,
            "object_fit": null,
            "object_position": null,
            "order": null,
            "overflow": null,
            "overflow_x": null,
            "overflow_y": null,
            "padding": null,
            "right": null,
            "top": null,
            "visibility": null,
            "width": null
          }
        },
        "dc3d3a69691b44f3b3e0d621ad221d41": {
          "model_module": "@jupyter-widgets/base",
          "model_name": "LayoutModel",
          "model_module_version": "1.2.0",
          "state": {
            "_model_module": "@jupyter-widgets/base",
            "_model_module_version": "1.2.0",
            "_model_name": "LayoutModel",
            "_view_count": null,
            "_view_module": "@jupyter-widgets/base",
            "_view_module_version": "1.2.0",
            "_view_name": "LayoutView",
            "align_content": null,
            "align_items": null,
            "align_self": null,
            "border": null,
            "bottom": null,
            "display": null,
            "flex": null,
            "flex_flow": null,
            "grid_area": null,
            "grid_auto_columns": null,
            "grid_auto_flow": null,
            "grid_auto_rows": null,
            "grid_column": null,
            "grid_gap": null,
            "grid_row": null,
            "grid_template_areas": null,
            "grid_template_columns": null,
            "grid_template_rows": null,
            "height": null,
            "justify_content": null,
            "justify_items": null,
            "left": null,
            "margin": null,
            "max_height": null,
            "max_width": null,
            "min_height": null,
            "min_width": null,
            "object_fit": null,
            "object_position": null,
            "order": null,
            "overflow": null,
            "overflow_x": null,
            "overflow_y": null,
            "padding": null,
            "right": null,
            "top": null,
            "visibility": null,
            "width": null
          }
        },
        "aad194f76ab645deb88bd464e6c38d22": {
          "model_module": "@jupyter-widgets/controls",
          "model_name": "DescriptionStyleModel",
          "model_module_version": "1.5.0",
          "state": {
            "_model_module": "@jupyter-widgets/controls",
            "_model_module_version": "1.5.0",
            "_model_name": "DescriptionStyleModel",
            "_view_count": null,
            "_view_module": "@jupyter-widgets/base",
            "_view_module_version": "1.2.0",
            "_view_name": "StyleView",
            "description_width": ""
          }
        },
        "cfe6920eb2934ae7a93b0e092da36677": {
          "model_module": "@jupyter-widgets/base",
          "model_name": "LayoutModel",
          "model_module_version": "1.2.0",
          "state": {
            "_model_module": "@jupyter-widgets/base",
            "_model_module_version": "1.2.0",
            "_model_name": "LayoutModel",
            "_view_count": null,
            "_view_module": "@jupyter-widgets/base",
            "_view_module_version": "1.2.0",
            "_view_name": "LayoutView",
            "align_content": null,
            "align_items": null,
            "align_self": null,
            "border": null,
            "bottom": null,
            "display": null,
            "flex": null,
            "flex_flow": null,
            "grid_area": null,
            "grid_auto_columns": null,
            "grid_auto_flow": null,
            "grid_auto_rows": null,
            "grid_column": null,
            "grid_gap": null,
            "grid_row": null,
            "grid_template_areas": null,
            "grid_template_columns": null,
            "grid_template_rows": null,
            "height": null,
            "justify_content": null,
            "justify_items": null,
            "left": null,
            "margin": null,
            "max_height": null,
            "max_width": null,
            "min_height": null,
            "min_width": null,
            "object_fit": null,
            "object_position": null,
            "order": null,
            "overflow": null,
            "overflow_x": null,
            "overflow_y": null,
            "padding": null,
            "right": null,
            "top": null,
            "visibility": null,
            "width": null
          }
        },
        "349c5500baa242a2bf47754809fe70c9": {
          "model_module": "@jupyter-widgets/controls",
          "model_name": "ProgressStyleModel",
          "model_module_version": "1.5.0",
          "state": {
            "_model_module": "@jupyter-widgets/controls",
            "_model_module_version": "1.5.0",
            "_model_name": "ProgressStyleModel",
            "_view_count": null,
            "_view_module": "@jupyter-widgets/base",
            "_view_module_version": "1.2.0",
            "_view_name": "StyleView",
            "bar_color": null,
            "description_width": ""
          }
        },
        "ba88457e414347778211d3fce874c4ca": {
          "model_module": "@jupyter-widgets/base",
          "model_name": "LayoutModel",
          "model_module_version": "1.2.0",
          "state": {
            "_model_module": "@jupyter-widgets/base",
            "_model_module_version": "1.2.0",
            "_model_name": "LayoutModel",
            "_view_count": null,
            "_view_module": "@jupyter-widgets/base",
            "_view_module_version": "1.2.0",
            "_view_name": "LayoutView",
            "align_content": null,
            "align_items": null,
            "align_self": null,
            "border": null,
            "bottom": null,
            "display": null,
            "flex": null,
            "flex_flow": null,
            "grid_area": null,
            "grid_auto_columns": null,
            "grid_auto_flow": null,
            "grid_auto_rows": null,
            "grid_column": null,
            "grid_gap": null,
            "grid_row": null,
            "grid_template_areas": null,
            "grid_template_columns": null,
            "grid_template_rows": null,
            "height": null,
            "justify_content": null,
            "justify_items": null,
            "left": null,
            "margin": null,
            "max_height": null,
            "max_width": null,
            "min_height": null,
            "min_width": null,
            "object_fit": null,
            "object_position": null,
            "order": null,
            "overflow": null,
            "overflow_x": null,
            "overflow_y": null,
            "padding": null,
            "right": null,
            "top": null,
            "visibility": null,
            "width": null
          }
        },
        "6eccffeb080a4df898bb21d9406fc41d": {
          "model_module": "@jupyter-widgets/controls",
          "model_name": "DescriptionStyleModel",
          "model_module_version": "1.5.0",
          "state": {
            "_model_module": "@jupyter-widgets/controls",
            "_model_module_version": "1.5.0",
            "_model_name": "DescriptionStyleModel",
            "_view_count": null,
            "_view_module": "@jupyter-widgets/base",
            "_view_module_version": "1.2.0",
            "_view_name": "StyleView",
            "description_width": ""
          }
        },
        "f1aae06143184748abc4a8c254cdb893": {
          "model_module": "@jupyter-widgets/controls",
          "model_name": "HBoxModel",
          "model_module_version": "1.5.0",
          "state": {
            "_dom_classes": [],
            "_model_module": "@jupyter-widgets/controls",
            "_model_module_version": "1.5.0",
            "_model_name": "HBoxModel",
            "_view_count": null,
            "_view_module": "@jupyter-widgets/controls",
            "_view_module_version": "1.5.0",
            "_view_name": "HBoxView",
            "box_style": "",
            "children": [
              "IPY_MODEL_13aac219d3664e5281b1cf8f36585436",
              "IPY_MODEL_be99f18b7f254c488689456bd8b62fc3",
              "IPY_MODEL_bc04408d9ec84db7ba3dddf1008076d0"
            ],
            "layout": "IPY_MODEL_943544bfaf284d03a26146ac253989b1"
          }
        },
        "13aac219d3664e5281b1cf8f36585436": {
          "model_module": "@jupyter-widgets/controls",
          "model_name": "HTMLModel",
          "model_module_version": "1.5.0",
          "state": {
            "_dom_classes": [],
            "_model_module": "@jupyter-widgets/controls",
            "_model_module_version": "1.5.0",
            "_model_name": "HTMLModel",
            "_view_count": null,
            "_view_module": "@jupyter-widgets/controls",
            "_view_module_version": "1.5.0",
            "_view_name": "HTMLView",
            "description": "",
            "description_tooltip": null,
            "layout": "IPY_MODEL_a67b30fce3c24851a4b90aed802b3d00",
            "placeholder": "​",
            "style": "IPY_MODEL_63c591c0a1bd4fcdab3e3fec5a349122",
            "value": "100%"
          }
        },
        "be99f18b7f254c488689456bd8b62fc3": {
          "model_module": "@jupyter-widgets/controls",
          "model_name": "FloatProgressModel",
          "model_module_version": "1.5.0",
          "state": {
            "_dom_classes": [],
            "_model_module": "@jupyter-widgets/controls",
            "_model_module_version": "1.5.0",
            "_model_name": "FloatProgressModel",
            "_view_count": null,
            "_view_module": "@jupyter-widgets/controls",
            "_view_module_version": "1.5.0",
            "_view_name": "ProgressView",
            "bar_style": "success",
            "description": "",
            "description_tooltip": null,
            "layout": "IPY_MODEL_2d83b81169e54a5d8b604622e0dae73e",
            "max": 46,
            "min": 0,
            "orientation": "horizontal",
            "style": "IPY_MODEL_dd59bf9875f24510857881c0856208d8",
            "value": 46
          }
        },
        "bc04408d9ec84db7ba3dddf1008076d0": {
          "model_module": "@jupyter-widgets/controls",
          "model_name": "HTMLModel",
          "model_module_version": "1.5.0",
          "state": {
            "_dom_classes": [],
            "_model_module": "@jupyter-widgets/controls",
            "_model_module_version": "1.5.0",
            "_model_name": "HTMLModel",
            "_view_count": null,
            "_view_module": "@jupyter-widgets/controls",
            "_view_module_version": "1.5.0",
            "_view_name": "HTMLView",
            "description": "",
            "description_tooltip": null,
            "layout": "IPY_MODEL_2fcbb5d8059a4303a3a2640a621659cd",
            "placeholder": "​",
            "style": "IPY_MODEL_9d729892bfbd41518ffac6aa89553918",
            "value": " 46/46 [00:39&lt;00:00,  1.47ba/s]"
          }
        },
        "943544bfaf284d03a26146ac253989b1": {
          "model_module": "@jupyter-widgets/base",
          "model_name": "LayoutModel",
          "model_module_version": "1.2.0",
          "state": {
            "_model_module": "@jupyter-widgets/base",
            "_model_module_version": "1.2.0",
            "_model_name": "LayoutModel",
            "_view_count": null,
            "_view_module": "@jupyter-widgets/base",
            "_view_module_version": "1.2.0",
            "_view_name": "LayoutView",
            "align_content": null,
            "align_items": null,
            "align_self": null,
            "border": null,
            "bottom": null,
            "display": null,
            "flex": null,
            "flex_flow": null,
            "grid_area": null,
            "grid_auto_columns": null,
            "grid_auto_flow": null,
            "grid_auto_rows": null,
            "grid_column": null,
            "grid_gap": null,
            "grid_row": null,
            "grid_template_areas": null,
            "grid_template_columns": null,
            "grid_template_rows": null,
            "height": null,
            "justify_content": null,
            "justify_items": null,
            "left": null,
            "margin": null,
            "max_height": null,
            "max_width": null,
            "min_height": null,
            "min_width": null,
            "object_fit": null,
            "object_position": null,
            "order": null,
            "overflow": null,
            "overflow_x": null,
            "overflow_y": null,
            "padding": null,
            "right": null,
            "top": null,
            "visibility": null,
            "width": null
          }
        },
        "a67b30fce3c24851a4b90aed802b3d00": {
          "model_module": "@jupyter-widgets/base",
          "model_name": "LayoutModel",
          "model_module_version": "1.2.0",
          "state": {
            "_model_module": "@jupyter-widgets/base",
            "_model_module_version": "1.2.0",
            "_model_name": "LayoutModel",
            "_view_count": null,
            "_view_module": "@jupyter-widgets/base",
            "_view_module_version": "1.2.0",
            "_view_name": "LayoutView",
            "align_content": null,
            "align_items": null,
            "align_self": null,
            "border": null,
            "bottom": null,
            "display": null,
            "flex": null,
            "flex_flow": null,
            "grid_area": null,
            "grid_auto_columns": null,
            "grid_auto_flow": null,
            "grid_auto_rows": null,
            "grid_column": null,
            "grid_gap": null,
            "grid_row": null,
            "grid_template_areas": null,
            "grid_template_columns": null,
            "grid_template_rows": null,
            "height": null,
            "justify_content": null,
            "justify_items": null,
            "left": null,
            "margin": null,
            "max_height": null,
            "max_width": null,
            "min_height": null,
            "min_width": null,
            "object_fit": null,
            "object_position": null,
            "order": null,
            "overflow": null,
            "overflow_x": null,
            "overflow_y": null,
            "padding": null,
            "right": null,
            "top": null,
            "visibility": null,
            "width": null
          }
        },
        "63c591c0a1bd4fcdab3e3fec5a349122": {
          "model_module": "@jupyter-widgets/controls",
          "model_name": "DescriptionStyleModel",
          "model_module_version": "1.5.0",
          "state": {
            "_model_module": "@jupyter-widgets/controls",
            "_model_module_version": "1.5.0",
            "_model_name": "DescriptionStyleModel",
            "_view_count": null,
            "_view_module": "@jupyter-widgets/base",
            "_view_module_version": "1.2.0",
            "_view_name": "StyleView",
            "description_width": ""
          }
        },
        "2d83b81169e54a5d8b604622e0dae73e": {
          "model_module": "@jupyter-widgets/base",
          "model_name": "LayoutModel",
          "model_module_version": "1.2.0",
          "state": {
            "_model_module": "@jupyter-widgets/base",
            "_model_module_version": "1.2.0",
            "_model_name": "LayoutModel",
            "_view_count": null,
            "_view_module": "@jupyter-widgets/base",
            "_view_module_version": "1.2.0",
            "_view_name": "LayoutView",
            "align_content": null,
            "align_items": null,
            "align_self": null,
            "border": null,
            "bottom": null,
            "display": null,
            "flex": null,
            "flex_flow": null,
            "grid_area": null,
            "grid_auto_columns": null,
            "grid_auto_flow": null,
            "grid_auto_rows": null,
            "grid_column": null,
            "grid_gap": null,
            "grid_row": null,
            "grid_template_areas": null,
            "grid_template_columns": null,
            "grid_template_rows": null,
            "height": null,
            "justify_content": null,
            "justify_items": null,
            "left": null,
            "margin": null,
            "max_height": null,
            "max_width": null,
            "min_height": null,
            "min_width": null,
            "object_fit": null,
            "object_position": null,
            "order": null,
            "overflow": null,
            "overflow_x": null,
            "overflow_y": null,
            "padding": null,
            "right": null,
            "top": null,
            "visibility": null,
            "width": null
          }
        },
        "dd59bf9875f24510857881c0856208d8": {
          "model_module": "@jupyter-widgets/controls",
          "model_name": "ProgressStyleModel",
          "model_module_version": "1.5.0",
          "state": {
            "_model_module": "@jupyter-widgets/controls",
            "_model_module_version": "1.5.0",
            "_model_name": "ProgressStyleModel",
            "_view_count": null,
            "_view_module": "@jupyter-widgets/base",
            "_view_module_version": "1.2.0",
            "_view_name": "StyleView",
            "bar_color": null,
            "description_width": ""
          }
        },
        "2fcbb5d8059a4303a3a2640a621659cd": {
          "model_module": "@jupyter-widgets/base",
          "model_name": "LayoutModel",
          "model_module_version": "1.2.0",
          "state": {
            "_model_module": "@jupyter-widgets/base",
            "_model_module_version": "1.2.0",
            "_model_name": "LayoutModel",
            "_view_count": null,
            "_view_module": "@jupyter-widgets/base",
            "_view_module_version": "1.2.0",
            "_view_name": "LayoutView",
            "align_content": null,
            "align_items": null,
            "align_self": null,
            "border": null,
            "bottom": null,
            "display": null,
            "flex": null,
            "flex_flow": null,
            "grid_area": null,
            "grid_auto_columns": null,
            "grid_auto_flow": null,
            "grid_auto_rows": null,
            "grid_column": null,
            "grid_gap": null,
            "grid_row": null,
            "grid_template_areas": null,
            "grid_template_columns": null,
            "grid_template_rows": null,
            "height": null,
            "justify_content": null,
            "justify_items": null,
            "left": null,
            "margin": null,
            "max_height": null,
            "max_width": null,
            "min_height": null,
            "min_width": null,
            "object_fit": null,
            "object_position": null,
            "order": null,
            "overflow": null,
            "overflow_x": null,
            "overflow_y": null,
            "padding": null,
            "right": null,
            "top": null,
            "visibility": null,
            "width": null
          }
        },
        "9d729892bfbd41518ffac6aa89553918": {
          "model_module": "@jupyter-widgets/controls",
          "model_name": "DescriptionStyleModel",
          "model_module_version": "1.5.0",
          "state": {
            "_model_module": "@jupyter-widgets/controls",
            "_model_module_version": "1.5.0",
            "_model_name": "DescriptionStyleModel",
            "_view_count": null,
            "_view_module": "@jupyter-widgets/base",
            "_view_module_version": "1.2.0",
            "_view_name": "StyleView",
            "description_width": ""
          }
        }
      }
    }
  },
  "nbformat": 4,
  "nbformat_minor": 0
}