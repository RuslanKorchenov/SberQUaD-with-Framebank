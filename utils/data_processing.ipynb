{
 "cells": [
  {
   "cell_type": "markdown",
   "id": "c1fa9e11-e2fb-4c4b-b1b4-9a06bb705e7a",
   "metadata": {},
   "source": [
    "# Обработка данных"
   ]
  },
  {
   "cell_type": "code",
   "execution_count": null,
   "id": "be2caf17-ca3b-4ed1-8fd6-d95e9ad36c7a",
   "metadata": {},
   "outputs": [],
   "source": [
    "import json"
   ]
  },
  {
   "cell_type": "code",
   "execution_count": 2,
   "id": "c2a90740-1de3-4059-8d06-7faad22a548a",
   "metadata": {},
   "outputs": [
    {
     "name": "stdout",
     "output_type": "stream",
     "text": [
      "--2022-04-19 19:20:52--  http://files.deeppavlov.ai/datasets/sber_squad-v1.1.tar.gz\n",
      "Resolving files.deeppavlov.ai (files.deeppavlov.ai)... 178.63.27.41\n",
      "Connecting to files.deeppavlov.ai (files.deeppavlov.ai)|178.63.27.41|:80... connected.\n",
      "HTTP request sent, awaiting response... 301 Moved Permanently\n",
      "Location: https://files.deeppavlov.ai/datasets/sber_squad-v1.1.tar.gz [following]\n",
      "--2022-04-19 19:20:52--  https://files.deeppavlov.ai/datasets/sber_squad-v1.1.tar.gz\n",
      "Connecting to files.deeppavlov.ai (files.deeppavlov.ai)|178.63.27.41|:443... connected.\n",
      "HTTP request sent, awaiting response... 200 OK\n",
      "Length: 22825727 (22M) [application/octet-stream]\n",
      "Saving to: ‘sber_squad-v1.1.tar.gz’\n",
      "\n",
      "sber_squad-v1.1.tar 100%[===================>]  21.77M  29.1MB/s    in 0.7s    \n",
      "\n",
      "2022-04-19 19:20:53 (29.1 MB/s) - ‘sber_squad-v1.1.tar.gz’ saved [22825727/22825727]\n",
      "\n"
     ]
    }
   ],
   "source": [
    "!wget http://files.deeppavlov.ai/datasets/sber_squad-v1.1.tar.gz"
   ]
  },
  {
   "cell_type": "code",
   "execution_count": 12,
   "id": "6947aa73-831d-4685-82d8-b04fc83c1226",
   "metadata": {},
   "outputs": [
    {
     "name": "stdout",
     "output_type": "stream",
     "text": [
      "dev-v1.1.json\n",
      "train-v1.1.json\n"
     ]
    }
   ],
   "source": [
    "!tar -xvzf sber_squad-v1.1.tar.gz -C data"
   ]
  },
  {
   "cell_type": "code",
   "execution_count": 13,
   "id": "632f53ae-c2ce-4df7-808e-0ca5b10bd936",
   "metadata": {},
   "outputs": [],
   "source": [
    "with open('data/dev-v1.1.json') as json_file:\n",
    "    data_dev = json.load(json_file)"
   ]
  },
  {
   "cell_type": "code",
   "execution_count": 60,
   "id": "0beb13ac-71a3-4357-afa5-edfec4ecd252",
   "metadata": {},
   "outputs": [],
   "source": [
    "with open('data/train-v1.1.json') as json_file:\n",
    "    data_train = json.load(json_file)"
   ]
  },
  {
   "cell_type": "code",
   "execution_count": 28,
   "id": "66e02c5c-3cd4-4cc8-b476-c39f8a5119bb",
   "metadata": {},
   "outputs": [],
   "source": [
    "dev = data_dev['data'][0]['paragraphs']"
   ]
  },
  {
   "cell_type": "code",
   "execution_count": 61,
   "id": "6c6b7c1a-a595-4bf1-9e2a-24592c2e176e",
   "metadata": {},
   "outputs": [],
   "source": [
    "train = data_train['data'][0]['paragraphs']"
   ]
  },
  {
   "cell_type": "code",
   "execution_count": 29,
   "id": "8d01ed2f-a825-47a0-b6c7-3fc3610f0a07",
   "metadata": {},
   "outputs": [
    {
     "data": {
      "text/plain": [
       "5036"
      ]
     },
     "execution_count": 29,
     "metadata": {},
     "output_type": "execute_result"
    }
   ],
   "source": [
    "len(dev)"
   ]
  },
  {
   "cell_type": "code",
   "execution_count": 62,
   "id": "0ee0a20d-a101-4802-a0d3-42ebe43bdf07",
   "metadata": {},
   "outputs": [
    {
     "data": {
      "text/plain": [
       "45328"
      ]
     },
     "execution_count": 62,
     "metadata": {},
     "output_type": "execute_result"
    }
   ],
   "source": [
    "len(train)"
   ]
  },
  {
   "cell_type": "code",
   "execution_count": 30,
   "id": "c3d4cd6f-976f-43c2-be49-0c15813a0dee",
   "metadata": {},
   "outputs": [
    {
     "data": {
      "text/plain": [
       "{'context': 'В Миссолонги Байрон заболел лихорадкой, продолжая отдавать все свои силы на борьбу за свободу страны. 19 января 1824 года он писал Хэнкопу: Мы готовимся к экспедиции , а 22 января, в день своего рождения, он вошёл в комнату полковника Стенхопа, где было несколько человек гостей, и весело сказал: Вы упрекаете меня, что я не пишу стихов, а вот я только что написал стихотворение . И Байрон прочёл: Сегодня мне исполнилось 36 лет . Постоянно хворавшего Байрона очень тревожила болезнь его дочери Ады. Получив письмо с хорошей вестью о её выздоровлении, он захотел выехать прогуляться с графом Гамба. Во время прогулки пошёл страшный дождь, и Байрон окончательно захворал. Последними словами поэта были отрывочные фразы: Сестра моя! дитя моё!.. бедная Греция!.. я отдал ей время, состояние, здоровье!.. теперь отдаю ей и жизнь! .',\n",
       " 'id': '2153',\n",
       " 'qas': [{'id': '12786',\n",
       "   'question': 'Чем заболел Байрон в Миссолонги?',\n",
       "   'answers': [{'answer_start': 28, 'text': 'лихорадкой'}]}]}"
      ]
     },
     "execution_count": 30,
     "metadata": {},
     "output_type": "execute_result"
    }
   ],
   "source": [
    "dev[0]"
   ]
  },
  {
   "cell_type": "code",
   "execution_count": 48,
   "id": "bd7790ab-f9a9-4a8e-8b2d-5c55db9a1654",
   "metadata": {},
   "outputs": [
    {
     "data": {
      "text/plain": [
       "'Чем заболел Байрон в Миссолонги?'"
      ]
     },
     "execution_count": 48,
     "metadata": {},
     "output_type": "execute_result"
    }
   ],
   "source": [
    "dev[0]['qas'][0]['question']"
   ]
  },
  {
   "cell_type": "code",
   "execution_count": 49,
   "id": "70cee0ac-67d8-4633-b5b7-b3b82df7ba76",
   "metadata": {},
   "outputs": [],
   "source": [
    "dev_dict={'context':dev[0]['context'],'question':dev[0]['qas'][0]['question']}"
   ]
  },
  {
   "cell_type": "code",
   "execution_count": 52,
   "id": "bf8747ef-cb74-4ca1-85e5-5e6f4aadab2e",
   "metadata": {},
   "outputs": [],
   "source": [
    "dev_dict2={'context':dev[1]['context'],'question':dev[1]['qas'][0]['question']}"
   ]
  },
  {
   "cell_type": "code",
   "execution_count": 50,
   "id": "f21b4cac-3f9b-436f-94a8-998d5a5c98f7",
   "metadata": {},
   "outputs": [],
   "source": [
    "arr_dev_dict=[]\n",
    "arr_dev_dict.append(dev_dict)"
   ]
  },
  {
   "cell_type": "code",
   "execution_count": 53,
   "id": "542a7b91-fabc-4709-a11c-2191b1dc0876",
   "metadata": {},
   "outputs": [],
   "source": [
    "arr_dev_dict.append(dev_dict2)"
   ]
  },
  {
   "cell_type": "code",
   "execution_count": 54,
   "id": "1ab32fa5-c240-46a9-abbe-cff18b6e813c",
   "metadata": {},
   "outputs": [
    {
     "data": {
      "text/plain": [
       "[{'context': 'В Миссолонги Байрон заболел лихорадкой, продолжая отдавать все свои силы на борьбу за свободу страны. 19 января 1824 года он писал Хэнкопу: Мы готовимся к экспедиции , а 22 января, в день своего рождения, он вошёл в комнату полковника Стенхопа, где было несколько человек гостей, и весело сказал: Вы упрекаете меня, что я не пишу стихов, а вот я только что написал стихотворение . И Байрон прочёл: Сегодня мне исполнилось 36 лет . Постоянно хворавшего Байрона очень тревожила болезнь его дочери Ады. Получив письмо с хорошей вестью о её выздоровлении, он захотел выехать прогуляться с графом Гамба. Во время прогулки пошёл страшный дождь, и Байрон окончательно захворал. Последними словами поэта были отрывочные фразы: Сестра моя! дитя моё!.. бедная Греция!.. я отдал ей время, состояние, здоровье!.. теперь отдаю ей и жизнь! .',\n",
       "  'question': 'Чем заболел Байрон в Миссолонги?'},\n",
       " {'context': 'От излишней потери тепла млекопитающих предохраняет шёрстный покров, а у водных форм — подкожный слой жира. Излишки тепла отводятся потоотделением. Значительную роль в терморегуляции играет развитая система кожных кровеносных сосудов, диаметр просветов которых регулируется нервно-рефлекторным путём. Механизм теплообразования за счёт активации клеточного метаболизма называется несократительным термогенезом. К таким механизм относят, в частности, липолиз, особенно бурой жировой ткани. Кроме жира, в качестве внутренних энергетических запасов организма могут выступать и углеводы. Если же тепло образуется в процессе сокращения скелетных мышц, то говорят о сократительном термогенезе.',\n",
       "  'question': 'Как отводятся излишки тепла у млекопитающих?'}]"
      ]
     },
     "execution_count": 54,
     "metadata": {},
     "output_type": "execute_result"
    }
   ],
   "source": [
    "arr_dev_dict"
   ]
  },
  {
   "cell_type": "code",
   "execution_count": 59,
   "id": "34d979f4-4f60-408d-a8e4-c367f0fe6d35",
   "metadata": {},
   "outputs": [],
   "source": [
    "dev_array=[]\n",
    "\n",
    "for i in range(len(dev)):\n",
    "    dev_dict={'context':train[i]['context'],'question':dev[i]['qas'][0]['question']}\n",
    "    dev_array.append(dev_dict)"
   ]
  },
  {
   "cell_type": "code",
   "execution_count": 67,
   "id": "73fa611a-160b-48f7-a2d3-ef33991a883b",
   "metadata": {},
   "outputs": [],
   "source": [
    "train_array=[]\n",
    "\n",
    "for i in range(len(train)):\n",
    "    train_dict={'context':train[i]['context'],'question':train[i]['qas'][0]['question']}\n",
    "    train_array.append(train_dict)"
   ]
  },
  {
   "cell_type": "code",
   "execution_count": 68,
   "id": "a5d6a154-7280-4364-ad80-71587186e2fb",
   "metadata": {},
   "outputs": [
    {
     "data": {
      "text/plain": [
       "45328"
      ]
     },
     "execution_count": 68,
     "metadata": {},
     "output_type": "execute_result"
    }
   ],
   "source": [
    "len(train_array)"
   ]
  },
  {
   "cell_type": "code",
   "execution_count": 69,
   "id": "2a1227bc-2c65-48e9-8042-06671a71639c",
   "metadata": {},
   "outputs": [],
   "source": [
    "import numpy as np\n",
    "\n",
    "np.save('train', train_array)\n",
    "np.save('dev', dev_array)"
   ]
  }
 ],
 "metadata": {
  "kernelspec": {
   "display_name": "Python 3",
   "language": "python",
   "name": "python3"
  },
  "language_info": {
   "codemirror_mode": {
    "name": "ipython",
    "version": 3
   },
   "file_extension": ".py",
   "mimetype": "text/x-python",
   "name": "python",
   "nbconvert_exporter": "python",
   "pygments_lexer": "ipython3",
   "version": "3.6.9"
  }
 },
 "nbformat": 4,
 "nbformat_minor": 5
}
