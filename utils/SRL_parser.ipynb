{
 "cells": [
  {
   "cell_type": "markdown",
   "id": "cc601186-c450-4f99-b910-d2b5379191a5",
   "metadata": {},
   "source": [
    "# Разметка семантических ролей (SRL)"
   ]
  },
  {
   "cell_type": "markdown",
   "id": "324de20b-74c4-4604-980f-26bad1b81b1e",
   "metadata": {},
   "source": [
    "## Improrts"
   ]
  },
  {
   "cell_type": "code",
   "execution_count": null,
   "id": "4011647b-9ebd-47c3-9825-8c23688b8d9e",
   "metadata": {},
   "outputs": [],
   "source": [
    "!pip3 install grpcio\n",
    "!pip3 install git+https://github.com/RuslanKorchenov/isanlp.git\n",
    "!git clone https://github.com/IINemo/isanlp_srl_framebank.git\n",
    "!pip3 install gensim==3.6.0 smart-open==1.7.0 numpy tensorflow==1.15.0 sklearn"
   ]
  },
  {
   "cell_type": "code",
   "execution_count": null,
   "id": "4d0bef9b-16d7-4ffc-b1e7-6729351a3954",
   "metadata": {},
   "outputs": [],
   "source": [
    "!curl -s https://packagecloud.io/install/repositories/github/git-lfs/script.deb.sh | sudo bash\n",
    "!sudo apt-get install git-lfs\n",
    "!git lfs install\n",
    "!git-lfs pull"
   ]
  },
  {
   "cell_type": "code",
   "execution_count": null,
   "id": "d3d24f09-bcb1-4410-b225-674be842d5b5",
   "metadata": {},
   "outputs": [],
   "source": [
    "!pip3 install bert-serving-client\n",
    "!pip3 install deeppavlov\n",
    "!pip3 install tensorflow-hub"
   ]
  },
  {
   "cell_type": "code",
   "execution_count": 1,
   "id": "71b487c6-f1c0-45e4-b313-f5ba4a877908",
   "metadata": {},
   "outputs": [
    {
     "name": "stdout",
     "output_type": "stream",
     "text": [
      "/usr/lib/python3/dist-packages/secretstorage/dhcrypto.py:15: CryptographyDeprecationWarning: int_from_bytes is deprecated, use int.from_bytes instead\n",
      "  from cryptography.utils import int_from_bytes\n",
      "/usr/lib/python3/dist-packages/secretstorage/util.py:19: CryptographyDeprecationWarning: int_from_bytes is deprecated, use int.from_bytes instead\n",
      "  from cryptography.utils import int_from_bytes\n",
      "Defaulting to user installation because normal site-packages is not writeable\n",
      "\u001b[33mWARNING: Ignoring invalid distribution -ensorflow-gpu (/home/rusel/.local/lib/python3.6/site-packages)\u001b[0m\n",
      "\u001b[33mWARNING: Ignoring invalid distribution -ensorflow-gpu (/home/rusel/.local/lib/python3.6/site-packages)\u001b[0m\n",
      "Requirement already satisfied: tensorflow-gpu==1.15 in ./.local/lib/python3.6/site-packages (1.15.0)\n",
      "Requirement already satisfied: gast==0.2.2 in ./.local/lib/python3.6/site-packages (from tensorflow-gpu==1.15) (0.2.2)\n",
      "Requirement already satisfied: keras-applications>=1.0.8 in ./.local/lib/python3.6/site-packages (from tensorflow-gpu==1.15) (1.0.8)\n",
      "Requirement already satisfied: termcolor>=1.1.0 in ./.local/lib/python3.6/site-packages (from tensorflow-gpu==1.15) (1.1.0)\n",
      "Requirement already satisfied: protobuf>=3.6.1 in ./.local/lib/python3.6/site-packages (from tensorflow-gpu==1.15) (3.19.4)\n",
      "Requirement already satisfied: wheel>=0.26 in ./.local/lib/python3.6/site-packages (from tensorflow-gpu==1.15) (0.37.1)\n",
      "Requirement already satisfied: google-pasta>=0.1.6 in ./.local/lib/python3.6/site-packages (from tensorflow-gpu==1.15) (0.2.0)\n",
      "Requirement already satisfied: six>=1.10.0 in ./.local/lib/python3.6/site-packages (from tensorflow-gpu==1.15) (1.16.0)\n",
      "Requirement already satisfied: absl-py>=0.7.0 in ./.local/lib/python3.6/site-packages (from tensorflow-gpu==1.15) (1.0.0)\n",
      "Requirement already satisfied: opt-einsum>=2.3.2 in ./.local/lib/python3.6/site-packages (from tensorflow-gpu==1.15) (3.3.0)\n",
      "Requirement already satisfied: numpy<2.0,>=1.16.0 in ./.local/lib/python3.6/site-packages (from tensorflow-gpu==1.15) (1.19.5)\n",
      "Requirement already satisfied: tensorboard<1.16.0,>=1.15.0 in ./.local/lib/python3.6/site-packages (from tensorflow-gpu==1.15) (1.15.0)\n",
      "Requirement already satisfied: wrapt>=1.11.1 in ./.local/lib/python3.6/site-packages (from tensorflow-gpu==1.15) (1.14.0)\n",
      "Requirement already satisfied: grpcio>=1.8.6 in ./.local/lib/python3.6/site-packages (from tensorflow-gpu==1.15) (1.44.0)\n",
      "Requirement already satisfied: keras-preprocessing>=1.0.5 in ./.local/lib/python3.6/site-packages (from tensorflow-gpu==1.15) (1.1.2)\n",
      "Requirement already satisfied: tensorflow-estimator==1.15.1 in ./.local/lib/python3.6/site-packages (from tensorflow-gpu==1.15) (1.15.1)\n",
      "Requirement already satisfied: astor>=0.6.0 in ./.local/lib/python3.6/site-packages (from tensorflow-gpu==1.15) (0.8.1)\n",
      "Requirement already satisfied: h5py in ./.local/lib/python3.6/site-packages (from keras-applications>=1.0.8->tensorflow-gpu==1.15) (3.1.0)\n",
      "Requirement already satisfied: werkzeug>=0.11.15 in ./.local/lib/python3.6/site-packages (from tensorboard<1.16.0,>=1.15.0->tensorflow-gpu==1.15) (2.0.3)\n",
      "Requirement already satisfied: markdown>=2.6.8 in ./.local/lib/python3.6/site-packages (from tensorboard<1.16.0,>=1.15.0->tensorflow-gpu==1.15) (3.3.6)\n",
      "Requirement already satisfied: setuptools>=41.0.0 in ./.local/lib/python3.6/site-packages (from tensorboard<1.16.0,>=1.15.0->tensorflow-gpu==1.15) (59.6.0)\n",
      "Requirement already satisfied: importlib-metadata>=4.4 in ./.local/lib/python3.6/site-packages (from markdown>=2.6.8->tensorboard<1.16.0,>=1.15.0->tensorflow-gpu==1.15) (4.8.3)\n",
      "Requirement already satisfied: dataclasses in ./.local/lib/python3.6/site-packages (from werkzeug>=0.11.15->tensorboard<1.16.0,>=1.15.0->tensorflow-gpu==1.15) (0.8)\n",
      "Requirement already satisfied: cached-property in ./.local/lib/python3.6/site-packages (from h5py->keras-applications>=1.0.8->tensorflow-gpu==1.15) (1.5.2)\n",
      "Requirement already satisfied: zipp>=0.5 in ./.local/lib/python3.6/site-packages (from importlib-metadata>=4.4->markdown>=2.6.8->tensorboard<1.16.0,>=1.15.0->tensorflow-gpu==1.15) (3.6.0)\n",
      "Requirement already satisfied: typing-extensions>=3.6.4 in ./.local/lib/python3.6/site-packages (from importlib-metadata>=4.4->markdown>=2.6.8->tensorboard<1.16.0,>=1.15.0->tensorflow-gpu==1.15) (4.1.1)\n",
      "\u001b[33mWARNING: Ignoring invalid distribution -ensorflow-gpu (/home/rusel/.local/lib/python3.6/site-packages)\u001b[0m\n",
      "\u001b[33mWARNING: Ignoring invalid distribution -ensorflow-gpu (/home/rusel/.local/lib/python3.6/site-packages)\u001b[0m\n",
      "\u001b[33mWARNING: Ignoring invalid distribution -ensorflow-gpu (/home/rusel/.local/lib/python3.6/site-packages)\u001b[0m\n"
     ]
    }
   ],
   "source": [
    "!pip3 install tensorflow-gpu==1.15"
   ]
  },
  {
   "cell_type": "code",
   "execution_count": 1,
   "id": "64a466f3-3ce9-41f9-a0c2-6877a6e9a133",
   "metadata": {},
   "outputs": [
    {
     "name": "stderr",
     "output_type": "stream",
     "text": [
      "[nltk_data] Downloading package punkt to /home/rusel/nltk_data...\n",
      "[nltk_data]   Package punkt is already up-to-date!\n",
      "[nltk_data] Downloading package stopwords to /home/rusel/nltk_data...\n",
      "[nltk_data]   Package stopwords is already up-to-date!\n",
      "[nltk_data] Downloading package perluniprops to\n",
      "[nltk_data]     /home/rusel/nltk_data...\n",
      "[nltk_data]   Package perluniprops is already up-to-date!\n",
      "[nltk_data] Downloading package nonbreaking_prefixes to\n",
      "[nltk_data]     /home/rusel/nltk_data...\n",
      "[nltk_data]   Package nonbreaking_prefixes is already up-to-date!\n"
     ]
    }
   ],
   "source": [
    "from isanlp_srl_framebank.processor_srl_framebank import ProcessorSrlFramebank"
   ]
  },
  {
   "cell_type": "code",
   "execution_count": 2,
   "id": "f44820fb-028e-48f3-a3e1-7187cb8fcd2f",
   "metadata": {},
   "outputs": [
    {
     "name": "stdout",
     "output_type": "stream",
     "text": [
      "WARNING:tensorflow:From /home/rusel/.local/lib/python3.6/site-packages/deeppavlov/models/embedders/elmo_embedder.py:186: The name tf.ConfigProto is deprecated. Please use tf.compat.v1.ConfigProto instead.\n",
      "\n",
      "WARNING:tensorflow:From /home/rusel/.local/lib/python3.6/site-packages/deeppavlov/models/embedders/elmo_embedder.py:188: The name tf.Session is deprecated. Please use tf.compat.v1.Session instead.\n",
      "\n",
      "WARNING:tensorflow:From /home/rusel/.local/lib/python3.6/site-packages/deeppavlov/models/embedders/elmo_embedder.py:190: The name tf.placeholder is deprecated. Please use tf.compat.v1.placeholder instead.\n",
      "\n",
      "INFO:tensorflow:Saver not created because there are no variables in the graph to restore\n",
      "WARNING:tensorflow:From /home/rusel/.local/lib/python3.6/site-packages/deeppavlov/models/embedders/elmo_embedder.py:198: The name tf.global_variables_initializer is deprecated. Please use tf.compat.v1.global_variables_initializer instead.\n",
      "\n"
     ]
    }
   ],
   "source": [
    "srl_proc = ProcessorSrlFramebank(model_dir_path = 'isanlp_srl_framebank/models', known_preds_embeddings_type = \"elmo\")"
   ]
  },
  {
   "cell_type": "code",
   "execution_count": 1,
   "id": "01fa8f39-cd91-4c90-979d-6ccb6da19658",
   "metadata": {},
   "outputs": [],
   "source": [
    "from isanlp.processor_remote import ProcessorRemote\n",
    "from isanlp.ru.converter_mystem_to_ud import ConverterMystemToUd\n",
    "from isanlp import PipelineCommon\n",
    "\n",
    "from isanlp.processor_syntaxnet_remote import ProcessorSyntaxNetRemote\n",
    "\n",
    "\n",
    "\n",
    "# - To start morphology processor:\n",
    "# docker run --rm -d -p  3333:3333 inemo/isanlp\n",
    "# - To start ProcessorSyntaxNetRemote:\n",
    "# docker run --rm -d --shm-size=1024m -ti -p 8111:9999 inemo/syntaxnet_rus server 0.0.0.0 9999\n",
    "# - To start SRL processor:\n",
    "# docker run --rm -d -p  3334:3333 inemo/isanlp_srl_framebank\n",
    "syntax_ppl = PipelineCommon([(ProcessorRemote('localhost', 3333, 'default'), \n",
    "                              ['text'], \n",
    "                              {'sentences' : 'sentences', \n",
    "                               'tokens' : 'tokens',\n",
    "                               'postag' : 'mystem_postags',\n",
    "                               'lemma' : 'lemma'}),\n",
    "                              (ProcessorSyntaxNetRemote('localhost', 8111), \n",
    "                               ['tokens', 'sentences'], \n",
    "                               {'syntax_dep_tree' : 'syntax_dep_tree', \n",
    "                                'morph' : 'morph_syntaxnet'}),\n",
    "                              (ConverterMystemToUd(), \n",
    "                               ['mystem_postags'], \n",
    "                               {'morph' : 'morph',\n",
    "                                'postag' : 'postag'})])"
   ]
  },
  {
   "cell_type": "code",
   "execution_count": 11,
   "id": "d5ccef3c-c2bc-42c0-9c9a-9f6e5b73a562",
   "metadata": {},
   "outputs": [],
   "source": [
    "syntax_ppl = PipelineCommon([(ProcessorRemote('localhost', 3333, 'default'), \n",
    "                              ['text'], \n",
    "                              {'lemma' : 'lemma'}),])"
   ]
  },
  {
   "cell_type": "code",
   "execution_count": 12,
   "id": "6fa29b57-42e8-42c7-9719-0c4077ebc1c3",
   "metadata": {},
   "outputs": [],
   "source": [
    "text = \"Как отводятся излишки тепла у млекопитающих?\""
   ]
  },
  {
   "cell_type": "code",
   "execution_count": 13,
   "id": "a569b5c4-facb-463f-8a06-61afa849cc86",
   "metadata": {},
   "outputs": [],
   "source": [
    "annots = syntax_ppl(text)"
   ]
  },
  {
   "cell_type": "code",
   "execution_count": 14,
   "id": "820e3811-5a8e-44dc-9717-9445186936f0",
   "metadata": {
    "tags": []
   },
   "outputs": [
    {
     "data": {
      "text/plain": [
       "{'text': 'Как отводятся излишки тепла у млекопитающих?',\n",
       " 'lemma': [['как',\n",
       "   'отводиться',\n",
       "   'излишек',\n",
       "   'тепло',\n",
       "   'у',\n",
       "   'млекопитающее',\n",
       "   '?']]}"
      ]
     },
     "execution_count": 14,
     "metadata": {},
     "output_type": "execute_result"
    }
   ],
   "source": [
    "annots"
   ]
  },
  {
   "cell_type": "code",
   "execution_count": 7,
   "id": "69a5e95c-bac1-4594-b2dd-b926169a08ed",
   "metadata": {},
   "outputs": [],
   "source": [
    "annots_srl = srl_proc(annots['tokens'],\n",
    "                  annots['postag'],   \n",
    "                  annots['morph'], \n",
    "                  annots['lemma'], \n",
    "                  annots['syntax_dep_tree'])"
   ]
  },
  {
   "cell_type": "code",
   "execution_count": 8,
   "id": "a8421b60-0c7d-4c37-8c62-6b1a561fb4bb",
   "metadata": {},
   "outputs": [],
   "source": [
    "annots['srl'] = annots_srl"
   ]
  },
  {
   "cell_type": "code",
   "execution_count": 9,
   "id": "bcbf28b8-2258-4292-bad9-a7ae7eb6f6fb",
   "metadata": {},
   "outputs": [],
   "source": [
    "def print_roles(lemma, role_annot):\n",
    "    for sent_num, ann_sent in enumerate(role_annot):\n",
    "        for event in ann_sent:\n",
    "            print('=====Pred: {}'.format(lemma[sent_num][event.pred[0]]))\n",
    "            for arg in event.args:\n",
    "                print('Arg({}): {}'.format(arg.tag, lemma[sent_num][arg.begin]))"
   ]
  },
  {
   "cell_type": "code",
   "execution_count": 10,
   "id": "02966d09-1a27-4f2f-b2b8-e100cb0bfffc",
   "metadata": {},
   "outputs": [
    {
     "name": "stdout",
     "output_type": "stream",
     "text": [
      "=====Pred: отводиться\n",
      "Arg(пациенс): излишек\n",
      "Arg(место): млекопитающее\n"
     ]
    }
   ],
   "source": [
    "print_roles(annots['lemma'], annots['srl'])"
   ]
  },
  {
   "cell_type": "code",
   "execution_count": null,
   "id": "97268cfa-ebc3-4ea0-b474-7d3b782b4b1d",
   "metadata": {},
   "outputs": [],
   "source": []
  },
  {
   "cell_type": "code",
   "execution_count": 2,
   "id": "f44f67f7-2af0-40f4-98b1-f8c43b691c05",
   "metadata": {},
   "outputs": [],
   "source": [
    "import numpy as np\n",
    "\n",
    "train = np.load('train.npy',allow_pickle=True)\n",
    "dev = np.load('dev.npy',allow_pickle=True)"
   ]
  },
  {
   "cell_type": "code",
   "execution_count": 7,
   "id": "bd5f1085-73e4-4fe6-acd5-13d6914af1a5",
   "metadata": {},
   "outputs": [
    {
     "data": {
      "text/plain": [
       "{'context': 'По данным рейтинга Top 100 самых филиальных банков России агентства РБК.Рейтинг УБРиР на 29 ноября 2013 года занял 9 место. По данным рейтинга РБК.Рейтинг УБРиР вошел в 20 крупнейших банков России по объёму потребительского кредитования. По данным рейтинга Интерфакс 100 УБРиР вошел в число крупнейших банков России по основным показателям деятельности по итогам деятельности в 2013г — 34 место по размеру активов, 22 место по объёму средств частных лиц. ПАО КБ УБРиР регулярно входит в список крупнейших участников фондового рынка, составляемых крупнейшей торговой площадкой страны — Московской биржей. По данным портала banki.ru на 1 февраля 2017 года УБРиР занимает: 19 место по вкладам физических лиц; 42 место по кредитному портфелю физических лиц; 40 место по собственному капиталу. Журнал Forbes по итогам 1 квартала 2014 года: 48 место в рейтинге 100 самых надёжных банков России .',\n",
       " 'question': 'Какое место занимает УБРиР по даным рейтинга Top 100 самых филиальных банков России ?'}"
      ]
     },
     "execution_count": 7,
     "metadata": {},
     "output_type": "execute_result"
    }
   ],
   "source": [
    "train[1]"
   ]
  },
  {
   "cell_type": "code",
   "execution_count": 10,
   "id": "92a702a9-2fe3-4834-8ac9-909074cd541b",
   "metadata": {},
   "outputs": [
    {
     "name": "stdout",
     "output_type": "stream",
     "text": [
      "Length Train: 45328\n",
      "Length Train: 5036\n"
     ]
    }
   ],
   "source": [
    "print(\"Length Train:\", len(train))\n",
    "print(\"Length Train:\", len(dev))"
   ]
  },
  {
   "cell_type": "markdown",
   "id": "2b4498c1-a7c3-49c2-8ee1-bef4e61534be",
   "metadata": {},
   "source": [
    "## Разметка"
   ]
  },
  {
   "cell_type": "markdown",
   "id": "82f05315-e683-4910-a606-c68c0d9622de",
   "metadata": {},
   "source": [
    "Парсим все данные и сохраняем файлами по 100"
   ]
  },
  {
   "cell_type": "code",
   "execution_count": null,
   "id": "37e34f86-886d-4655-b891-4a8156a92c3c",
   "metadata": {},
   "outputs": [],
   "source": [
    "from tqdm import tqdm\n",
    "import numpy as np\n",
    "\n",
    "def ann(text):\n",
    "    annots = syntax_ppl(text)\n",
    "    annots_srl = srl_proc(annots['tokens'],\n",
    "                  annots['postag'],   \n",
    "                  annots['morph'], \n",
    "                  annots['lemma'], \n",
    "                  annots['syntax_dep_tree'])\n",
    "    annots['srl'] = annots_srl\n",
    "    return annots\n",
    "\n",
    "for j in range(0, 453):\n",
    "    srl_train=[]\n",
    "    s = 0 + j*100\n",
    "    train_temp = train[s:s+100]\n",
    "    for i in tqdm(train_temp):\n",
    "        srl_temp={'context':ann(i['context']), 'question':ann(i['question'])}\n",
    "        srl_train.append(srl_temp)\n",
    "    np.save('final/train1_'+str(s), srl_train)"
   ]
  },
  {
   "cell_type": "markdown",
   "id": "67c51922-7150-4ee4-873d-5e6516394d95",
   "metadata": {},
   "source": [
    "Соединяем все файлы"
   ]
  },
  {
   "cell_type": "code",
   "execution_count": null,
   "id": "18a34dca-6b60-457d-91bb-4ac9286b4ca9",
   "metadata": {},
   "outputs": [],
   "source": [
    "full = []\n",
    "\n",
    "for i in tqdm(range(0, 453)):\n",
    "    temp_load = np.load('final/train1_' + str(i) + '00.npy', allow_pickle=True)\n",
    "    full_train = np.append(full_train, temp_load)"
   ]
  },
  {
   "cell_type": "code",
   "execution_count": null,
   "id": "2daa844b-535d-49c7-8663-aca80cf1bf08",
   "metadata": {},
   "outputs": [],
   "source": [
    "np.save('final/train_framebank', full_train)"
   ]
  },
  {
   "cell_type": "markdown",
   "id": "9f882be6-72e8-4932-b1b9-2ceeec346522",
   "metadata": {},
   "source": [
    "Проводим ту же процедуру для набора данных dev"
   ]
  },
  {
   "cell_type": "code",
   "execution_count": null,
   "id": "1d2ee150-4a2c-436c-9435-2f43dcb1fa99",
   "metadata": {},
   "outputs": [],
   "source": [
    "for j in range(0, 50):\n",
    "    srl_dev=[]\n",
    "    s = 0 + j*100\n",
    "    dev_temp = dev[s:s+100]\n",
    "    for i in tqdm(dev_temp):\n",
    "        srl_temp={'context':ann(i['context']), 'question':ann(i['question'])}\n",
    "        srl_train.append(srl_temp)\n",
    "    np.save('final/dev1_'+str(s), srl_dev)"
   ]
  },
  {
   "cell_type": "code",
   "execution_count": null,
   "id": "d782a20f-1b6b-4c24-b445-9d16c887500b",
   "metadata": {},
   "outputs": [],
   "source": [
    "full = []\n",
    "\n",
    "for i in tqdm(range(0, 50)):\n",
    "    temp_load = np.load('final/dev1_' + str(i) + '00.npy', allow_pickle=True)\n",
    "    full_dev = np.append(full_dev, temp_load)"
   ]
  },
  {
   "cell_type": "code",
   "execution_count": null,
   "id": "2d8d7954-8aac-4bf7-8764-eb9e207d8c0f",
   "metadata": {},
   "outputs": [],
   "source": [
    "np.save('final/dev_framebank', full_dev)"
   ]
  }
 ],
 "metadata": {
  "kernelspec": {
   "display_name": "Python 3",
   "language": "python",
   "name": "python3"
  },
  "language_info": {
   "codemirror_mode": {
    "name": "ipython",
    "version": 3
   },
   "file_extension": ".py",
   "mimetype": "text/x-python",
   "name": "python",
   "nbconvert_exporter": "python",
   "pygments_lexer": "ipython3",
   "version": "3.6.9"
  }
 },
 "nbformat": 4,
 "nbformat_minor": 5
}
